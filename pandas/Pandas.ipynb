{
 "cells": [
  {
   "cell_type": "markdown",
   "id": "9a33c1c9-963b-42c8-83c9-7cc139915d9a",
   "metadata": {
    "id": "9a33c1c9-963b-42c8-83c9-7cc139915d9a"
   },
   "source": [
    "# Introduction to Pandas DataFrames"
   ]
  },
  {
   "cell_type": "markdown",
   "id": "8796dc46-4e3d-43ba-8c65-e8dd9dd11ab6",
   "metadata": {
    "id": "8796dc46-4e3d-43ba-8c65-e8dd9dd11ab6"
   },
   "source": [
    "In this notebook, you'll learn how to leverage pandas' extremely powerful data manipulation engine to get the most out of your data. It is important to be able to extract, filter, and transform data from DataFrames in order to drill into the data that really matters. The pandas library has many techniques that make this process efficient and intuitive. You will learn how to tidy, rearrange, and restructure your data by pivoting or melting and stacking or unstacking DataFrames. These are all fundamental next steps on the road to becoming a well-rounded Data Scientist, and you will have the chance to apply all the concepts you learn to real-world datasets.\n",
    "\n",
    "A detailed course on Pandas is given on : https://github.com/guiwitz/NumpyPandas_course.git"
   ]
  },
  {
   "cell_type": "markdown",
   "id": "9cbadd9f-8c87-4be7-9769-8f1295cbbe60",
   "metadata": {
    "id": "9cbadd9f-8c87-4be7-9769-8f1295cbbe60"
   },
   "source": [
    "## Series in Pandas\n",
    "\n",
    "A Series in Pandas is a one-dimensional array-like object that can hold various data types. It is similar to a column in a spreadsheet or a database table. Each Series has an associated array of labels, called its index."
   ]
  },
  {
   "cell_type": "markdown",
   "id": "66dfb134-b421-434b-a2dd-e002cbab289a",
   "metadata": {
    "id": "66dfb134-b421-434b-a2dd-e002cbab289a"
   },
   "source": [
    "### Loading Libraries\n",
    "\n",
    "First, let's import the necessary libraries:"
   ]
  },
  {
   "cell_type": "code",
   "execution_count": 1,
   "id": "68aff137-05fc-4a8b-9487-228bce5fb797",
   "metadata": {
    "id": "68aff137-05fc-4a8b-9487-228bce5fb797"
   },
   "outputs": [],
   "source": [
    "import numpy as np\n",
    "import pandas as pd"
   ]
  },
  {
   "cell_type": "markdown",
   "id": "c5d03e61-9b09-47d6-a643-4a9bbb090309",
   "metadata": {
    "id": "c5d03e61-9b09-47d6-a643-4a9bbb090309"
   },
   "source": [
    "### Creating a Series\n",
    "\n",
    "A Series can be created from different data structures like lists, NumPy arrays, and dictionaries.\n",
    "\n",
    "Example 1: Creating a Series from a List\n",
    "\n",
    "Let's create a Series using a simple list:"
   ]
  },
  {
   "cell_type": "code",
   "execution_count": 2,
   "id": "288a0d73-9329-4405-b5ef-e288f33fd030",
   "metadata": {
    "colab": {
     "base_uri": "https://localhost:8080/",
     "height": 178
    },
    "id": "288a0d73-9329-4405-b5ef-e288f33fd030",
    "outputId": "d620ca1c-9871-4b17-a75b-7da5b3172348"
   },
   "outputs": [
    {
     "data": {
      "text/plain": [
       "0    24\n",
       "1    13\n",
       "2    15\n",
       "dtype: int64"
      ]
     },
     "execution_count": 2,
     "metadata": {},
     "output_type": "execute_result"
    }
   ],
   "source": [
    "labels = ['a', 'b', 'c']\n",
    "list = [24, 13, 15]\n",
    "\n",
    "# Creating a Series without specifying an index\n",
    "pd.Series(data=list)"
   ]
  },
  {
   "cell_type": "markdown",
   "id": "07028182-4684-4c6f-b988-af9da32752d2",
   "metadata": {
    "id": "07028182-4684-4c6f-b988-af9da32752d2"
   },
   "source": [
    "### Creating a Series with Custom Index\n",
    "\n",
    "We can also create a Series with a custom index:"
   ]
  },
  {
   "cell_type": "code",
   "execution_count": 3,
   "id": "dc01c5f6-bea6-4203-bf18-adbf87a847cf",
   "metadata": {
    "colab": {
     "base_uri": "https://localhost:8080/",
     "height": 178
    },
    "id": "dc01c5f6-bea6-4203-bf18-adbf87a847cf",
    "outputId": "92bb8741-c78d-4287-f054-49b89acf8388"
   },
   "outputs": [
    {
     "data": {
      "text/plain": [
       "a    24\n",
       "b    13\n",
       "c    15\n",
       "dtype: int64"
      ]
     },
     "execution_count": 3,
     "metadata": {},
     "output_type": "execute_result"
    }
   ],
   "source": [
    "pd.Series(data=list, index=labels)"
   ]
  },
  {
   "cell_type": "markdown",
   "id": "fceb37a4-8055-4ea9-a97f-724f05b63cd3",
   "metadata": {
    "id": "fceb37a4-8055-4ea9-a97f-724f05b63cd3"
   },
   "source": [
    "### Creating a Series from a Dictionary\n",
    "\n",
    "A dictionary can be directly converted into a Series, where keys become the index:"
   ]
  },
  {
   "cell_type": "code",
   "execution_count": 4,
   "id": "e61d575f-7e88-4f3c-979b-f512dcca3aa8",
   "metadata": {
    "colab": {
     "base_uri": "https://localhost:8080/",
     "height": 178
    },
    "id": "e61d575f-7e88-4f3c-979b-f512dcca3aa8",
    "outputId": "7e2bd737-8f35-4f4e-c489-ed50dce7043f"
   },
   "outputs": [
    {
     "data": {
      "text/plain": [
       "a    909\n",
       "b     13\n",
       "c     50\n",
       "dtype: int64"
      ]
     },
     "execution_count": 4,
     "metadata": {},
     "output_type": "execute_result"
    }
   ],
   "source": [
    "dt = {'a': 909, 'b': 13, 'c': 50}\n",
    "pd.Series(data=dt)"
   ]
  },
  {
   "cell_type": "markdown",
   "id": "13a641fe-1a09-4107-be02-329a7d0be39b",
   "metadata": {
    "id": "13a641fe-1a09-4107-be02-329a7d0be39b"
   },
   "source": [
    "### Creating a Series from a NumPy Array\n",
    "\n",
    "Similarly, a NumPy array can be used to create a Series:"
   ]
  },
  {
   "cell_type": "code",
   "execution_count": 5,
   "id": "2847187e-bccd-42af-9c11-cf7acd0d6218",
   "metadata": {
    "colab": {
     "base_uri": "https://localhost:8080/",
     "height": 178
    },
    "id": "2847187e-bccd-42af-9c11-cf7acd0d6218",
    "outputId": "0d427919-3994-4fc4-d1f4-6c10a34a9969"
   },
   "outputs": [
    {
     "data": {
      "text/plain": [
       "0    10\n",
       "1    20\n",
       "2    30\n",
       "dtype: int64"
      ]
     },
     "execution_count": 5,
     "metadata": {},
     "output_type": "execute_result"
    }
   ],
   "source": [
    "arr = np.array([10, 20, 30])\n",
    "\n",
    "pd.Series(data=arr)"
   ]
  },
  {
   "cell_type": "markdown",
   "id": "b524a216-d6a0-4d63-a5d3-4c191c3c0d24",
   "metadata": {
    "id": "b524a216-d6a0-4d63-a5d3-4c191c3c0d24"
   },
   "source": [
    "### Series with Custom Index\n",
    "\n",
    "We can create a Series with custom indices, such as names of cities:"
   ]
  },
  {
   "cell_type": "code",
   "execution_count": 6,
   "id": "f4e01aab-2f6e-47fb-ab0f-511dee4113b2",
   "metadata": {
    "colab": {
     "base_uri": "https://localhost:8080/",
     "height": 210
    },
    "id": "f4e01aab-2f6e-47fb-ab0f-511dee4113b2",
    "outputId": "2e3491c4-8636-4495-fac3-c87582593b1c"
   },
   "outputs": [
    {
     "data": {
      "text/plain": [
       "Alger     1\n",
       "Tizi      2\n",
       "Oran      3\n",
       "Bejaia    4\n",
       "dtype: int64"
      ]
     },
     "execution_count": 6,
     "metadata": {},
     "output_type": "execute_result"
    }
   ],
   "source": [
    "villes = pd.Series([1, 2, 3, 4], index=['Alger', 'Tizi', 'Oran', 'Bejaia'])\n",
    "villes"
   ]
  },
  {
   "cell_type": "markdown",
   "id": "ce1ab19d-5b89-46d8-bbe0-50c93ee212c9",
   "metadata": {
    "id": "ce1ab19d-5b89-46d8-bbe0-50c93ee212c9"
   },
   "source": [
    "### Access to elements"
   ]
  },
  {
   "cell_type": "markdown",
   "id": "8e418563-c3b3-490a-964b-b784bd93e7b9",
   "metadata": {
    "id": "8e418563-c3b3-490a-964b-b784bd93e7b9"
   },
   "source": [
    "Now a given element can be accessed either by using its regular index:"
   ]
  },
  {
   "cell_type": "code",
   "execution_count": 7,
   "id": "ab551522-6323-44e5-bff3-200fdd73ad4a",
   "metadata": {
    "colab": {
     "base_uri": "https://localhost:8080/"
    },
    "id": "ab551522-6323-44e5-bff3-200fdd73ad4a",
    "outputId": "40c2f346-8e2c-4a1d-d12a-73a7cc09bec9"
   },
   "outputs": [
    {
     "name": "stderr",
     "output_type": "stream",
     "text": [
      "/tmp/ipykernel_34444/1727401185.py:1: FutureWarning: Series.__getitem__ treating keys as positions is deprecated. In a future version, integer keys will always be treated as labels (consistent with DataFrame behavior). To access a value by position, use `ser.iloc[pos]`\n",
      "  villes[0]\n"
     ]
    },
    {
     "data": {
      "text/plain": [
       "1"
      ]
     },
     "execution_count": 7,
     "metadata": {},
     "output_type": "execute_result"
    }
   ],
   "source": [
    "villes[0]"
   ]
  },
  {
   "cell_type": "markdown",
   "id": "5f1b2671-5e0f-4e16-a96e-4ba43508fda7",
   "metadata": {
    "id": "5f1b2671-5e0f-4e16-a96e-4ba43508fda7"
   },
   "source": [
    "or its chosen index:"
   ]
  },
  {
   "cell_type": "code",
   "execution_count": 8,
   "id": "be482178-7cd7-49c0-83d1-dc602fe60f7d",
   "metadata": {
    "colab": {
     "base_uri": "https://localhost:8080/"
    },
    "id": "be482178-7cd7-49c0-83d1-dc602fe60f7d",
    "outputId": "bbe74745-bdaf-4c93-b00e-ec22d73bc03b"
   },
   "outputs": [
    {
     "data": {
      "text/plain": [
       "1"
      ]
     },
     "execution_count": 8,
     "metadata": {},
     "output_type": "execute_result"
    }
   ],
   "source": [
    "villes['Alger']"
   ]
  },
  {
   "cell_type": "markdown",
   "id": "a5c9f716-0bd0-43ab-ab42-ed4ed60b2d7e",
   "metadata": {
    "id": "a5c9f716-0bd0-43ab-ab42-ed4ed60b2d7e"
   },
   "source": [
    "### Operations with Series\n",
    "\n",
    "Performing operations between two Series with non-aligned indexes results in NaN (Not a Number) for mismatched labels:"
   ]
  },
  {
   "cell_type": "code",
   "execution_count": 9,
   "id": "076b08d5-6425-4254-b896-d8a1f26d49a6",
   "metadata": {
    "colab": {
     "base_uri": "https://localhost:8080/",
     "height": 210
    },
    "id": "076b08d5-6425-4254-b896-d8a1f26d49a6",
    "outputId": "1a1e36a3-1be6-4f1c-e160-62c182e8621d"
   },
   "outputs": [
    {
     "data": {
      "text/plain": [
       "Mombasa    1\n",
       "Nakuru     2\n",
       "Kis        3\n",
       "Nairobi    4\n",
       "dtype: int64"
      ]
     },
     "execution_count": 9,
     "metadata": {},
     "output_type": "execute_result"
    }
   ],
   "source": [
    "Villes2= pd.Series([1, 2, 3, 4], index=['Mombasa', 'Nakuru', 'Kis', 'Nairobi'])\n",
    "Villes2"
   ]
  },
  {
   "cell_type": "markdown",
   "id": "15a957a4-19dd-4967-ba0c-4e5047442346",
   "metadata": {
    "id": "15a957a4-19dd-4967-ba0c-4e5047442346"
   },
   "source": [
    "### Adding Two Series\n",
    "\n",
    "When adding two Series, if the indices are not aligned, the resulting Series will have NaN for those indices:"
   ]
  },
  {
   "cell_type": "code",
   "execution_count": 10,
   "id": "fc54e5fe-6066-4bd1-933c-a79430a1c8e4",
   "metadata": {
    "colab": {
     "base_uri": "https://localhost:8080/",
     "height": 335
    },
    "id": "fc54e5fe-6066-4bd1-933c-a79430a1c8e4",
    "outputId": "f81e1b1a-5d86-4851-9dc5-8cf465a5e5b1"
   },
   "outputs": [
    {
     "data": {
      "text/plain": [
       "Alger     NaN\n",
       "Bejaia    NaN\n",
       "Kis       NaN\n",
       "Mombasa   NaN\n",
       "Nairobi   NaN\n",
       "Nakuru    NaN\n",
       "Oran      NaN\n",
       "Tizi      NaN\n",
       "dtype: float64"
      ]
     },
     "execution_count": 10,
     "metadata": {},
     "output_type": "execute_result"
    }
   ],
   "source": [
    "villes + Villes2"
   ]
  },
  {
   "cell_type": "markdown",
   "id": "8d6148d7-ef1c-4914-8686-cb397cbec639",
   "metadata": {
    "id": "8d6148d7-ef1c-4914-8686-cb397cbec639"
   },
   "source": [
    "## DataFrames in Pandas\n",
    "\n",
    "A DataFrame in Pandas is a two-dimensional, size-mutable, and potentially heterogeneous tabular data structure with labeled axes (rows and columns). It is one of the most widely used data structures for data manipulation and analysis."
   ]
  },
  {
   "cell_type": "markdown",
   "id": "69314d31-7d99-4ab2-a9a7-f0c70038cd04",
   "metadata": {
    "id": "69314d31-7d99-4ab2-a9a7-f0c70038cd04"
   },
   "source": [
    "### Loading Libraries\n",
    "\n",
    "First, let's import the necessary libraries:"
   ]
  },
  {
   "cell_type": "code",
   "execution_count": 11,
   "id": "59971064-c164-4667-a3e2-5f721edd2fc8",
   "metadata": {
    "id": "59971064-c164-4667-a3e2-5f721edd2fc8"
   },
   "outputs": [],
   "source": [
    "import numpy as np\n",
    "import pandas as pd\n",
    "from numpy.random import randn"
   ]
  },
  {
   "cell_type": "code",
   "execution_count": 12,
   "id": "cvZqhusAHZpP",
   "metadata": {
    "colab": {
     "base_uri": "https://localhost:8080/",
     "height": 206
    },
    "id": "cvZqhusAHZpP",
    "outputId": "104bc5b1-e196-4880-b7a4-eef3fa1898ce"
   },
   "outputs": [
    {
     "data": {
      "text/html": [
       "<div>\n",
       "<style scoped>\n",
       "    .dataframe tbody tr th:only-of-type {\n",
       "        vertical-align: middle;\n",
       "    }\n",
       "\n",
       "    .dataframe tbody tr th {\n",
       "        vertical-align: top;\n",
       "    }\n",
       "\n",
       "    .dataframe thead th {\n",
       "        text-align: right;\n",
       "    }\n",
       "</style>\n",
       "<table border=\"1\" class=\"dataframe\">\n",
       "  <thead>\n",
       "    <tr style=\"text-align: right;\">\n",
       "      <th></th>\n",
       "      <th>W</th>\n",
       "      <th>X</th>\n",
       "      <th>Y</th>\n",
       "      <th>Z</th>\n",
       "    </tr>\n",
       "  </thead>\n",
       "  <tbody>\n",
       "    <tr>\n",
       "      <th>A</th>\n",
       "      <td>-0.411680</td>\n",
       "      <td>-0.389137</td>\n",
       "      <td>0.663274</td>\n",
       "      <td>0.679705</td>\n",
       "    </tr>\n",
       "    <tr>\n",
       "      <th>B</th>\n",
       "      <td>0.270988</td>\n",
       "      <td>0.447199</td>\n",
       "      <td>-1.291777</td>\n",
       "      <td>-0.181051</td>\n",
       "    </tr>\n",
       "    <tr>\n",
       "      <th>C</th>\n",
       "      <td>1.857626</td>\n",
       "      <td>-0.728052</td>\n",
       "      <td>0.359640</td>\n",
       "      <td>-0.768516</td>\n",
       "    </tr>\n",
       "    <tr>\n",
       "      <th>D</th>\n",
       "      <td>1.263009</td>\n",
       "      <td>-0.388652</td>\n",
       "      <td>-0.278128</td>\n",
       "      <td>0.080284</td>\n",
       "    </tr>\n",
       "    <tr>\n",
       "      <th>E</th>\n",
       "      <td>-0.863677</td>\n",
       "      <td>-0.376279</td>\n",
       "      <td>-0.383596</td>\n",
       "      <td>0.599671</td>\n",
       "    </tr>\n",
       "  </tbody>\n",
       "</table>\n",
       "</div>"
      ],
      "text/plain": [
       "          W         X         Y         Z\n",
       "A -0.411680 -0.389137  0.663274  0.679705\n",
       "B  0.270988  0.447199 -1.291777 -0.181051\n",
       "C  1.857626 -0.728052  0.359640 -0.768516\n",
       "D  1.263009 -0.388652 -0.278128  0.080284\n",
       "E -0.863677 -0.376279 -0.383596  0.599671"
      ]
     },
     "execution_count": 12,
     "metadata": {},
     "output_type": "execute_result"
    }
   ],
   "source": [
    "df = pd.DataFrame(randn(5, 4), index='A B C D E'.split(), columns='W X Y Z'.split())\n",
    "df"
   ]
  },
  {
   "cell_type": "markdown",
   "id": "fb60fec7-1382-4df8-913b-089ad1d4f0c2",
   "metadata": {
    "id": "fb60fec7-1382-4df8-913b-089ad1d4f0c2"
   },
   "source": [
    "### Selection and Indexing\n",
    "\n",
    "### Selecting a Column\n",
    "You can select a single column from the DataFrame:"
   ]
  },
  {
   "cell_type": "code",
   "execution_count": 13,
   "id": "fcdf5249-da55-4a2d-abe1-cf87533b47fe",
   "metadata": {
    "colab": {
     "base_uri": "https://localhost:8080/",
     "height": 241
    },
    "id": "fcdf5249-da55-4a2d-abe1-cf87533b47fe",
    "outputId": "9c652811-5a92-4781-b1e2-6c8215aa310b"
   },
   "outputs": [
    {
     "data": {
      "text/plain": [
       "A   -0.411680\n",
       "B    0.270988\n",
       "C    1.857626\n",
       "D    1.263009\n",
       "E   -0.863677\n",
       "Name: W, dtype: float64"
      ]
     },
     "execution_count": 13,
     "metadata": {},
     "output_type": "execute_result"
    }
   ],
   "source": [
    "df['W']"
   ]
  },
  {
   "cell_type": "markdown",
   "id": "4cf6a4d1-a9b0-47f7-aa6b-900e6581b6d9",
   "metadata": {
    "id": "4cf6a4d1-a9b0-47f7-aa6b-900e6581b6d9"
   },
   "source": [
    "### Selecting Multiple Columns\n",
    "\n",
    "You can select multiple columns by passing a list of column names:"
   ]
  },
  {
   "cell_type": "code",
   "execution_count": 14,
   "id": "72b13a43-6929-4f26-8d62-d160467d3c80",
   "metadata": {
    "colab": {
     "base_uri": "https://localhost:8080/",
     "height": 206
    },
    "id": "72b13a43-6929-4f26-8d62-d160467d3c80",
    "outputId": "d05b1f0a-9686-4a05-f5cf-2d5328dee379"
   },
   "outputs": [
    {
     "data": {
      "text/html": [
       "<div>\n",
       "<style scoped>\n",
       "    .dataframe tbody tr th:only-of-type {\n",
       "        vertical-align: middle;\n",
       "    }\n",
       "\n",
       "    .dataframe tbody tr th {\n",
       "        vertical-align: top;\n",
       "    }\n",
       "\n",
       "    .dataframe thead th {\n",
       "        text-align: right;\n",
       "    }\n",
       "</style>\n",
       "<table border=\"1\" class=\"dataframe\">\n",
       "  <thead>\n",
       "    <tr style=\"text-align: right;\">\n",
       "      <th></th>\n",
       "      <th>W</th>\n",
       "      <th>Z</th>\n",
       "    </tr>\n",
       "  </thead>\n",
       "  <tbody>\n",
       "    <tr>\n",
       "      <th>A</th>\n",
       "      <td>-0.411680</td>\n",
       "      <td>0.679705</td>\n",
       "    </tr>\n",
       "    <tr>\n",
       "      <th>B</th>\n",
       "      <td>0.270988</td>\n",
       "      <td>-0.181051</td>\n",
       "    </tr>\n",
       "    <tr>\n",
       "      <th>C</th>\n",
       "      <td>1.857626</td>\n",
       "      <td>-0.768516</td>\n",
       "    </tr>\n",
       "    <tr>\n",
       "      <th>D</th>\n",
       "      <td>1.263009</td>\n",
       "      <td>0.080284</td>\n",
       "    </tr>\n",
       "    <tr>\n",
       "      <th>E</th>\n",
       "      <td>-0.863677</td>\n",
       "      <td>0.599671</td>\n",
       "    </tr>\n",
       "  </tbody>\n",
       "</table>\n",
       "</div>"
      ],
      "text/plain": [
       "          W         Z\n",
       "A -0.411680  0.679705\n",
       "B  0.270988 -0.181051\n",
       "C  1.857626 -0.768516\n",
       "D  1.263009  0.080284\n",
       "E -0.863677  0.599671"
      ]
     },
     "execution_count": 14,
     "metadata": {},
     "output_type": "execute_result"
    }
   ],
   "source": [
    "df[['W', 'Z']]"
   ]
  },
  {
   "cell_type": "markdown",
   "id": "82108b99-33e9-4cd7-99c3-a60bac2a079c",
   "metadata": {
    "id": "82108b99-33e9-4cd7-99c3-a60bac2a079c"
   },
   "source": [
    "### Selecting a Row\n",
    "\n",
    "You can select a row by its label using the .loc method:"
   ]
  },
  {
   "cell_type": "code",
   "execution_count": 15,
   "id": "d6afc5f9-6e99-42b8-81d0-b7244ead30a9",
   "metadata": {
    "colab": {
     "base_uri": "https://localhost:8080/",
     "height": 210
    },
    "id": "d6afc5f9-6e99-42b8-81d0-b7244ead30a9",
    "outputId": "b51f4f92-a7bf-4831-ded8-b25241cf586f"
   },
   "outputs": [
    {
     "data": {
      "text/plain": [
       "W   -0.411680\n",
       "X   -0.389137\n",
       "Y    0.663274\n",
       "Z    0.679705\n",
       "Name: A, dtype: float64"
      ]
     },
     "execution_count": 15,
     "metadata": {},
     "output_type": "execute_result"
    }
   ],
   "source": [
    "df.loc['A'] # select row A"
   ]
  },
  {
   "cell_type": "markdown",
   "id": "6e9e8560-38f9-43c5-8dd9-d35d3fc753e2",
   "metadata": {
    "id": "6e9e8560-38f9-43c5-8dd9-d35d3fc753e2"
   },
   "source": [
    "### Creating a New Column\n",
    "\n",
    "You can add new columns to the DataFrame:"
   ]
  },
  {
   "cell_type": "code",
   "execution_count": 16,
   "id": "18ZOySEqIHkX",
   "metadata": {
    "colab": {
     "base_uri": "https://localhost:8080/",
     "height": 206
    },
    "id": "18ZOySEqIHkX",
    "outputId": "592d53cc-8325-417b-dec3-c3c6ea359f33"
   },
   "outputs": [
    {
     "data": {
      "text/html": [
       "<div>\n",
       "<style scoped>\n",
       "    .dataframe tbody tr th:only-of-type {\n",
       "        vertical-align: middle;\n",
       "    }\n",
       "\n",
       "    .dataframe tbody tr th {\n",
       "        vertical-align: top;\n",
       "    }\n",
       "\n",
       "    .dataframe thead th {\n",
       "        text-align: right;\n",
       "    }\n",
       "</style>\n",
       "<table border=\"1\" class=\"dataframe\">\n",
       "  <thead>\n",
       "    <tr style=\"text-align: right;\">\n",
       "      <th></th>\n",
       "      <th>W</th>\n",
       "      <th>X</th>\n",
       "      <th>Y</th>\n",
       "      <th>Z</th>\n",
       "    </tr>\n",
       "  </thead>\n",
       "  <tbody>\n",
       "    <tr>\n",
       "      <th>A</th>\n",
       "      <td>-0.411680</td>\n",
       "      <td>-0.389137</td>\n",
       "      <td>0.663274</td>\n",
       "      <td>0.679705</td>\n",
       "    </tr>\n",
       "    <tr>\n",
       "      <th>B</th>\n",
       "      <td>0.270988</td>\n",
       "      <td>0.447199</td>\n",
       "      <td>-1.291777</td>\n",
       "      <td>-0.181051</td>\n",
       "    </tr>\n",
       "    <tr>\n",
       "      <th>C</th>\n",
       "      <td>1.857626</td>\n",
       "      <td>-0.728052</td>\n",
       "      <td>0.359640</td>\n",
       "      <td>-0.768516</td>\n",
       "    </tr>\n",
       "    <tr>\n",
       "      <th>D</th>\n",
       "      <td>1.263009</td>\n",
       "      <td>-0.388652</td>\n",
       "      <td>-0.278128</td>\n",
       "      <td>0.080284</td>\n",
       "    </tr>\n",
       "    <tr>\n",
       "      <th>E</th>\n",
       "      <td>-0.863677</td>\n",
       "      <td>-0.376279</td>\n",
       "      <td>-0.383596</td>\n",
       "      <td>0.599671</td>\n",
       "    </tr>\n",
       "  </tbody>\n",
       "</table>\n",
       "</div>"
      ],
      "text/plain": [
       "          W         X         Y         Z\n",
       "A -0.411680 -0.389137  0.663274  0.679705\n",
       "B  0.270988  0.447199 -1.291777 -0.181051\n",
       "C  1.857626 -0.728052  0.359640 -0.768516\n",
       "D  1.263009 -0.388652 -0.278128  0.080284\n",
       "E -0.863677 -0.376279 -0.383596  0.599671"
      ]
     },
     "execution_count": 16,
     "metadata": {},
     "output_type": "execute_result"
    }
   ],
   "source": [
    "df"
   ]
  },
  {
   "cell_type": "code",
   "execution_count": 17,
   "id": "a71a4021-5cf9-4c29-afb4-1d4504c909c6",
   "metadata": {
    "colab": {
     "base_uri": "https://localhost:8080/",
     "height": 206
    },
    "id": "a71a4021-5cf9-4c29-afb4-1d4504c909c6",
    "outputId": "9b751516-11cf-4761-81ac-72774d51a033"
   },
   "outputs": [
    {
     "data": {
      "text/html": [
       "<div>\n",
       "<style scoped>\n",
       "    .dataframe tbody tr th:only-of-type {\n",
       "        vertical-align: middle;\n",
       "    }\n",
       "\n",
       "    .dataframe tbody tr th {\n",
       "        vertical-align: top;\n",
       "    }\n",
       "\n",
       "    .dataframe thead th {\n",
       "        text-align: right;\n",
       "    }\n",
       "</style>\n",
       "<table border=\"1\" class=\"dataframe\">\n",
       "  <thead>\n",
       "    <tr style=\"text-align: right;\">\n",
       "      <th></th>\n",
       "      <th>W</th>\n",
       "      <th>X</th>\n",
       "      <th>Y</th>\n",
       "      <th>Z</th>\n",
       "      <th>Sum</th>\n",
       "    </tr>\n",
       "  </thead>\n",
       "  <tbody>\n",
       "    <tr>\n",
       "      <th>A</th>\n",
       "      <td>-0.411680</td>\n",
       "      <td>-0.389137</td>\n",
       "      <td>0.663274</td>\n",
       "      <td>0.679705</td>\n",
       "      <td>0.542161</td>\n",
       "    </tr>\n",
       "    <tr>\n",
       "      <th>B</th>\n",
       "      <td>0.270988</td>\n",
       "      <td>0.447199</td>\n",
       "      <td>-1.291777</td>\n",
       "      <td>-0.181051</td>\n",
       "      <td>-0.754642</td>\n",
       "    </tr>\n",
       "    <tr>\n",
       "      <th>C</th>\n",
       "      <td>1.857626</td>\n",
       "      <td>-0.728052</td>\n",
       "      <td>0.359640</td>\n",
       "      <td>-0.768516</td>\n",
       "      <td>0.720698</td>\n",
       "    </tr>\n",
       "    <tr>\n",
       "      <th>D</th>\n",
       "      <td>1.263009</td>\n",
       "      <td>-0.388652</td>\n",
       "      <td>-0.278128</td>\n",
       "      <td>0.080284</td>\n",
       "      <td>0.676512</td>\n",
       "    </tr>\n",
       "    <tr>\n",
       "      <th>E</th>\n",
       "      <td>-0.863677</td>\n",
       "      <td>-0.376279</td>\n",
       "      <td>-0.383596</td>\n",
       "      <td>0.599671</td>\n",
       "      <td>-1.023881</td>\n",
       "    </tr>\n",
       "  </tbody>\n",
       "</table>\n",
       "</div>"
      ],
      "text/plain": [
       "          W         X         Y         Z       Sum\n",
       "A -0.411680 -0.389137  0.663274  0.679705  0.542161\n",
       "B  0.270988  0.447199 -1.291777 -0.181051 -0.754642\n",
       "C  1.857626 -0.728052  0.359640 -0.768516  0.720698\n",
       "D  1.263009 -0.388652 -0.278128  0.080284  0.676512\n",
       "E -0.863677 -0.376279 -0.383596  0.599671 -1.023881"
      ]
     },
     "execution_count": 17,
     "metadata": {},
     "output_type": "execute_result"
    }
   ],
   "source": [
    "df['Sum'] = df['W'] + df['X'] + df['Y'] + df['Z']\n",
    "df"
   ]
  },
  {
   "cell_type": "markdown",
   "id": "7928ea16-fc31-4bcd-baf2-ba0c7dee155c",
   "metadata": {
    "id": "7928ea16-fc31-4bcd-baf2-ba0c7dee155c"
   },
   "source": [
    "You can also add a column with random values:"
   ]
  },
  {
   "cell_type": "code",
   "execution_count": 18,
   "id": "7e85c52c-cf8f-4a96-b2f5-d24dda91f899",
   "metadata": {
    "colab": {
     "base_uri": "https://localhost:8080/",
     "height": 206
    },
    "id": "7e85c52c-cf8f-4a96-b2f5-d24dda91f899",
    "outputId": "6f3d9469-99b7-4581-94e5-599d05bd04bb"
   },
   "outputs": [
    {
     "data": {
      "text/html": [
       "<div>\n",
       "<style scoped>\n",
       "    .dataframe tbody tr th:only-of-type {\n",
       "        vertical-align: middle;\n",
       "    }\n",
       "\n",
       "    .dataframe tbody tr th {\n",
       "        vertical-align: top;\n",
       "    }\n",
       "\n",
       "    .dataframe thead th {\n",
       "        text-align: right;\n",
       "    }\n",
       "</style>\n",
       "<table border=\"1\" class=\"dataframe\">\n",
       "  <thead>\n",
       "    <tr style=\"text-align: right;\">\n",
       "      <th></th>\n",
       "      <th>W</th>\n",
       "      <th>X</th>\n",
       "      <th>Y</th>\n",
       "      <th>Z</th>\n",
       "      <th>Sum</th>\n",
       "      <th>Random</th>\n",
       "    </tr>\n",
       "  </thead>\n",
       "  <tbody>\n",
       "    <tr>\n",
       "      <th>A</th>\n",
       "      <td>-0.411680</td>\n",
       "      <td>-0.389137</td>\n",
       "      <td>0.663274</td>\n",
       "      <td>0.679705</td>\n",
       "      <td>0.542161</td>\n",
       "      <td>0.361740</td>\n",
       "    </tr>\n",
       "    <tr>\n",
       "      <th>B</th>\n",
       "      <td>0.270988</td>\n",
       "      <td>0.447199</td>\n",
       "      <td>-1.291777</td>\n",
       "      <td>-0.181051</td>\n",
       "      <td>-0.754642</td>\n",
       "      <td>-0.814820</td>\n",
       "    </tr>\n",
       "    <tr>\n",
       "      <th>C</th>\n",
       "      <td>1.857626</td>\n",
       "      <td>-0.728052</td>\n",
       "      <td>0.359640</td>\n",
       "      <td>-0.768516</td>\n",
       "      <td>0.720698</td>\n",
       "      <td>-0.088642</td>\n",
       "    </tr>\n",
       "    <tr>\n",
       "      <th>D</th>\n",
       "      <td>1.263009</td>\n",
       "      <td>-0.388652</td>\n",
       "      <td>-0.278128</td>\n",
       "      <td>0.080284</td>\n",
       "      <td>0.676512</td>\n",
       "      <td>0.405633</td>\n",
       "    </tr>\n",
       "    <tr>\n",
       "      <th>E</th>\n",
       "      <td>-0.863677</td>\n",
       "      <td>-0.376279</td>\n",
       "      <td>-0.383596</td>\n",
       "      <td>0.599671</td>\n",
       "      <td>-1.023881</td>\n",
       "      <td>0.161145</td>\n",
       "    </tr>\n",
       "  </tbody>\n",
       "</table>\n",
       "</div>"
      ],
      "text/plain": [
       "          W         X         Y         Z       Sum    Random\n",
       "A -0.411680 -0.389137  0.663274  0.679705  0.542161  0.361740\n",
       "B  0.270988  0.447199 -1.291777 -0.181051 -0.754642 -0.814820\n",
       "C  1.857626 -0.728052  0.359640 -0.768516  0.720698 -0.088642\n",
       "D  1.263009 -0.388652 -0.278128  0.080284  0.676512  0.405633\n",
       "E -0.863677 -0.376279 -0.383596  0.599671 -1.023881  0.161145"
      ]
     },
     "execution_count": 18,
     "metadata": {},
     "output_type": "execute_result"
    }
   ],
   "source": [
    "df['Random'] = randn(5)\n",
    "df"
   ]
  },
  {
   "cell_type": "markdown",
   "id": "172f23a7-ec2c-4a0b-81db-8ff7a6d709af",
   "metadata": {
    "id": "172f23a7-ec2c-4a0b-81db-8ff7a6d709af"
   },
   "source": [
    "### Accessing Specific Values\n",
    "\n",
    "You can access specific values using the .iloc and .loc methods:"
   ]
  },
  {
   "cell_type": "code",
   "execution_count": 19,
   "id": "15f7cfac-1e34-4bcf-939f-60b5224877c7",
   "metadata": {
    "colab": {
     "base_uri": "https://localhost:8080/",
     "height": 273
    },
    "id": "15f7cfac-1e34-4bcf-939f-60b5224877c7",
    "outputId": "e20d5a4f-634e-476c-a658-d091139d4e94"
   },
   "outputs": [
    {
     "data": {
      "text/plain": [
       "W        -0.863677\n",
       "X        -0.376279\n",
       "Y        -0.383596\n",
       "Z         0.599671\n",
       "Sum      -1.023881\n",
       "Random    0.161145\n",
       "Name: E, dtype: float64"
      ]
     },
     "execution_count": 19,
     "metadata": {},
     "output_type": "execute_result"
    }
   ],
   "source": [
    "# By integer location\n",
    "''' df.iloc[4] will select the entire 5th row of the DataFrame df.'''\n",
    "df.iloc[4]"
   ]
  },
  {
   "cell_type": "code",
   "execution_count": 20,
   "id": "47619809-6066-44ea-a66e-6c0958f33302",
   "metadata": {
    "colab": {
     "base_uri": "https://localhost:8080/"
    },
    "id": "47619809-6066-44ea-a66e-6c0958f33302",
    "outputId": "f0fcc13a-b1cb-4ab2-9ac0-d0ecb352b35e"
   },
   "outputs": [
    {
     "data": {
      "text/plain": [
       "0.3596402891230274"
      ]
     },
     "execution_count": 20,
     "metadata": {},
     "output_type": "execute_result"
    }
   ],
   "source": [
    "# By integer location of a specific value\n",
    "''' df.iloc[2, 2] will retrieve the value located in the 3rd row and 3rd column of the DataFrame df. '''\n",
    "df.iloc[2, 2]"
   ]
  },
  {
   "cell_type": "code",
   "execution_count": 21,
   "id": "35465ca2-8110-4f09-826b-3a959c4c12bc",
   "metadata": {
    "colab": {
     "base_uri": "https://localhost:8080/"
    },
    "id": "35465ca2-8110-4f09-826b-3a959c4c12bc",
    "outputId": "766354c3-1e04-4d1d-fbc5-3002578c9f9f"
   },
   "outputs": [
    {
     "data": {
      "text/plain": [
       "0.4471989961936307"
      ]
     },
     "execution_count": 21,
     "metadata": {},
     "output_type": "execute_result"
    }
   ],
   "source": [
    "# By label location\n",
    "df.loc['B', 'X']"
   ]
  },
  {
   "cell_type": "markdown",
   "id": "783a3654-b9cb-4a01-b6ff-7fa971f97e70",
   "metadata": {
    "id": "783a3654-b9cb-4a01-b6ff-7fa971f97e70"
   },
   "source": [
    "### Removing Columns and Rows\n",
    "\n",
    "You can remove columns and rows using the .drop method."
   ]
  },
  {
   "cell_type": "code",
   "execution_count": 22,
   "id": "55e77c29-b4b6-4b36-a122-57794248ac26",
   "metadata": {
    "id": "55e77c29-b4b6-4b36-a122-57794248ac26"
   },
   "outputs": [],
   "source": [
    "# Removing a Column\n",
    "df = df.drop('Sum', axis=1)"
   ]
  },
  {
   "cell_type": "code",
   "execution_count": 23,
   "id": "4e8c73a0-ace8-42af-ad39-c24a0a327758",
   "metadata": {
    "colab": {
     "base_uri": "https://localhost:8080/",
     "height": 175
    },
    "id": "4e8c73a0-ace8-42af-ad39-c24a0a327758",
    "outputId": "5e3d7006-8ca1-4e51-b0a1-0d1162cd9f14"
   },
   "outputs": [
    {
     "data": {
      "text/html": [
       "<div>\n",
       "<style scoped>\n",
       "    .dataframe tbody tr th:only-of-type {\n",
       "        vertical-align: middle;\n",
       "    }\n",
       "\n",
       "    .dataframe tbody tr th {\n",
       "        vertical-align: top;\n",
       "    }\n",
       "\n",
       "    .dataframe thead th {\n",
       "        text-align: right;\n",
       "    }\n",
       "</style>\n",
       "<table border=\"1\" class=\"dataframe\">\n",
       "  <thead>\n",
       "    <tr style=\"text-align: right;\">\n",
       "      <th></th>\n",
       "      <th>W</th>\n",
       "      <th>X</th>\n",
       "      <th>Y</th>\n",
       "      <th>Z</th>\n",
       "      <th>Random</th>\n",
       "    </tr>\n",
       "  </thead>\n",
       "  <tbody>\n",
       "    <tr>\n",
       "      <th>A</th>\n",
       "      <td>-0.411680</td>\n",
       "      <td>-0.389137</td>\n",
       "      <td>0.663274</td>\n",
       "      <td>0.679705</td>\n",
       "      <td>0.361740</td>\n",
       "    </tr>\n",
       "    <tr>\n",
       "      <th>B</th>\n",
       "      <td>0.270988</td>\n",
       "      <td>0.447199</td>\n",
       "      <td>-1.291777</td>\n",
       "      <td>-0.181051</td>\n",
       "      <td>-0.814820</td>\n",
       "    </tr>\n",
       "    <tr>\n",
       "      <th>C</th>\n",
       "      <td>1.857626</td>\n",
       "      <td>-0.728052</td>\n",
       "      <td>0.359640</td>\n",
       "      <td>-0.768516</td>\n",
       "      <td>-0.088642</td>\n",
       "    </tr>\n",
       "    <tr>\n",
       "      <th>D</th>\n",
       "      <td>1.263009</td>\n",
       "      <td>-0.388652</td>\n",
       "      <td>-0.278128</td>\n",
       "      <td>0.080284</td>\n",
       "      <td>0.405633</td>\n",
       "    </tr>\n",
       "  </tbody>\n",
       "</table>\n",
       "</div>"
      ],
      "text/plain": [
       "          W         X         Y         Z    Random\n",
       "A -0.411680 -0.389137  0.663274  0.679705  0.361740\n",
       "B  0.270988  0.447199 -1.291777 -0.181051 -0.814820\n",
       "C  1.857626 -0.728052  0.359640 -0.768516 -0.088642\n",
       "D  1.263009 -0.388652 -0.278128  0.080284  0.405633"
      ]
     },
     "execution_count": 23,
     "metadata": {},
     "output_type": "execute_result"
    }
   ],
   "source": [
    "## Removing a Row\n",
    "df.drop('E', axis=0, inplace=True)\n",
    "df"
   ]
  },
  {
   "cell_type": "markdown",
   "id": "1517a5ba-72a3-4ddc-9177-1e8542196659",
   "metadata": {
    "id": "1517a5ba-72a3-4ddc-9177-1e8542196659"
   },
   "source": [
    "### Copying DataFrames\n",
    "\n",
    "You can create copies of DataFrame slices:"
   ]
  },
  {
   "cell_type": "code",
   "execution_count": 24,
   "id": "6dc2e1ad-af93-48fe-aa64-f64dbfee8732",
   "metadata": {
    "colab": {
     "base_uri": "https://localhost:8080/",
     "height": 241
    },
    "id": "6dc2e1ad-af93-48fe-aa64-f64dbfee8732",
    "outputId": "233ecdae-ab84-43c8-e707-2968fdaa6c16"
   },
   "outputs": [
    {
     "data": {
      "text/plain": [
       "W         1.263009\n",
       "X        -0.388652\n",
       "Y        -0.278128\n",
       "Z         0.080284\n",
       "Random    0.405633\n",
       "Name: D, dtype: float64"
      ]
     },
     "execution_count": 24,
     "metadata": {},
     "output_type": "execute_result"
    }
   ],
   "source": [
    "df1 = df.loc['D']\n",
    "df1"
   ]
  },
  {
   "cell_type": "markdown",
   "id": "d63b481b-2baf-403b-b532-e4c5cab7846d",
   "metadata": {
    "id": "d63b481b-2baf-403b-b532-e4c5cab7846d"
   },
   "source": [
    "### Dropping Columns\n",
    "\n",
    "To drop a column from the DataFrame, you can use the drop method:"
   ]
  },
  {
   "cell_type": "code",
   "execution_count": 25,
   "id": "b1cbcb36-0718-4898-8cc3-ea3f4f47f5c5",
   "metadata": {
    "colab": {
     "base_uri": "https://localhost:8080/",
     "height": 175
    },
    "id": "b1cbcb36-0718-4898-8cc3-ea3f4f47f5c5",
    "outputId": "680e9fbc-8977-4331-98f2-4095e9843ea5"
   },
   "outputs": [
    {
     "data": {
      "text/html": [
       "<div>\n",
       "<style scoped>\n",
       "    .dataframe tbody tr th:only-of-type {\n",
       "        vertical-align: middle;\n",
       "    }\n",
       "\n",
       "    .dataframe tbody tr th {\n",
       "        vertical-align: top;\n",
       "    }\n",
       "\n",
       "    .dataframe thead th {\n",
       "        text-align: right;\n",
       "    }\n",
       "</style>\n",
       "<table border=\"1\" class=\"dataframe\">\n",
       "  <thead>\n",
       "    <tr style=\"text-align: right;\">\n",
       "      <th></th>\n",
       "      <th>W</th>\n",
       "      <th>X</th>\n",
       "      <th>Z</th>\n",
       "      <th>Random</th>\n",
       "    </tr>\n",
       "  </thead>\n",
       "  <tbody>\n",
       "    <tr>\n",
       "      <th>A</th>\n",
       "      <td>-0.411680</td>\n",
       "      <td>-0.389137</td>\n",
       "      <td>0.679705</td>\n",
       "      <td>0.361740</td>\n",
       "    </tr>\n",
       "    <tr>\n",
       "      <th>B</th>\n",
       "      <td>0.270988</td>\n",
       "      <td>0.447199</td>\n",
       "      <td>-0.181051</td>\n",
       "      <td>-0.814820</td>\n",
       "    </tr>\n",
       "    <tr>\n",
       "      <th>C</th>\n",
       "      <td>1.857626</td>\n",
       "      <td>-0.728052</td>\n",
       "      <td>-0.768516</td>\n",
       "      <td>-0.088642</td>\n",
       "    </tr>\n",
       "    <tr>\n",
       "      <th>D</th>\n",
       "      <td>1.263009</td>\n",
       "      <td>-0.388652</td>\n",
       "      <td>0.080284</td>\n",
       "      <td>0.405633</td>\n",
       "    </tr>\n",
       "  </tbody>\n",
       "</table>\n",
       "</div>"
      ],
      "text/plain": [
       "          W         X         Z    Random\n",
       "A -0.411680 -0.389137  0.679705  0.361740\n",
       "B  0.270988  0.447199 -0.181051 -0.814820\n",
       "C  1.857626 -0.728052 -0.768516 -0.088642\n",
       "D  1.263009 -0.388652  0.080284  0.405633"
      ]
     },
     "execution_count": 25,
     "metadata": {},
     "output_type": "execute_result"
    }
   ],
   "source": [
    "df1 = df.drop(columns='Y')\n",
    "df1"
   ]
  },
  {
   "cell_type": "markdown",
   "id": "c396c0c6-d1fa-4808-b22c-f6ccfa4e0c65",
   "metadata": {
    "id": "c396c0c6-d1fa-4808-b22c-f6ccfa4e0c65"
   },
   "source": [
    "## Conditional Statement Selection\n",
    "\n",
    "Using conditional statements, we can filter DataFrame values. For instance, we can check which values are greater than zero.\n",
    "\n",
    "Example:"
   ]
  },
  {
   "cell_type": "code",
   "execution_count": 26,
   "id": "8b5fa29d-5e87-43c8-ab6c-b811d12f3ea8",
   "metadata": {
    "colab": {
     "base_uri": "https://localhost:8080/",
     "height": 175
    },
    "id": "8b5fa29d-5e87-43c8-ab6c-b811d12f3ea8",
    "outputId": "8ac88cc7-2ec4-4104-eedf-c98b7d090009"
   },
   "outputs": [
    {
     "data": {
      "text/html": [
       "<div>\n",
       "<style scoped>\n",
       "    .dataframe tbody tr th:only-of-type {\n",
       "        vertical-align: middle;\n",
       "    }\n",
       "\n",
       "    .dataframe tbody tr th {\n",
       "        vertical-align: top;\n",
       "    }\n",
       "\n",
       "    .dataframe thead th {\n",
       "        text-align: right;\n",
       "    }\n",
       "</style>\n",
       "<table border=\"1\" class=\"dataframe\">\n",
       "  <thead>\n",
       "    <tr style=\"text-align: right;\">\n",
       "      <th></th>\n",
       "      <th>W</th>\n",
       "      <th>X</th>\n",
       "      <th>Y</th>\n",
       "      <th>Z</th>\n",
       "      <th>Random</th>\n",
       "    </tr>\n",
       "  </thead>\n",
       "  <tbody>\n",
       "    <tr>\n",
       "      <th>A</th>\n",
       "      <td>False</td>\n",
       "      <td>False</td>\n",
       "      <td>True</td>\n",
       "      <td>True</td>\n",
       "      <td>True</td>\n",
       "    </tr>\n",
       "    <tr>\n",
       "      <th>B</th>\n",
       "      <td>True</td>\n",
       "      <td>True</td>\n",
       "      <td>False</td>\n",
       "      <td>False</td>\n",
       "      <td>False</td>\n",
       "    </tr>\n",
       "    <tr>\n",
       "      <th>C</th>\n",
       "      <td>True</td>\n",
       "      <td>False</td>\n",
       "      <td>True</td>\n",
       "      <td>False</td>\n",
       "      <td>False</td>\n",
       "    </tr>\n",
       "    <tr>\n",
       "      <th>D</th>\n",
       "      <td>True</td>\n",
       "      <td>False</td>\n",
       "      <td>False</td>\n",
       "      <td>True</td>\n",
       "      <td>True</td>\n",
       "    </tr>\n",
       "  </tbody>\n",
       "</table>\n",
       "</div>"
      ],
      "text/plain": [
       "       W      X      Y      Z  Random\n",
       "A  False  False   True   True    True\n",
       "B   True   True  False  False   False\n",
       "C   True  False   True  False   False\n",
       "D   True  False  False   True    True"
      ]
     },
     "execution_count": 26,
     "metadata": {},
     "output_type": "execute_result"
    }
   ],
   "source": [
    "df > 0"
   ]
  },
  {
   "cell_type": "markdown",
   "id": "922ffe71-a25b-4c6e-b643-8e8490e30a96",
   "metadata": {
    "id": "922ffe71-a25b-4c6e-b643-8e8490e30a96"
   },
   "source": [
    "### Resetting the Index\n",
    "\n",
    "To reset the index of a DataFrame to the default integer index (0, 1, 2, ...), we use the reset_index() method."
   ]
  },
  {
   "cell_type": "code",
   "execution_count": 27,
   "id": "fHHVDaSgOxb4",
   "metadata": {
    "colab": {
     "base_uri": "https://localhost:8080/",
     "height": 175
    },
    "id": "fHHVDaSgOxb4",
    "outputId": "be377667-8547-4c54-d15b-3caf81c1777d"
   },
   "outputs": [
    {
     "data": {
      "text/html": [
       "<div>\n",
       "<style scoped>\n",
       "    .dataframe tbody tr th:only-of-type {\n",
       "        vertical-align: middle;\n",
       "    }\n",
       "\n",
       "    .dataframe tbody tr th {\n",
       "        vertical-align: top;\n",
       "    }\n",
       "\n",
       "    .dataframe thead th {\n",
       "        text-align: right;\n",
       "    }\n",
       "</style>\n",
       "<table border=\"1\" class=\"dataframe\">\n",
       "  <thead>\n",
       "    <tr style=\"text-align: right;\">\n",
       "      <th></th>\n",
       "      <th>W</th>\n",
       "      <th>X</th>\n",
       "      <th>Y</th>\n",
       "      <th>Z</th>\n",
       "      <th>Random</th>\n",
       "    </tr>\n",
       "  </thead>\n",
       "  <tbody>\n",
       "    <tr>\n",
       "      <th>A</th>\n",
       "      <td>-0.411680</td>\n",
       "      <td>-0.389137</td>\n",
       "      <td>0.663274</td>\n",
       "      <td>0.679705</td>\n",
       "      <td>0.361740</td>\n",
       "    </tr>\n",
       "    <tr>\n",
       "      <th>B</th>\n",
       "      <td>0.270988</td>\n",
       "      <td>0.447199</td>\n",
       "      <td>-1.291777</td>\n",
       "      <td>-0.181051</td>\n",
       "      <td>-0.814820</td>\n",
       "    </tr>\n",
       "    <tr>\n",
       "      <th>C</th>\n",
       "      <td>1.857626</td>\n",
       "      <td>-0.728052</td>\n",
       "      <td>0.359640</td>\n",
       "      <td>-0.768516</td>\n",
       "      <td>-0.088642</td>\n",
       "    </tr>\n",
       "    <tr>\n",
       "      <th>D</th>\n",
       "      <td>1.263009</td>\n",
       "      <td>-0.388652</td>\n",
       "      <td>-0.278128</td>\n",
       "      <td>0.080284</td>\n",
       "      <td>0.405633</td>\n",
       "    </tr>\n",
       "  </tbody>\n",
       "</table>\n",
       "</div>"
      ],
      "text/plain": [
       "          W         X         Y         Z    Random\n",
       "A -0.411680 -0.389137  0.663274  0.679705  0.361740\n",
       "B  0.270988  0.447199 -1.291777 -0.181051 -0.814820\n",
       "C  1.857626 -0.728052  0.359640 -0.768516 -0.088642\n",
       "D  1.263009 -0.388652 -0.278128  0.080284  0.405633"
      ]
     },
     "execution_count": 27,
     "metadata": {},
     "output_type": "execute_result"
    }
   ],
   "source": [
    "df"
   ]
  },
  {
   "cell_type": "code",
   "execution_count": 28,
   "id": "9c5ea78b-9e65-46c3-99d8-91d179873f69",
   "metadata": {
    "colab": {
     "base_uri": "https://localhost:8080/",
     "height": 175
    },
    "id": "9c5ea78b-9e65-46c3-99d8-91d179873f69",
    "outputId": "09d8c087-37e2-43d6-cca6-8af29a9ea200"
   },
   "outputs": [
    {
     "data": {
      "text/html": [
       "<div>\n",
       "<style scoped>\n",
       "    .dataframe tbody tr th:only-of-type {\n",
       "        vertical-align: middle;\n",
       "    }\n",
       "\n",
       "    .dataframe tbody tr th {\n",
       "        vertical-align: top;\n",
       "    }\n",
       "\n",
       "    .dataframe thead th {\n",
       "        text-align: right;\n",
       "    }\n",
       "</style>\n",
       "<table border=\"1\" class=\"dataframe\">\n",
       "  <thead>\n",
       "    <tr style=\"text-align: right;\">\n",
       "      <th></th>\n",
       "      <th>index</th>\n",
       "      <th>W</th>\n",
       "      <th>X</th>\n",
       "      <th>Y</th>\n",
       "      <th>Z</th>\n",
       "      <th>Random</th>\n",
       "    </tr>\n",
       "  </thead>\n",
       "  <tbody>\n",
       "    <tr>\n",
       "      <th>0</th>\n",
       "      <td>A</td>\n",
       "      <td>-0.411680</td>\n",
       "      <td>-0.389137</td>\n",
       "      <td>0.663274</td>\n",
       "      <td>0.679705</td>\n",
       "      <td>0.361740</td>\n",
       "    </tr>\n",
       "    <tr>\n",
       "      <th>1</th>\n",
       "      <td>B</td>\n",
       "      <td>0.270988</td>\n",
       "      <td>0.447199</td>\n",
       "      <td>-1.291777</td>\n",
       "      <td>-0.181051</td>\n",
       "      <td>-0.814820</td>\n",
       "    </tr>\n",
       "    <tr>\n",
       "      <th>2</th>\n",
       "      <td>C</td>\n",
       "      <td>1.857626</td>\n",
       "      <td>-0.728052</td>\n",
       "      <td>0.359640</td>\n",
       "      <td>-0.768516</td>\n",
       "      <td>-0.088642</td>\n",
       "    </tr>\n",
       "    <tr>\n",
       "      <th>3</th>\n",
       "      <td>D</td>\n",
       "      <td>1.263009</td>\n",
       "      <td>-0.388652</td>\n",
       "      <td>-0.278128</td>\n",
       "      <td>0.080284</td>\n",
       "      <td>0.405633</td>\n",
       "    </tr>\n",
       "  </tbody>\n",
       "</table>\n",
       "</div>"
      ],
      "text/plain": [
       "  index         W         X         Y         Z    Random\n",
       "0     A -0.411680 -0.389137  0.663274  0.679705  0.361740\n",
       "1     B  0.270988  0.447199 -1.291777 -0.181051 -0.814820\n",
       "2     C  1.857626 -0.728052  0.359640 -0.768516 -0.088642\n",
       "3     D  1.263009 -0.388652 -0.278128  0.080284  0.405633"
      ]
     },
     "execution_count": 28,
     "metadata": {},
     "output_type": "execute_result"
    }
   ],
   "source": [
    "df.reset_index()"
   ]
  },
  {
   "cell_type": "markdown",
   "id": "a7cce602-9c2a-4b7a-91d6-3145516d4af6",
   "metadata": {
    "id": "a7cce602-9c2a-4b7a-91d6-3145516d4af6"
   },
   "source": [
    "### Adding a Column\n",
    "\n",
    "To add a new column, we can use the loc accessor. For example, let's add a column named 'state'."
   ]
  },
  {
   "cell_type": "code",
   "execution_count": 29,
   "id": "vafgEqt7znmi",
   "metadata": {
    "colab": {
     "base_uri": "https://localhost:8080/",
     "height": 175
    },
    "id": "vafgEqt7znmi",
    "outputId": "7dac1275-5c65-4372-deba-aca1ed4cda96"
   },
   "outputs": [
    {
     "data": {
      "text/html": [
       "<div>\n",
       "<style scoped>\n",
       "    .dataframe tbody tr th:only-of-type {\n",
       "        vertical-align: middle;\n",
       "    }\n",
       "\n",
       "    .dataframe tbody tr th {\n",
       "        vertical-align: top;\n",
       "    }\n",
       "\n",
       "    .dataframe thead th {\n",
       "        text-align: right;\n",
       "    }\n",
       "</style>\n",
       "<table border=\"1\" class=\"dataframe\">\n",
       "  <thead>\n",
       "    <tr style=\"text-align: right;\">\n",
       "      <th></th>\n",
       "      <th>W</th>\n",
       "      <th>X</th>\n",
       "      <th>Y</th>\n",
       "      <th>Z</th>\n",
       "      <th>Random</th>\n",
       "    </tr>\n",
       "  </thead>\n",
       "  <tbody>\n",
       "    <tr>\n",
       "      <th>A</th>\n",
       "      <td>-0.411680</td>\n",
       "      <td>-0.389137</td>\n",
       "      <td>0.663274</td>\n",
       "      <td>0.679705</td>\n",
       "      <td>0.361740</td>\n",
       "    </tr>\n",
       "    <tr>\n",
       "      <th>B</th>\n",
       "      <td>0.270988</td>\n",
       "      <td>0.447199</td>\n",
       "      <td>-1.291777</td>\n",
       "      <td>-0.181051</td>\n",
       "      <td>-0.814820</td>\n",
       "    </tr>\n",
       "    <tr>\n",
       "      <th>C</th>\n",
       "      <td>1.857626</td>\n",
       "      <td>-0.728052</td>\n",
       "      <td>0.359640</td>\n",
       "      <td>-0.768516</td>\n",
       "      <td>-0.088642</td>\n",
       "    </tr>\n",
       "    <tr>\n",
       "      <th>D</th>\n",
       "      <td>1.263009</td>\n",
       "      <td>-0.388652</td>\n",
       "      <td>-0.278128</td>\n",
       "      <td>0.080284</td>\n",
       "      <td>0.405633</td>\n",
       "    </tr>\n",
       "  </tbody>\n",
       "</table>\n",
       "</div>"
      ],
      "text/plain": [
       "          W         X         Y         Z    Random\n",
       "A -0.411680 -0.389137  0.663274  0.679705  0.361740\n",
       "B  0.270988  0.447199 -1.291777 -0.181051 -0.814820\n",
       "C  1.857626 -0.728052  0.359640 -0.768516 -0.088642\n",
       "D  1.263009 -0.388652 -0.278128  0.080284  0.405633"
      ]
     },
     "execution_count": 29,
     "metadata": {},
     "output_type": "execute_result"
    }
   ],
   "source": [
    "df"
   ]
  },
  {
   "cell_type": "code",
   "execution_count": 30,
   "id": "ec776782-e76d-40b3-9011-8214b99d2ad9",
   "metadata": {
    "colab": {
     "base_uri": "https://localhost:8080/",
     "height": 175
    },
    "id": "ec776782-e76d-40b3-9011-8214b99d2ad9",
    "outputId": "1be08e81-5452-4df4-cc02-ac95ecc3b8dc"
   },
   "outputs": [
    {
     "data": {
      "text/html": [
       "<div>\n",
       "<style scoped>\n",
       "    .dataframe tbody tr th:only-of-type {\n",
       "        vertical-align: middle;\n",
       "    }\n",
       "\n",
       "    .dataframe tbody tr th {\n",
       "        vertical-align: top;\n",
       "    }\n",
       "\n",
       "    .dataframe thead th {\n",
       "        text-align: right;\n",
       "    }\n",
       "</style>\n",
       "<table border=\"1\" class=\"dataframe\">\n",
       "  <thead>\n",
       "    <tr style=\"text-align: right;\">\n",
       "      <th></th>\n",
       "      <th>W</th>\n",
       "      <th>X</th>\n",
       "      <th>Y</th>\n",
       "      <th>Z</th>\n",
       "      <th>Random</th>\n",
       "      <th>state</th>\n",
       "    </tr>\n",
       "  </thead>\n",
       "  <tbody>\n",
       "    <tr>\n",
       "      <th>A</th>\n",
       "      <td>-0.411680</td>\n",
       "      <td>-0.389137</td>\n",
       "      <td>0.663274</td>\n",
       "      <td>0.679705</td>\n",
       "      <td>0.361740</td>\n",
       "      <td>DE</td>\n",
       "    </tr>\n",
       "    <tr>\n",
       "      <th>B</th>\n",
       "      <td>0.270988</td>\n",
       "      <td>0.447199</td>\n",
       "      <td>-1.291777</td>\n",
       "      <td>-0.181051</td>\n",
       "      <td>-0.814820</td>\n",
       "      <td>AB</td>\n",
       "    </tr>\n",
       "    <tr>\n",
       "      <th>C</th>\n",
       "      <td>1.857626</td>\n",
       "      <td>-0.728052</td>\n",
       "      <td>0.359640</td>\n",
       "      <td>-0.768516</td>\n",
       "      <td>-0.088642</td>\n",
       "      <td>CD</td>\n",
       "    </tr>\n",
       "    <tr>\n",
       "      <th>D</th>\n",
       "      <td>1.263009</td>\n",
       "      <td>-0.388652</td>\n",
       "      <td>-0.278128</td>\n",
       "      <td>0.080284</td>\n",
       "      <td>0.405633</td>\n",
       "      <td>EF</td>\n",
       "    </tr>\n",
       "  </tbody>\n",
       "</table>\n",
       "</div>"
      ],
      "text/plain": [
       "          W         X         Y         Z    Random state\n",
       "A -0.411680 -0.389137  0.663274  0.679705  0.361740    DE\n",
       "B  0.270988  0.447199 -1.291777 -0.181051 -0.814820    AB\n",
       "C  1.857626 -0.728052  0.359640 -0.768516 -0.088642    CD\n",
       "D  1.263009 -0.388652 -0.278128  0.080284  0.405633    EF"
      ]
     },
     "execution_count": 30,
     "metadata": {},
     "output_type": "execute_result"
    }
   ],
   "source": [
    "newId = 'DE AB CD EF'.split()\n",
    "df['state'] = newId\n",
    "df"
   ]
  },
  {
   "cell_type": "markdown",
   "id": "856afd04-57d5-4d60-8609-9ea7905f2118",
   "metadata": {
    "id": "856afd04-57d5-4d60-8609-9ea7905f2118"
   },
   "source": [
    "### Setting a New Index\n",
    "\n",
    "We can set a new index for the DataFrame using the set_index method."
   ]
  },
  {
   "cell_type": "markdown",
   "id": "3789bbda-a1cf-4653-b8a9-0a485e269bb0",
   "metadata": {
    "id": "3789bbda-a1cf-4653-b8a9-0a485e269bb0"
   },
   "source": [
    "df.set_index('state', inplace=True)"
   ]
  },
  {
   "cell_type": "code",
   "execution_count": 31,
   "id": "VG2HHgweVWrF",
   "metadata": {
    "colab": {
     "base_uri": "https://localhost:8080/",
     "height": 206
    },
    "id": "VG2HHgweVWrF",
    "outputId": "e01aed46-ded3-4dee-becf-916b27208694"
   },
   "outputs": [
    {
     "data": {
      "text/html": [
       "<div>\n",
       "<style scoped>\n",
       "    .dataframe tbody tr th:only-of-type {\n",
       "        vertical-align: middle;\n",
       "    }\n",
       "\n",
       "    .dataframe tbody tr th {\n",
       "        vertical-align: top;\n",
       "    }\n",
       "\n",
       "    .dataframe thead th {\n",
       "        text-align: right;\n",
       "    }\n",
       "</style>\n",
       "<table border=\"1\" class=\"dataframe\">\n",
       "  <thead>\n",
       "    <tr style=\"text-align: right;\">\n",
       "      <th></th>\n",
       "      <th>W</th>\n",
       "      <th>X</th>\n",
       "      <th>Y</th>\n",
       "      <th>Z</th>\n",
       "      <th>Random</th>\n",
       "    </tr>\n",
       "    <tr>\n",
       "      <th>state</th>\n",
       "      <th></th>\n",
       "      <th></th>\n",
       "      <th></th>\n",
       "      <th></th>\n",
       "      <th></th>\n",
       "    </tr>\n",
       "  </thead>\n",
       "  <tbody>\n",
       "    <tr>\n",
       "      <th>DE</th>\n",
       "      <td>-0.411680</td>\n",
       "      <td>-0.389137</td>\n",
       "      <td>0.663274</td>\n",
       "      <td>0.679705</td>\n",
       "      <td>0.361740</td>\n",
       "    </tr>\n",
       "    <tr>\n",
       "      <th>AB</th>\n",
       "      <td>0.270988</td>\n",
       "      <td>0.447199</td>\n",
       "      <td>-1.291777</td>\n",
       "      <td>-0.181051</td>\n",
       "      <td>-0.814820</td>\n",
       "    </tr>\n",
       "    <tr>\n",
       "      <th>CD</th>\n",
       "      <td>1.857626</td>\n",
       "      <td>-0.728052</td>\n",
       "      <td>0.359640</td>\n",
       "      <td>-0.768516</td>\n",
       "      <td>-0.088642</td>\n",
       "    </tr>\n",
       "    <tr>\n",
       "      <th>EF</th>\n",
       "      <td>1.263009</td>\n",
       "      <td>-0.388652</td>\n",
       "      <td>-0.278128</td>\n",
       "      <td>0.080284</td>\n",
       "      <td>0.405633</td>\n",
       "    </tr>\n",
       "  </tbody>\n",
       "</table>\n",
       "</div>"
      ],
      "text/plain": [
       "              W         X         Y         Z    Random\n",
       "state                                                  \n",
       "DE    -0.411680 -0.389137  0.663274  0.679705  0.361740\n",
       "AB     0.270988  0.447199 -1.291777 -0.181051 -0.814820\n",
       "CD     1.857626 -0.728052  0.359640 -0.768516 -0.088642\n",
       "EF     1.263009 -0.388652 -0.278128  0.080284  0.405633"
      ]
     },
     "execution_count": 31,
     "metadata": {},
     "output_type": "execute_result"
    }
   ],
   "source": [
    "df.set_index('state', inplace=True)\n",
    "df"
   ]
  },
  {
   "cell_type": "markdown",
   "id": "44ff80d5-8e04-43f4-b834-46c11ab68555",
   "metadata": {
    "id": "44ff80d5-8e04-43f4-b834-46c11ab68555"
   },
   "source": [
    "## Merging, Joining and Concatenation\n",
    "\n",
    "We will explore how to merge, join, and concatenate DataFrames in Pandas. These operations are essential for combining data from multiple sources, similar to how you would perform operations in SQL."
   ]
  },
  {
   "cell_type": "markdown",
   "id": "c50f0cb2-d34b-465a-bc53-1cffbd893a90",
   "metadata": {
    "id": "c50f0cb2-d34b-465a-bc53-1cffbd893a90"
   },
   "source": [
    "Creating DataFrames"
   ]
  },
  {
   "cell_type": "code",
   "execution_count": 32,
   "id": "b49ab26f-a81e-458e-8ecc-b38753eb4040",
   "metadata": {
    "colab": {
     "base_uri": "https://localhost:8080/",
     "height": 175
    },
    "id": "b49ab26f-a81e-458e-8ecc-b38753eb4040",
    "outputId": "e272f6d9-0bf6-468c-84de-92f88aebd8f2"
   },
   "outputs": [
    {
     "data": {
      "text/html": [
       "<div>\n",
       "<style scoped>\n",
       "    .dataframe tbody tr th:only-of-type {\n",
       "        vertical-align: middle;\n",
       "    }\n",
       "\n",
       "    .dataframe tbody tr th {\n",
       "        vertical-align: top;\n",
       "    }\n",
       "\n",
       "    .dataframe thead th {\n",
       "        text-align: right;\n",
       "    }\n",
       "</style>\n",
       "<table border=\"1\" class=\"dataframe\">\n",
       "  <thead>\n",
       "    <tr style=\"text-align: right;\">\n",
       "      <th></th>\n",
       "      <th>A</th>\n",
       "      <th>B</th>\n",
       "      <th>C</th>\n",
       "      <th>D</th>\n",
       "    </tr>\n",
       "  </thead>\n",
       "  <tbody>\n",
       "    <tr>\n",
       "      <th>0</th>\n",
       "      <td>A0</td>\n",
       "      <td>B0</td>\n",
       "      <td>C0</td>\n",
       "      <td>D0</td>\n",
       "    </tr>\n",
       "    <tr>\n",
       "      <th>1</th>\n",
       "      <td>A1</td>\n",
       "      <td>B1</td>\n",
       "      <td>C1</td>\n",
       "      <td>D1</td>\n",
       "    </tr>\n",
       "    <tr>\n",
       "      <th>2</th>\n",
       "      <td>A2</td>\n",
       "      <td>B2</td>\n",
       "      <td>C2</td>\n",
       "      <td>D2</td>\n",
       "    </tr>\n",
       "    <tr>\n",
       "      <th>3</th>\n",
       "      <td>A3</td>\n",
       "      <td>B3</td>\n",
       "      <td>C3</td>\n",
       "      <td>D3</td>\n",
       "    </tr>\n",
       "  </tbody>\n",
       "</table>\n",
       "</div>"
      ],
      "text/plain": [
       "    A   B   C   D\n",
       "0  A0  B0  C0  D0\n",
       "1  A1  B1  C1  D1\n",
       "2  A2  B2  C2  D2\n",
       "3  A3  B3  C3  D3"
      ]
     },
     "execution_count": 32,
     "metadata": {},
     "output_type": "execute_result"
    }
   ],
   "source": [
    "import pandas as pd\n",
    "\n",
    "# Creating the first DataFrame\n",
    "df3 = pd.DataFrame({\n",
    "    'A': ['A0', 'A1', 'A2', 'A3'],\n",
    "    'B': ['B0', 'B1', 'B2', 'B3'],\n",
    "    'C': ['C0', 'C1', 'C2', 'C3'],\n",
    "    'D': ['D0', 'D1', 'D2', 'D3']\n",
    "}, index=[0, 1, 2, 3])\n",
    "\n",
    "df3"
   ]
  },
  {
   "cell_type": "code",
   "execution_count": 33,
   "id": "3a1a19c0-3de5-4c3b-b952-68362b978f81",
   "metadata": {
    "colab": {
     "base_uri": "https://localhost:8080/",
     "height": 175
    },
    "id": "3a1a19c0-3de5-4c3b-b952-68362b978f81",
    "outputId": "b72cee4f-3771-4f29-fe73-655bc696654b"
   },
   "outputs": [
    {
     "data": {
      "text/html": [
       "<div>\n",
       "<style scoped>\n",
       "    .dataframe tbody tr th:only-of-type {\n",
       "        vertical-align: middle;\n",
       "    }\n",
       "\n",
       "    .dataframe tbody tr th {\n",
       "        vertical-align: top;\n",
       "    }\n",
       "\n",
       "    .dataframe thead th {\n",
       "        text-align: right;\n",
       "    }\n",
       "</style>\n",
       "<table border=\"1\" class=\"dataframe\">\n",
       "  <thead>\n",
       "    <tr style=\"text-align: right;\">\n",
       "      <th></th>\n",
       "      <th>A</th>\n",
       "      <th>B</th>\n",
       "      <th>C</th>\n",
       "      <th>D</th>\n",
       "    </tr>\n",
       "  </thead>\n",
       "  <tbody>\n",
       "    <tr>\n",
       "      <th>0</th>\n",
       "      <td>A4</td>\n",
       "      <td>B4</td>\n",
       "      <td>C4</td>\n",
       "      <td>D4</td>\n",
       "    </tr>\n",
       "    <tr>\n",
       "      <th>1</th>\n",
       "      <td>A5</td>\n",
       "      <td>B5</td>\n",
       "      <td>C5</td>\n",
       "      <td>D5</td>\n",
       "    </tr>\n",
       "    <tr>\n",
       "      <th>2</th>\n",
       "      <td>A6</td>\n",
       "      <td>B6</td>\n",
       "      <td>C6</td>\n",
       "      <td>D6</td>\n",
       "    </tr>\n",
       "    <tr>\n",
       "      <th>3</th>\n",
       "      <td>A7</td>\n",
       "      <td>B7</td>\n",
       "      <td>C7</td>\n",
       "      <td>D7</td>\n",
       "    </tr>\n",
       "  </tbody>\n",
       "</table>\n",
       "</div>"
      ],
      "text/plain": [
       "    A   B   C   D\n",
       "0  A4  B4  C4  D4\n",
       "1  A5  B5  C5  D5\n",
       "2  A6  B6  C6  D6\n",
       "3  A7  B7  C7  D7"
      ]
     },
     "execution_count": 33,
     "metadata": {},
     "output_type": "execute_result"
    }
   ],
   "source": [
    "# Creating the second DataFrame\n",
    "df4 = pd.DataFrame({\n",
    "    'A': ['A4', 'A5', 'A6', 'A7'],\n",
    "    'B': ['B4', 'B5', 'B6', 'B7'],\n",
    "    'C': ['C4', 'C5', 'C6', 'C7'],\n",
    "    'D': ['D4', 'D5', 'D6', 'D7']\n",
    "}, index=[0, 1, 2, 3])\n",
    "\n",
    "df4"
   ]
  },
  {
   "cell_type": "markdown",
   "id": "d5851036-acc4-46d4-820d-4bcff6e662d2",
   "metadata": {
    "id": "d5851036-acc4-46d4-820d-4bcff6e662d2"
   },
   "source": [
    "### Concatenation\n",
    "\n",
    "Concatenation is used to append one DataFrame to another, either along rows or columns.\n",
    "\n",
    "To concatenate df3 and df4 along rows:"
   ]
  },
  {
   "cell_type": "code",
   "execution_count": 34,
   "id": "b43ee87f-8078-46ca-b3ee-34bbc81e411d",
   "metadata": {
    "colab": {
     "base_uri": "https://localhost:8080/",
     "height": 301
    },
    "id": "b43ee87f-8078-46ca-b3ee-34bbc81e411d",
    "outputId": "9cf74afc-e85b-422f-e7f6-11dcb1db5b92"
   },
   "outputs": [
    {
     "data": {
      "text/html": [
       "<div>\n",
       "<style scoped>\n",
       "    .dataframe tbody tr th:only-of-type {\n",
       "        vertical-align: middle;\n",
       "    }\n",
       "\n",
       "    .dataframe tbody tr th {\n",
       "        vertical-align: top;\n",
       "    }\n",
       "\n",
       "    .dataframe thead th {\n",
       "        text-align: right;\n",
       "    }\n",
       "</style>\n",
       "<table border=\"1\" class=\"dataframe\">\n",
       "  <thead>\n",
       "    <tr style=\"text-align: right;\">\n",
       "      <th></th>\n",
       "      <th>A</th>\n",
       "      <th>B</th>\n",
       "      <th>C</th>\n",
       "      <th>D</th>\n",
       "    </tr>\n",
       "  </thead>\n",
       "  <tbody>\n",
       "    <tr>\n",
       "      <th>0</th>\n",
       "      <td>A0</td>\n",
       "      <td>B0</td>\n",
       "      <td>C0</td>\n",
       "      <td>D0</td>\n",
       "    </tr>\n",
       "    <tr>\n",
       "      <th>1</th>\n",
       "      <td>A1</td>\n",
       "      <td>B1</td>\n",
       "      <td>C1</td>\n",
       "      <td>D1</td>\n",
       "    </tr>\n",
       "    <tr>\n",
       "      <th>2</th>\n",
       "      <td>A2</td>\n",
       "      <td>B2</td>\n",
       "      <td>C2</td>\n",
       "      <td>D2</td>\n",
       "    </tr>\n",
       "    <tr>\n",
       "      <th>3</th>\n",
       "      <td>A3</td>\n",
       "      <td>B3</td>\n",
       "      <td>C3</td>\n",
       "      <td>D3</td>\n",
       "    </tr>\n",
       "    <tr>\n",
       "      <th>0</th>\n",
       "      <td>A4</td>\n",
       "      <td>B4</td>\n",
       "      <td>C4</td>\n",
       "      <td>D4</td>\n",
       "    </tr>\n",
       "    <tr>\n",
       "      <th>1</th>\n",
       "      <td>A5</td>\n",
       "      <td>B5</td>\n",
       "      <td>C5</td>\n",
       "      <td>D5</td>\n",
       "    </tr>\n",
       "    <tr>\n",
       "      <th>2</th>\n",
       "      <td>A6</td>\n",
       "      <td>B6</td>\n",
       "      <td>C6</td>\n",
       "      <td>D6</td>\n",
       "    </tr>\n",
       "    <tr>\n",
       "      <th>3</th>\n",
       "      <td>A7</td>\n",
       "      <td>B7</td>\n",
       "      <td>C7</td>\n",
       "      <td>D7</td>\n",
       "    </tr>\n",
       "  </tbody>\n",
       "</table>\n",
       "</div>"
      ],
      "text/plain": [
       "    A   B   C   D\n",
       "0  A0  B0  C0  D0\n",
       "1  A1  B1  C1  D1\n",
       "2  A2  B2  C2  D2\n",
       "3  A3  B3  C3  D3\n",
       "0  A4  B4  C4  D4\n",
       "1  A5  B5  C5  D5\n",
       "2  A6  B6  C6  D6\n",
       "3  A7  B7  C7  D7"
      ]
     },
     "execution_count": 34,
     "metadata": {},
     "output_type": "execute_result"
    }
   ],
   "source": [
    "pd.concat([df3, df4])"
   ]
  },
  {
   "cell_type": "markdown",
   "id": "de134e87-c94b-45df-a4eb-f0ccdc75ef56",
   "metadata": {
    "id": "de134e87-c94b-45df-a4eb-f0ccdc75ef56"
   },
   "source": [
    "To concatenate df3 and df4 along columns:"
   ]
  },
  {
   "cell_type": "code",
   "execution_count": 35,
   "id": "13490017-c76e-42f9-a8fd-b00774deeded",
   "metadata": {
    "colab": {
     "base_uri": "https://localhost:8080/",
     "height": 175
    },
    "id": "13490017-c76e-42f9-a8fd-b00774deeded",
    "outputId": "de992a65-c012-4b47-ec6e-99595c8ccde6"
   },
   "outputs": [
    {
     "data": {
      "text/html": [
       "<div>\n",
       "<style scoped>\n",
       "    .dataframe tbody tr th:only-of-type {\n",
       "        vertical-align: middle;\n",
       "    }\n",
       "\n",
       "    .dataframe tbody tr th {\n",
       "        vertical-align: top;\n",
       "    }\n",
       "\n",
       "    .dataframe thead th {\n",
       "        text-align: right;\n",
       "    }\n",
       "</style>\n",
       "<table border=\"1\" class=\"dataframe\">\n",
       "  <thead>\n",
       "    <tr style=\"text-align: right;\">\n",
       "      <th></th>\n",
       "      <th>A</th>\n",
       "      <th>B</th>\n",
       "      <th>C</th>\n",
       "      <th>D</th>\n",
       "      <th>A</th>\n",
       "      <th>B</th>\n",
       "      <th>C</th>\n",
       "      <th>D</th>\n",
       "    </tr>\n",
       "  </thead>\n",
       "  <tbody>\n",
       "    <tr>\n",
       "      <th>0</th>\n",
       "      <td>A0</td>\n",
       "      <td>B0</td>\n",
       "      <td>C0</td>\n",
       "      <td>D0</td>\n",
       "      <td>A4</td>\n",
       "      <td>B4</td>\n",
       "      <td>C4</td>\n",
       "      <td>D4</td>\n",
       "    </tr>\n",
       "    <tr>\n",
       "      <th>1</th>\n",
       "      <td>A1</td>\n",
       "      <td>B1</td>\n",
       "      <td>C1</td>\n",
       "      <td>D1</td>\n",
       "      <td>A5</td>\n",
       "      <td>B5</td>\n",
       "      <td>C5</td>\n",
       "      <td>D5</td>\n",
       "    </tr>\n",
       "    <tr>\n",
       "      <th>2</th>\n",
       "      <td>A2</td>\n",
       "      <td>B2</td>\n",
       "      <td>C2</td>\n",
       "      <td>D2</td>\n",
       "      <td>A6</td>\n",
       "      <td>B6</td>\n",
       "      <td>C6</td>\n",
       "      <td>D6</td>\n",
       "    </tr>\n",
       "    <tr>\n",
       "      <th>3</th>\n",
       "      <td>A3</td>\n",
       "      <td>B3</td>\n",
       "      <td>C3</td>\n",
       "      <td>D3</td>\n",
       "      <td>A7</td>\n",
       "      <td>B7</td>\n",
       "      <td>C7</td>\n",
       "      <td>D7</td>\n",
       "    </tr>\n",
       "  </tbody>\n",
       "</table>\n",
       "</div>"
      ],
      "text/plain": [
       "    A   B   C   D   A   B   C   D\n",
       "0  A0  B0  C0  D0  A4  B4  C4  D4\n",
       "1  A1  B1  C1  D1  A5  B5  C5  D5\n",
       "2  A2  B2  C2  D2  A6  B6  C6  D6\n",
       "3  A3  B3  C3  D3  A7  B7  C7  D7"
      ]
     },
     "execution_count": 35,
     "metadata": {},
     "output_type": "execute_result"
    }
   ],
   "source": [
    "pd.concat([df3, df4], axis=1)"
   ]
  },
  {
   "cell_type": "markdown",
   "id": "1aa6011b-2191-4317-96c0-1d4b5d2f039a",
   "metadata": {
    "id": "1aa6011b-2191-4317-96c0-1d4b5d2f039a"
   },
   "source": [
    "### Merging\n",
    "\n",
    "The merge function allows you to merge DataFrames together using a key column, similar to SQL joins.\n",
    "\n",
    "First, let's create two DataFrames with a common key column."
   ]
  },
  {
   "cell_type": "code",
   "execution_count": 36,
   "id": "c459907f-7a6f-424a-af43-a27ae7ecb39b",
   "metadata": {
    "colab": {
     "base_uri": "https://localhost:8080/",
     "height": 175
    },
    "id": "c459907f-7a6f-424a-af43-a27ae7ecb39b",
    "outputId": "7cf327bd-4273-4187-ae30-fed546029e68"
   },
   "outputs": [
    {
     "data": {
      "text/html": [
       "<div>\n",
       "<style scoped>\n",
       "    .dataframe tbody tr th:only-of-type {\n",
       "        vertical-align: middle;\n",
       "    }\n",
       "\n",
       "    .dataframe tbody tr th {\n",
       "        vertical-align: top;\n",
       "    }\n",
       "\n",
       "    .dataframe thead th {\n",
       "        text-align: right;\n",
       "    }\n",
       "</style>\n",
       "<table border=\"1\" class=\"dataframe\">\n",
       "  <thead>\n",
       "    <tr style=\"text-align: right;\">\n",
       "      <th></th>\n",
       "      <th>key</th>\n",
       "      <th>B</th>\n",
       "      <th>C</th>\n",
       "      <th>D</th>\n",
       "    </tr>\n",
       "  </thead>\n",
       "  <tbody>\n",
       "    <tr>\n",
       "      <th>0</th>\n",
       "      <td>A0</td>\n",
       "      <td>B0</td>\n",
       "      <td>C0</td>\n",
       "      <td>D0</td>\n",
       "    </tr>\n",
       "    <tr>\n",
       "      <th>1</th>\n",
       "      <td>A1</td>\n",
       "      <td>B1</td>\n",
       "      <td>C1</td>\n",
       "      <td>D1</td>\n",
       "    </tr>\n",
       "    <tr>\n",
       "      <th>2</th>\n",
       "      <td>A2</td>\n",
       "      <td>B2</td>\n",
       "      <td>C2</td>\n",
       "      <td>D2</td>\n",
       "    </tr>\n",
       "    <tr>\n",
       "      <th>3</th>\n",
       "      <td>A3</td>\n",
       "      <td>B3</td>\n",
       "      <td>C3</td>\n",
       "      <td>D3</td>\n",
       "    </tr>\n",
       "  </tbody>\n",
       "</table>\n",
       "</div>"
      ],
      "text/plain": [
       "  key   B   C   D\n",
       "0  A0  B0  C0  D0\n",
       "1  A1  B1  C1  D1\n",
       "2  A2  B2  C2  D2\n",
       "3  A3  B3  C3  D3"
      ]
     },
     "execution_count": 36,
     "metadata": {},
     "output_type": "execute_result"
    }
   ],
   "source": [
    "# Creating the left DataFrame\n",
    "left = pd.DataFrame({\n",
    "    'key': ['A0', 'A1', 'A2', 'A3'],\n",
    "    'B': ['B0', 'B1', 'B2', 'B3'],\n",
    "    'C': ['C0', 'C1', 'C2', 'C3'],\n",
    "    'D': ['D0', 'D1', 'D2', 'D3']\n",
    "}, index=[0, 1, 2, 3])\n",
    "\n",
    "left"
   ]
  },
  {
   "cell_type": "code",
   "execution_count": 37,
   "id": "f5af8af1-b7a1-4497-98a5-d82a1fa9aed3",
   "metadata": {
    "colab": {
     "base_uri": "https://localhost:8080/",
     "height": 175
    },
    "id": "f5af8af1-b7a1-4497-98a5-d82a1fa9aed3",
    "outputId": "cac23929-632e-40dd-fbb7-fec896d50cc5"
   },
   "outputs": [
    {
     "data": {
      "text/html": [
       "<div>\n",
       "<style scoped>\n",
       "    .dataframe tbody tr th:only-of-type {\n",
       "        vertical-align: middle;\n",
       "    }\n",
       "\n",
       "    .dataframe tbody tr th {\n",
       "        vertical-align: top;\n",
       "    }\n",
       "\n",
       "    .dataframe thead th {\n",
       "        text-align: right;\n",
       "    }\n",
       "</style>\n",
       "<table border=\"1\" class=\"dataframe\">\n",
       "  <thead>\n",
       "    <tr style=\"text-align: right;\">\n",
       "      <th></th>\n",
       "      <th>key</th>\n",
       "      <th>B</th>\n",
       "      <th>C</th>\n",
       "      <th>D</th>\n",
       "    </tr>\n",
       "  </thead>\n",
       "  <tbody>\n",
       "    <tr>\n",
       "      <th>4</th>\n",
       "      <td>A0</td>\n",
       "      <td>B4</td>\n",
       "      <td>C4</td>\n",
       "      <td>D4</td>\n",
       "    </tr>\n",
       "    <tr>\n",
       "      <th>5</th>\n",
       "      <td>A1</td>\n",
       "      <td>B5</td>\n",
       "      <td>C5</td>\n",
       "      <td>D5</td>\n",
       "    </tr>\n",
       "    <tr>\n",
       "      <th>6</th>\n",
       "      <td>A2</td>\n",
       "      <td>B6</td>\n",
       "      <td>C6</td>\n",
       "      <td>D6</td>\n",
       "    </tr>\n",
       "    <tr>\n",
       "      <th>7</th>\n",
       "      <td>A3</td>\n",
       "      <td>B7</td>\n",
       "      <td>C7</td>\n",
       "      <td>D7</td>\n",
       "    </tr>\n",
       "  </tbody>\n",
       "</table>\n",
       "</div>"
      ],
      "text/plain": [
       "  key   B   C   D\n",
       "4  A0  B4  C4  D4\n",
       "5  A1  B5  C5  D5\n",
       "6  A2  B6  C6  D6\n",
       "7  A3  B7  C7  D7"
      ]
     },
     "execution_count": 37,
     "metadata": {},
     "output_type": "execute_result"
    }
   ],
   "source": [
    "# Creating the right DataFrame\n",
    "right = pd.DataFrame({\n",
    "    'key': ['A0', 'A1', 'A2', 'A3'],\n",
    "    'B': ['B4', 'B5', 'B6', 'B7'],\n",
    "    'C': ['C4', 'C5', 'C6', 'C7'],\n",
    "    'D': ['D4', 'D5', 'D6', 'D7']\n",
    "}, index=[4, 5, 6, 7])\n",
    "\n",
    "right"
   ]
  },
  {
   "cell_type": "markdown",
   "id": "7cc9ca0b-5e90-4222-8579-51ad993fd4b3",
   "metadata": {
    "id": "7cc9ca0b-5e90-4222-8579-51ad993fd4b3"
   },
   "source": [
    "To perform an inner merge on the key column:"
   ]
  },
  {
   "cell_type": "code",
   "execution_count": 38,
   "id": "d12c09e7-03fa-499a-bceb-84e4f02c9c9a",
   "metadata": {
    "colab": {
     "base_uri": "https://localhost:8080/",
     "height": 175
    },
    "id": "d12c09e7-03fa-499a-bceb-84e4f02c9c9a",
    "outputId": "7058d051-79ee-4c46-c4a9-6a4eb1524cb8"
   },
   "outputs": [
    {
     "data": {
      "text/html": [
       "<div>\n",
       "<style scoped>\n",
       "    .dataframe tbody tr th:only-of-type {\n",
       "        vertical-align: middle;\n",
       "    }\n",
       "\n",
       "    .dataframe tbody tr th {\n",
       "        vertical-align: top;\n",
       "    }\n",
       "\n",
       "    .dataframe thead th {\n",
       "        text-align: right;\n",
       "    }\n",
       "</style>\n",
       "<table border=\"1\" class=\"dataframe\">\n",
       "  <thead>\n",
       "    <tr style=\"text-align: right;\">\n",
       "      <th></th>\n",
       "      <th>key</th>\n",
       "      <th>B_x</th>\n",
       "      <th>C_x</th>\n",
       "      <th>D_x</th>\n",
       "      <th>B_y</th>\n",
       "      <th>C_y</th>\n",
       "      <th>D_y</th>\n",
       "    </tr>\n",
       "  </thead>\n",
       "  <tbody>\n",
       "    <tr>\n",
       "      <th>0</th>\n",
       "      <td>A0</td>\n",
       "      <td>B0</td>\n",
       "      <td>C0</td>\n",
       "      <td>D0</td>\n",
       "      <td>B4</td>\n",
       "      <td>C4</td>\n",
       "      <td>D4</td>\n",
       "    </tr>\n",
       "    <tr>\n",
       "      <th>1</th>\n",
       "      <td>A1</td>\n",
       "      <td>B1</td>\n",
       "      <td>C1</td>\n",
       "      <td>D1</td>\n",
       "      <td>B5</td>\n",
       "      <td>C5</td>\n",
       "      <td>D5</td>\n",
       "    </tr>\n",
       "    <tr>\n",
       "      <th>2</th>\n",
       "      <td>A2</td>\n",
       "      <td>B2</td>\n",
       "      <td>C2</td>\n",
       "      <td>D2</td>\n",
       "      <td>B6</td>\n",
       "      <td>C6</td>\n",
       "      <td>D6</td>\n",
       "    </tr>\n",
       "    <tr>\n",
       "      <th>3</th>\n",
       "      <td>A3</td>\n",
       "      <td>B3</td>\n",
       "      <td>C3</td>\n",
       "      <td>D3</td>\n",
       "      <td>B7</td>\n",
       "      <td>C7</td>\n",
       "      <td>D7</td>\n",
       "    </tr>\n",
       "  </tbody>\n",
       "</table>\n",
       "</div>"
      ],
      "text/plain": [
       "  key B_x C_x D_x B_y C_y D_y\n",
       "0  A0  B0  C0  D0  B4  C4  D4\n",
       "1  A1  B1  C1  D1  B5  C5  D5\n",
       "2  A2  B2  C2  D2  B6  C6  D6\n",
       "3  A3  B3  C3  D3  B7  C7  D7"
      ]
     },
     "execution_count": 38,
     "metadata": {},
     "output_type": "execute_result"
    }
   ],
   "source": [
    "pd.merge(left, right, how='inner', on='key')"
   ]
  },
  {
   "cell_type": "markdown",
   "id": "a037117a-1b5d-4532-b3e6-7df740cbbb40",
   "metadata": {
    "id": "a037117a-1b5d-4532-b3e6-7df740cbbb40"
   },
   "source": [
    "## Data Input and Output\n",
    "\n",
    "We will explore how to read data from various file formats into Pandas DataFrames, perform basic data exploration, and save DataFrames back to files. We will cover reading CSV files, Excel files, and HTML content, and demonstrate how to save data to CSV and Excel files."
   ]
  },
  {
   "cell_type": "markdown",
   "id": "0c0bbdfc-0122-4bc2-9c0b-d09b31fe6049",
   "metadata": {
    "id": "0c0bbdfc-0122-4bc2-9c0b-d09b31fe6049"
   },
   "source": [
    "### Loading a CSV File\n",
    "\n",
    "We start by loading data from a CSV file using pd.read_csv.\n",
    "\n",
    "Use the file upload widget in Google Colab to upload your CSV file. This will allow you to select a file from your computer."
   ]
  },
  {
   "cell_type": "code",
   "execution_count": 39,
   "id": "534ebd8a-a933-40d3-9332-3cb0d800ba4f",
   "metadata": {
    "colab": {
     "base_uri": "https://localhost:8080/",
     "height": 480
    },
    "id": "534ebd8a-a933-40d3-9332-3cb0d800ba4f",
    "outputId": "fb781c24-28a4-46e3-9e80-6cfda55b5e86"
   },
   "outputs": [
    {
     "ename": "ModuleNotFoundError",
     "evalue": "No module named 'google'",
     "output_type": "error",
     "traceback": [
      "\u001b[0;31m---------------------------------------------------------------------------\u001b[0m",
      "\u001b[0;31mModuleNotFoundError\u001b[0m                       Traceback (most recent call last)",
      "Cell \u001b[0;32mIn[39], line 2\u001b[0m\n\u001b[1;32m      1\u001b[0m \u001b[38;5;66;03m# Upload CSV file\u001b[39;00m\n\u001b[0;32m----> 2\u001b[0m \u001b[38;5;28;01mfrom\u001b[39;00m \u001b[38;5;21;01mgoogle\u001b[39;00m\u001b[38;5;21;01m.\u001b[39;00m\u001b[38;5;21;01mcolab\u001b[39;00m \u001b[38;5;28;01mimport\u001b[39;00m files\n\u001b[1;32m      4\u001b[0m uploaded \u001b[38;5;241m=\u001b[39m files\u001b[38;5;241m.\u001b[39mupload()\n\u001b[1;32m      6\u001b[0m \u001b[38;5;66;03m# Loading the CSV file\u001b[39;00m\n",
      "\u001b[0;31mModuleNotFoundError\u001b[0m: No module named 'google'"
     ]
    }
   ],
   "source": [
    "# Upload CSV file\n",
    "from google.colab import files\n",
    "\n",
    "uploaded = files.upload()\n",
    "\n",
    "# Loading the CSV file\n",
    "load_csv = pd.read_csv('cars.csv')\n",
    "\n",
    "load_csv"
   ]
  },
  {
   "cell_type": "markdown",
   "id": "f6b53b7f-4ae9-4644-aa89-c922e7891b17",
   "metadata": {
    "id": "f6b53b7f-4ae9-4644-aa89-c922e7891b17"
   },
   "source": [
    "### DataFrame Shape\n",
    "\n",
    "To get the shape (number of rows and columns) of the DataFrame:"
   ]
  },
  {
   "cell_type": "code",
   "execution_count": null,
   "id": "29895159-e5bc-464b-aa83-1b7e2931d881",
   "metadata": {
    "colab": {
     "base_uri": "https://localhost:8080/"
    },
    "id": "29895159-e5bc-464b-aa83-1b7e2931d881",
    "outputId": "b695461d-fa77-46da-f6e1-4b4ca631ca82"
   },
   "outputs": [],
   "source": [
    "load_csv.shape"
   ]
  },
  {
   "cell_type": "markdown",
   "id": "7110f17d-ddf9-46df-aa7e-c164e61c4d26",
   "metadata": {
    "id": "7110f17d-ddf9-46df-aa7e-c164e61c4d26"
   },
   "source": [
    "### Viewing the First Few Rows\n",
    "\n",
    "To view the first five rows of the DataFrame (default) or specify the number of rows:"
   ]
  },
  {
   "cell_type": "code",
   "execution_count": 40,
   "id": "c5a5c24f-652b-4de8-9d3d-3986c0409ba9",
   "metadata": {
    "colab": {
     "base_uri": "https://localhost:8080/",
     "height": 144
    },
    "id": "c5a5c24f-652b-4de8-9d3d-3986c0409ba9",
    "outputId": "8922ff82-814a-4055-b53d-e305c03d22ca"
   },
   "outputs": [
    {
     "ename": "NameError",
     "evalue": "name 'load_csv' is not defined",
     "output_type": "error",
     "traceback": [
      "\u001b[0;31m---------------------------------------------------------------------------\u001b[0m",
      "\u001b[0;31mNameError\u001b[0m                                 Traceback (most recent call last)",
      "Cell \u001b[0;32mIn[40], line 1\u001b[0m\n\u001b[0;32m----> 1\u001b[0m load_csv\u001b[38;5;241m.\u001b[39mhead()\n\u001b[1;32m      2\u001b[0m load_csv\u001b[38;5;241m.\u001b[39mhead(\u001b[38;5;241m3\u001b[39m)\n",
      "\u001b[0;31mNameError\u001b[0m: name 'load_csv' is not defined"
     ]
    }
   ],
   "source": [
    "load_csv.head()\n",
    "load_csv.head(3)  # First three rows"
   ]
  },
  {
   "cell_type": "markdown",
   "id": "d778299f-368d-486f-9aa7-77a117b8fcec",
   "metadata": {
    "id": "d778299f-368d-486f-9aa7-77a117b8fcec"
   },
   "source": [
    "## Viewing the Last Few Rows\n",
    "\n",
    "To view the last five rows of the DataFrame:"
   ]
  },
  {
   "cell_type": "code",
   "execution_count": 41,
   "id": "19f3b77b-4519-4c75-9ab7-4c327296eaae",
   "metadata": {
    "colab": {
     "base_uri": "https://localhost:8080/",
     "height": 206
    },
    "id": "19f3b77b-4519-4c75-9ab7-4c327296eaae",
    "outputId": "642c3c3e-3552-427c-b98b-9d718334d409"
   },
   "outputs": [
    {
     "ename": "NameError",
     "evalue": "name 'load_csv' is not defined",
     "output_type": "error",
     "traceback": [
      "\u001b[0;31m---------------------------------------------------------------------------\u001b[0m",
      "\u001b[0;31mNameError\u001b[0m                                 Traceback (most recent call last)",
      "Cell \u001b[0;32mIn[41], line 1\u001b[0m\n\u001b[0;32m----> 1\u001b[0m load_csv\u001b[38;5;241m.\u001b[39mtail()\n",
      "\u001b[0;31mNameError\u001b[0m: name 'load_csv' is not defined"
     ]
    }
   ],
   "source": [
    "load_csv.tail()"
   ]
  },
  {
   "cell_type": "markdown",
   "id": "a6f0698a-e8b2-4fd3-9399-dc246c819be4",
   "metadata": {
    "id": "a6f0698a-e8b2-4fd3-9399-dc246c819be4"
   },
   "source": [
    "### Statistical Summary\n",
    "\n",
    "To get a statistical summary of the DataFrame:"
   ]
  },
  {
   "cell_type": "markdown",
   "id": "ba2405b4-47f1-4543-bbe6-c19244ba98cb",
   "metadata": {
    "id": "ba2405b4-47f1-4543-bbe6-c19244ba98cb"
   },
   "source": [
    "load_csv.describe()"
   ]
  },
  {
   "cell_type": "markdown",
   "id": "8036643f-0cd2-4f61-b578-61bb5142e899",
   "metadata": {
    "id": "8036643f-0cd2-4f61-b578-61bb5142e899"
   },
   "source": [
    "### Create a New DataFrame for the CSV"
   ]
  },
  {
   "cell_type": "code",
   "execution_count": 42,
   "id": "06d7c9d1-dcd4-4a47-8355-edd2a8bcc109",
   "metadata": {
    "colab": {
     "base_uri": "https://localhost:8080/"
    },
    "id": "06d7c9d1-dcd4-4a47-8355-edd2a8bcc109",
    "outputId": "db6abdfd-b964-47a2-ce03-ce1019228cf5"
   },
   "outputs": [
    {
     "ename": "NameError",
     "evalue": "name 'load_csv' is not defined",
     "output_type": "error",
     "traceback": [
      "\u001b[0;31m---------------------------------------------------------------------------\u001b[0m",
      "\u001b[0;31mNameError\u001b[0m                                 Traceback (most recent call last)",
      "Cell \u001b[0;32mIn[42], line 5\u001b[0m\n\u001b[1;32m      2\u001b[0m new_df \u001b[38;5;241m=\u001b[39m pd\u001b[38;5;241m.\u001b[39mDataFrame()\n\u001b[1;32m      4\u001b[0m \u001b[38;5;66;03m# Example: Copy specific columns from the original DataFrame\u001b[39;00m\n\u001b[0;32m----> 5\u001b[0m new_df[\u001b[38;5;124m'\u001b[39m\u001b[38;5;124mColumn1\u001b[39m\u001b[38;5;124m'\u001b[39m] \u001b[38;5;241m=\u001b[39m load_csv[\u001b[38;5;124m'\u001b[39m\u001b[38;5;124mmanufacturer\u001b[39m\u001b[38;5;124m'\u001b[39m]\n\u001b[1;32m      6\u001b[0m new_df[\u001b[38;5;124m'\u001b[39m\u001b[38;5;124mColumn2\u001b[39m\u001b[38;5;124m'\u001b[39m] \u001b[38;5;241m=\u001b[39m load_csv[\u001b[38;5;124m'\u001b[39m\u001b[38;5;124mmodel\u001b[39m\u001b[38;5;124m'\u001b[39m]\n\u001b[1;32m      8\u001b[0m \u001b[38;5;28mprint\u001b[39m(new_df\u001b[38;5;241m.\u001b[39mhead())\n",
      "\u001b[0;31mNameError\u001b[0m: name 'load_csv' is not defined"
     ]
    }
   ],
   "source": [
    "# Create a new DataFrame with specific columns and additional calculations\n",
    "new_df = pd.DataFrame()\n",
    "\n",
    "# Example: Copy specific columns from the original DataFrame\n",
    "new_df['Column1'] = load_csv['manufacturer']\n",
    "new_df['Column2'] = load_csv['model']\n",
    "\n",
    "print(new_df.head())"
   ]
  },
  {
   "cell_type": "markdown",
   "id": "a6ac9030-888b-47af-b5c9-75eeff9709b4",
   "metadata": {
    "id": "a6ac9030-888b-47af-b5c9-75eeff9709b4"
   },
   "source": [
    "### Loading an Excel File\n",
    "\n",
    "To load data from an Excel file:"
   ]
  },
  {
   "cell_type": "code",
   "execution_count": 43,
   "id": "8f15cdcf-7fd8-4054-ad70-749e4628fe87",
   "metadata": {
    "colab": {
     "base_uri": "https://localhost:8080/",
     "height": 480
    },
    "id": "8f15cdcf-7fd8-4054-ad70-749e4628fe87",
    "outputId": "eac173cd-7ca0-4d0d-f986-fea2d8a8f1c4"
   },
   "outputs": [
    {
     "ename": "ModuleNotFoundError",
     "evalue": "No module named 'google'",
     "output_type": "error",
     "traceback": [
      "\u001b[0;31m---------------------------------------------------------------------------\u001b[0m",
      "\u001b[0;31mModuleNotFoundError\u001b[0m                       Traceback (most recent call last)",
      "Cell \u001b[0;32mIn[43], line 2\u001b[0m\n\u001b[1;32m      1\u001b[0m \u001b[38;5;66;03m# Upload Excel file\u001b[39;00m\n\u001b[0;32m----> 2\u001b[0m \u001b[38;5;28;01mfrom\u001b[39;00m \u001b[38;5;21;01mgoogle\u001b[39;00m\u001b[38;5;21;01m.\u001b[39;00m\u001b[38;5;21;01mcolab\u001b[39;00m \u001b[38;5;28;01mimport\u001b[39;00m files\n\u001b[1;32m      4\u001b[0m uploaded \u001b[38;5;241m=\u001b[39m files\u001b[38;5;241m.\u001b[39mupload()\n\u001b[1;32m      6\u001b[0m \u001b[38;5;66;03m# Loading the Excel file\u001b[39;00m\n",
      "\u001b[0;31mModuleNotFoundError\u001b[0m: No module named 'google'"
     ]
    }
   ],
   "source": [
    "# Upload Excel file\n",
    "from google.colab import files\n",
    "\n",
    "uploaded = files.upload()\n",
    "\n",
    "# Loading the Excel file\n",
    "load_excel=pd.read_excel(\"cars.xlsx\", sheet_name='Sheet1')\n",
    "\n",
    "load_excel"
   ]
  },
  {
   "cell_type": "markdown",
   "id": "267f4f76-2c0e-44ac-906a-6220c3a58754",
   "metadata": {
    "id": "267f4f76-2c0e-44ac-906a-6220c3a58754"
   },
   "source": [
    "### Loading HTML Content\n",
    "\n",
    "To load data from an HTML table, we use pd.read_html."
   ]
  },
  {
   "cell_type": "code",
   "execution_count": 44,
   "id": "26fa1a0e-c735-4adf-ba74-ac8f585a4b4a",
   "metadata": {
    "colab": {
     "base_uri": "https://localhost:8080/"
    },
    "id": "26fa1a0e-c735-4adf-ba74-ac8f585a4b4a",
    "outputId": "f430ad94-2368-4a31-dfee-b2494cbcff83"
   },
   "outputs": [
    {
     "ename": "ImportError",
     "evalue": "Missing optional dependency 'lxml'.  Use pip or conda to install lxml.",
     "output_type": "error",
     "traceback": [
      "\u001b[0;31m---------------------------------------------------------------------------\u001b[0m",
      "\u001b[0;31mModuleNotFoundError\u001b[0m                       Traceback (most recent call last)",
      "File \u001b[0;32m~/Desktop/simple_project/env/lib/python3.12/site-packages/pandas/compat/_optional.py:135\u001b[0m, in \u001b[0;36mimport_optional_dependency\u001b[0;34m(name, extra, errors, min_version)\u001b[0m\n\u001b[1;32m    134\u001b[0m \u001b[38;5;28;01mtry\u001b[39;00m:\n\u001b[0;32m--> 135\u001b[0m     module \u001b[38;5;241m=\u001b[39m importlib\u001b[38;5;241m.\u001b[39mimport_module(name)\n\u001b[1;32m    136\u001b[0m \u001b[38;5;28;01mexcept\u001b[39;00m \u001b[38;5;167;01mImportError\u001b[39;00m:\n",
      "File \u001b[0;32m~/Desktop/simple_project/env/lib/python3.12/importlib/__init__.py:90\u001b[0m, in \u001b[0;36mimport_module\u001b[0;34m(name, package)\u001b[0m\n\u001b[1;32m     89\u001b[0m         level \u001b[38;5;241m+\u001b[39m\u001b[38;5;241m=\u001b[39m \u001b[38;5;241m1\u001b[39m\n\u001b[0;32m---> 90\u001b[0m \u001b[38;5;28;01mreturn\u001b[39;00m _bootstrap\u001b[38;5;241m.\u001b[39m_gcd_import(name[level:], package, level)\n",
      "File \u001b[0;32m<frozen importlib._bootstrap>:1387\u001b[0m, in \u001b[0;36m_gcd_import\u001b[0;34m(name, package, level)\u001b[0m\n",
      "File \u001b[0;32m<frozen importlib._bootstrap>:1360\u001b[0m, in \u001b[0;36m_find_and_load\u001b[0;34m(name, import_)\u001b[0m\n",
      "File \u001b[0;32m<frozen importlib._bootstrap>:1310\u001b[0m, in \u001b[0;36m_find_and_load_unlocked\u001b[0;34m(name, import_)\u001b[0m\n",
      "File \u001b[0;32m<frozen importlib._bootstrap>:488\u001b[0m, in \u001b[0;36m_call_with_frames_removed\u001b[0;34m(f, *args, **kwds)\u001b[0m\n",
      "File \u001b[0;32m<frozen importlib._bootstrap>:1387\u001b[0m, in \u001b[0;36m_gcd_import\u001b[0;34m(name, package, level)\u001b[0m\n",
      "File \u001b[0;32m<frozen importlib._bootstrap>:1360\u001b[0m, in \u001b[0;36m_find_and_load\u001b[0;34m(name, import_)\u001b[0m\n",
      "File \u001b[0;32m<frozen importlib._bootstrap>:1324\u001b[0m, in \u001b[0;36m_find_and_load_unlocked\u001b[0;34m(name, import_)\u001b[0m\n",
      "\u001b[0;31mModuleNotFoundError\u001b[0m: No module named 'lxml'",
      "\nDuring handling of the above exception, another exception occurred:\n",
      "\u001b[0;31mImportError\u001b[0m                               Traceback (most recent call last)",
      "Cell \u001b[0;32mIn[44], line 10\u001b[0m\n\u001b[1;32m      6\u001b[0m \u001b[38;5;28;01mimport\u001b[39;00m \u001b[38;5;21;01mssl\u001b[39;00m\n\u001b[1;32m      8\u001b[0m ssl\u001b[38;5;241m.\u001b[39m_create_default_https_context \u001b[38;5;241m=\u001b[39m ssl\u001b[38;5;241m.\u001b[39m_create_unverified_context\n\u001b[0;32m---> 10\u001b[0m load_html \u001b[38;5;241m=\u001b[39m pd\u001b[38;5;241m.\u001b[39mread_html(\u001b[38;5;124m\"\u001b[39m\u001b[38;5;124mhttps://www.must.ac.ke/kuccps-2019-admission-list-2/\u001b[39m\u001b[38;5;124m\"\u001b[39m)\n\u001b[1;32m     11\u001b[0m load_html\n",
      "File \u001b[0;32m~/Desktop/simple_project/env/lib/python3.12/site-packages/pandas/io/html.py:1240\u001b[0m, in \u001b[0;36mread_html\u001b[0;34m(io, match, flavor, header, index_col, skiprows, attrs, parse_dates, thousands, encoding, decimal, converters, na_values, keep_default_na, displayed_only, extract_links, dtype_backend, storage_options)\u001b[0m\n\u001b[1;32m   1224\u001b[0m \u001b[38;5;28;01mif\u001b[39;00m \u001b[38;5;28misinstance\u001b[39m(io, \u001b[38;5;28mstr\u001b[39m) \u001b[38;5;129;01mand\u001b[39;00m \u001b[38;5;129;01mnot\u001b[39;00m \u001b[38;5;28many\u001b[39m(\n\u001b[1;32m   1225\u001b[0m     [\n\u001b[1;32m   1226\u001b[0m         is_file_like(io),\n\u001b[0;32m   (...)\u001b[0m\n\u001b[1;32m   1230\u001b[0m     ]\n\u001b[1;32m   1231\u001b[0m ):\n\u001b[1;32m   1232\u001b[0m     warnings\u001b[38;5;241m.\u001b[39mwarn(\n\u001b[1;32m   1233\u001b[0m         \u001b[38;5;124m\"\u001b[39m\u001b[38;5;124mPassing literal html to \u001b[39m\u001b[38;5;124m'\u001b[39m\u001b[38;5;124mread_html\u001b[39m\u001b[38;5;124m'\u001b[39m\u001b[38;5;124m is deprecated and \u001b[39m\u001b[38;5;124m\"\u001b[39m\n\u001b[1;32m   1234\u001b[0m         \u001b[38;5;124m\"\u001b[39m\u001b[38;5;124mwill be removed in a future version. To read from a \u001b[39m\u001b[38;5;124m\"\u001b[39m\n\u001b[0;32m   (...)\u001b[0m\n\u001b[1;32m   1237\u001b[0m         stacklevel\u001b[38;5;241m=\u001b[39mfind_stack_level(),\n\u001b[1;32m   1238\u001b[0m     )\n\u001b[0;32m-> 1240\u001b[0m \u001b[38;5;28;01mreturn\u001b[39;00m _parse(\n\u001b[1;32m   1241\u001b[0m     flavor\u001b[38;5;241m=\u001b[39mflavor,\n\u001b[1;32m   1242\u001b[0m     io\u001b[38;5;241m=\u001b[39mio,\n\u001b[1;32m   1243\u001b[0m     match\u001b[38;5;241m=\u001b[39mmatch,\n\u001b[1;32m   1244\u001b[0m     header\u001b[38;5;241m=\u001b[39mheader,\n\u001b[1;32m   1245\u001b[0m     index_col\u001b[38;5;241m=\u001b[39mindex_col,\n\u001b[1;32m   1246\u001b[0m     skiprows\u001b[38;5;241m=\u001b[39mskiprows,\n\u001b[1;32m   1247\u001b[0m     parse_dates\u001b[38;5;241m=\u001b[39mparse_dates,\n\u001b[1;32m   1248\u001b[0m     thousands\u001b[38;5;241m=\u001b[39mthousands,\n\u001b[1;32m   1249\u001b[0m     attrs\u001b[38;5;241m=\u001b[39mattrs,\n\u001b[1;32m   1250\u001b[0m     encoding\u001b[38;5;241m=\u001b[39mencoding,\n\u001b[1;32m   1251\u001b[0m     decimal\u001b[38;5;241m=\u001b[39mdecimal,\n\u001b[1;32m   1252\u001b[0m     converters\u001b[38;5;241m=\u001b[39mconverters,\n\u001b[1;32m   1253\u001b[0m     na_values\u001b[38;5;241m=\u001b[39mna_values,\n\u001b[1;32m   1254\u001b[0m     keep_default_na\u001b[38;5;241m=\u001b[39mkeep_default_na,\n\u001b[1;32m   1255\u001b[0m     displayed_only\u001b[38;5;241m=\u001b[39mdisplayed_only,\n\u001b[1;32m   1256\u001b[0m     extract_links\u001b[38;5;241m=\u001b[39mextract_links,\n\u001b[1;32m   1257\u001b[0m     dtype_backend\u001b[38;5;241m=\u001b[39mdtype_backend,\n\u001b[1;32m   1258\u001b[0m     storage_options\u001b[38;5;241m=\u001b[39mstorage_options,\n\u001b[1;32m   1259\u001b[0m )\n",
      "File \u001b[0;32m~/Desktop/simple_project/env/lib/python3.12/site-packages/pandas/io/html.py:971\u001b[0m, in \u001b[0;36m_parse\u001b[0;34m(flavor, io, match, attrs, encoding, displayed_only, extract_links, storage_options, **kwargs)\u001b[0m\n\u001b[1;32m    969\u001b[0m retained \u001b[38;5;241m=\u001b[39m \u001b[38;5;28;01mNone\u001b[39;00m\n\u001b[1;32m    970\u001b[0m \u001b[38;5;28;01mfor\u001b[39;00m flav \u001b[38;5;129;01min\u001b[39;00m flavor:\n\u001b[0;32m--> 971\u001b[0m     parser \u001b[38;5;241m=\u001b[39m _parser_dispatch(flav)\n\u001b[1;32m    972\u001b[0m     p \u001b[38;5;241m=\u001b[39m parser(\n\u001b[1;32m    973\u001b[0m         io,\n\u001b[1;32m    974\u001b[0m         compiled_match,\n\u001b[0;32m   (...)\u001b[0m\n\u001b[1;32m    979\u001b[0m         storage_options,\n\u001b[1;32m    980\u001b[0m     )\n\u001b[1;32m    982\u001b[0m     \u001b[38;5;28;01mtry\u001b[39;00m:\n",
      "File \u001b[0;32m~/Desktop/simple_project/env/lib/python3.12/site-packages/pandas/io/html.py:918\u001b[0m, in \u001b[0;36m_parser_dispatch\u001b[0;34m(flavor)\u001b[0m\n\u001b[1;32m    916\u001b[0m     import_optional_dependency(\u001b[38;5;124m\"\u001b[39m\u001b[38;5;124mbs4\u001b[39m\u001b[38;5;124m\"\u001b[39m)\n\u001b[1;32m    917\u001b[0m \u001b[38;5;28;01melse\u001b[39;00m:\n\u001b[0;32m--> 918\u001b[0m     import_optional_dependency(\u001b[38;5;124m\"\u001b[39m\u001b[38;5;124mlxml.etree\u001b[39m\u001b[38;5;124m\"\u001b[39m)\n\u001b[1;32m    919\u001b[0m \u001b[38;5;28;01mreturn\u001b[39;00m _valid_parsers[flavor]\n",
      "File \u001b[0;32m~/Desktop/simple_project/env/lib/python3.12/site-packages/pandas/compat/_optional.py:138\u001b[0m, in \u001b[0;36mimport_optional_dependency\u001b[0;34m(name, extra, errors, min_version)\u001b[0m\n\u001b[1;32m    136\u001b[0m \u001b[38;5;28;01mexcept\u001b[39;00m \u001b[38;5;167;01mImportError\u001b[39;00m:\n\u001b[1;32m    137\u001b[0m     \u001b[38;5;28;01mif\u001b[39;00m errors \u001b[38;5;241m==\u001b[39m \u001b[38;5;124m\"\u001b[39m\u001b[38;5;124mraise\u001b[39m\u001b[38;5;124m\"\u001b[39m:\n\u001b[0;32m--> 138\u001b[0m         \u001b[38;5;28;01mraise\u001b[39;00m \u001b[38;5;167;01mImportError\u001b[39;00m(msg)\n\u001b[1;32m    139\u001b[0m     \u001b[38;5;28;01mreturn\u001b[39;00m \u001b[38;5;28;01mNone\u001b[39;00m\n\u001b[1;32m    141\u001b[0m \u001b[38;5;66;03m# Handle submodules: if we have submodule, grab parent module from sys.modules\u001b[39;00m\n",
      "\u001b[0;31mImportError\u001b[0m: Missing optional dependency 'lxml'.  Use pip or conda to install lxml."
     ]
    }
   ],
   "source": [
    "# A library for making HTTP requests to fetch content from the web.\n",
    "import requests\n",
    "#  A library for parsing HTML and XML documents.\n",
    "from bs4 import BeautifulSoup\n",
    "## Disable SSL verification\n",
    "import ssl\n",
    "\n",
    "ssl._create_default_https_context = ssl._create_unverified_context\n",
    "\n",
    "load_html = pd.read_html(\"https://www.must.ac.ke/kuccps-2019-admission-list-2/\")\n",
    "load_html"
   ]
  },
  {
   "cell_type": "markdown",
   "id": "73c341d1-ca0b-45bd-afee-2cfbd893acaf",
   "metadata": {
    "id": "73c341d1-ca0b-45bd-afee-2cfbd893acaf"
   },
   "source": [
    "### Handling Missing Data in Pandas\n",
    "\n",
    "In data analysis, missing data is a common issue that can significantly impact the results of your analysis. This section will cover various methods to handle missing data using Pandas, a powerful data manipulation library in Python."
   ]
  },
  {
   "cell_type": "markdown",
   "id": "afc19949-c1b6-4652-91c1-499a4d66216d",
   "metadata": {
    "id": "afc19949-c1b6-4652-91c1-499a4d66216d"
   },
   "source": [
    "### Identifying Missing Data"
   ]
  },
  {
   "cell_type": "code",
   "execution_count": null,
   "id": "788f43bb-acdd-4987-86d0-2b46a7acb399",
   "metadata": {
    "colab": {
     "base_uri": "https://localhost:8080/"
    },
    "id": "788f43bb-acdd-4987-86d0-2b46a7acb399",
    "outputId": "a299fc7e-e5d8-409e-9513-84c142f5eef2"
   },
   "outputs": [],
   "source": [
    "import pandas as pd\n",
    "import numpy as np\n",
    "\n",
    "# Create a sample DataFrame with missing values\n",
    "dataframe = pd.DataFrame({'A': [1, 2, np.nan], 'B': [5, np.nan, np.nan], 'C': [1, 2, 5]})\n",
    "print(dataframe)\n",
    "\n",
    "# Check for missing values\n",
    "print(dataframe.isnull())\n",
    "\n",
    "# Count of missing values per column\n",
    "print(dataframe.isnull().sum())\n",
    "\n",
    "# Total number of missing values\n",
    "print(dataframe.isnull().sum().sum())"
   ]
  },
  {
   "cell_type": "markdown",
   "id": "b25be55e-85d9-49aa-ac4e-97132021fcd8",
   "metadata": {
    "id": "b25be55e-85d9-49aa-ac4e-97132021fcd8"
   },
   "source": [
    "### Methods of Dealing with Missing Values"
   ]
  },
  {
   "cell_type": "markdown",
   "id": "12d692e0-5e39-4165-b178-e8ab607fc84c",
   "metadata": {
    "id": "12d692e0-5e39-4165-b178-e8ab607fc84c"
   },
   "source": [
    "#### 1 Dropping Null Values"
   ]
  },
  {
   "cell_type": "code",
   "execution_count": 45,
   "id": "e0bd392e-91fe-482c-a89d-6dc73f538863",
   "metadata": {
    "colab": {
     "base_uri": "https://localhost:8080/"
    },
    "id": "e0bd392e-91fe-482c-a89d-6dc73f538863",
    "outputId": "b9e054d2-09c0-4cc2-addb-32a2c1d64bbc"
   },
   "outputs": [
    {
     "ename": "NameError",
     "evalue": "name 'dataframe' is not defined",
     "output_type": "error",
     "traceback": [
      "\u001b[0;31m---------------------------------------------------------------------------\u001b[0m",
      "\u001b[0;31mNameError\u001b[0m                                 Traceback (most recent call last)",
      "Cell \u001b[0;32mIn[45], line 2\u001b[0m\n\u001b[1;32m      1\u001b[0m \u001b[38;5;66;03m# Dropping rows with any null values\u001b[39;00m\n\u001b[0;32m----> 2\u001b[0m \u001b[38;5;28mprint\u001b[39m(dataframe\u001b[38;5;241m.\u001b[39mdropna())\n\u001b[1;32m      4\u001b[0m \u001b[38;5;66;03m# Dropping columns with any null values\u001b[39;00m\n\u001b[1;32m      5\u001b[0m \u001b[38;5;28mprint\u001b[39m(dataframe\u001b[38;5;241m.\u001b[39mdropna(axis\u001b[38;5;241m=\u001b[39m\u001b[38;5;241m1\u001b[39m))\n",
      "\u001b[0;31mNameError\u001b[0m: name 'dataframe' is not defined"
     ]
    }
   ],
   "source": [
    "# Dropping rows with any null values\n",
    "print(dataframe.dropna())\n",
    "\n",
    "# Dropping columns with any null values\n",
    "print(dataframe.dropna(axis=1))\n",
    "\n",
    "# Dropping rows with at least 2 non-null values\n",
    "print(dataframe.dropna(thresh=2))\n",
    "\n",
    "# Dropping columns with at least 2 non-null values\n",
    "print(dataframe.dropna(thresh=2, axis=1))"
   ]
  },
  {
   "cell_type": "markdown",
   "id": "c05e6243-cf52-4957-a80e-85aa0b169b49",
   "metadata": {
    "id": "c05e6243-cf52-4957-a80e-85aa0b169b49"
   },
   "source": [
    "#### 2 Filling Null Values with a Specified Value"
   ]
  },
  {
   "cell_type": "code",
   "execution_count": 46,
   "id": "0d18e4e8-3c70-4c6e-8911-78f225e03ac6",
   "metadata": {
    "colab": {
     "base_uri": "https://localhost:8080/"
    },
    "id": "0d18e4e8-3c70-4c6e-8911-78f225e03ac6",
    "outputId": "643fbcda-9b8f-448a-f6c2-d8909761dcb1"
   },
   "outputs": [
    {
     "ename": "NameError",
     "evalue": "name 'dataframe' is not defined",
     "output_type": "error",
     "traceback": [
      "\u001b[0;31m---------------------------------------------------------------------------\u001b[0m",
      "\u001b[0;31mNameError\u001b[0m                                 Traceback (most recent call last)",
      "Cell \u001b[0;32mIn[46], line 2\u001b[0m\n\u001b[1;32m      1\u001b[0m \u001b[38;5;66;03m# Filling null values with a specified value\u001b[39;00m\n\u001b[0;32m----> 2\u001b[0m \u001b[38;5;28mprint\u001b[39m(dataframe\u001b[38;5;241m.\u001b[39mfillna(value\u001b[38;5;241m=\u001b[39m\u001b[38;5;241m0.5\u001b[39m))\n",
      "\u001b[0;31mNameError\u001b[0m: name 'dataframe' is not defined"
     ]
    }
   ],
   "source": [
    "# Filling null values with a specified value\n",
    "print(dataframe.fillna(value=0.5))"
   ]
  },
  {
   "cell_type": "markdown",
   "id": "c73fd2dd-6330-49b8-88d7-8b67e0c2f9d9",
   "metadata": {
    "id": "c73fd2dd-6330-49b8-88d7-8b67e0c2f9d9"
   },
   "source": [
    "#### 3 Replacing Null Values with Mean, Median, or Mode"
   ]
  },
  {
   "cell_type": "code",
   "execution_count": 47,
   "id": "dc42622f-fb86-4372-b9ee-c8f873a1933e",
   "metadata": {
    "id": "dc42622f-fb86-4372-b9ee-c8f873a1933e"
   },
   "outputs": [
    {
     "name": "stdout",
     "output_type": "stream",
     "text": [
      "     A    B  C\n",
      "0  1.0  5.0  1\n",
      "1  2.0  NaN  2\n",
      "2  1.5  NaN  5\n",
      "     A    B  C\n",
      "0  1.0  5.0  1\n",
      "1  2.0  2.0  2\n",
      "2  1.5  2.0  5\n",
      "     A    B  C\n",
      "0  1.0  5.0  1\n",
      "1  2.0  2.0  2\n",
      "2  1.5  2.0  5\n",
      "     A    B  C\n",
      "0  1.0  5.0  1\n",
      "1  2.0  2.0  2\n",
      "2  1.5  2.0  5\n"
     ]
    },
    {
     "name": "stderr",
     "output_type": "stream",
     "text": [
      "/tmp/ipykernel_34444/2543355825.py:5: FutureWarning: A value is trying to be set on a copy of a DataFrame or Series through chained assignment using an inplace method.\n",
      "The behavior will change in pandas 3.0. This inplace method will never work because the intermediate object on which we are setting values always behaves as a copy.\n",
      "\n",
      "For example, when doing 'df[col].method(value, inplace=True)', try using 'df.method({col: value}, inplace=True)' or df[col] = df[col].method(value) instead, to perform the operation inplace on the original object.\n",
      "\n",
      "\n",
      "  dataframe2['A'].fillna(value=dataframe2['A'].mean(), inplace=True)\n",
      "/tmp/ipykernel_34444/2543355825.py:9: FutureWarning: A value is trying to be set on a copy of a DataFrame or Series through chained assignment using an inplace method.\n",
      "The behavior will change in pandas 3.0. This inplace method will never work because the intermediate object on which we are setting values always behaves as a copy.\n",
      "\n",
      "For example, when doing 'df[col].method(value, inplace=True)', try using 'df.method({col: value}, inplace=True)' or df[col] = df[col].method(value) instead, to perform the operation inplace on the original object.\n",
      "\n",
      "\n",
      "  dataframe2['B'].fillna(value=2, inplace=True)\n",
      "/tmp/ipykernel_34444/2543355825.py:13: FutureWarning: A value is trying to be set on a copy of a DataFrame or Series through chained assignment using an inplace method.\n",
      "The behavior will change in pandas 3.0. This inplace method will never work because the intermediate object on which we are setting values always behaves as a copy.\n",
      "\n",
      "For example, when doing 'df[col].method(value, inplace=True)', try using 'df.method({col: value}, inplace=True)' or df[col] = df[col].method(value) instead, to perform the operation inplace on the original object.\n",
      "\n",
      "\n",
      "  dataframe2['A'].fillna(value=dataframe2['A'].median(), inplace=True)\n",
      "/tmp/ipykernel_34444/2543355825.py:17: FutureWarning: A value is trying to be set on a copy of a DataFrame or Series through chained assignment using an inplace method.\n",
      "The behavior will change in pandas 3.0. This inplace method will never work because the intermediate object on which we are setting values always behaves as a copy.\n",
      "\n",
      "For example, when doing 'df[col].method(value, inplace=True)', try using 'df.method({col: value}, inplace=True)' or df[col] = df[col].method(value) instead, to perform the operation inplace on the original object.\n",
      "\n",
      "\n",
      "  dataframe2['A'].fillna(value=dataframe2['A'].mode()[0], inplace=True)\n"
     ]
    }
   ],
   "source": [
    "# Sample DataFrame\n",
    "dataframe2 = pd.DataFrame({'A': [1, 2, np.nan], 'B': [5, np.nan, np.nan], 'C': [1, 2, 5]})\n",
    "\n",
    "# Replace null values with the mean\n",
    "dataframe2['A'].fillna(value=dataframe2['A'].mean(), inplace=True)\n",
    "print(dataframe2)\n",
    "\n",
    "# Fill null values with a specified value\n",
    "dataframe2['B'].fillna(value=2, inplace=True)\n",
    "print(dataframe2)\n",
    "\n",
    "# Replace null values with the median\n",
    "dataframe2['A'].fillna(value=dataframe2['A'].median(), inplace=True)\n",
    "print(dataframe2)\n",
    "\n",
    "# Replace null values with the mode\n",
    "dataframe2['A'].fillna(value=dataframe2['A'].mode()[0], inplace=True)\n",
    "print(dataframe2)"
   ]
  },
  {
   "cell_type": "code",
   "execution_count": 48,
   "id": "51889b3f-2d88-4413-b1c7-4acc15c4f2a6",
   "metadata": {
    "id": "51889b3f-2d88-4413-b1c7-4acc15c4f2a6"
   },
   "outputs": [
    {
     "ename": "SyntaxError",
     "evalue": "invalid syntax (1349951118.py, line 1)",
     "output_type": "error",
     "traceback": [
      "\u001b[0;36m  Cell \u001b[0;32mIn[48], line 1\u001b[0;36m\u001b[0m\n\u001b[0;31m    >>\u001b[0m\n\u001b[0m    ^\u001b[0m\n\u001b[0;31mSyntaxError\u001b[0m\u001b[0;31m:\u001b[0m invalid syntax\n"
     ]
    }
   ],
   "source": [
    ">>\n",
    "     A    B  C\n",
    "0  1.0  5.0  1\n",
    "1  2.0  NaN  2\n",
    "2  1.5  NaN  5\n",
    "     A    B  C\n",
    "0  1.0  5.0  1\n",
    "1  2.0  2.0  2\n",
    "2  1.5  2.0  5\n",
    "     A    B  C\n",
    "0  1.0  5.0  1\n",
    "1  2.0  2.0  2\n",
    "2  1.5  2.0  5\n",
    "     A    B  C\n",
    "0  1.0  5.0  1\n",
    "1  2.0  2.0  2\n",
    "2  1.5  2.0  5"
   ]
  },
  {
   "cell_type": "markdown",
   "id": "c8ed9ce2-1b01-40a1-81ff-f4197a8c32a2",
   "metadata": {
    "id": "c8ed9ce2-1b01-40a1-81ff-f4197a8c32a2"
   },
   "source": [
    "#### 4 Interpolating Missing Values"
   ]
  },
  {
   "cell_type": "code",
   "execution_count": null,
   "id": "8027f9b2-6737-4f69-9b9e-d0e67744904a",
   "metadata": {
    "id": "8027f9b2-6737-4f69-9b9e-d0e67744904a"
   },
   "outputs": [],
   "source": [
    "# Interpolating missing values linearly\n",
    "print(dataframe2.interpolate())\n",
    "\n",
    "# Interpolating missing values with a linear method\n",
    "dataframe3 = pd.DataFrame({'A': [1, 2, np.nan], 'B': [5, np.nan, np.nan], 'C': [1, 2, 5]})\n",
    "print(dataframe3.interpolate(method='linear', order=1))"
   ]
  },
  {
   "cell_type": "code",
   "execution_count": null,
   "id": "da3af50c-84cc-48ea-9eb8-a6e478e4684b",
   "metadata": {
    "id": "da3af50c-84cc-48ea-9eb8-a6e478e4684b"
   },
   "outputs": [],
   "source": [
    "     A    B  C\n",
    "0  1.0  4.0  7\n",
    "1  2.0  5.0  8\n",
    "2  3.0  6.0  9\n",
    "     A    B  C\n",
    "0  1.0  5.0  1\n",
    "1  2.0  5.0  2\n",
    "2  2.0  5.0  5"
   ]
  },
  {
   "cell_type": "markdown",
   "id": "6d7ba5d9-f491-440a-88e9-c5ad8e12fae5",
   "metadata": {
    "id": "6d7ba5d9-f491-440a-88e9-c5ad8e12fae5"
   },
   "source": [
    "#### 5 Forward and Backward Filling"
   ]
  },
  {
   "cell_type": "code",
   "execution_count": null,
   "id": "51d4cd3f-0a1e-4f39-8606-4968ebbe2877",
   "metadata": {
    "id": "51d4cd3f-0a1e-4f39-8606-4968ebbe2877"
   },
   "outputs": [],
   "source": [
    "# Forward filling (last known value)\n",
    "dataframe5 = dataframe3.ffill()\n",
    "print(dataframe5)\n",
    "\n",
    "# Backward filling (next known value)\n",
    "dataframe6 = dataframe3.bfill()\n",
    "print(dataframe6)"
   ]
  },
  {
   "cell_type": "markdown",
   "id": "668d1eb4-08e8-4031-af33-dc8cafc2a9b5",
   "metadata": {
    "id": "668d1eb4-08e8-4031-af33-dc8cafc2a9b5"
   },
   "source": [
    "     A    B  C\n",
    "0  1.0  5.0  1\n",
    "1  2.0  5.0  2\n",
    "2  2.0  5.0  5\n",
    "     A    B  C\n",
    "0  1.0  5.0  1\n",
    "1  2.0  NaN  2\n",
    "2  NaN  NaN  5"
   ]
  },
  {
   "cell_type": "markdown",
   "id": "36acd7f5-d7db-4730-ae24-e5e800569b1e",
   "metadata": {
    "id": "36acd7f5-d7db-4730-ae24-e5e800569b1e"
   },
   "source": [
    "# Excercices  "
   ]
  },
  {
   "cell_type": "markdown",
   "id": "b132d9e9-e7d2-4715-8cbb-153007eca990",
   "metadata": {
    "id": "b132d9e9-e7d2-4715-8cbb-153007eca990"
   },
   "source": [
    "## Exercice 1 : Creating and Modifying Series\n",
    "\n",
    "Create a Pandas Series from a dictionary where keys are ['a', 'b', 'c'] and values are [100, 200, 300]."
   ]
  },
  {
   "cell_type": "code",
   "execution_count": null,
   "id": "d3iGi89Tt3zs",
   "metadata": {
    "colab": {
     "base_uri": "https://localhost:8080/"
    },
    "id": "d3iGi89Tt3zs",
    "outputId": "f9a3dff9-b8a9-4238-8a2f-a3b22d89f7a4"
   },
   "outputs": [
    {
     "name": "stdout",
     "output_type": "stream",
     "text": [
      "a    100\n",
      "b    200\n",
      "c    300\n",
      "dtype: int64\n"
     ]
    }
   ],
   "source": [
    "import pandas as pd\n",
    "\n",
    "#define the dictionary\n",
    "data = {'a': 100, 'b': 200, 'c': 300}\n",
    "\n",
    "# Create a Pandas Series from the dictionary\n",
    "series = pd.Series(data)\n",
    "\n",
    "# Print the Series\n",
    "print(series)"
   ]
  },
  {
   "cell_type": "markdown",
   "id": "e281299b-4a99-4623-b56d-d61a473ad7e5",
   "metadata": {
    "id": "e281299b-4a99-4623-b56d-d61a473ad7e5"
   },
   "source": [
    "## Exercice 2 : Creating DataFrames"
   ]
  },
  {
   "cell_type": "markdown",
   "id": "93db13d8-0325-4e8c-854e-72f41d2daad2",
   "metadata": {
    "id": "93db13d8-0325-4e8c-854e-72f41d2daad2"
   },
   "source": [
    "Create a DataFrame from the following data:\n",
    "\n",
    "*   List item\n",
    "*   List item\n",
    "\n"
   ]
  },
  {
   "cell_type": "code",
   "execution_count": null,
   "id": "8d115c9e-aa8c-4a1f-8c69-4ab43d02004b",
   "metadata": {
    "id": "8d115c9e-aa8c-4a1f-8c69-4ab43d02004b"
   },
   "outputs": [],
   "source": [
    "   A  B  C\n",
    "0  1  2  3\n",
    "1  4  5  6\n",
    "2  7  8  9"
   ]
  },
  {
   "cell_type": "markdown",
   "id": "c65b5508-5e16-4ea9-ad9a-e9f1bb4c2a8b",
   "metadata": {
    "id": "c65b5508-5e16-4ea9-ad9a-e9f1bb4c2a8b"
   },
   "source": [
    "Modify the code to add a new column D with values [10, 11, 12].\n",
    "\n",
    "Drop column B from the DataFrame and display the result."
   ]
  },
  {
   "cell_type": "code",
   "execution_count": null,
   "id": "eJ4knBIJ3YUZ",
   "metadata": {
    "colab": {
     "base_uri": "https://localhost:8080/",
     "height": 164
    },
    "id": "eJ4knBIJ3YUZ",
    "outputId": "b1d1757a-588f-482c-c613-b013393aee7a"
   },
   "outputs": [
    {
     "data": {
      "application/vnd.google.colaboratory.intrinsic+json": {
       "summary": "{\n  \"name\": \"df\",\n  \"rows\": 3,\n  \"fields\": [\n    {\n      \"column\": \"A\",\n      \"properties\": {\n        \"dtype\": \"number\",\n        \"std\": 3,\n        \"min\": 1,\n        \"max\": 7,\n        \"num_unique_values\": 3,\n        \"samples\": [\n          1,\n          4,\n          7\n        ],\n        \"semantic_type\": \"\",\n        \"description\": \"\"\n      }\n    },\n    {\n      \"column\": \"B\",\n      \"properties\": {\n        \"dtype\": \"number\",\n        \"std\": 3,\n        \"min\": 2,\n        \"max\": 8,\n        \"num_unique_values\": 3,\n        \"samples\": [\n          2,\n          5,\n          8\n        ],\n        \"semantic_type\": \"\",\n        \"description\": \"\"\n      }\n    },\n    {\n      \"column\": \"C\",\n      \"properties\": {\n        \"dtype\": \"number\",\n        \"std\": 3,\n        \"min\": 3,\n        \"max\": 9,\n        \"num_unique_values\": 3,\n        \"samples\": [\n          3,\n          6,\n          9\n        ],\n        \"semantic_type\": \"\",\n        \"description\": \"\"\n      }\n    },\n    {\n      \"column\": \"D\",\n      \"properties\": {\n        \"dtype\": \"number\",\n        \"std\": 1,\n        \"min\": 10,\n        \"max\": 12,\n        \"num_unique_values\": 3,\n        \"samples\": [\n          10,\n          11,\n          12\n        ],\n        \"semantic_type\": \"\",\n        \"description\": \"\"\n      }\n    }\n  ]\n}",
       "type": "dataframe",
       "variable_name": "df"
      },
      "text/html": [
       "\n",
       "  <div id=\"df-30f3655e-2ad1-4dc7-afe1-0d62ac1966c1\" class=\"colab-df-container\">\n",
       "    <div>\n",
       "<style scoped>\n",
       "    .dataframe tbody tr th:only-of-type {\n",
       "        vertical-align: middle;\n",
       "    }\n",
       "\n",
       "    .dataframe tbody tr th {\n",
       "        vertical-align: top;\n",
       "    }\n",
       "\n",
       "    .dataframe thead th {\n",
       "        text-align: right;\n",
       "    }\n",
       "</style>\n",
       "<table border=\"1\" class=\"dataframe\">\n",
       "  <thead>\n",
       "    <tr style=\"text-align: right;\">\n",
       "      <th></th>\n",
       "      <th>A</th>\n",
       "      <th>B</th>\n",
       "      <th>C</th>\n",
       "      <th>D</th>\n",
       "    </tr>\n",
       "  </thead>\n",
       "  <tbody>\n",
       "    <tr>\n",
       "      <th>0</th>\n",
       "      <td>1</td>\n",
       "      <td>2</td>\n",
       "      <td>3</td>\n",
       "      <td>10</td>\n",
       "    </tr>\n",
       "    <tr>\n",
       "      <th>1</th>\n",
       "      <td>4</td>\n",
       "      <td>5</td>\n",
       "      <td>6</td>\n",
       "      <td>11</td>\n",
       "    </tr>\n",
       "    <tr>\n",
       "      <th>2</th>\n",
       "      <td>7</td>\n",
       "      <td>8</td>\n",
       "      <td>9</td>\n",
       "      <td>12</td>\n",
       "    </tr>\n",
       "  </tbody>\n",
       "</table>\n",
       "</div>\n",
       "    <div class=\"colab-df-buttons\">\n",
       "\n",
       "  <div class=\"colab-df-container\">\n",
       "    <button class=\"colab-df-convert\" onclick=\"convertToInteractive('df-30f3655e-2ad1-4dc7-afe1-0d62ac1966c1')\"\n",
       "            title=\"Convert this dataframe to an interactive table.\"\n",
       "            style=\"display:none;\">\n",
       "\n",
       "  <svg xmlns=\"http://www.w3.org/2000/svg\" height=\"24px\" viewBox=\"0 -960 960 960\">\n",
       "    <path d=\"M120-120v-720h720v720H120Zm60-500h600v-160H180v160Zm220 220h160v-160H400v160Zm0 220h160v-160H400v160ZM180-400h160v-160H180v160Zm440 0h160v-160H620v160ZM180-180h160v-160H180v160Zm440 0h160v-160H620v160Z\"/>\n",
       "  </svg>\n",
       "    </button>\n",
       "\n",
       "  <style>\n",
       "    .colab-df-container {\n",
       "      display:flex;\n",
       "      gap: 12px;\n",
       "    }\n",
       "\n",
       "    .colab-df-convert {\n",
       "      background-color: #E8F0FE;\n",
       "      border: none;\n",
       "      border-radius: 50%;\n",
       "      cursor: pointer;\n",
       "      display: none;\n",
       "      fill: #1967D2;\n",
       "      height: 32px;\n",
       "      padding: 0 0 0 0;\n",
       "      width: 32px;\n",
       "    }\n",
       "\n",
       "    .colab-df-convert:hover {\n",
       "      background-color: #E2EBFA;\n",
       "      box-shadow: 0px 1px 2px rgba(60, 64, 67, 0.3), 0px 1px 3px 1px rgba(60, 64, 67, 0.15);\n",
       "      fill: #174EA6;\n",
       "    }\n",
       "\n",
       "    .colab-df-buttons div {\n",
       "      margin-bottom: 4px;\n",
       "    }\n",
       "\n",
       "    [theme=dark] .colab-df-convert {\n",
       "      background-color: #3B4455;\n",
       "      fill: #D2E3FC;\n",
       "    }\n",
       "\n",
       "    [theme=dark] .colab-df-convert:hover {\n",
       "      background-color: #434B5C;\n",
       "      box-shadow: 0px 1px 3px 1px rgba(0, 0, 0, 0.15);\n",
       "      filter: drop-shadow(0px 1px 2px rgba(0, 0, 0, 0.3));\n",
       "      fill: #FFFFFF;\n",
       "    }\n",
       "  </style>\n",
       "\n",
       "    <script>\n",
       "      const buttonEl =\n",
       "        document.querySelector('#df-30f3655e-2ad1-4dc7-afe1-0d62ac1966c1 button.colab-df-convert');\n",
       "      buttonEl.style.display =\n",
       "        google.colab.kernel.accessAllowed ? 'block' : 'none';\n",
       "\n",
       "      async function convertToInteractive(key) {\n",
       "        const element = document.querySelector('#df-30f3655e-2ad1-4dc7-afe1-0d62ac1966c1');\n",
       "        const dataTable =\n",
       "          await google.colab.kernel.invokeFunction('convertToInteractive',\n",
       "                                                    [key], {});\n",
       "        if (!dataTable) return;\n",
       "\n",
       "        const docLinkHtml = 'Like what you see? Visit the ' +\n",
       "          '<a target=\"_blank\" href=https://colab.research.google.com/notebooks/data_table.ipynb>data table notebook</a>'\n",
       "          + ' to learn more about interactive tables.';\n",
       "        element.innerHTML = '';\n",
       "        dataTable['output_type'] = 'display_data';\n",
       "        await google.colab.output.renderOutput(dataTable, element);\n",
       "        const docLink = document.createElement('div');\n",
       "        docLink.innerHTML = docLinkHtml;\n",
       "        element.appendChild(docLink);\n",
       "      }\n",
       "    </script>\n",
       "  </div>\n",
       "\n",
       "\n",
       "<div id=\"df-457833a0-573c-45d6-a4bf-37fbd05c4f94\">\n",
       "  <button class=\"colab-df-quickchart\" onclick=\"quickchart('df-457833a0-573c-45d6-a4bf-37fbd05c4f94')\"\n",
       "            title=\"Suggest charts\"\n",
       "            style=\"display:none;\">\n",
       "\n",
       "<svg xmlns=\"http://www.w3.org/2000/svg\" height=\"24px\"viewBox=\"0 0 24 24\"\n",
       "     width=\"24px\">\n",
       "    <g>\n",
       "        <path d=\"M19 3H5c-1.1 0-2 .9-2 2v14c0 1.1.9 2 2 2h14c1.1 0 2-.9 2-2V5c0-1.1-.9-2-2-2zM9 17H7v-7h2v7zm4 0h-2V7h2v10zm4 0h-2v-4h2v4z\"/>\n",
       "    </g>\n",
       "</svg>\n",
       "  </button>\n",
       "\n",
       "<style>\n",
       "  .colab-df-quickchart {\n",
       "      --bg-color: #E8F0FE;\n",
       "      --fill-color: #1967D2;\n",
       "      --hover-bg-color: #E2EBFA;\n",
       "      --hover-fill-color: #174EA6;\n",
       "      --disabled-fill-color: #AAA;\n",
       "      --disabled-bg-color: #DDD;\n",
       "  }\n",
       "\n",
       "  [theme=dark] .colab-df-quickchart {\n",
       "      --bg-color: #3B4455;\n",
       "      --fill-color: #D2E3FC;\n",
       "      --hover-bg-color: #434B5C;\n",
       "      --hover-fill-color: #FFFFFF;\n",
       "      --disabled-bg-color: #3B4455;\n",
       "      --disabled-fill-color: #666;\n",
       "  }\n",
       "\n",
       "  .colab-df-quickchart {\n",
       "    background-color: var(--bg-color);\n",
       "    border: none;\n",
       "    border-radius: 50%;\n",
       "    cursor: pointer;\n",
       "    display: none;\n",
       "    fill: var(--fill-color);\n",
       "    height: 32px;\n",
       "    padding: 0;\n",
       "    width: 32px;\n",
       "  }\n",
       "\n",
       "  .colab-df-quickchart:hover {\n",
       "    background-color: var(--hover-bg-color);\n",
       "    box-shadow: 0 1px 2px rgba(60, 64, 67, 0.3), 0 1px 3px 1px rgba(60, 64, 67, 0.15);\n",
       "    fill: var(--button-hover-fill-color);\n",
       "  }\n",
       "\n",
       "  .colab-df-quickchart-complete:disabled,\n",
       "  .colab-df-quickchart-complete:disabled:hover {\n",
       "    background-color: var(--disabled-bg-color);\n",
       "    fill: var(--disabled-fill-color);\n",
       "    box-shadow: none;\n",
       "  }\n",
       "\n",
       "  .colab-df-spinner {\n",
       "    border: 2px solid var(--fill-color);\n",
       "    border-color: transparent;\n",
       "    border-bottom-color: var(--fill-color);\n",
       "    animation:\n",
       "      spin 1s steps(1) infinite;\n",
       "  }\n",
       "\n",
       "  @keyframes spin {\n",
       "    0% {\n",
       "      border-color: transparent;\n",
       "      border-bottom-color: var(--fill-color);\n",
       "      border-left-color: var(--fill-color);\n",
       "    }\n",
       "    20% {\n",
       "      border-color: transparent;\n",
       "      border-left-color: var(--fill-color);\n",
       "      border-top-color: var(--fill-color);\n",
       "    }\n",
       "    30% {\n",
       "      border-color: transparent;\n",
       "      border-left-color: var(--fill-color);\n",
       "      border-top-color: var(--fill-color);\n",
       "      border-right-color: var(--fill-color);\n",
       "    }\n",
       "    40% {\n",
       "      border-color: transparent;\n",
       "      border-right-color: var(--fill-color);\n",
       "      border-top-color: var(--fill-color);\n",
       "    }\n",
       "    60% {\n",
       "      border-color: transparent;\n",
       "      border-right-color: var(--fill-color);\n",
       "    }\n",
       "    80% {\n",
       "      border-color: transparent;\n",
       "      border-right-color: var(--fill-color);\n",
       "      border-bottom-color: var(--fill-color);\n",
       "    }\n",
       "    90% {\n",
       "      border-color: transparent;\n",
       "      border-bottom-color: var(--fill-color);\n",
       "    }\n",
       "  }\n",
       "</style>\n",
       "\n",
       "  <script>\n",
       "    async function quickchart(key) {\n",
       "      const quickchartButtonEl =\n",
       "        document.querySelector('#' + key + ' button');\n",
       "      quickchartButtonEl.disabled = true;  // To prevent multiple clicks.\n",
       "      quickchartButtonEl.classList.add('colab-df-spinner');\n",
       "      try {\n",
       "        const charts = await google.colab.kernel.invokeFunction(\n",
       "            'suggestCharts', [key], {});\n",
       "      } catch (error) {\n",
       "        console.error('Error during call to suggestCharts:', error);\n",
       "      }\n",
       "      quickchartButtonEl.classList.remove('colab-df-spinner');\n",
       "      quickchartButtonEl.classList.add('colab-df-quickchart-complete');\n",
       "    }\n",
       "    (() => {\n",
       "      let quickchartButtonEl =\n",
       "        document.querySelector('#df-457833a0-573c-45d6-a4bf-37fbd05c4f94 button');\n",
       "      quickchartButtonEl.style.display =\n",
       "        google.colab.kernel.accessAllowed ? 'block' : 'none';\n",
       "    })();\n",
       "  </script>\n",
       "</div>\n",
       "\n",
       "  <div id=\"id_dbff6af0-188d-42d1-85d2-5bdb07d479d2\">\n",
       "    <style>\n",
       "      .colab-df-generate {\n",
       "        background-color: #E8F0FE;\n",
       "        border: none;\n",
       "        border-radius: 50%;\n",
       "        cursor: pointer;\n",
       "        display: none;\n",
       "        fill: #1967D2;\n",
       "        height: 32px;\n",
       "        padding: 0 0 0 0;\n",
       "        width: 32px;\n",
       "      }\n",
       "\n",
       "      .colab-df-generate:hover {\n",
       "        background-color: #E2EBFA;\n",
       "        box-shadow: 0px 1px 2px rgba(60, 64, 67, 0.3), 0px 1px 3px 1px rgba(60, 64, 67, 0.15);\n",
       "        fill: #174EA6;\n",
       "      }\n",
       "\n",
       "      [theme=dark] .colab-df-generate {\n",
       "        background-color: #3B4455;\n",
       "        fill: #D2E3FC;\n",
       "      }\n",
       "\n",
       "      [theme=dark] .colab-df-generate:hover {\n",
       "        background-color: #434B5C;\n",
       "        box-shadow: 0px 1px 3px 1px rgba(0, 0, 0, 0.15);\n",
       "        filter: drop-shadow(0px 1px 2px rgba(0, 0, 0, 0.3));\n",
       "        fill: #FFFFFF;\n",
       "      }\n",
       "    </style>\n",
       "    <button class=\"colab-df-generate\" onclick=\"generateWithVariable('df')\"\n",
       "            title=\"Generate code using this dataframe.\"\n",
       "            style=\"display:none;\">\n",
       "\n",
       "  <svg xmlns=\"http://www.w3.org/2000/svg\" height=\"24px\"viewBox=\"0 0 24 24\"\n",
       "       width=\"24px\">\n",
       "    <path d=\"M7,19H8.4L18.45,9,17,7.55,7,17.6ZM5,21V16.75L18.45,3.32a2,2,0,0,1,2.83,0l1.4,1.43a1.91,1.91,0,0,1,.58,1.4,1.91,1.91,0,0,1-.58,1.4L9.25,21ZM18.45,9,17,7.55Zm-12,3A5.31,5.31,0,0,0,4.9,8.1,5.31,5.31,0,0,0,1,6.5,5.31,5.31,0,0,0,4.9,4.9,5.31,5.31,0,0,0,6.5,1,5.31,5.31,0,0,0,8.1,4.9,5.31,5.31,0,0,0,12,6.5,5.46,5.46,0,0,0,6.5,12Z\"/>\n",
       "  </svg>\n",
       "    </button>\n",
       "    <script>\n",
       "      (() => {\n",
       "      const buttonEl =\n",
       "        document.querySelector('#id_dbff6af0-188d-42d1-85d2-5bdb07d479d2 button.colab-df-generate');\n",
       "      buttonEl.style.display =\n",
       "        google.colab.kernel.accessAllowed ? 'block' : 'none';\n",
       "\n",
       "      buttonEl.onclick = () => {\n",
       "        google.colab.notebook.generateWithVariable('df');\n",
       "      }\n",
       "      })();\n",
       "    </script>\n",
       "  </div>\n",
       "\n",
       "    </div>\n",
       "  </div>\n"
      ],
      "text/plain": [
       "   A  B  C   D\n",
       "0  1  2  3  10\n",
       "1  4  5  6  11\n",
       "2  7  8  9  12"
      ]
     },
     "execution_count": 48,
     "metadata": {},
     "output_type": "execute_result"
    }
   ],
   "source": [
    "columns = ['A', 'B', 'C']\n",
    "data = [[1,2,3], [4,5,6], [7,8,9]]\n",
    "\n",
    "df = pd.DataFrame(data, columns=columns)\n",
    "\n",
    "# Add a new column 'D'\n",
    "df['D'] = [10, 11, 12]\n",
    "\n",
    "df"
   ]
  },
  {
   "cell_type": "code",
   "execution_count": null,
   "id": "6WIDBeTU4n0r",
   "metadata": {
    "colab": {
     "base_uri": "https://localhost:8080/"
    },
    "id": "6WIDBeTU4n0r",
    "outputId": "4f539d03-8720-44dc-ef62-df1436b7d094"
   },
   "outputs": [
    {
     "name": "stdout",
     "output_type": "stream",
     "text": [
      "   A  C   D\n",
      "0  1  3  10\n",
      "1  4  6  11\n",
      "2  7  9  12\n"
     ]
    }
   ],
   "source": [
    "# Drop column 'B'\n",
    "df = df.drop('B', axis=1)\n",
    "\n",
    "print(df)"
   ]
  },
  {
   "cell_type": "markdown",
   "id": "6b46e075-79c8-47eb-8e20-835f22ec5f63",
   "metadata": {
    "id": "6b46e075-79c8-47eb-8e20-835f22ec5f63"
   },
   "source": [
    "## Exercice 3 : DataFrame Indexing and Selection"
   ]
  },
  {
   "cell_type": "markdown",
   "id": "91c7c3a8-4173-4dc5-ba8a-f2f6c02137c7",
   "metadata": {
    "id": "91c7c3a8-4173-4dc5-ba8a-f2f6c02137c7"
   },
   "source": [
    "Select column B from the following DataFrame:"
   ]
  },
  {
   "cell_type": "code",
   "execution_count": null,
   "id": "9194aa8e-537e-470e-ab03-69ff9a37dd78",
   "metadata": {
    "id": "9194aa8e-537e-470e-ab03-69ff9a37dd78"
   },
   "outputs": [],
   "source": [
    "   A  B  C\n",
    "0  1  2  3\n",
    "1  4  5  6\n",
    "2  7  8  9"
   ]
  },
  {
   "cell_type": "markdown",
   "id": "0824bbb4-94cd-4aa7-b909-274159ec8613",
   "metadata": {
    "id": "0824bbb4-94cd-4aa7-b909-274159ec8613"
   },
   "source": [
    "Modify the code to select both columns A and C.\n",
    "\n",
    "Select the row with index 1 using the .loc method."
   ]
  },
  {
   "cell_type": "code",
   "execution_count": null,
   "id": "RuI-O99d6QKb",
   "metadata": {
    "colab": {
     "base_uri": "https://localhost:8080/"
    },
    "id": "RuI-O99d6QKb",
    "outputId": "c39aacb7-df94-4f27-efb0-5c68aa2be42a"
   },
   "outputs": [
    {
     "name": "stdout",
     "output_type": "stream",
     "text": [
      "0    2\n",
      "1    5\n",
      "2    8\n",
      "Name: B, dtype: int64\n"
     ]
    }
   ],
   "source": [
    "import pandas as pd\n",
    "\n",
    "data = [[1, 2, 3], [4, 5, 6], [7, 8, 9]]\n",
    "columns = ['A', 'B', 'C']\n",
    "\n",
    "df = pd.DataFrame(data, columns=columns)\n",
    "\n",
    "#  Select column B\n",
    "column_b = df['B']\n",
    "print(column_b)"
   ]
  },
  {
   "cell_type": "markdown",
   "id": "b4135276-a6b7-462e-bbf1-6da1b75a1c26",
   "metadata": {
    "id": "b4135276-a6b7-462e-bbf1-6da1b75a1c26"
   },
   "source": [
    "## Exercice 4 : Adding and Removing DataFrame Elements"
   ]
  },
  {
   "cell_type": "markdown",
   "id": "fde1473b-4988-4c32-b4cf-8c44b10cc84a",
   "metadata": {
    "id": "fde1473b-4988-4c32-b4cf-8c44b10cc84a"
   },
   "source": [
    "Add a new column Sum to the DataFrame which is the sum of columns A, B, and C.\n",
    "\n",
    "Remove the column Sum from the DataFrame.\n",
    "\n",
    "Add a column Random with random numbers generated using numpy."
   ]
  },
  {
   "cell_type": "code",
   "execution_count": null,
   "id": "vh_peTSW7QAl",
   "metadata": {
    "colab": {
     "base_uri": "https://localhost:8080/"
    },
    "id": "vh_peTSW7QAl",
    "outputId": "dc333cd9-ec6c-4f38-ca85-7d7e5d593a69"
   },
   "outputs": [
    {
     "name": "stdout",
     "output_type": "stream",
     "text": [
      "   A  B  C  Sum\n",
      "0  1  2  3    7\n",
      "1  4  5  6   16\n",
      "2  7  8  9   25\n"
     ]
    }
   ],
   "source": [
    "import pandas as pd\n",
    "\n",
    "data = [[1, 2, 3], [4, 5, 6], [7, 8, 9]]\n",
    "columns = ['A', 'B', 'C']\n",
    "\n",
    "df['Sum'] = df['B'] + df['B'] + df['C']\n",
    "\n",
    "print(df)"
   ]
  },
  {
   "cell_type": "code",
   "execution_count": null,
   "id": "kW1Cr5397_0u",
   "metadata": {
    "colab": {
     "base_uri": "https://localhost:8080/",
     "height": 164
    },
    "id": "kW1Cr5397_0u",
    "outputId": "2d2c7daa-f9ff-4c29-f395-459bc9a92465"
   },
   "outputs": [
    {
     "data": {
      "application/vnd.google.colaboratory.intrinsic+json": {
       "summary": "{\n  \"name\": \"df\",\n  \"rows\": 3,\n  \"fields\": [\n    {\n      \"column\": \"A\",\n      \"properties\": {\n        \"dtype\": \"number\",\n        \"std\": 3,\n        \"min\": 1,\n        \"max\": 7,\n        \"num_unique_values\": 3,\n        \"samples\": [\n          1,\n          4,\n          7\n        ],\n        \"semantic_type\": \"\",\n        \"description\": \"\"\n      }\n    },\n    {\n      \"column\": \"B\",\n      \"properties\": {\n        \"dtype\": \"number\",\n        \"std\": 3,\n        \"min\": 2,\n        \"max\": 8,\n        \"num_unique_values\": 3,\n        \"samples\": [\n          2,\n          5,\n          8\n        ],\n        \"semantic_type\": \"\",\n        \"description\": \"\"\n      }\n    },\n    {\n      \"column\": \"C\",\n      \"properties\": {\n        \"dtype\": \"number\",\n        \"std\": 3,\n        \"min\": 3,\n        \"max\": 9,\n        \"num_unique_values\": 3,\n        \"samples\": [\n          3,\n          6,\n          9\n        ],\n        \"semantic_type\": \"\",\n        \"description\": \"\"\n      }\n    }\n  ]\n}",
       "type": "dataframe",
       "variable_name": "df"
      },
      "text/html": [
       "\n",
       "  <div id=\"df-a601d2e0-9358-4858-81dd-16c6aacebc59\" class=\"colab-df-container\">\n",
       "    <div>\n",
       "<style scoped>\n",
       "    .dataframe tbody tr th:only-of-type {\n",
       "        vertical-align: middle;\n",
       "    }\n",
       "\n",
       "    .dataframe tbody tr th {\n",
       "        vertical-align: top;\n",
       "    }\n",
       "\n",
       "    .dataframe thead th {\n",
       "        text-align: right;\n",
       "    }\n",
       "</style>\n",
       "<table border=\"1\" class=\"dataframe\">\n",
       "  <thead>\n",
       "    <tr style=\"text-align: right;\">\n",
       "      <th></th>\n",
       "      <th>A</th>\n",
       "      <th>B</th>\n",
       "      <th>C</th>\n",
       "    </tr>\n",
       "  </thead>\n",
       "  <tbody>\n",
       "    <tr>\n",
       "      <th>0</th>\n",
       "      <td>1</td>\n",
       "      <td>2</td>\n",
       "      <td>3</td>\n",
       "    </tr>\n",
       "    <tr>\n",
       "      <th>1</th>\n",
       "      <td>4</td>\n",
       "      <td>5</td>\n",
       "      <td>6</td>\n",
       "    </tr>\n",
       "    <tr>\n",
       "      <th>2</th>\n",
       "      <td>7</td>\n",
       "      <td>8</td>\n",
       "      <td>9</td>\n",
       "    </tr>\n",
       "  </tbody>\n",
       "</table>\n",
       "</div>\n",
       "    <div class=\"colab-df-buttons\">\n",
       "\n",
       "  <div class=\"colab-df-container\">\n",
       "    <button class=\"colab-df-convert\" onclick=\"convertToInteractive('df-a601d2e0-9358-4858-81dd-16c6aacebc59')\"\n",
       "            title=\"Convert this dataframe to an interactive table.\"\n",
       "            style=\"display:none;\">\n",
       "\n",
       "  <svg xmlns=\"http://www.w3.org/2000/svg\" height=\"24px\" viewBox=\"0 -960 960 960\">\n",
       "    <path d=\"M120-120v-720h720v720H120Zm60-500h600v-160H180v160Zm220 220h160v-160H400v160Zm0 220h160v-160H400v160ZM180-400h160v-160H180v160Zm440 0h160v-160H620v160ZM180-180h160v-160H180v160Zm440 0h160v-160H620v160Z\"/>\n",
       "  </svg>\n",
       "    </button>\n",
       "\n",
       "  <style>\n",
       "    .colab-df-container {\n",
       "      display:flex;\n",
       "      gap: 12px;\n",
       "    }\n",
       "\n",
       "    .colab-df-convert {\n",
       "      background-color: #E8F0FE;\n",
       "      border: none;\n",
       "      border-radius: 50%;\n",
       "      cursor: pointer;\n",
       "      display: none;\n",
       "      fill: #1967D2;\n",
       "      height: 32px;\n",
       "      padding: 0 0 0 0;\n",
       "      width: 32px;\n",
       "    }\n",
       "\n",
       "    .colab-df-convert:hover {\n",
       "      background-color: #E2EBFA;\n",
       "      box-shadow: 0px 1px 2px rgba(60, 64, 67, 0.3), 0px 1px 3px 1px rgba(60, 64, 67, 0.15);\n",
       "      fill: #174EA6;\n",
       "    }\n",
       "\n",
       "    .colab-df-buttons div {\n",
       "      margin-bottom: 4px;\n",
       "    }\n",
       "\n",
       "    [theme=dark] .colab-df-convert {\n",
       "      background-color: #3B4455;\n",
       "      fill: #D2E3FC;\n",
       "    }\n",
       "\n",
       "    [theme=dark] .colab-df-convert:hover {\n",
       "      background-color: #434B5C;\n",
       "      box-shadow: 0px 1px 3px 1px rgba(0, 0, 0, 0.15);\n",
       "      filter: drop-shadow(0px 1px 2px rgba(0, 0, 0, 0.3));\n",
       "      fill: #FFFFFF;\n",
       "    }\n",
       "  </style>\n",
       "\n",
       "    <script>\n",
       "      const buttonEl =\n",
       "        document.querySelector('#df-a601d2e0-9358-4858-81dd-16c6aacebc59 button.colab-df-convert');\n",
       "      buttonEl.style.display =\n",
       "        google.colab.kernel.accessAllowed ? 'block' : 'none';\n",
       "\n",
       "      async function convertToInteractive(key) {\n",
       "        const element = document.querySelector('#df-a601d2e0-9358-4858-81dd-16c6aacebc59');\n",
       "        const dataTable =\n",
       "          await google.colab.kernel.invokeFunction('convertToInteractive',\n",
       "                                                    [key], {});\n",
       "        if (!dataTable) return;\n",
       "\n",
       "        const docLinkHtml = 'Like what you see? Visit the ' +\n",
       "          '<a target=\"_blank\" href=https://colab.research.google.com/notebooks/data_table.ipynb>data table notebook</a>'\n",
       "          + ' to learn more about interactive tables.';\n",
       "        element.innerHTML = '';\n",
       "        dataTable['output_type'] = 'display_data';\n",
       "        await google.colab.output.renderOutput(dataTable, element);\n",
       "        const docLink = document.createElement('div');\n",
       "        docLink.innerHTML = docLinkHtml;\n",
       "        element.appendChild(docLink);\n",
       "      }\n",
       "    </script>\n",
       "  </div>\n",
       "\n",
       "\n",
       "<div id=\"df-17a019b4-d6c5-4add-81b1-cfdf5ad26313\">\n",
       "  <button class=\"colab-df-quickchart\" onclick=\"quickchart('df-17a019b4-d6c5-4add-81b1-cfdf5ad26313')\"\n",
       "            title=\"Suggest charts\"\n",
       "            style=\"display:none;\">\n",
       "\n",
       "<svg xmlns=\"http://www.w3.org/2000/svg\" height=\"24px\"viewBox=\"0 0 24 24\"\n",
       "     width=\"24px\">\n",
       "    <g>\n",
       "        <path d=\"M19 3H5c-1.1 0-2 .9-2 2v14c0 1.1.9 2 2 2h14c1.1 0 2-.9 2-2V5c0-1.1-.9-2-2-2zM9 17H7v-7h2v7zm4 0h-2V7h2v10zm4 0h-2v-4h2v4z\"/>\n",
       "    </g>\n",
       "</svg>\n",
       "  </button>\n",
       "\n",
       "<style>\n",
       "  .colab-df-quickchart {\n",
       "      --bg-color: #E8F0FE;\n",
       "      --fill-color: #1967D2;\n",
       "      --hover-bg-color: #E2EBFA;\n",
       "      --hover-fill-color: #174EA6;\n",
       "      --disabled-fill-color: #AAA;\n",
       "      --disabled-bg-color: #DDD;\n",
       "  }\n",
       "\n",
       "  [theme=dark] .colab-df-quickchart {\n",
       "      --bg-color: #3B4455;\n",
       "      --fill-color: #D2E3FC;\n",
       "      --hover-bg-color: #434B5C;\n",
       "      --hover-fill-color: #FFFFFF;\n",
       "      --disabled-bg-color: #3B4455;\n",
       "      --disabled-fill-color: #666;\n",
       "  }\n",
       "\n",
       "  .colab-df-quickchart {\n",
       "    background-color: var(--bg-color);\n",
       "    border: none;\n",
       "    border-radius: 50%;\n",
       "    cursor: pointer;\n",
       "    display: none;\n",
       "    fill: var(--fill-color);\n",
       "    height: 32px;\n",
       "    padding: 0;\n",
       "    width: 32px;\n",
       "  }\n",
       "\n",
       "  .colab-df-quickchart:hover {\n",
       "    background-color: var(--hover-bg-color);\n",
       "    box-shadow: 0 1px 2px rgba(60, 64, 67, 0.3), 0 1px 3px 1px rgba(60, 64, 67, 0.15);\n",
       "    fill: var(--button-hover-fill-color);\n",
       "  }\n",
       "\n",
       "  .colab-df-quickchart-complete:disabled,\n",
       "  .colab-df-quickchart-complete:disabled:hover {\n",
       "    background-color: var(--disabled-bg-color);\n",
       "    fill: var(--disabled-fill-color);\n",
       "    box-shadow: none;\n",
       "  }\n",
       "\n",
       "  .colab-df-spinner {\n",
       "    border: 2px solid var(--fill-color);\n",
       "    border-color: transparent;\n",
       "    border-bottom-color: var(--fill-color);\n",
       "    animation:\n",
       "      spin 1s steps(1) infinite;\n",
       "  }\n",
       "\n",
       "  @keyframes spin {\n",
       "    0% {\n",
       "      border-color: transparent;\n",
       "      border-bottom-color: var(--fill-color);\n",
       "      border-left-color: var(--fill-color);\n",
       "    }\n",
       "    20% {\n",
       "      border-color: transparent;\n",
       "      border-left-color: var(--fill-color);\n",
       "      border-top-color: var(--fill-color);\n",
       "    }\n",
       "    30% {\n",
       "      border-color: transparent;\n",
       "      border-left-color: var(--fill-color);\n",
       "      border-top-color: var(--fill-color);\n",
       "      border-right-color: var(--fill-color);\n",
       "    }\n",
       "    40% {\n",
       "      border-color: transparent;\n",
       "      border-right-color: var(--fill-color);\n",
       "      border-top-color: var(--fill-color);\n",
       "    }\n",
       "    60% {\n",
       "      border-color: transparent;\n",
       "      border-right-color: var(--fill-color);\n",
       "    }\n",
       "    80% {\n",
       "      border-color: transparent;\n",
       "      border-right-color: var(--fill-color);\n",
       "      border-bottom-color: var(--fill-color);\n",
       "    }\n",
       "    90% {\n",
       "      border-color: transparent;\n",
       "      border-bottom-color: var(--fill-color);\n",
       "    }\n",
       "  }\n",
       "</style>\n",
       "\n",
       "  <script>\n",
       "    async function quickchart(key) {\n",
       "      const quickchartButtonEl =\n",
       "        document.querySelector('#' + key + ' button');\n",
       "      quickchartButtonEl.disabled = true;  // To prevent multiple clicks.\n",
       "      quickchartButtonEl.classList.add('colab-df-spinner');\n",
       "      try {\n",
       "        const charts = await google.colab.kernel.invokeFunction(\n",
       "            'suggestCharts', [key], {});\n",
       "      } catch (error) {\n",
       "        console.error('Error during call to suggestCharts:', error);\n",
       "      }\n",
       "      quickchartButtonEl.classList.remove('colab-df-spinner');\n",
       "      quickchartButtonEl.classList.add('colab-df-quickchart-complete');\n",
       "    }\n",
       "    (() => {\n",
       "      let quickchartButtonEl =\n",
       "        document.querySelector('#df-17a019b4-d6c5-4add-81b1-cfdf5ad26313 button');\n",
       "      quickchartButtonEl.style.display =\n",
       "        google.colab.kernel.accessAllowed ? 'block' : 'none';\n",
       "    })();\n",
       "  </script>\n",
       "</div>\n",
       "\n",
       "  <div id=\"id_9f3b1e54-7df9-47fe-a716-2d2f636db373\">\n",
       "    <style>\n",
       "      .colab-df-generate {\n",
       "        background-color: #E8F0FE;\n",
       "        border: none;\n",
       "        border-radius: 50%;\n",
       "        cursor: pointer;\n",
       "        display: none;\n",
       "        fill: #1967D2;\n",
       "        height: 32px;\n",
       "        padding: 0 0 0 0;\n",
       "        width: 32px;\n",
       "      }\n",
       "\n",
       "      .colab-df-generate:hover {\n",
       "        background-color: #E2EBFA;\n",
       "        box-shadow: 0px 1px 2px rgba(60, 64, 67, 0.3), 0px 1px 3px 1px rgba(60, 64, 67, 0.15);\n",
       "        fill: #174EA6;\n",
       "      }\n",
       "\n",
       "      [theme=dark] .colab-df-generate {\n",
       "        background-color: #3B4455;\n",
       "        fill: #D2E3FC;\n",
       "      }\n",
       "\n",
       "      [theme=dark] .colab-df-generate:hover {\n",
       "        background-color: #434B5C;\n",
       "        box-shadow: 0px 1px 3px 1px rgba(0, 0, 0, 0.15);\n",
       "        filter: drop-shadow(0px 1px 2px rgba(0, 0, 0, 0.3));\n",
       "        fill: #FFFFFF;\n",
       "      }\n",
       "    </style>\n",
       "    <button class=\"colab-df-generate\" onclick=\"generateWithVariable('df')\"\n",
       "            title=\"Generate code using this dataframe.\"\n",
       "            style=\"display:none;\">\n",
       "\n",
       "  <svg xmlns=\"http://www.w3.org/2000/svg\" height=\"24px\"viewBox=\"0 0 24 24\"\n",
       "       width=\"24px\">\n",
       "    <path d=\"M7,19H8.4L18.45,9,17,7.55,7,17.6ZM5,21V16.75L18.45,3.32a2,2,0,0,1,2.83,0l1.4,1.43a1.91,1.91,0,0,1,.58,1.4,1.91,1.91,0,0,1-.58,1.4L9.25,21ZM18.45,9,17,7.55Zm-12,3A5.31,5.31,0,0,0,4.9,8.1,5.31,5.31,0,0,0,1,6.5,5.31,5.31,0,0,0,4.9,4.9,5.31,5.31,0,0,0,6.5,1,5.31,5.31,0,0,0,8.1,4.9,5.31,5.31,0,0,0,12,6.5,5.46,5.46,0,0,0,6.5,12Z\"/>\n",
       "  </svg>\n",
       "    </button>\n",
       "    <script>\n",
       "      (() => {\n",
       "      const buttonEl =\n",
       "        document.querySelector('#id_9f3b1e54-7df9-47fe-a716-2d2f636db373 button.colab-df-generate');\n",
       "      buttonEl.style.display =\n",
       "        google.colab.kernel.accessAllowed ? 'block' : 'none';\n",
       "\n",
       "      buttonEl.onclick = () => {\n",
       "        google.colab.notebook.generateWithVariable('df');\n",
       "      }\n",
       "      })();\n",
       "    </script>\n",
       "  </div>\n",
       "\n",
       "    </div>\n",
       "  </div>\n"
      ],
      "text/plain": [
       "   A  B  C\n",
       "0  1  2  3\n",
       "1  4  5  6\n",
       "2  7  8  9"
      ]
     },
     "execution_count": 52,
     "metadata": {},
     "output_type": "execute_result"
    }
   ],
   "source": [
    "# Remove the column 'Sum'\n",
    "df = df.drop('Sum', axis=1)\n",
    "df"
   ]
  },
  {
   "cell_type": "code",
   "execution_count": null,
   "id": "CmjRmVxR83Qu",
   "metadata": {
    "colab": {
     "base_uri": "https://localhost:8080/"
    },
    "id": "CmjRmVxR83Qu",
    "outputId": "cb2786bf-8e5c-4216-b945-3b2a67437d7c"
   },
   "outputs": [
    {
     "name": "stdout",
     "output_type": "stream",
     "text": [
      "   A  B  C    Random\n",
      "0  1  2  3  0.402512\n",
      "1  4  5  6  0.241575\n",
      "2  7  8  9  0.282397\n"
     ]
    }
   ],
   "source": [
    "# Add a column 'Random' with random numbers\n",
    "df['Random'] = np.random.rand(len(df))\n",
    "\n",
    "print(df)"
   ]
  },
  {
   "cell_type": "markdown",
   "id": "ad332873-d168-4368-a8ad-c88771717923",
   "metadata": {
    "id": "ad332873-d168-4368-a8ad-c88771717923"
   },
   "source": [
    "## Exercice 5 : Merging DataFrames\n",
    "\n",
    "Merge the following two DataFrames on the key column:"
   ]
  },
  {
   "cell_type": "code",
   "execution_count": null,
   "id": "03803424-ca8e-4383-bf53-3df16d37ae5a",
   "metadata": {
    "colab": {
     "base_uri": "https://localhost:8080/",
     "height": 126
    },
    "id": "03803424-ca8e-4383-bf53-3df16d37ae5a",
    "outputId": "9f7ce404-5122-4ecd-97e0-7f20c2dcd565"
   },
   "outputs": [
    {
     "ename": "SyntaxError",
     "evalue": "invalid syntax (<ipython-input-54-c9a20a204b14>, line 1)",
     "output_type": "error",
     "traceback": [
      "\u001b[0;36m  File \u001b[0;32m\"<ipython-input-54-c9a20a204b14>\"\u001b[0;36m, line \u001b[0;32m1\u001b[0m\n\u001b[0;31m    left:\u001b[0m\n\u001b[0m         ^\u001b[0m\n\u001b[0;31mSyntaxError\u001b[0m\u001b[0;31m:\u001b[0m invalid syntax\n"
     ]
    }
   ],
   "source": [
    "left:\n",
    "   key  A  B\n",
    "0    1  A1  B1\n",
    "1    2  A2  B2\n",
    "2    3  A3  B3\n",
    "\n",
    "right:\n",
    "   key  C  D\n",
    "0    1  C1  D1\n",
    "1    2  C2  D2\n",
    "2    3  C3  D3"
   ]
  },
  {
   "cell_type": "markdown",
   "id": "7989c6b0-6a8a-48f7-915a-ea0f3d0d7e9a",
   "metadata": {
    "id": "7989c6b0-6a8a-48f7-915a-ea0f3d0d7e9a"
   },
   "source": [
    "Modify the merge to use an outer join instead of an inner join.\n",
    "\n",
    "Add a new column E to the right DataFrame and update the merge to include this new column."
   ]
  },
  {
   "cell_type": "code",
   "execution_count": null,
   "id": "lwHNndLw9Tg3",
   "metadata": {
    "colab": {
     "base_uri": "https://localhost:8080/"
    },
    "id": "lwHNndLw9Tg3",
    "outputId": "ff617201-f6b7-4c10-bb05-dc8f7ec8ea77"
   },
   "outputs": [
    {
     "name": "stdout",
     "output_type": "stream",
     "text": [
      "   key   A   B   C   D\n",
      "0    1  A1  B1  C1  D1\n",
      "1    2  A2  B2  C2  D2\n",
      "2    3  A3  B3  C3  D3\n"
     ]
    }
   ],
   "source": [
    "left = pd.DataFrame({'key': [1, 2, 3], 'A': ['A1', 'A2', 'A3'], 'B': ['B1', 'B2', 'B3']})\n",
    "right = pd.DataFrame({'key': [1, 2, 3], 'C': ['C1', 'C2', 'C3'], 'D': ['D1', 'D2', 'D3']})\n",
    "\n",
    "# merge the two DataFrames based on the 'key' column.\n",
    "merged_df = pd.merge(left, right, on='key', how='inner')\n",
    "\n",
    "print(merged_df)"
   ]
  },
  {
   "cell_type": "code",
   "execution_count": null,
   "id": "1XWTNsx292XZ",
   "metadata": {
    "colab": {
     "base_uri": "https://localhost:8080/",
     "height": 164
    },
    "id": "1XWTNsx292XZ",
    "outputId": "6580eae4-ef9b-4294-ee32-0c0a49420700"
   },
   "outputs": [
    {
     "data": {
      "application/vnd.google.colaboratory.intrinsic+json": {
       "summary": "{\n  \"name\": \"merged_df\",\n  \"rows\": 3,\n  \"fields\": [\n    {\n      \"column\": \"key\",\n      \"properties\": {\n        \"dtype\": \"number\",\n        \"std\": 1,\n        \"min\": 1,\n        \"max\": 3,\n        \"num_unique_values\": 3,\n        \"samples\": [\n          1,\n          2,\n          3\n        ],\n        \"semantic_type\": \"\",\n        \"description\": \"\"\n      }\n    },\n    {\n      \"column\": \"A\",\n      \"properties\": {\n        \"dtype\": \"string\",\n        \"num_unique_values\": 3,\n        \"samples\": [\n          \"A1\",\n          \"A2\",\n          \"A3\"\n        ],\n        \"semantic_type\": \"\",\n        \"description\": \"\"\n      }\n    },\n    {\n      \"column\": \"B\",\n      \"properties\": {\n        \"dtype\": \"string\",\n        \"num_unique_values\": 3,\n        \"samples\": [\n          \"B1\",\n          \"B2\",\n          \"B3\"\n        ],\n        \"semantic_type\": \"\",\n        \"description\": \"\"\n      }\n    },\n    {\n      \"column\": \"C\",\n      \"properties\": {\n        \"dtype\": \"string\",\n        \"num_unique_values\": 3,\n        \"samples\": [\n          \"C1\",\n          \"C2\",\n          \"C3\"\n        ],\n        \"semantic_type\": \"\",\n        \"description\": \"\"\n      }\n    },\n    {\n      \"column\": \"D\",\n      \"properties\": {\n        \"dtype\": \"string\",\n        \"num_unique_values\": 3,\n        \"samples\": [\n          \"D1\",\n          \"D2\",\n          \"D3\"\n        ],\n        \"semantic_type\": \"\",\n        \"description\": \"\"\n      }\n    }\n  ]\n}",
       "type": "dataframe",
       "variable_name": "merged_df"
      },
      "text/html": [
       "\n",
       "  <div id=\"df-38ad94d5-ce10-4b67-92b5-f4927ca81b2c\" class=\"colab-df-container\">\n",
       "    <div>\n",
       "<style scoped>\n",
       "    .dataframe tbody tr th:only-of-type {\n",
       "        vertical-align: middle;\n",
       "    }\n",
       "\n",
       "    .dataframe tbody tr th {\n",
       "        vertical-align: top;\n",
       "    }\n",
       "\n",
       "    .dataframe thead th {\n",
       "        text-align: right;\n",
       "    }\n",
       "</style>\n",
       "<table border=\"1\" class=\"dataframe\">\n",
       "  <thead>\n",
       "    <tr style=\"text-align: right;\">\n",
       "      <th></th>\n",
       "      <th>key</th>\n",
       "      <th>A</th>\n",
       "      <th>B</th>\n",
       "      <th>C</th>\n",
       "      <th>D</th>\n",
       "    </tr>\n",
       "  </thead>\n",
       "  <tbody>\n",
       "    <tr>\n",
       "      <th>0</th>\n",
       "      <td>1</td>\n",
       "      <td>A1</td>\n",
       "      <td>B1</td>\n",
       "      <td>C1</td>\n",
       "      <td>D1</td>\n",
       "    </tr>\n",
       "    <tr>\n",
       "      <th>1</th>\n",
       "      <td>2</td>\n",
       "      <td>A2</td>\n",
       "      <td>B2</td>\n",
       "      <td>C2</td>\n",
       "      <td>D2</td>\n",
       "    </tr>\n",
       "    <tr>\n",
       "      <th>2</th>\n",
       "      <td>3</td>\n",
       "      <td>A3</td>\n",
       "      <td>B3</td>\n",
       "      <td>C3</td>\n",
       "      <td>D3</td>\n",
       "    </tr>\n",
       "  </tbody>\n",
       "</table>\n",
       "</div>\n",
       "    <div class=\"colab-df-buttons\">\n",
       "\n",
       "  <div class=\"colab-df-container\">\n",
       "    <button class=\"colab-df-convert\" onclick=\"convertToInteractive('df-38ad94d5-ce10-4b67-92b5-f4927ca81b2c')\"\n",
       "            title=\"Convert this dataframe to an interactive table.\"\n",
       "            style=\"display:none;\">\n",
       "\n",
       "  <svg xmlns=\"http://www.w3.org/2000/svg\" height=\"24px\" viewBox=\"0 -960 960 960\">\n",
       "    <path d=\"M120-120v-720h720v720H120Zm60-500h600v-160H180v160Zm220 220h160v-160H400v160Zm0 220h160v-160H400v160ZM180-400h160v-160H180v160Zm440 0h160v-160H620v160ZM180-180h160v-160H180v160Zm440 0h160v-160H620v160Z\"/>\n",
       "  </svg>\n",
       "    </button>\n",
       "\n",
       "  <style>\n",
       "    .colab-df-container {\n",
       "      display:flex;\n",
       "      gap: 12px;\n",
       "    }\n",
       "\n",
       "    .colab-df-convert {\n",
       "      background-color: #E8F0FE;\n",
       "      border: none;\n",
       "      border-radius: 50%;\n",
       "      cursor: pointer;\n",
       "      display: none;\n",
       "      fill: #1967D2;\n",
       "      height: 32px;\n",
       "      padding: 0 0 0 0;\n",
       "      width: 32px;\n",
       "    }\n",
       "\n",
       "    .colab-df-convert:hover {\n",
       "      background-color: #E2EBFA;\n",
       "      box-shadow: 0px 1px 2px rgba(60, 64, 67, 0.3), 0px 1px 3px 1px rgba(60, 64, 67, 0.15);\n",
       "      fill: #174EA6;\n",
       "    }\n",
       "\n",
       "    .colab-df-buttons div {\n",
       "      margin-bottom: 4px;\n",
       "    }\n",
       "\n",
       "    [theme=dark] .colab-df-convert {\n",
       "      background-color: #3B4455;\n",
       "      fill: #D2E3FC;\n",
       "    }\n",
       "\n",
       "    [theme=dark] .colab-df-convert:hover {\n",
       "      background-color: #434B5C;\n",
       "      box-shadow: 0px 1px 3px 1px rgba(0, 0, 0, 0.15);\n",
       "      filter: drop-shadow(0px 1px 2px rgba(0, 0, 0, 0.3));\n",
       "      fill: #FFFFFF;\n",
       "    }\n",
       "  </style>\n",
       "\n",
       "    <script>\n",
       "      const buttonEl =\n",
       "        document.querySelector('#df-38ad94d5-ce10-4b67-92b5-f4927ca81b2c button.colab-df-convert');\n",
       "      buttonEl.style.display =\n",
       "        google.colab.kernel.accessAllowed ? 'block' : 'none';\n",
       "\n",
       "      async function convertToInteractive(key) {\n",
       "        const element = document.querySelector('#df-38ad94d5-ce10-4b67-92b5-f4927ca81b2c');\n",
       "        const dataTable =\n",
       "          await google.colab.kernel.invokeFunction('convertToInteractive',\n",
       "                                                    [key], {});\n",
       "        if (!dataTable) return;\n",
       "\n",
       "        const docLinkHtml = 'Like what you see? Visit the ' +\n",
       "          '<a target=\"_blank\" href=https://colab.research.google.com/notebooks/data_table.ipynb>data table notebook</a>'\n",
       "          + ' to learn more about interactive tables.';\n",
       "        element.innerHTML = '';\n",
       "        dataTable['output_type'] = 'display_data';\n",
       "        await google.colab.output.renderOutput(dataTable, element);\n",
       "        const docLink = document.createElement('div');\n",
       "        docLink.innerHTML = docLinkHtml;\n",
       "        element.appendChild(docLink);\n",
       "      }\n",
       "    </script>\n",
       "  </div>\n",
       "\n",
       "\n",
       "<div id=\"df-3b2834ab-7a8c-4057-999b-9668fac72d48\">\n",
       "  <button class=\"colab-df-quickchart\" onclick=\"quickchart('df-3b2834ab-7a8c-4057-999b-9668fac72d48')\"\n",
       "            title=\"Suggest charts\"\n",
       "            style=\"display:none;\">\n",
       "\n",
       "<svg xmlns=\"http://www.w3.org/2000/svg\" height=\"24px\"viewBox=\"0 0 24 24\"\n",
       "     width=\"24px\">\n",
       "    <g>\n",
       "        <path d=\"M19 3H5c-1.1 0-2 .9-2 2v14c0 1.1.9 2 2 2h14c1.1 0 2-.9 2-2V5c0-1.1-.9-2-2-2zM9 17H7v-7h2v7zm4 0h-2V7h2v10zm4 0h-2v-4h2v4z\"/>\n",
       "    </g>\n",
       "</svg>\n",
       "  </button>\n",
       "\n",
       "<style>\n",
       "  .colab-df-quickchart {\n",
       "      --bg-color: #E8F0FE;\n",
       "      --fill-color: #1967D2;\n",
       "      --hover-bg-color: #E2EBFA;\n",
       "      --hover-fill-color: #174EA6;\n",
       "      --disabled-fill-color: #AAA;\n",
       "      --disabled-bg-color: #DDD;\n",
       "  }\n",
       "\n",
       "  [theme=dark] .colab-df-quickchart {\n",
       "      --bg-color: #3B4455;\n",
       "      --fill-color: #D2E3FC;\n",
       "      --hover-bg-color: #434B5C;\n",
       "      --hover-fill-color: #FFFFFF;\n",
       "      --disabled-bg-color: #3B4455;\n",
       "      --disabled-fill-color: #666;\n",
       "  }\n",
       "\n",
       "  .colab-df-quickchart {\n",
       "    background-color: var(--bg-color);\n",
       "    border: none;\n",
       "    border-radius: 50%;\n",
       "    cursor: pointer;\n",
       "    display: none;\n",
       "    fill: var(--fill-color);\n",
       "    height: 32px;\n",
       "    padding: 0;\n",
       "    width: 32px;\n",
       "  }\n",
       "\n",
       "  .colab-df-quickchart:hover {\n",
       "    background-color: var(--hover-bg-color);\n",
       "    box-shadow: 0 1px 2px rgba(60, 64, 67, 0.3), 0 1px 3px 1px rgba(60, 64, 67, 0.15);\n",
       "    fill: var(--button-hover-fill-color);\n",
       "  }\n",
       "\n",
       "  .colab-df-quickchart-complete:disabled,\n",
       "  .colab-df-quickchart-complete:disabled:hover {\n",
       "    background-color: var(--disabled-bg-color);\n",
       "    fill: var(--disabled-fill-color);\n",
       "    box-shadow: none;\n",
       "  }\n",
       "\n",
       "  .colab-df-spinner {\n",
       "    border: 2px solid var(--fill-color);\n",
       "    border-color: transparent;\n",
       "    border-bottom-color: var(--fill-color);\n",
       "    animation:\n",
       "      spin 1s steps(1) infinite;\n",
       "  }\n",
       "\n",
       "  @keyframes spin {\n",
       "    0% {\n",
       "      border-color: transparent;\n",
       "      border-bottom-color: var(--fill-color);\n",
       "      border-left-color: var(--fill-color);\n",
       "    }\n",
       "    20% {\n",
       "      border-color: transparent;\n",
       "      border-left-color: var(--fill-color);\n",
       "      border-top-color: var(--fill-color);\n",
       "    }\n",
       "    30% {\n",
       "      border-color: transparent;\n",
       "      border-left-color: var(--fill-color);\n",
       "      border-top-color: var(--fill-color);\n",
       "      border-right-color: var(--fill-color);\n",
       "    }\n",
       "    40% {\n",
       "      border-color: transparent;\n",
       "      border-right-color: var(--fill-color);\n",
       "      border-top-color: var(--fill-color);\n",
       "    }\n",
       "    60% {\n",
       "      border-color: transparent;\n",
       "      border-right-color: var(--fill-color);\n",
       "    }\n",
       "    80% {\n",
       "      border-color: transparent;\n",
       "      border-right-color: var(--fill-color);\n",
       "      border-bottom-color: var(--fill-color);\n",
       "    }\n",
       "    90% {\n",
       "      border-color: transparent;\n",
       "      border-bottom-color: var(--fill-color);\n",
       "    }\n",
       "  }\n",
       "</style>\n",
       "\n",
       "  <script>\n",
       "    async function quickchart(key) {\n",
       "      const quickchartButtonEl =\n",
       "        document.querySelector('#' + key + ' button');\n",
       "      quickchartButtonEl.disabled = true;  // To prevent multiple clicks.\n",
       "      quickchartButtonEl.classList.add('colab-df-spinner');\n",
       "      try {\n",
       "        const charts = await google.colab.kernel.invokeFunction(\n",
       "            'suggestCharts', [key], {});\n",
       "      } catch (error) {\n",
       "        console.error('Error during call to suggestCharts:', error);\n",
       "      }\n",
       "      quickchartButtonEl.classList.remove('colab-df-spinner');\n",
       "      quickchartButtonEl.classList.add('colab-df-quickchart-complete');\n",
       "    }\n",
       "    (() => {\n",
       "      let quickchartButtonEl =\n",
       "        document.querySelector('#df-3b2834ab-7a8c-4057-999b-9668fac72d48 button');\n",
       "      quickchartButtonEl.style.display =\n",
       "        google.colab.kernel.accessAllowed ? 'block' : 'none';\n",
       "    })();\n",
       "  </script>\n",
       "</div>\n",
       "\n",
       "  <div id=\"id_80f12358-e28e-4461-b040-d7f912de4212\">\n",
       "    <style>\n",
       "      .colab-df-generate {\n",
       "        background-color: #E8F0FE;\n",
       "        border: none;\n",
       "        border-radius: 50%;\n",
       "        cursor: pointer;\n",
       "        display: none;\n",
       "        fill: #1967D2;\n",
       "        height: 32px;\n",
       "        padding: 0 0 0 0;\n",
       "        width: 32px;\n",
       "      }\n",
       "\n",
       "      .colab-df-generate:hover {\n",
       "        background-color: #E2EBFA;\n",
       "        box-shadow: 0px 1px 2px rgba(60, 64, 67, 0.3), 0px 1px 3px 1px rgba(60, 64, 67, 0.15);\n",
       "        fill: #174EA6;\n",
       "      }\n",
       "\n",
       "      [theme=dark] .colab-df-generate {\n",
       "        background-color: #3B4455;\n",
       "        fill: #D2E3FC;\n",
       "      }\n",
       "\n",
       "      [theme=dark] .colab-df-generate:hover {\n",
       "        background-color: #434B5C;\n",
       "        box-shadow: 0px 1px 3px 1px rgba(0, 0, 0, 0.15);\n",
       "        filter: drop-shadow(0px 1px 2px rgba(0, 0, 0, 0.3));\n",
       "        fill: #FFFFFF;\n",
       "      }\n",
       "    </style>\n",
       "    <button class=\"colab-df-generate\" onclick=\"generateWithVariable('merged_df')\"\n",
       "            title=\"Generate code using this dataframe.\"\n",
       "            style=\"display:none;\">\n",
       "\n",
       "  <svg xmlns=\"http://www.w3.org/2000/svg\" height=\"24px\"viewBox=\"0 0 24 24\"\n",
       "       width=\"24px\">\n",
       "    <path d=\"M7,19H8.4L18.45,9,17,7.55,7,17.6ZM5,21V16.75L18.45,3.32a2,2,0,0,1,2.83,0l1.4,1.43a1.91,1.91,0,0,1,.58,1.4,1.91,1.91,0,0,1-.58,1.4L9.25,21ZM18.45,9,17,7.55Zm-12,3A5.31,5.31,0,0,0,4.9,8.1,5.31,5.31,0,0,0,1,6.5,5.31,5.31,0,0,0,4.9,4.9,5.31,5.31,0,0,0,6.5,1,5.31,5.31,0,0,0,8.1,4.9,5.31,5.31,0,0,0,12,6.5,5.46,5.46,0,0,0,6.5,12Z\"/>\n",
       "  </svg>\n",
       "    </button>\n",
       "    <script>\n",
       "      (() => {\n",
       "      const buttonEl =\n",
       "        document.querySelector('#id_80f12358-e28e-4461-b040-d7f912de4212 button.colab-df-generate');\n",
       "      buttonEl.style.display =\n",
       "        google.colab.kernel.accessAllowed ? 'block' : 'none';\n",
       "\n",
       "      buttonEl.onclick = () => {\n",
       "        google.colab.notebook.generateWithVariable('merged_df');\n",
       "      }\n",
       "      })();\n",
       "    </script>\n",
       "  </div>\n",
       "\n",
       "    </div>\n",
       "  </div>\n"
      ],
      "text/plain": [
       "   key   A   B   C   D\n",
       "0    1  A1  B1  C1  D1\n",
       "1    2  A2  B2  C2  D2\n",
       "2    3  A3  B3  C3  D3"
      ]
     },
     "execution_count": 58,
     "metadata": {},
     "output_type": "execute_result"
    }
   ],
   "source": [
    "# Modify to use an outer join:\n",
    "merged_df = pd.merge(left, right, on='key', how='outer')\n",
    "merged_df"
   ]
  },
  {
   "cell_type": "code",
   "execution_count": null,
   "id": "caI0fGo5-B5b",
   "metadata": {
    "colab": {
     "base_uri": "https://localhost:8080/",
     "height": 164
    },
    "id": "caI0fGo5-B5b",
    "outputId": "fc06ef95-cc88-4e74-e5fd-fe4b7a99e92c"
   },
   "outputs": [
    {
     "data": {
      "application/vnd.google.colaboratory.intrinsic+json": {
       "summary": "{\n  \"name\": \"merged_df\",\n  \"rows\": 3,\n  \"fields\": [\n    {\n      \"column\": \"key\",\n      \"properties\": {\n        \"dtype\": \"number\",\n        \"std\": 1,\n        \"min\": 1,\n        \"max\": 3,\n        \"num_unique_values\": 3,\n        \"samples\": [\n          1,\n          2,\n          3\n        ],\n        \"semantic_type\": \"\",\n        \"description\": \"\"\n      }\n    },\n    {\n      \"column\": \"A\",\n      \"properties\": {\n        \"dtype\": \"string\",\n        \"num_unique_values\": 3,\n        \"samples\": [\n          \"A1\",\n          \"A2\",\n          \"A3\"\n        ],\n        \"semantic_type\": \"\",\n        \"description\": \"\"\n      }\n    },\n    {\n      \"column\": \"B\",\n      \"properties\": {\n        \"dtype\": \"string\",\n        \"num_unique_values\": 3,\n        \"samples\": [\n          \"B1\",\n          \"B2\",\n          \"B3\"\n        ],\n        \"semantic_type\": \"\",\n        \"description\": \"\"\n      }\n    },\n    {\n      \"column\": \"C\",\n      \"properties\": {\n        \"dtype\": \"string\",\n        \"num_unique_values\": 3,\n        \"samples\": [\n          \"C1\",\n          \"C2\",\n          \"C3\"\n        ],\n        \"semantic_type\": \"\",\n        \"description\": \"\"\n      }\n    },\n    {\n      \"column\": \"D\",\n      \"properties\": {\n        \"dtype\": \"string\",\n        \"num_unique_values\": 3,\n        \"samples\": [\n          \"D1\",\n          \"D2\",\n          \"D3\"\n        ],\n        \"semantic_type\": \"\",\n        \"description\": \"\"\n      }\n    },\n    {\n      \"column\": \"E\",\n      \"properties\": {\n        \"dtype\": \"string\",\n        \"num_unique_values\": 3,\n        \"samples\": [\n          \"E1\",\n          \"E2\",\n          \"E3\"\n        ],\n        \"semantic_type\": \"\",\n        \"description\": \"\"\n      }\n    }\n  ]\n}",
       "type": "dataframe",
       "variable_name": "merged_df"
      },
      "text/html": [
       "\n",
       "  <div id=\"df-35dc1301-520d-404f-a5bf-149ca9b1cd4c\" class=\"colab-df-container\">\n",
       "    <div>\n",
       "<style scoped>\n",
       "    .dataframe tbody tr th:only-of-type {\n",
       "        vertical-align: middle;\n",
       "    }\n",
       "\n",
       "    .dataframe tbody tr th {\n",
       "        vertical-align: top;\n",
       "    }\n",
       "\n",
       "    .dataframe thead th {\n",
       "        text-align: right;\n",
       "    }\n",
       "</style>\n",
       "<table border=\"1\" class=\"dataframe\">\n",
       "  <thead>\n",
       "    <tr style=\"text-align: right;\">\n",
       "      <th></th>\n",
       "      <th>key</th>\n",
       "      <th>A</th>\n",
       "      <th>B</th>\n",
       "      <th>C</th>\n",
       "      <th>D</th>\n",
       "      <th>E</th>\n",
       "    </tr>\n",
       "  </thead>\n",
       "  <tbody>\n",
       "    <tr>\n",
       "      <th>0</th>\n",
       "      <td>1</td>\n",
       "      <td>A1</td>\n",
       "      <td>B1</td>\n",
       "      <td>C1</td>\n",
       "      <td>D1</td>\n",
       "      <td>E1</td>\n",
       "    </tr>\n",
       "    <tr>\n",
       "      <th>1</th>\n",
       "      <td>2</td>\n",
       "      <td>A2</td>\n",
       "      <td>B2</td>\n",
       "      <td>C2</td>\n",
       "      <td>D2</td>\n",
       "      <td>E2</td>\n",
       "    </tr>\n",
       "    <tr>\n",
       "      <th>2</th>\n",
       "      <td>3</td>\n",
       "      <td>A3</td>\n",
       "      <td>B3</td>\n",
       "      <td>C3</td>\n",
       "      <td>D3</td>\n",
       "      <td>E3</td>\n",
       "    </tr>\n",
       "  </tbody>\n",
       "</table>\n",
       "</div>\n",
       "    <div class=\"colab-df-buttons\">\n",
       "\n",
       "  <div class=\"colab-df-container\">\n",
       "    <button class=\"colab-df-convert\" onclick=\"convertToInteractive('df-35dc1301-520d-404f-a5bf-149ca9b1cd4c')\"\n",
       "            title=\"Convert this dataframe to an interactive table.\"\n",
       "            style=\"display:none;\">\n",
       "\n",
       "  <svg xmlns=\"http://www.w3.org/2000/svg\" height=\"24px\" viewBox=\"0 -960 960 960\">\n",
       "    <path d=\"M120-120v-720h720v720H120Zm60-500h600v-160H180v160Zm220 220h160v-160H400v160Zm0 220h160v-160H400v160ZM180-400h160v-160H180v160Zm440 0h160v-160H620v160ZM180-180h160v-160H180v160Zm440 0h160v-160H620v160Z\"/>\n",
       "  </svg>\n",
       "    </button>\n",
       "\n",
       "  <style>\n",
       "    .colab-df-container {\n",
       "      display:flex;\n",
       "      gap: 12px;\n",
       "    }\n",
       "\n",
       "    .colab-df-convert {\n",
       "      background-color: #E8F0FE;\n",
       "      border: none;\n",
       "      border-radius: 50%;\n",
       "      cursor: pointer;\n",
       "      display: none;\n",
       "      fill: #1967D2;\n",
       "      height: 32px;\n",
       "      padding: 0 0 0 0;\n",
       "      width: 32px;\n",
       "    }\n",
       "\n",
       "    .colab-df-convert:hover {\n",
       "      background-color: #E2EBFA;\n",
       "      box-shadow: 0px 1px 2px rgba(60, 64, 67, 0.3), 0px 1px 3px 1px rgba(60, 64, 67, 0.15);\n",
       "      fill: #174EA6;\n",
       "    }\n",
       "\n",
       "    .colab-df-buttons div {\n",
       "      margin-bottom: 4px;\n",
       "    }\n",
       "\n",
       "    [theme=dark] .colab-df-convert {\n",
       "      background-color: #3B4455;\n",
       "      fill: #D2E3FC;\n",
       "    }\n",
       "\n",
       "    [theme=dark] .colab-df-convert:hover {\n",
       "      background-color: #434B5C;\n",
       "      box-shadow: 0px 1px 3px 1px rgba(0, 0, 0, 0.15);\n",
       "      filter: drop-shadow(0px 1px 2px rgba(0, 0, 0, 0.3));\n",
       "      fill: #FFFFFF;\n",
       "    }\n",
       "  </style>\n",
       "\n",
       "    <script>\n",
       "      const buttonEl =\n",
       "        document.querySelector('#df-35dc1301-520d-404f-a5bf-149ca9b1cd4c button.colab-df-convert');\n",
       "      buttonEl.style.display =\n",
       "        google.colab.kernel.accessAllowed ? 'block' : 'none';\n",
       "\n",
       "      async function convertToInteractive(key) {\n",
       "        const element = document.querySelector('#df-35dc1301-520d-404f-a5bf-149ca9b1cd4c');\n",
       "        const dataTable =\n",
       "          await google.colab.kernel.invokeFunction('convertToInteractive',\n",
       "                                                    [key], {});\n",
       "        if (!dataTable) return;\n",
       "\n",
       "        const docLinkHtml = 'Like what you see? Visit the ' +\n",
       "          '<a target=\"_blank\" href=https://colab.research.google.com/notebooks/data_table.ipynb>data table notebook</a>'\n",
       "          + ' to learn more about interactive tables.';\n",
       "        element.innerHTML = '';\n",
       "        dataTable['output_type'] = 'display_data';\n",
       "        await google.colab.output.renderOutput(dataTable, element);\n",
       "        const docLink = document.createElement('div');\n",
       "        docLink.innerHTML = docLinkHtml;\n",
       "        element.appendChild(docLink);\n",
       "      }\n",
       "    </script>\n",
       "  </div>\n",
       "\n",
       "\n",
       "<div id=\"df-2fc1a975-fdbe-4b28-8be6-9975604663bd\">\n",
       "  <button class=\"colab-df-quickchart\" onclick=\"quickchart('df-2fc1a975-fdbe-4b28-8be6-9975604663bd')\"\n",
       "            title=\"Suggest charts\"\n",
       "            style=\"display:none;\">\n",
       "\n",
       "<svg xmlns=\"http://www.w3.org/2000/svg\" height=\"24px\"viewBox=\"0 0 24 24\"\n",
       "     width=\"24px\">\n",
       "    <g>\n",
       "        <path d=\"M19 3H5c-1.1 0-2 .9-2 2v14c0 1.1.9 2 2 2h14c1.1 0 2-.9 2-2V5c0-1.1-.9-2-2-2zM9 17H7v-7h2v7zm4 0h-2V7h2v10zm4 0h-2v-4h2v4z\"/>\n",
       "    </g>\n",
       "</svg>\n",
       "  </button>\n",
       "\n",
       "<style>\n",
       "  .colab-df-quickchart {\n",
       "      --bg-color: #E8F0FE;\n",
       "      --fill-color: #1967D2;\n",
       "      --hover-bg-color: #E2EBFA;\n",
       "      --hover-fill-color: #174EA6;\n",
       "      --disabled-fill-color: #AAA;\n",
       "      --disabled-bg-color: #DDD;\n",
       "  }\n",
       "\n",
       "  [theme=dark] .colab-df-quickchart {\n",
       "      --bg-color: #3B4455;\n",
       "      --fill-color: #D2E3FC;\n",
       "      --hover-bg-color: #434B5C;\n",
       "      --hover-fill-color: #FFFFFF;\n",
       "      --disabled-bg-color: #3B4455;\n",
       "      --disabled-fill-color: #666;\n",
       "  }\n",
       "\n",
       "  .colab-df-quickchart {\n",
       "    background-color: var(--bg-color);\n",
       "    border: none;\n",
       "    border-radius: 50%;\n",
       "    cursor: pointer;\n",
       "    display: none;\n",
       "    fill: var(--fill-color);\n",
       "    height: 32px;\n",
       "    padding: 0;\n",
       "    width: 32px;\n",
       "  }\n",
       "\n",
       "  .colab-df-quickchart:hover {\n",
       "    background-color: var(--hover-bg-color);\n",
       "    box-shadow: 0 1px 2px rgba(60, 64, 67, 0.3), 0 1px 3px 1px rgba(60, 64, 67, 0.15);\n",
       "    fill: var(--button-hover-fill-color);\n",
       "  }\n",
       "\n",
       "  .colab-df-quickchart-complete:disabled,\n",
       "  .colab-df-quickchart-complete:disabled:hover {\n",
       "    background-color: var(--disabled-bg-color);\n",
       "    fill: var(--disabled-fill-color);\n",
       "    box-shadow: none;\n",
       "  }\n",
       "\n",
       "  .colab-df-spinner {\n",
       "    border: 2px solid var(--fill-color);\n",
       "    border-color: transparent;\n",
       "    border-bottom-color: var(--fill-color);\n",
       "    animation:\n",
       "      spin 1s steps(1) infinite;\n",
       "  }\n",
       "\n",
       "  @keyframes spin {\n",
       "    0% {\n",
       "      border-color: transparent;\n",
       "      border-bottom-color: var(--fill-color);\n",
       "      border-left-color: var(--fill-color);\n",
       "    }\n",
       "    20% {\n",
       "      border-color: transparent;\n",
       "      border-left-color: var(--fill-color);\n",
       "      border-top-color: var(--fill-color);\n",
       "    }\n",
       "    30% {\n",
       "      border-color: transparent;\n",
       "      border-left-color: var(--fill-color);\n",
       "      border-top-color: var(--fill-color);\n",
       "      border-right-color: var(--fill-color);\n",
       "    }\n",
       "    40% {\n",
       "      border-color: transparent;\n",
       "      border-right-color: var(--fill-color);\n",
       "      border-top-color: var(--fill-color);\n",
       "    }\n",
       "    60% {\n",
       "      border-color: transparent;\n",
       "      border-right-color: var(--fill-color);\n",
       "    }\n",
       "    80% {\n",
       "      border-color: transparent;\n",
       "      border-right-color: var(--fill-color);\n",
       "      border-bottom-color: var(--fill-color);\n",
       "    }\n",
       "    90% {\n",
       "      border-color: transparent;\n",
       "      border-bottom-color: var(--fill-color);\n",
       "    }\n",
       "  }\n",
       "</style>\n",
       "\n",
       "  <script>\n",
       "    async function quickchart(key) {\n",
       "      const quickchartButtonEl =\n",
       "        document.querySelector('#' + key + ' button');\n",
       "      quickchartButtonEl.disabled = true;  // To prevent multiple clicks.\n",
       "      quickchartButtonEl.classList.add('colab-df-spinner');\n",
       "      try {\n",
       "        const charts = await google.colab.kernel.invokeFunction(\n",
       "            'suggestCharts', [key], {});\n",
       "      } catch (error) {\n",
       "        console.error('Error during call to suggestCharts:', error);\n",
       "      }\n",
       "      quickchartButtonEl.classList.remove('colab-df-spinner');\n",
       "      quickchartButtonEl.classList.add('colab-df-quickchart-complete');\n",
       "    }\n",
       "    (() => {\n",
       "      let quickchartButtonEl =\n",
       "        document.querySelector('#df-2fc1a975-fdbe-4b28-8be6-9975604663bd button');\n",
       "      quickchartButtonEl.style.display =\n",
       "        google.colab.kernel.accessAllowed ? 'block' : 'none';\n",
       "    })();\n",
       "  </script>\n",
       "</div>\n",
       "\n",
       "  <div id=\"id_fae2568c-dda5-4b89-9ce8-5ddc57618188\">\n",
       "    <style>\n",
       "      .colab-df-generate {\n",
       "        background-color: #E8F0FE;\n",
       "        border: none;\n",
       "        border-radius: 50%;\n",
       "        cursor: pointer;\n",
       "        display: none;\n",
       "        fill: #1967D2;\n",
       "        height: 32px;\n",
       "        padding: 0 0 0 0;\n",
       "        width: 32px;\n",
       "      }\n",
       "\n",
       "      .colab-df-generate:hover {\n",
       "        background-color: #E2EBFA;\n",
       "        box-shadow: 0px 1px 2px rgba(60, 64, 67, 0.3), 0px 1px 3px 1px rgba(60, 64, 67, 0.15);\n",
       "        fill: #174EA6;\n",
       "      }\n",
       "\n",
       "      [theme=dark] .colab-df-generate {\n",
       "        background-color: #3B4455;\n",
       "        fill: #D2E3FC;\n",
       "      }\n",
       "\n",
       "      [theme=dark] .colab-df-generate:hover {\n",
       "        background-color: #434B5C;\n",
       "        box-shadow: 0px 1px 3px 1px rgba(0, 0, 0, 0.15);\n",
       "        filter: drop-shadow(0px 1px 2px rgba(0, 0, 0, 0.3));\n",
       "        fill: #FFFFFF;\n",
       "      }\n",
       "    </style>\n",
       "    <button class=\"colab-df-generate\" onclick=\"generateWithVariable('merged_df')\"\n",
       "            title=\"Generate code using this dataframe.\"\n",
       "            style=\"display:none;\">\n",
       "\n",
       "  <svg xmlns=\"http://www.w3.org/2000/svg\" height=\"24px\"viewBox=\"0 0 24 24\"\n",
       "       width=\"24px\">\n",
       "    <path d=\"M7,19H8.4L18.45,9,17,7.55,7,17.6ZM5,21V16.75L18.45,3.32a2,2,0,0,1,2.83,0l1.4,1.43a1.91,1.91,0,0,1,.58,1.4,1.91,1.91,0,0,1-.58,1.4L9.25,21ZM18.45,9,17,7.55Zm-12,3A5.31,5.31,0,0,0,4.9,8.1,5.31,5.31,0,0,0,1,6.5,5.31,5.31,0,0,0,4.9,4.9,5.31,5.31,0,0,0,6.5,1,5.31,5.31,0,0,0,8.1,4.9,5.31,5.31,0,0,0,12,6.5,5.46,5.46,0,0,0,6.5,12Z\"/>\n",
       "  </svg>\n",
       "    </button>\n",
       "    <script>\n",
       "      (() => {\n",
       "      const buttonEl =\n",
       "        document.querySelector('#id_fae2568c-dda5-4b89-9ce8-5ddc57618188 button.colab-df-generate');\n",
       "      buttonEl.style.display =\n",
       "        google.colab.kernel.accessAllowed ? 'block' : 'none';\n",
       "\n",
       "      buttonEl.onclick = () => {\n",
       "        google.colab.notebook.generateWithVariable('merged_df');\n",
       "      }\n",
       "      })();\n",
       "    </script>\n",
       "  </div>\n",
       "\n",
       "    </div>\n",
       "  </div>\n"
      ],
      "text/plain": [
       "   key   A   B   C   D   E\n",
       "0    1  A1  B1  C1  D1  E1\n",
       "1    2  A2  B2  C2  D2  E2\n",
       "2    3  A3  B3  C3  D3  E3"
      ]
     },
     "execution_count": 59,
     "metadata": {},
     "output_type": "execute_result"
    }
   ],
   "source": [
    "# Add column 'E' to the right DataFrame\n",
    "right['E'] = ['E1', 'E2', 'E3']\n",
    "merged_df = pd.merge(left, right, on='key', how='outer')\n",
    "merged_df"
   ]
  },
  {
   "cell_type": "markdown",
   "id": "e17a8ae3-1408-499b-b8eb-72bdecfa19ee",
   "metadata": {
    "id": "e17a8ae3-1408-499b-b8eb-72bdecfa19ee"
   },
   "source": [
    "## Exercice 6 : Data Cleaning\n",
    "\n",
    "Replace all NaN values in the following DataFrame with the value 0:"
   ]
  },
  {
   "cell_type": "code",
   "execution_count": null,
   "id": "4f582db3-a277-4cc1-9496-6e88a783c11a",
   "metadata": {
    "colab": {
     "base_uri": "https://localhost:8080/",
     "height": 126
    },
    "id": "4f582db3-a277-4cc1-9496-6e88a783c11a",
    "outputId": "a5d06972-cfc7-4afb-c92b-805bf95870a5"
   },
   "outputs": [
    {
     "ename": "SyntaxError",
     "evalue": "invalid syntax (<ipython-input-60-1cf422de800f>, line 1)",
     "output_type": "error",
     "traceback": [
      "\u001b[0;36m  File \u001b[0;32m\"<ipython-input-60-1cf422de800f>\"\u001b[0;36m, line \u001b[0;32m1\u001b[0m\n\u001b[0;31m    A    B    C\u001b[0m\n\u001b[0m         ^\u001b[0m\n\u001b[0;31mSyntaxError\u001b[0m\u001b[0;31m:\u001b[0m invalid syntax\n"
     ]
    }
   ],
   "source": [
    "   A    B    C\n",
    "0  1.0  NaN  3.0\n",
    "1  NaN  5.0  6.0\n",
    "2  7.0  8.0  NaN"
   ]
  },
  {
   "cell_type": "markdown",
   "id": "5820e6c3-57e1-4efa-b79c-4e54bed24909",
   "metadata": {
    "id": "5820e6c3-57e1-4efa-b79c-4e54bed24909"
   },
   "source": [
    "Modify the code to replace NaN values with the mean of the column.\n",
    "\n",
    "Drop rows where any value is NaN."
   ]
  },
  {
   "cell_type": "code",
   "execution_count": null,
   "id": "w8RNDwHqXRAK",
   "metadata": {
    "colab": {
     "base_uri": "https://localhost:8080/"
    },
    "id": "w8RNDwHqXRAK",
    "outputId": "90b3a647-7c6b-47fb-b09b-da91f7a180d4"
   },
   "outputs": [
    {
     "name": "stdout",
     "output_type": "stream",
     "text": [
      "     A    B    C\n",
      "0  1.0  0.0  3.0\n",
      "1  0.0  5.0  6.0\n",
      "2  7.0  8.0  0.0\n"
     ]
    }
   ],
   "source": [
    "import numpy as np\n",
    "import pandas as pd\n",
    "\n",
    "data = [[1.0, np.nan, 3.0], [np.nan, 5.0, 6.0], [7.0, 8.0, np.nan]]\n",
    "columns = ['A', 'B', 'C']\n",
    "\n",
    "df = pd.DataFrame(data, columns=columns)\n",
    "\n",
    "# Replace NaN values with the mean of the column\n",
    "df = df.fillna(0)\n",
    "\n",
    "print(df)"
   ]
  },
  {
   "cell_type": "code",
   "execution_count": null,
   "id": "gZ4JXNgdX0Sc",
   "metadata": {
    "colab": {
     "base_uri": "https://localhost:8080/",
     "height": 164
    },
    "id": "gZ4JXNgdX0Sc",
    "outputId": "b44b43ed-88a4-4de4-cc65-524567411e54"
   },
   "outputs": [
    {
     "data": {
      "application/vnd.google.colaboratory.intrinsic+json": {
       "summary": "{\n  \"name\": \"df\",\n  \"rows\": 3,\n  \"fields\": [\n    {\n      \"column\": \"A\",\n      \"properties\": {\n        \"dtype\": \"number\",\n        \"std\": 3.785938897200183,\n        \"min\": 0.0,\n        \"max\": 7.0,\n        \"num_unique_values\": 3,\n        \"samples\": [\n          1.0,\n          0.0,\n          7.0\n        ],\n        \"semantic_type\": \"\",\n        \"description\": \"\"\n      }\n    },\n    {\n      \"column\": \"B\",\n      \"properties\": {\n        \"dtype\": \"number\",\n        \"std\": 4.041451884327381,\n        \"min\": 0.0,\n        \"max\": 8.0,\n        \"num_unique_values\": 3,\n        \"samples\": [\n          0.0,\n          5.0,\n          8.0\n        ],\n        \"semantic_type\": \"\",\n        \"description\": \"\"\n      }\n    },\n    {\n      \"column\": \"C\",\n      \"properties\": {\n        \"dtype\": \"number\",\n        \"std\": 3.0,\n        \"min\": 0.0,\n        \"max\": 6.0,\n        \"num_unique_values\": 3,\n        \"samples\": [\n          3.0,\n          6.0,\n          0.0\n        ],\n        \"semantic_type\": \"\",\n        \"description\": \"\"\n      }\n    }\n  ]\n}",
       "type": "dataframe",
       "variable_name": "df"
      },
      "text/html": [
       "\n",
       "  <div id=\"df-cefb26ca-49c3-4b4a-838a-90c75995a886\" class=\"colab-df-container\">\n",
       "    <div>\n",
       "<style scoped>\n",
       "    .dataframe tbody tr th:only-of-type {\n",
       "        vertical-align: middle;\n",
       "    }\n",
       "\n",
       "    .dataframe tbody tr th {\n",
       "        vertical-align: top;\n",
       "    }\n",
       "\n",
       "    .dataframe thead th {\n",
       "        text-align: right;\n",
       "    }\n",
       "</style>\n",
       "<table border=\"1\" class=\"dataframe\">\n",
       "  <thead>\n",
       "    <tr style=\"text-align: right;\">\n",
       "      <th></th>\n",
       "      <th>A</th>\n",
       "      <th>B</th>\n",
       "      <th>C</th>\n",
       "    </tr>\n",
       "  </thead>\n",
       "  <tbody>\n",
       "    <tr>\n",
       "      <th>0</th>\n",
       "      <td>1.0</td>\n",
       "      <td>0.0</td>\n",
       "      <td>3.0</td>\n",
       "    </tr>\n",
       "    <tr>\n",
       "      <th>1</th>\n",
       "      <td>0.0</td>\n",
       "      <td>5.0</td>\n",
       "      <td>6.0</td>\n",
       "    </tr>\n",
       "    <tr>\n",
       "      <th>2</th>\n",
       "      <td>7.0</td>\n",
       "      <td>8.0</td>\n",
       "      <td>0.0</td>\n",
       "    </tr>\n",
       "  </tbody>\n",
       "</table>\n",
       "</div>\n",
       "    <div class=\"colab-df-buttons\">\n",
       "\n",
       "  <div class=\"colab-df-container\">\n",
       "    <button class=\"colab-df-convert\" onclick=\"convertToInteractive('df-cefb26ca-49c3-4b4a-838a-90c75995a886')\"\n",
       "            title=\"Convert this dataframe to an interactive table.\"\n",
       "            style=\"display:none;\">\n",
       "\n",
       "  <svg xmlns=\"http://www.w3.org/2000/svg\" height=\"24px\" viewBox=\"0 -960 960 960\">\n",
       "    <path d=\"M120-120v-720h720v720H120Zm60-500h600v-160H180v160Zm220 220h160v-160H400v160Zm0 220h160v-160H400v160ZM180-400h160v-160H180v160Zm440 0h160v-160H620v160ZM180-180h160v-160H180v160Zm440 0h160v-160H620v160Z\"/>\n",
       "  </svg>\n",
       "    </button>\n",
       "\n",
       "  <style>\n",
       "    .colab-df-container {\n",
       "      display:flex;\n",
       "      gap: 12px;\n",
       "    }\n",
       "\n",
       "    .colab-df-convert {\n",
       "      background-color: #E8F0FE;\n",
       "      border: none;\n",
       "      border-radius: 50%;\n",
       "      cursor: pointer;\n",
       "      display: none;\n",
       "      fill: #1967D2;\n",
       "      height: 32px;\n",
       "      padding: 0 0 0 0;\n",
       "      width: 32px;\n",
       "    }\n",
       "\n",
       "    .colab-df-convert:hover {\n",
       "      background-color: #E2EBFA;\n",
       "      box-shadow: 0px 1px 2px rgba(60, 64, 67, 0.3), 0px 1px 3px 1px rgba(60, 64, 67, 0.15);\n",
       "      fill: #174EA6;\n",
       "    }\n",
       "\n",
       "    .colab-df-buttons div {\n",
       "      margin-bottom: 4px;\n",
       "    }\n",
       "\n",
       "    [theme=dark] .colab-df-convert {\n",
       "      background-color: #3B4455;\n",
       "      fill: #D2E3FC;\n",
       "    }\n",
       "\n",
       "    [theme=dark] .colab-df-convert:hover {\n",
       "      background-color: #434B5C;\n",
       "      box-shadow: 0px 1px 3px 1px rgba(0, 0, 0, 0.15);\n",
       "      filter: drop-shadow(0px 1px 2px rgba(0, 0, 0, 0.3));\n",
       "      fill: #FFFFFF;\n",
       "    }\n",
       "  </style>\n",
       "\n",
       "    <script>\n",
       "      const buttonEl =\n",
       "        document.querySelector('#df-cefb26ca-49c3-4b4a-838a-90c75995a886 button.colab-df-convert');\n",
       "      buttonEl.style.display =\n",
       "        google.colab.kernel.accessAllowed ? 'block' : 'none';\n",
       "\n",
       "      async function convertToInteractive(key) {\n",
       "        const element = document.querySelector('#df-cefb26ca-49c3-4b4a-838a-90c75995a886');\n",
       "        const dataTable =\n",
       "          await google.colab.kernel.invokeFunction('convertToInteractive',\n",
       "                                                    [key], {});\n",
       "        if (!dataTable) return;\n",
       "\n",
       "        const docLinkHtml = 'Like what you see? Visit the ' +\n",
       "          '<a target=\"_blank\" href=https://colab.research.google.com/notebooks/data_table.ipynb>data table notebook</a>'\n",
       "          + ' to learn more about interactive tables.';\n",
       "        element.innerHTML = '';\n",
       "        dataTable['output_type'] = 'display_data';\n",
       "        await google.colab.output.renderOutput(dataTable, element);\n",
       "        const docLink = document.createElement('div');\n",
       "        docLink.innerHTML = docLinkHtml;\n",
       "        element.appendChild(docLink);\n",
       "      }\n",
       "    </script>\n",
       "  </div>\n",
       "\n",
       "\n",
       "<div id=\"df-5887397c-0dd8-4538-bb10-6a9822c5c47c\">\n",
       "  <button class=\"colab-df-quickchart\" onclick=\"quickchart('df-5887397c-0dd8-4538-bb10-6a9822c5c47c')\"\n",
       "            title=\"Suggest charts\"\n",
       "            style=\"display:none;\">\n",
       "\n",
       "<svg xmlns=\"http://www.w3.org/2000/svg\" height=\"24px\"viewBox=\"0 0 24 24\"\n",
       "     width=\"24px\">\n",
       "    <g>\n",
       "        <path d=\"M19 3H5c-1.1 0-2 .9-2 2v14c0 1.1.9 2 2 2h14c1.1 0 2-.9 2-2V5c0-1.1-.9-2-2-2zM9 17H7v-7h2v7zm4 0h-2V7h2v10zm4 0h-2v-4h2v4z\"/>\n",
       "    </g>\n",
       "</svg>\n",
       "  </button>\n",
       "\n",
       "<style>\n",
       "  .colab-df-quickchart {\n",
       "      --bg-color: #E8F0FE;\n",
       "      --fill-color: #1967D2;\n",
       "      --hover-bg-color: #E2EBFA;\n",
       "      --hover-fill-color: #174EA6;\n",
       "      --disabled-fill-color: #AAA;\n",
       "      --disabled-bg-color: #DDD;\n",
       "  }\n",
       "\n",
       "  [theme=dark] .colab-df-quickchart {\n",
       "      --bg-color: #3B4455;\n",
       "      --fill-color: #D2E3FC;\n",
       "      --hover-bg-color: #434B5C;\n",
       "      --hover-fill-color: #FFFFFF;\n",
       "      --disabled-bg-color: #3B4455;\n",
       "      --disabled-fill-color: #666;\n",
       "  }\n",
       "\n",
       "  .colab-df-quickchart {\n",
       "    background-color: var(--bg-color);\n",
       "    border: none;\n",
       "    border-radius: 50%;\n",
       "    cursor: pointer;\n",
       "    display: none;\n",
       "    fill: var(--fill-color);\n",
       "    height: 32px;\n",
       "    padding: 0;\n",
       "    width: 32px;\n",
       "  }\n",
       "\n",
       "  .colab-df-quickchart:hover {\n",
       "    background-color: var(--hover-bg-color);\n",
       "    box-shadow: 0 1px 2px rgba(60, 64, 67, 0.3), 0 1px 3px 1px rgba(60, 64, 67, 0.15);\n",
       "    fill: var(--button-hover-fill-color);\n",
       "  }\n",
       "\n",
       "  .colab-df-quickchart-complete:disabled,\n",
       "  .colab-df-quickchart-complete:disabled:hover {\n",
       "    background-color: var(--disabled-bg-color);\n",
       "    fill: var(--disabled-fill-color);\n",
       "    box-shadow: none;\n",
       "  }\n",
       "\n",
       "  .colab-df-spinner {\n",
       "    border: 2px solid var(--fill-color);\n",
       "    border-color: transparent;\n",
       "    border-bottom-color: var(--fill-color);\n",
       "    animation:\n",
       "      spin 1s steps(1) infinite;\n",
       "  }\n",
       "\n",
       "  @keyframes spin {\n",
       "    0% {\n",
       "      border-color: transparent;\n",
       "      border-bottom-color: var(--fill-color);\n",
       "      border-left-color: var(--fill-color);\n",
       "    }\n",
       "    20% {\n",
       "      border-color: transparent;\n",
       "      border-left-color: var(--fill-color);\n",
       "      border-top-color: var(--fill-color);\n",
       "    }\n",
       "    30% {\n",
       "      border-color: transparent;\n",
       "      border-left-color: var(--fill-color);\n",
       "      border-top-color: var(--fill-color);\n",
       "      border-right-color: var(--fill-color);\n",
       "    }\n",
       "    40% {\n",
       "      border-color: transparent;\n",
       "      border-right-color: var(--fill-color);\n",
       "      border-top-color: var(--fill-color);\n",
       "    }\n",
       "    60% {\n",
       "      border-color: transparent;\n",
       "      border-right-color: var(--fill-color);\n",
       "    }\n",
       "    80% {\n",
       "      border-color: transparent;\n",
       "      border-right-color: var(--fill-color);\n",
       "      border-bottom-color: var(--fill-color);\n",
       "    }\n",
       "    90% {\n",
       "      border-color: transparent;\n",
       "      border-bottom-color: var(--fill-color);\n",
       "    }\n",
       "  }\n",
       "</style>\n",
       "\n",
       "  <script>\n",
       "    async function quickchart(key) {\n",
       "      const quickchartButtonEl =\n",
       "        document.querySelector('#' + key + ' button');\n",
       "      quickchartButtonEl.disabled = true;  // To prevent multiple clicks.\n",
       "      quickchartButtonEl.classList.add('colab-df-spinner');\n",
       "      try {\n",
       "        const charts = await google.colab.kernel.invokeFunction(\n",
       "            'suggestCharts', [key], {});\n",
       "      } catch (error) {\n",
       "        console.error('Error during call to suggestCharts:', error);\n",
       "      }\n",
       "      quickchartButtonEl.classList.remove('colab-df-spinner');\n",
       "      quickchartButtonEl.classList.add('colab-df-quickchart-complete');\n",
       "    }\n",
       "    (() => {\n",
       "      let quickchartButtonEl =\n",
       "        document.querySelector('#df-5887397c-0dd8-4538-bb10-6a9822c5c47c button');\n",
       "      quickchartButtonEl.style.display =\n",
       "        google.colab.kernel.accessAllowed ? 'block' : 'none';\n",
       "    })();\n",
       "  </script>\n",
       "</div>\n",
       "\n",
       "  <div id=\"id_02a8502e-b92a-4a22-bc98-b4bf6e3e3c35\">\n",
       "    <style>\n",
       "      .colab-df-generate {\n",
       "        background-color: #E8F0FE;\n",
       "        border: none;\n",
       "        border-radius: 50%;\n",
       "        cursor: pointer;\n",
       "        display: none;\n",
       "        fill: #1967D2;\n",
       "        height: 32px;\n",
       "        padding: 0 0 0 0;\n",
       "        width: 32px;\n",
       "      }\n",
       "\n",
       "      .colab-df-generate:hover {\n",
       "        background-color: #E2EBFA;\n",
       "        box-shadow: 0px 1px 2px rgba(60, 64, 67, 0.3), 0px 1px 3px 1px rgba(60, 64, 67, 0.15);\n",
       "        fill: #174EA6;\n",
       "      }\n",
       "\n",
       "      [theme=dark] .colab-df-generate {\n",
       "        background-color: #3B4455;\n",
       "        fill: #D2E3FC;\n",
       "      }\n",
       "\n",
       "      [theme=dark] .colab-df-generate:hover {\n",
       "        background-color: #434B5C;\n",
       "        box-shadow: 0px 1px 3px 1px rgba(0, 0, 0, 0.15);\n",
       "        filter: drop-shadow(0px 1px 2px rgba(0, 0, 0, 0.3));\n",
       "        fill: #FFFFFF;\n",
       "      }\n",
       "    </style>\n",
       "    <button class=\"colab-df-generate\" onclick=\"generateWithVariable('df')\"\n",
       "            title=\"Generate code using this dataframe.\"\n",
       "            style=\"display:none;\">\n",
       "\n",
       "  <svg xmlns=\"http://www.w3.org/2000/svg\" height=\"24px\"viewBox=\"0 0 24 24\"\n",
       "       width=\"24px\">\n",
       "    <path d=\"M7,19H8.4L18.45,9,17,7.55,7,17.6ZM5,21V16.75L18.45,3.32a2,2,0,0,1,2.83,0l1.4,1.43a1.91,1.91,0,0,1,.58,1.4,1.91,1.91,0,0,1-.58,1.4L9.25,21ZM18.45,9,17,7.55Zm-12,3A5.31,5.31,0,0,0,4.9,8.1,5.31,5.31,0,0,0,1,6.5,5.31,5.31,0,0,0,4.9,4.9,5.31,5.31,0,0,0,6.5,1,5.31,5.31,0,0,0,8.1,4.9,5.31,5.31,0,0,0,12,6.5,5.46,5.46,0,0,0,6.5,12Z\"/>\n",
       "  </svg>\n",
       "    </button>\n",
       "    <script>\n",
       "      (() => {\n",
       "      const buttonEl =\n",
       "        document.querySelector('#id_02a8502e-b92a-4a22-bc98-b4bf6e3e3c35 button.colab-df-generate');\n",
       "      buttonEl.style.display =\n",
       "        google.colab.kernel.accessAllowed ? 'block' : 'none';\n",
       "\n",
       "      buttonEl.onclick = () => {\n",
       "        google.colab.notebook.generateWithVariable('df');\n",
       "      }\n",
       "      })();\n",
       "    </script>\n",
       "  </div>\n",
       "\n",
       "    </div>\n",
       "  </div>\n"
      ],
      "text/plain": [
       "     A    B    C\n",
       "0  1.0  0.0  3.0\n",
       "1  0.0  5.0  6.0\n",
       "2  7.0  8.0  0.0"
      ]
     },
     "execution_count": 62,
     "metadata": {},
     "output_type": "execute_result"
    }
   ],
   "source": [
    "# Replace NaN values with column means\n",
    "df = df.fillna(df.mean())\n",
    "df"
   ]
  },
  {
   "cell_type": "code",
   "execution_count": null,
   "id": "OFo1_mgdX-ai",
   "metadata": {
    "colab": {
     "base_uri": "https://localhost:8080/"
    },
    "id": "OFo1_mgdX-ai",
    "outputId": "fc67602e-13f2-4f8f-b37c-af43e5e059c9"
   },
   "outputs": [
    {
     "name": "stdout",
     "output_type": "stream",
     "text": [
      "     A    B    C\n",
      "0  1.0  0.0  3.0\n",
      "1  0.0  5.0  6.0\n",
      "2  7.0  8.0  0.0\n"
     ]
    }
   ],
   "source": [
    "# Drop rows with any NaN values\n",
    "df = df.dropna()\n",
    "\n",
    "print(df)"
   ]
  },
  {
   "cell_type": "markdown",
   "id": "9eb7ce98-bab9-4b6c-bc44-5b533217beff",
   "metadata": {
    "id": "9eb7ce98-bab9-4b6c-bc44-5b533217beff"
   },
   "source": [
    "## Exercice 7 : Grouping and Aggregation\n",
    "\n",
    "Group the following DataFrame by column Category and calculate the mean of column Value:"
   ]
  },
  {
   "cell_type": "code",
   "execution_count": null,
   "id": "913a56df-cbe9-4ba6-bb7f-88b933ce1ff0",
   "metadata": {
    "id": "913a56df-cbe9-4ba6-bb7f-88b933ce1ff0"
   },
   "outputs": [],
   "source": [
    "   Category  Value\n",
    "0         A      1\n",
    "1         B      2\n",
    "2         A      3\n",
    "3         B      4\n",
    "4         A      5\n",
    "5         B      6"
   ]
  },
  {
   "cell_type": "markdown",
   "id": "769e329c-6139-41ff-9077-d88bddcdaee8",
   "metadata": {
    "id": "769e329c-6139-41ff-9077-d88bddcdaee8"
   },
   "source": [
    "Modify the code to calculate the sum instead of the mean.\n",
    "\n",
    "Group by Category and count the number of entries in each group."
   ]
  },
  {
   "cell_type": "code",
   "execution_count": 49,
   "id": "64d19fc6-ecc1-4a7a-ae87-caecdaf9cf74",
   "metadata": {},
   "outputs": [
    {
     "name": "stdout",
     "output_type": "stream",
     "text": [
      "Category\n",
      "A    3.0\n",
      "B    4.0\n",
      "Name: Value, dtype: float64\n"
     ]
    }
   ],
   "source": [
    "import pandas as pd\n",
    "\n",
    "data = {'Category': ['A', 'B', 'A', 'B', 'A', 'B'], \n",
    "        'Value': [1, 2, 3, 4, 5, 6]}\n",
    "df = pd.DataFrame(data)\n",
    "\n",
    "# Group by 'Category' and calculate the mean of 'Value'\n",
    "grouped_mean = df.groupby('Category')['Value'].mean()\n",
    "\n",
    "print(grouped_mean)"
   ]
  },
  {
   "cell_type": "code",
   "execution_count": 50,
   "id": "537577fa-37d1-44e5-accd-21d56b30eedf",
   "metadata": {},
   "outputs": [
    {
     "name": "stdout",
     "output_type": "stream",
     "text": [
      "Category\n",
      "A     9\n",
      "B    12\n",
      "Name: Value, dtype: int64\n"
     ]
    }
   ],
   "source": [
    "# Calculate the sum instead of the mean\n",
    "grouped_sum = df.groupby('Category')['Value'].sum() \n",
    "\n",
    "print(grouped_sum)"
   ]
  },
  {
   "cell_type": "code",
   "execution_count": null,
   "id": "072be99d-3d4c-4719-b87f-f53b474cb0b8",
   "metadata": {},
   "outputs": [],
   "source": [
    "# Count the number of entries in each group\n",
    "grouped_count = df.groupby('Category')['Value'].count()  \n",
    "\n",
    "print(grouped_count)"
   ]
  },
  {
   "cell_type": "markdown",
   "id": "d4963899-45ad-4d56-8472-f09b10ae3987",
   "metadata": {
    "id": "d4963899-45ad-4d56-8472-f09b10ae3987"
   },
   "source": [
    "## Exercice 8 : Pivot Tables\n",
    "\n",
    "Create a pivot table from the following DataFrame, showing the mean Value for each Category and Type:"
   ]
  },
  {
   "cell_type": "code",
   "execution_count": null,
   "id": "59834ca0-872e-44a2-8771-7ab0a2be28d1",
   "metadata": {
    "id": "59834ca0-872e-44a2-8771-7ab0a2be28d1"
   },
   "outputs": [],
   "source": [
    "   Category  Type  Value\n",
    "0         A     X      1\n",
    "1         A     Y      2\n",
    "2         A     X      3\n",
    "3         B     Y      4\n",
    "4         B     X      5\n",
    "5         B     Y      6"
   ]
  },
  {
   "cell_type": "markdown",
   "id": "0b905788-ad2d-430b-84fa-b4c08d1d430c",
   "metadata": {
    "id": "0b905788-ad2d-430b-84fa-b4c08d1d430c"
   },
   "source": [
    "Modify the pivot table to show the sum of Value instead of the mean.\n",
    "\n",
    "Add margins to the pivot table to show the total mean for each Category and Type."
   ]
  },
  {
   "cell_type": "code",
   "execution_count": 51,
   "id": "ef4cc48d-c45a-4239-8730-cbaec96a56aa",
   "metadata": {},
   "outputs": [
    {
     "name": "stdout",
     "output_type": "stream",
     "text": [
      "Type        X    Y\n",
      "Category          \n",
      "A         2.0  2.0\n",
      "B         5.0  5.0\n"
     ]
    }
   ],
   "source": [
    "import pandas as pd\n",
    "\n",
    "data = {'Category': ['A', 'A', 'A', 'B', 'B', 'B'],\n",
    "        'Type': ['X', 'Y', 'X', 'Y', 'X', 'Y'],\n",
    "        'Value': [1, 2, 3, 4, 5, 6]}\n",
    "df = pd.DataFrame(data)\n",
    "\n",
    "# Create a pivot table showing the mean Value\n",
    "pivot_table = df.pivot_table(values='Value', index='Category', columns='Type', aggfunc='mean')\n",
    "\n",
    "print(pivot_table)"
   ]
  },
  {
   "cell_type": "code",
   "execution_count": 52,
   "id": "b1b9fbb5-9d32-46ca-b048-aeecc2fe8480",
   "metadata": {},
   "outputs": [
    {
     "name": "stdout",
     "output_type": "stream",
     "text": [
      "Type      X   Y\n",
      "Category       \n",
      "A         4   2\n",
      "B         5  10\n"
     ]
    }
   ],
   "source": [
    "# Show the sum of Value instead of the mean\n",
    "pivot_table_sum = df.pivot_table(values='Value', index='Category', columns='Type', aggfunc='sum')\n",
    "\n",
    "print(pivot_table_sum)"
   ]
  },
  {
   "cell_type": "code",
   "execution_count": 53,
   "id": "9f8646de-532d-48c9-b275-c4f1d83c57b5",
   "metadata": {},
   "outputs": [
    {
     "name": "stdout",
     "output_type": "stream",
     "text": [
      "Type        X    Y  Total\n",
      "Category                 \n",
      "A         2.0  2.0    2.0\n",
      "B         5.0  5.0    5.0\n",
      "Total     3.0  4.0    3.5\n"
     ]
    }
   ],
   "source": [
    "# Add margins to show total means\n",
    "pivot_table_margins = df.pivot_table(values='Value', index='Category', columns='Type', aggfunc='mean', margins=True, margins_name='Total')\n",
    "print(pivot_table_margins)"
   ]
  },
  {
   "cell_type": "markdown",
   "id": "7a0c8217-b18f-4988-8df9-4b4b21c1910c",
   "metadata": {
    "id": "7a0c8217-b18f-4988-8df9-4b4b21c1910c"
   },
   "source": [
    "## Exercice 9 : Time Series Data"
   ]
  },
  {
   "cell_type": "markdown",
   "id": "0661ff2d-f782-4ba8-b5b5-58459a7f6c9f",
   "metadata": {
    "id": "0661ff2d-f782-4ba8-b5b5-58459a7f6c9f"
   },
   "source": [
    "Create a time series DataFrame with a date range starting from '2023-01-01' for 6 periods and random values.\n",
    "\n",
    "Set the date column as the index of the DataFrame.\n",
    "\n",
    "Resample the data to calculate the sum for each 2-day period."
   ]
  },
  {
   "cell_type": "code",
   "execution_count": 55,
   "id": "a160e08c-2fbf-416b-89f0-eb0a82be63fd",
   "metadata": {},
   "outputs": [
    {
     "data": {
      "text/html": [
       "<div>\n",
       "<style scoped>\n",
       "    .dataframe tbody tr th:only-of-type {\n",
       "        vertical-align: middle;\n",
       "    }\n",
       "\n",
       "    .dataframe tbody tr th {\n",
       "        vertical-align: top;\n",
       "    }\n",
       "\n",
       "    .dataframe thead th {\n",
       "        text-align: right;\n",
       "    }\n",
       "</style>\n",
       "<table border=\"1\" class=\"dataframe\">\n",
       "  <thead>\n",
       "    <tr style=\"text-align: right;\">\n",
       "      <th></th>\n",
       "      <th>Value</th>\n",
       "      <th>date_range</th>\n",
       "    </tr>\n",
       "  </thead>\n",
       "  <tbody>\n",
       "    <tr>\n",
       "      <th>0</th>\n",
       "      <td>0.501053</td>\n",
       "      <td>2023-01-01</td>\n",
       "    </tr>\n",
       "    <tr>\n",
       "      <th>1</th>\n",
       "      <td>0.521040</td>\n",
       "      <td>2023-01-02</td>\n",
       "    </tr>\n",
       "    <tr>\n",
       "      <th>2</th>\n",
       "      <td>0.277698</td>\n",
       "      <td>2023-01-03</td>\n",
       "    </tr>\n",
       "    <tr>\n",
       "      <th>3</th>\n",
       "      <td>0.710521</td>\n",
       "      <td>2023-01-04</td>\n",
       "    </tr>\n",
       "    <tr>\n",
       "      <th>4</th>\n",
       "      <td>0.002539</td>\n",
       "      <td>2023-01-05</td>\n",
       "    </tr>\n",
       "    <tr>\n",
       "      <th>5</th>\n",
       "      <td>0.222996</td>\n",
       "      <td>2023-01-06</td>\n",
       "    </tr>\n",
       "  </tbody>\n",
       "</table>\n",
       "</div>"
      ],
      "text/plain": [
       "      Value date_range\n",
       "0  0.501053 2023-01-01\n",
       "1  0.521040 2023-01-02\n",
       "2  0.277698 2023-01-03\n",
       "3  0.710521 2023-01-04\n",
       "4  0.002539 2023-01-05\n",
       "5  0.222996 2023-01-06"
      ]
     },
     "execution_count": 55,
     "metadata": {},
     "output_type": "execute_result"
    }
   ],
   "source": [
    "import pandas as pd\n",
    "import numpy as np\n",
    "\n",
    "# Create a date range\n",
    "date_range = pd.date_range(start='2023-01-01', periods=6)\n",
    "\n",
    "# Create a DataFrame with random values\n",
    "df = pd.DataFrame({'Value': np.random.rand(6),'date_range':date_range})\n",
    "\n",
    "df"
   ]
  },
  {
   "cell_type": "code",
   "execution_count": 56,
   "id": "c161836a-006f-4499-9868-b5f819f3b564",
   "metadata": {},
   "outputs": [
    {
     "data": {
      "text/html": [
       "<div>\n",
       "<style scoped>\n",
       "    .dataframe tbody tr th:only-of-type {\n",
       "        vertical-align: middle;\n",
       "    }\n",
       "\n",
       "    .dataframe tbody tr th {\n",
       "        vertical-align: top;\n",
       "    }\n",
       "\n",
       "    .dataframe thead th {\n",
       "        text-align: right;\n",
       "    }\n",
       "</style>\n",
       "<table border=\"1\" class=\"dataframe\">\n",
       "  <thead>\n",
       "    <tr style=\"text-align: right;\">\n",
       "      <th></th>\n",
       "      <th>Value</th>\n",
       "    </tr>\n",
       "    <tr>\n",
       "      <th>date_range</th>\n",
       "      <th></th>\n",
       "    </tr>\n",
       "  </thead>\n",
       "  <tbody>\n",
       "    <tr>\n",
       "      <th>2023-01-01</th>\n",
       "      <td>0.501053</td>\n",
       "    </tr>\n",
       "    <tr>\n",
       "      <th>2023-01-02</th>\n",
       "      <td>0.521040</td>\n",
       "    </tr>\n",
       "    <tr>\n",
       "      <th>2023-01-03</th>\n",
       "      <td>0.277698</td>\n",
       "    </tr>\n",
       "    <tr>\n",
       "      <th>2023-01-04</th>\n",
       "      <td>0.710521</td>\n",
       "    </tr>\n",
       "    <tr>\n",
       "      <th>2023-01-05</th>\n",
       "      <td>0.002539</td>\n",
       "    </tr>\n",
       "    <tr>\n",
       "      <th>2023-01-06</th>\n",
       "      <td>0.222996</td>\n",
       "    </tr>\n",
       "  </tbody>\n",
       "</table>\n",
       "</div>"
      ],
      "text/plain": [
       "               Value\n",
       "date_range          \n",
       "2023-01-01  0.501053\n",
       "2023-01-02  0.521040\n",
       "2023-01-03  0.277698\n",
       "2023-01-04  0.710521\n",
       "2023-01-05  0.002539\n",
       "2023-01-06  0.222996"
      ]
     },
     "execution_count": 56,
     "metadata": {},
     "output_type": "execute_result"
    }
   ],
   "source": [
    "# Set the date column as the index\n",
    "df.set_index('date_range', inplace=True)\n",
    "df"
   ]
  },
  {
   "cell_type": "code",
   "execution_count": 57,
   "id": "2bb78ba7-40e4-44f3-9ca5-5b1d0ebb558a",
   "metadata": {},
   "outputs": [
    {
     "name": "stdout",
     "output_type": "stream",
     "text": [
      "               Value\n",
      "date_range          \n",
      "2023-01-01  1.022093\n",
      "2023-01-03  0.988219\n",
      "2023-01-05  0.225535\n"
     ]
    }
   ],
   "source": [
    "# Resample to calculate the sum for each 2-day period\n",
    "'''We use resample('2D') to resample the data to 2-day intervals ('2D' stands for 2 days).'''\n",
    "resampled_sum = df.resample('2D').sum()  \n",
    "\n",
    "print(resampled_sum)"
   ]
  },
  {
   "cell_type": "markdown",
   "id": "72aef470-eb2e-4993-9628-f65962228e77",
   "metadata": {
    "id": "72aef470-eb2e-4993-9628-f65962228e77"
   },
   "source": [
    "## Exercice 10 : Handling Missing Data\n",
    "\n",
    "Interpolate missing values in the following DataFrame:"
   ]
  },
  {
   "cell_type": "code",
   "execution_count": null,
   "id": "a8860371-7cf1-4c99-9796-7b754b658c3d",
   "metadata": {
    "id": "a8860371-7cf1-4c99-9796-7b754b658c3d"
   },
   "outputs": [],
   "source": [
    "   A    B    C\n",
    "0  1.0  NaN  3.0\n",
    "1  2.0  5.0  NaN\n",
    "2  NaN  8.0  9.0"
   ]
  },
  {
   "cell_type": "markdown",
   "id": "c1549ce6-bd99-4ef2-aa42-bb572c03a7b8",
   "metadata": {
    "id": "c1549ce6-bd99-4ef2-aa42-bb572c03a7b8"
   },
   "source": [
    "Drop rows with any NaN values instead of interpolating."
   ]
  },
  {
   "cell_type": "code",
   "execution_count": 58,
   "id": "a8fa2442-78ac-4865-9dbd-de7fdb96d480",
   "metadata": {},
   "outputs": [
    {
     "name": "stdout",
     "output_type": "stream",
     "text": [
      "     A    B    C\n",
      "0  1.0  NaN  3.0\n",
      "1  2.0  5.0  6.0\n",
      "2  2.0  8.0  9.0\n"
     ]
    }
   ],
   "source": [
    "import pandas as pd\n",
    "import numpy as np\n",
    "\n",
    "data = [[1.0, np.nan, 3.0], [2.0, 5.0, np.nan], [np.nan, 8.0, 9.0]]\n",
    "columns = ['A', 'B', 'C']\n",
    "\n",
    "df = pd.DataFrame(data, columns=columns)\n",
    "\n",
    "# Interpolate missing values\n",
    "interpolated_df = df.interpolate()\n",
    "\n",
    "print(interpolated_df)"
   ]
  },
  {
   "cell_type": "code",
   "execution_count": 59,
   "id": "755c7bc6-0e01-4687-9068-a9a731dc253c",
   "metadata": {},
   "outputs": [
    {
     "data": {
      "text/html": [
       "<div>\n",
       "<style scoped>\n",
       "    .dataframe tbody tr th:only-of-type {\n",
       "        vertical-align: middle;\n",
       "    }\n",
       "\n",
       "    .dataframe tbody tr th {\n",
       "        vertical-align: top;\n",
       "    }\n",
       "\n",
       "    .dataframe thead th {\n",
       "        text-align: right;\n",
       "    }\n",
       "</style>\n",
       "<table border=\"1\" class=\"dataframe\">\n",
       "  <thead>\n",
       "    <tr style=\"text-align: right;\">\n",
       "      <th></th>\n",
       "      <th>A</th>\n",
       "      <th>B</th>\n",
       "      <th>C</th>\n",
       "    </tr>\n",
       "  </thead>\n",
       "  <tbody>\n",
       "  </tbody>\n",
       "</table>\n",
       "</div>"
      ],
      "text/plain": [
       "Empty DataFrame\n",
       "Columns: [A, B, C]\n",
       "Index: []"
      ]
     },
     "execution_count": 59,
     "metadata": {},
     "output_type": "execute_result"
    }
   ],
   "source": [
    "# Drop rows with any NaN values\n",
    "dropped_df = df.dropna()\n",
    "\n",
    "dropped_df"
   ]
  },
  {
   "cell_type": "markdown",
   "id": "1f7230d9-f87c-44a7-a040-e3c3b7301bab",
   "metadata": {
    "id": "1f7230d9-f87c-44a7-a040-e3c3b7301bab"
   },
   "source": [
    "## Exercice 11 : DataFrame Operations\n",
    "\n",
    "Calculate the cumulative sum of the following DataFrame:"
   ]
  },
  {
   "cell_type": "code",
   "execution_count": null,
   "id": "00a61342-b205-49f3-a557-a9ff15f9db10",
   "metadata": {
    "id": "00a61342-b205-49f3-a557-a9ff15f9db10"
   },
   "outputs": [],
   "source": [
    "   A  B  C\n",
    "0  1  2  3\n",
    "1  4  5  6\n",
    "2  7  8  9"
   ]
  },
  {
   "cell_type": "markdown",
   "id": "9f3315a1-8b8c-43b0-b73e-c995526b17e8",
   "metadata": {
    "id": "9f3315a1-8b8c-43b0-b73e-c995526b17e8"
   },
   "source": [
    "Calculate the cumulative product of the DataFrame.\n",
    "\n",
    "Apply a function to subtract 1 from all elements in the DataFrame."
   ]
  },
  {
   "cell_type": "code",
   "execution_count": null,
   "id": "7d5028be-af6d-4d79-bc43-fa056cfe7cd0",
   "metadata": {},
   "outputs": [],
   "source": [
    "# Apply a function to subtract 1 from all elements\n",
    "subtracted_df = df.applymap(lambda x: x - 1)"
   ]
  }
 ],
 "metadata": {
  "colab": {
   "provenance": []
  },
  "kernelspec": {
   "display_name": "Python 3 (ipykernel)",
   "language": "python",
   "name": "python3"
  },
  "language_info": {
   "codemirror_mode": {
    "name": "ipython",
    "version": 3
   },
   "file_extension": ".py",
   "mimetype": "text/x-python",
   "name": "python",
   "nbconvert_exporter": "python",
   "pygments_lexer": "ipython3",
   "version": "3.12.4"
  }
 },
 "nbformat": 4,
 "nbformat_minor": 5
}
