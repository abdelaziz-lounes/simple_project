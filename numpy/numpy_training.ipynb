{
 "cells": [
  {
   "cell_type": "code",
   "execution_count": 1,
   "metadata": {
    "colab": {
     "base_uri": "https://localhost:8080/",
     "height": 55
    },
    "id": "2wpVS7Xs07_w",
    "outputId": "bc1e2ef7-1774-477f-d336-d15dee147f4a"
   },
   "outputs": [
    {
     "data": {
      "text/plain": [
       "'1.26.4'"
      ]
     },
     "execution_count": 1,
     "metadata": {},
     "output_type": "execute_result"
    }
   ],
   "source": [
    "import numpy as np\n",
    "\n",
    "#check version\n",
    "np.__version__\n"
   ]
  },
  {
   "cell_type": "code",
   "execution_count": 2,
   "metadata": {
    "colab": {
     "base_uri": "https://localhost:8080/"
    },
    "id": "VyGsNwe01jBZ",
    "outputId": "9377ab83-5d7b-4ac0-957e-d6599503c3be"
   },
   "outputs": [
    {
     "data": {
      "text/plain": [
       "array([1, 2, 3, 4, 0], dtype=int32)"
      ]
     },
     "execution_count": 2,
     "metadata": {},
     "output_type": "execute_result"
    }
   ],
   "source": [
    "# a vector: the argument to the array function is a Python list\n",
    "# more generally, 1D array\n",
    "lst = [1, 2, 3,4,0]\n",
    "v = np.array(lst, dtype=np.int32)\n",
    "v"
   ]
  },
  {
   "cell_type": "code",
   "execution_count": 3,
   "metadata": {
    "colab": {
     "base_uri": "https://localhost:8080/"
    },
    "id": "ok0aBh6E2PL2",
    "outputId": "68f89e74-bf18-4208-8f46-f033900b6fb3"
   },
   "outputs": [
    {
     "data": {
      "text/plain": [
       "array([1, 2, 3, 4], dtype=int32)"
      ]
     },
     "execution_count": 3,
     "metadata": {},
     "output_type": "execute_result"
    }
   ],
   "source": [
    "np.array([1,2,3,4], dtype=np.int32)"
   ]
  },
  {
   "cell_type": "code",
   "execution_count": 4,
   "metadata": {
    "colab": {
     "base_uri": "https://localhost:8080/"
    },
    "id": "l-P3ws7s2uW5",
    "outputId": "eb9658fd-9ae2-4a86-b346-3da711095d7e"
   },
   "outputs": [
    {
     "data": {
      "text/plain": [
       "array([[1, 2],\n",
       "       [3, 4]])"
      ]
     },
     "execution_count": 4,
     "metadata": {},
     "output_type": "execute_result"
    }
   ],
   "source": [
    "\n",
    "# a matrix: the argument to the array function is a nested Python list (can also be a tuple of tuples)\n",
    "# more generally, a 2D array\n",
    "list_of_lists = [[1,2],[3,4]]\n",
    "M = np.array(list_of_lists)\n",
    "M"
   ]
  },
  {
   "cell_type": "code",
   "execution_count": 5,
   "metadata": {
    "colab": {
     "base_uri": "https://localhost:8080/"
    },
    "id": "bNeQZRgE3ufz",
    "outputId": "f6ce3756-6a85-4982-f353-7771f3deef71"
   },
   "outputs": [
    {
     "data": {
      "text/plain": [
       "array([[1, 2, 3, 4, 0]], dtype=int32)"
      ]
     },
     "execution_count": 5,
     "metadata": {},
     "output_type": "execute_result"
    }
   ],
   "source": [
    "# a row vector\n",
    "\n",
    "row_vec = v[np.newaxis,:] # v[None,:]\n",
    "row_vec"
   ]
  },
  {
   "cell_type": "code",
   "execution_count": 6,
   "metadata": {
    "colab": {
     "base_uri": "https://localhost:8080/"
    },
    "id": "iHLh2qnA4AnV",
    "outputId": "b484737e-2fa1-4e22-b3fb-b9a092cb311c"
   },
   "outputs": [
    {
     "data": {
      "text/plain": [
       "array([[1, 2, 3, 4]], dtype=int32)"
      ]
     },
     "execution_count": 6,
     "metadata": {},
     "output_type": "execute_result"
    }
   ],
   "source": [
    "np.array([[1,2,3,4]], dtype=np.int32)"
   ]
  },
  {
   "cell_type": "code",
   "execution_count": 7,
   "metadata": {
    "colab": {
     "base_uri": "https://localhost:8080/"
    },
    "id": "Ki_8dBRp4fRw",
    "outputId": "b3e2406f-b892-4af7-c11d-5c215d00f2de"
   },
   "outputs": [
    {
     "data": {
      "text/plain": [
       "array([[1],\n",
       "       [2],\n",
       "       [3],\n",
       "       [4],\n",
       "       [0]], dtype=int32)"
      ]
     },
     "execution_count": 7,
     "metadata": {},
     "output_type": "execute_result"
    }
   ],
   "source": [
    "# a column vector\n",
    "col_vec = v[:, np.newaxis] #v[:, None]\n",
    "col_vec"
   ]
  },
  {
   "cell_type": "code",
   "execution_count": 8,
   "metadata": {
    "colab": {
     "base_uri": "https://localhost:8080/"
    },
    "id": "fDnfrjw44vul",
    "outputId": "ebb3626a-3a2b-4d83-ea97-50304c924b37"
   },
   "outputs": [
    {
     "data": {
      "text/plain": [
       "array([[1],\n",
       "       [2],\n",
       "       [3],\n",
       "       [4]], dtype=int32)"
      ]
     },
     "execution_count": 8,
     "metadata": {},
     "output_type": "execute_result"
    }
   ],
   "source": [
    "np.array([[1],[2],[3],[4]], dtype=np.int32)"
   ]
  },
  {
   "cell_type": "code",
   "execution_count": 9,
   "metadata": {
    "colab": {
     "base_uri": "https://localhost:8080/"
    },
    "id": "huE45Iaa5Amo",
    "outputId": "b6a17403-bd0a-4c33-c762-e2790d2df841"
   },
   "outputs": [
    {
     "data": {
      "text/plain": [
       "array([ 0.        ,  0.20408163,  0.40816327,  0.6122449 ,  0.81632653,\n",
       "        1.02040816,  1.2244898 ,  1.42857143,  1.63265306,  1.83673469,\n",
       "        2.04081633,  2.24489796,  2.44897959,  2.65306122,  2.85714286,\n",
       "        3.06122449,  3.26530612,  3.46938776,  3.67346939,  3.87755102,\n",
       "        4.08163265,  4.28571429,  4.48979592,  4.69387755,  4.89795918,\n",
       "        5.10204082,  5.30612245,  5.51020408,  5.71428571,  5.91836735,\n",
       "        6.12244898,  6.32653061,  6.53061224,  6.73469388,  6.93877551,\n",
       "        7.14285714,  7.34693878,  7.55102041,  7.75510204,  7.95918367,\n",
       "        8.16326531,  8.36734694,  8.57142857,  8.7755102 ,  8.97959184,\n",
       "        9.18367347,  9.3877551 ,  9.59183673,  9.79591837, 10.        ])"
      ]
     },
     "execution_count": 9,
     "metadata": {},
     "output_type": "execute_result"
    }
   ],
   "source": [
    "# when using linspace, both end points are included\n",
    "'''return evenly spaced numbers over a specified interval.\n",
    "\n",
    "    Returns num evenly spaced samples, calculated over the interval [start, stop].\n",
    "\n",
    "    The endpoint of the interval can optionally be excluded.'''\n",
    "np.linspace(0, 10)\n"
   ]
  },
  {
   "cell_type": "code",
   "execution_count": 10,
   "metadata": {
    "colab": {
     "base_uri": "https://localhost:8080/"
    },
    "id": "yNqgDL1f5vYG",
    "outputId": "fdf77759-cbdf-44a1-db16-c857cbe74e30"
   },
   "outputs": [
    {
     "data": {
      "text/plain": [
       "array([  1.        ,   1.742909  ,   3.03773178,   5.29449005,\n",
       "         9.22781435,  16.08324067,  28.03162489,  48.85657127,\n",
       "        85.15255772, 148.4131591 ])"
      ]
     },
     "execution_count": 10,
     "metadata": {},
     "output_type": "execute_result"
    }
   ],
   "source": [
    "''' np.logspace(start, stop, num=50, endpoint=True, base=10.0(algorithm), dtype=None, axis=0)'''\n",
    "np.logspace(0, 5, 10, base=np.e)\n"
   ]
  },
  {
   "cell_type": "code",
   "execution_count": 11,
   "metadata": {
    "colab": {
     "base_uri": "https://localhost:8080/"
    },
    "id": "PCsgf53w7NJ7",
    "outputId": "f144521c-0d13-4bba-9d54-85215154925a"
   },
   "outputs": [
    {
     "data": {
      "text/plain": [
       "array([[[-0.68186114,  0.0801222 ,  0.22665175,  1.08825406],\n",
       "        [ 0.44633362,  0.56920223,  0.10666529,  0.63898688],\n",
       "        [ 2.97224329,  2.20702588,  0.25860765,  0.27420719]],\n",
       "\n",
       "       [[ 0.72545361,  0.14066037,  0.81850556, -0.7754722 ],\n",
       "        [ 1.05215243,  0.89010158,  0.22505352,  0.4213133 ],\n",
       "        [ 0.0592586 ,  1.07037489,  0.10998035, -1.88998259]]])"
      ]
     },
     "execution_count": 11,
     "metadata": {},
     "output_type": "execute_result"
    }
   ],
   "source": [
    "# a 3D array\n",
    "# a random array where the values come from a standard normal distribution\n",
    "'''random.randn(d0, d1, ..., dn)'''\n",
    "gaussian = np.random.randn(2*3*4)\n",
    "\n",
    "#resahpe the array to desitred shape\n",
    "# only the number of dimensions can be altered\n",
    "#the number of elements cannot be changed during a reshape operation\n",
    "\n",
    "gaussian = gaussian.reshape((2,3,4))\n",
    "gaussian"
   ]
  },
  {
   "cell_type": "code",
   "execution_count": 12,
   "metadata": {
    "colab": {
     "base_uri": "https://localhost:8080/"
    },
    "id": "M7CrYyda8khH",
    "outputId": "35e307ac-20c8-49f5-fd9c-e39684114e8a"
   },
   "outputs": [
    {
     "data": {
      "text/plain": [
       "array([[0., 0., 0., 0.],\n",
       "       [0., 0., 0., 0.],\n",
       "       [0., 0., 0., 0.]])"
      ]
     },
     "execution_count": 12,
     "metadata": {},
     "output_type": "execute_result"
    }
   ],
   "source": [
    "# an array full of zero values\n",
    "# one can also specify a desired datatype\n",
    "\n",
    "'''np.zeros(shape, dtype=float, order='C')'''\n",
    "zero_arr = np.zeros((3,4))\n",
    "zero_arr"
   ]
  },
  {
   "cell_type": "code",
   "execution_count": 13,
   "metadata": {
    "colab": {
     "base_uri": "https://localhost:8080/"
    },
    "id": "YG8BmUex9sjv",
    "outputId": "e2f84c45-0470-4810-f6f6-44468b8309e3"
   },
   "outputs": [
    {
     "data": {
      "text/plain": [
       "array([[1., 1., 1., 1.],\n",
       "       [1., 1., 1., 1.],\n",
       "       [1., 1., 1., 1.]], dtype=float32)"
      ]
     },
     "execution_count": 13,
     "metadata": {},
     "output_type": "execute_result"
    }
   ],
   "source": [
    "# an array full of ones\n",
    "# one can also specify datatype\n",
    "\n",
    "ones_arr = np.ones((3,4), dtype=np.float32)\n",
    "ones_arr"
   ]
  },
  {
   "cell_type": "code",
   "execution_count": 14,
   "metadata": {
    "colab": {
     "base_uri": "https://localhost:8080/"
    },
    "id": "HTlnbekK-HPf",
    "outputId": "90883ba3-f1b3-4873-8659-0075bd139e8d"
   },
   "outputs": [
    {
     "data": {
      "text/plain": [
       "array([[1., 0., 0.],\n",
       "       [0., 1., 0.],\n",
       "       [0., 0., 1.]], dtype=float128)"
      ]
     },
     "execution_count": 14,
     "metadata": {},
     "output_type": "execute_result"
    }
   ],
   "source": [
    "# a 3*3 identity (matrix) array\n",
    "# An identity matrix is a square matrix where all the diagonal elements are 1, and all other elements are 0.\n",
    "'''np.eye(N, M=None, k=0, dtype=<class 'float'>, order='C')'''\n",
    "iden = np.identity(3, dtype= np.float128)\n",
    "iden"
   ]
  },
  {
   "cell_type": "code",
   "execution_count": 15,
   "metadata": {
    "colab": {
     "base_uri": "https://localhost:8080/"
    },
    "id": "8aaFPBp9_cZ5",
    "outputId": "81234ae6-9ecf-4012-9ded-961152358ea1"
   },
   "outputs": [
    {
     "data": {
      "text/plain": [
       "array([[1., 0., 0., 0.],\n",
       "       [0., 2., 0., 0.],\n",
       "       [0., 0., 3., 0.],\n",
       "       [0., 0., 0., 4.]])"
      ]
     },
     "execution_count": 15,
     "metadata": {},
     "output_type": "execute_result"
    }
   ],
   "source": [
    "# a diagonal array\n",
    "\n",
    "diag = np.diag([1,2,3,4.0])\n",
    "diag"
   ]
  },
  {
   "cell_type": "code",
   "execution_count": 16,
   "metadata": {
    "colab": {
     "base_uri": "https://localhost:8080/"
    },
    "id": "a5b_pwVf_nek",
    "outputId": "00ea68ea-ef40-476d-add3-d3f6cb9642e1"
   },
   "outputs": [
    {
     "name": "stdout",
     "output_type": "stream",
     "text": [
      "[[[ 0.37370734  0.77707572  0.39479029  2.06444282]\n",
      "  [ 0.21155995 -1.92305457 -0.53447782  0.48880559]\n",
      "  [-1.14977691 -0.23090384  0.98816237 -0.6766298 ]]\n",
      "\n",
      " [[-0.34154272  1.2993996  -0.2224029   0.10834705]\n",
      "  [-0.6096913   0.01739315 -0.66088687 -0.5212048 ]\n",
      "  [ 1.69474931  1.64248018 -0.17405049 -1.46282699]]]\n"
     ]
    }
   ],
   "source": [
    "# a 3D random array where the values come from a standard Normal distribution\n",
    "#2*3*4 is evaluated as 24, meaning np.random.randn(24) generates 24 random values.\n",
    "gaussian = np.random.randn(2*3*4).reshape((2,3,4))\n",
    "print(gaussian)"
   ]
  },
  {
   "cell_type": "code",
   "execution_count": 17,
   "metadata": {
    "colab": {
     "base_uri": "https://localhost:8080/"
    },
    "id": "LRdeWpaI_8eu",
    "outputId": "c5888d67-ed08-4de4-bc73-3d2838a7b274"
   },
   "outputs": [
    {
     "name": "stdout",
     "output_type": "stream",
     "text": [
      "total dimensions of the array is :  3\n",
      "shape of the array is :  (2, 3, 4)\n",
      "total number of items is:  24\n",
      "memory consumed by each item is :  8\n",
      "memory consumed by the whole array is :  192\n"
     ]
    }
   ],
   "source": [
    "# get number fo dimensions fo the array\n",
    "gaussian.ndim\n",
    "print(\"total dimensions of the array is : \", gaussian.ndim)\n",
    "\n",
    "#get the shape of the array\n",
    "gaussian.shape\n",
    "print(\"shape of the array is : \", gaussian.shape)\n",
    "\n",
    "#get the total number of elements in array\n",
    "gaussian.size\n",
    "print(\"total number of items is: \", gaussian.size)\n",
    "\n",
    "# get memory consumed by each item in the array\n",
    "gaussian.itemsize\n",
    "print(\"memory consumed by each item is : \", gaussian.itemsize)\n",
    "\n",
    "#get memory consumed by the array\n",
    "gaussian.nbytes\n",
    "print(\"memory consumed by the whole array is : \", gaussian.nbytes)"
   ]
  },
  {
   "cell_type": "markdown",
   "metadata": {
    "id": "bKcXaKBEBsr9"
   },
   "source": [
    "\n",
    "**Array Indexing**\n",
    "\n",
    "We can index elements in an array using square brackets and indices. For 1D arrays, indexing works the same as with Python list.\n"
   ]
  },
  {
   "cell_type": "code",
   "execution_count": 18,
   "metadata": {
    "colab": {
     "base_uri": "https://localhost:8080/"
    },
    "id": "7rjNQdpDBgAN",
    "outputId": "50de71fb-99a7-4413-9fcc-607c9ddc339f"
   },
   "outputs": [
    {
     "data": {
      "text/plain": [
       "array([ 5,  8,  5,  4, 10,  0,  5, 13, 13, 19])"
      ]
     },
     "execution_count": 18,
     "metadata": {},
     "output_type": "execute_result"
    }
   ],
   "source": [
    "# 1D array of random integers\n",
    "# get 10 integers from 0 to 22\n",
    "\n",
    "num_samples = 10\n",
    "integers = np.random.randint(23, size=num_samples)\n",
    "integers"
   ]
  },
  {
   "cell_type": "code",
   "execution_count": 19,
   "metadata": {
    "colab": {
     "base_uri": "https://localhost:8080/"
    },
    "id": "RLPCgDbNCXrP",
    "outputId": "5564e0cd-f08e-4f01-f422-53c45d96580e"
   },
   "outputs": [
    {
     "data": {
      "text/plain": [
       "5"
      ]
     },
     "execution_count": 19,
     "metadata": {},
     "output_type": "execute_result"
    }
   ],
   "source": [
    "# indexing 1D array needs only one index\n",
    "# get 3rd element (remember: NumPy unlike MATLAB is 0 based indexing)\n",
    "integers[2]"
   ]
  },
  {
   "cell_type": "code",
   "execution_count": 20,
   "metadata": {
    "colab": {
     "base_uri": "https://localhost:8080/"
    },
    "id": "kE7fZeM2Cel_",
    "outputId": "a567500a-30b9-43a3-c2f1-732c2d5fd607"
   },
   "outputs": [
    {
     "data": {
      "text/plain": [
       "array([[ 1,  2,  3,  4,  5,  6,  7,  8,  9, 10, 11, 12, 13, 14, 15],\n",
       "       [16, 17, 18, 19, 20, 21, 22, 23, 24, 25, 26, 27, 28, 29, 30],\n",
       "       [31, 32, 33, 34, 35, 36, 37, 38, 39, 40, 41, 42, 43, 44, 45]])"
      ]
     },
     "execution_count": 20,
     "metadata": {},
     "output_type": "execute_result"
    }
   ],
   "source": [
    "# The reshape(3, -1) function reshapes the 1D array into a 2D array with 3 rows. The -1 means that NumPy will automatically determine the correct number of columns\n",
    "#based on the total number of elements (45 in this case).\n",
    "twoD_arr= np.arange(1,46).reshape(3, -1)\n",
    "twoD_arr"
   ]
  },
  {
   "cell_type": "code",
   "execution_count": 21,
   "metadata": {
    "colab": {
     "base_uri": "https://localhost:8080/"
    },
    "id": "D-BBSs5sDMNl",
    "outputId": "a7ec1662-c8d1-4e34-be41-7515976f5b33"
   },
   "outputs": [
    {
     "data": {
      "text/plain": [
       "45"
      ]
     },
     "execution_count": 21,
     "metadata": {},
     "output_type": "execute_result"
    }
   ],
   "source": [
    "# indexing 2D array needs only two indices.\n",
    "# then it returns a scalar value\n",
    "\n",
    "# value at last row and last column\n",
    "twoD_arr[-1,-1]"
   ]
  },
  {
   "cell_type": "code",
   "execution_count": 22,
   "metadata": {
    "colab": {
     "base_uri": "https://localhost:8080/"
    },
    "id": "UOt7m_odDRxl",
    "outputId": "a48c5d02-1a76-4018-bcf2-9980f98ddb8c"
   },
   "outputs": [
    {
     "data": {
      "text/plain": [
       "array([31, 32, 33, 34, 35, 36, 37, 38, 39, 40, 41, 42, 43, 44, 45])"
      ]
     },
     "execution_count": 22,
     "metadata": {},
     "output_type": "execute_result"
    }
   ],
   "source": [
    "# howevthe  if we use only one (valid) index then it returns a 1D array\n",
    "\n",
    "# get all elments in the last row\n",
    "twoD_arr[-1]  # or twoD_arr[-1, ] or twoD_arr[-1, :]"
   ]
  },
  {
   "cell_type": "code",
   "execution_count": 23,
   "metadata": {
    "colab": {
     "base_uri": "https://localhost:8080/"
    },
    "id": "rqM2eAu5DyV4",
    "outputId": "b259112b-fec5-4590-9a04-31d9845f65d7"
   },
   "outputs": [
    {
     "data": {
      "text/plain": [
       "array([[[ 0.37370734,  0.77707572,  0.39479029,  2.06444282],\n",
       "        [ 0.21155995, -1.92305457, -0.53447782,  0.48880559],\n",
       "        [-1.14977691, -0.23090384,  0.98816237, -0.6766298 ]],\n",
       "\n",
       "       [[-0.34154272,  1.2993996 , -0.2224029 ,  0.10834705],\n",
       "        [-0.6096913 ,  0.01739315, -0.66088687, -0.5212048 ],\n",
       "        [ 1.69474931,  1.64248018, -0.17405049, -1.46282699]]])"
      ]
     },
     "execution_count": 23,
     "metadata": {},
     "output_type": "execute_result"
    }
   ],
   "source": [
    "# remember `gaussian` is a 3D array.\n",
    "gaussian"
   ]
  },
  {
   "cell_type": "code",
   "execution_count": 24,
   "metadata": {
    "colab": {
     "base_uri": "https://localhost:8080/"
    },
    "id": "MYK-HZckD3uj",
    "outputId": "c99ec4ad-a48d-41ad-cf2b-bbb124a55f84"
   },
   "outputs": [
    {
     "data": {
      "text/plain": [
       "array([[-0.34154272,  1.2993996 , -0.2224029 ,  0.10834705],\n",
       "       [-0.6096913 ,  0.01739315, -0.66088687, -0.5212048 ],\n",
       "       [ 1.69474931,  1.64248018, -0.17405049, -1.46282699]])"
      ]
     },
     "execution_count": 24,
     "metadata": {},
     "output_type": "execute_result"
    }
   ],
   "source": [
    "# So, a 2D array is returned when using one index\n",
    "\n",
    "# return last slice\n",
    "gaussian[-1]"
   ]
  },
  {
   "cell_type": "code",
   "execution_count": 25,
   "metadata": {
    "colab": {
     "base_uri": "https://localhost:8080/"
    },
    "id": "a14Q_yY4EHm1",
    "outputId": "d7fece90-48ac-44fb-9c9d-034c0e7714b7"
   },
   "outputs": [
    {
     "data": {
      "text/plain": [
       "array([-0.34154272,  1.2993996 , -0.2224029 ,  0.10834705])"
      ]
     },
     "execution_count": 25,
     "metadata": {},
     "output_type": "execute_result"
    }
   ],
   "source": [
    "# a 1D array is returned when using a pair of indices\n",
    "\n",
    "# return first row from last slice\n",
    "gaussian[-1,0]"
   ]
  },
  {
   "cell_type": "code",
   "execution_count": 26,
   "metadata": {
    "colab": {
     "base_uri": "https://localhost:8080/"
    },
    "id": "H5CvfU_sERJL",
    "outputId": "b647c3f4-488e-4d2e-a129-6cac70e65fbd"
   },
   "outputs": [
    {
     "data": {
      "text/plain": [
       "array([ 1.69474931,  1.64248018, -0.17405049, -1.46282699])"
      ]
     },
     "execution_count": 26,
     "metadata": {},
     "output_type": "execute_result"
    }
   ],
   "source": [
    "# return last row from last slice\n",
    "gaussian[-1,-1]\n"
   ]
  },
  {
   "cell_type": "code",
   "execution_count": 27,
   "metadata": {
    "colab": {
     "base_uri": "https://localhost:8080/"
    },
    "id": "mIzQWsUFEjr0",
    "outputId": "932a2db8-f47a-492e-921c-675814227b5e"
   },
   "outputs": [
    {
     "data": {
      "text/plain": [
       "-1.462826992896081"
      ]
     },
     "execution_count": 27,
     "metadata": {},
     "output_type": "execute_result"
    }
   ],
   "source": [
    "# return last element of row of last slice\n",
    "idx=(-1,-1,-1)\n",
    "gaussian[idx]\n"
   ]
  },
  {
   "cell_type": "markdown",
   "metadata": {
    "id": "tZUit3N0E4Eu"
   },
   "source": [
    "\n",
    "\n",
    "We can also assign new values to elements in an array using indexing:\n"
   ]
  },
  {
   "cell_type": "markdown",
   "metadata": {
    "id": "eE3-q31nBnar"
   },
   "source": []
  },
  {
   "cell_type": "code",
   "execution_count": 28,
   "metadata": {
    "colab": {
     "base_uri": "https://localhost:8080/"
    },
    "id": "g9ak0ejxE5Xz",
    "outputId": "cc970e32-019b-4fd3-9603-cc174edd3f22"
   },
   "outputs": [
    {
     "data": {
      "text/plain": [
       "array([ 5,  8, 99,  4, 10,  0,  5, 13, 13, 19])"
      ]
     },
     "execution_count": 28,
     "metadata": {},
     "output_type": "execute_result"
    }
   ],
   "source": [
    "# updating the array by assigning values\n",
    "\n",
    "\n",
    "# updating the array by assigning values\n",
    "# truncation will happen if there's a datatype mismatch\n",
    "# pringt (integers)\n",
    "\n",
    "integers[2]=99.21\n",
    "integers\n"
   ]
  },
  {
   "cell_type": "markdown",
   "metadata": {
    "id": "gIjD3sqPFcUP"
   },
   "source": [
    "**Index slicing**\n",
    "\n",
    "Index slicing is the technical name for the syntax M[lower:upper:step] to extract part of an array. Negative indices counts from the end of the array (positive index from the begining):\n"
   ]
  },
  {
   "cell_type": "code",
   "execution_count": 29,
   "metadata": {
    "colab": {
     "base_uri": "https://localhost:8080/"
    },
    "id": "i6gjSIM9FMRz",
    "outputId": "ce292a52-3039-4313-bdb8-e2da449178f2"
   },
   "outputs": [
    {
     "data": {
      "text/plain": [
       "array([ 5,  8, 99,  4, 10,  0,  5, 13, 13, 19])"
      ]
     },
     "execution_count": 29,
     "metadata": {},
     "output_type": "execute_result"
    }
   ],
   "source": [
    "integers"
   ]
  },
  {
   "cell_type": "code",
   "execution_count": 30,
   "metadata": {
    "colab": {
     "base_uri": "https://localhost:8080/"
    },
    "id": "GMksxerfFl1d",
    "outputId": "b5a652e3-8c33-4bf1-d6c0-106b876137a2"
   },
   "outputs": [
    {
     "data": {
      "text/plain": [
       "array([ 0,  5, 13, 13, 19])"
      ]
     },
     "execution_count": 30,
     "metadata": {},
     "output_type": "execute_result"
    }
   ],
   "source": [
    "# slice a portion of the array\n",
    "# similar to Python iterator slicing\n",
    "# x[start:stop:step]\n",
    "\n",
    "# get last 5 elements\n",
    "integers[-5:]\n",
    "\n",
    "#if `stop` is ommitted then is'll be sliced till the end of the array\n",
    "# by default, step is 1"
   ]
  },
  {
   "cell_type": "code",
   "execution_count": 31,
   "metadata": {
    "colab": {
     "base_uri": "https://localhost:8080/"
    },
    "id": "O4ixlP4AGK5V",
    "outputId": "b9e65183-f928-44bc-9f8d-0dfbd97b0ae3"
   },
   "outputs": [
    {
     "data": {
      "text/plain": [
       "array([ 5, 99, 10,  5, 13])"
      ]
     },
     "execution_count": 31,
     "metadata": {},
     "output_type": "execute_result"
    }
   ],
   "source": [
    "\n",
    "\n",
    "# get alternative elements (every other element) from the array\n",
    "# equivalently step = 2\n",
    "integers[::2]"
   ]
  },
  {
   "cell_type": "code",
   "execution_count": 32,
   "metadata": {
    "colab": {
     "base_uri": "https://localhost:8080/"
    },
    "id": "YbwJJ-hbGdSx",
    "outputId": "99686268-f9dd-4fb0-fa27-2dae2b765b2d"
   },
   "outputs": [
    {
     "data": {
      "text/plain": [
       "array([19, 13, 13,  5,  0, 10,  4, 99,  8,  5])"
      ]
     },
     "execution_count": 32,
     "metadata": {},
     "output_type": "execute_result"
    }
   ],
   "source": [
    "# reversing the array\n",
    "integers[::-1]"
   ]
  },
  {
   "cell_type": "code",
   "execution_count": 33,
   "metadata": {
    "colab": {
     "base_uri": "https://localhost:8080/"
    },
    "id": "l3yNzElZGouM",
    "outputId": "3cce993a-1b50-4090-93d8-73827eb11da0"
   },
   "outputs": [
    {
     "data": {
      "text/plain": [
       "array([ 4, 10,  0,  5, 13, 13, 19])"
      ]
     },
     "execution_count": 33,
     "metadata": {},
     "output_type": "execute_result"
    }
   ],
   "source": [
    "# forward traveersal of array\n",
    "integers[3::]"
   ]
  },
  {
   "cell_type": "code",
   "execution_count": 34,
   "metadata": {
    "colab": {
     "base_uri": "https://localhost:8080/"
    },
    "id": "Qlc8uVlSG62t",
    "outputId": "700c482f-6ab0-4d75-d19e-3f7533f40a5a"
   },
   "outputs": [
    {
     "data": {
      "text/plain": [
       "array([ 4, 99,  8,  5])"
      ]
     },
     "execution_count": 34,
     "metadata": {},
     "output_type": "execute_result"
    }
   ],
   "source": [
    "# reverse travesal of array (starting from 4th element)\n",
    "integers[3::-1]"
   ]
  },
  {
   "cell_type": "markdown",
   "metadata": {
    "id": "8Q7bWzSrHhwh"
   },
   "source": [
    "Array slices are mutable: if they are assigned a new value the original array from which the slice was extracted is modified:"
   ]
  },
  {
   "cell_type": "code",
   "execution_count": 35,
   "metadata": {
    "colab": {
     "base_uri": "https://localhost:8080/"
    },
    "id": "iaJDUJUIHUJK",
    "outputId": "c9d1e179-bea6-4115-e13a-fcd9407bca4f"
   },
   "outputs": [
    {
     "data": {
      "text/plain": [
       "array([ 5,  8, 99,  4, 10,  0,  5, 13, 13, 19])"
      ]
     },
     "execution_count": 35,
     "metadata": {},
     "output_type": "execute_result"
    }
   ],
   "source": [
    "integers"
   ]
  },
  {
   "cell_type": "code",
   "execution_count": 36,
   "metadata": {
    "colab": {
     "base_uri": "https://localhost:8080/"
    },
    "id": "xUcbCs-CHcse",
    "outputId": "c1e36811-4922-4eb8-ddde-8cab5771e13a"
   },
   "outputs": [
    {
     "data": {
      "text/plain": [
       "array([  5,   8,  99,   4,  10,   0,   5,  13,  -2, -46])"
      ]
     },
     "execution_count": 36,
     "metadata": {},
     "output_type": "execute_result"
    }
   ],
   "source": [
    "# assign new values to the last two elements\n",
    "integers[-2:]=[-2,-46]\n",
    "integers"
   ]
  },
  {
   "cell_type": "markdown",
   "metadata": {
    "id": "Ig5TiPCfH3IN"
   },
   "source": [
    "**nD arrays**"
   ]
  },
  {
   "cell_type": "code",
   "execution_count": 37,
   "metadata": {
    "colab": {
     "base_uri": "https://localhost:8080/"
    },
    "id": "Eajsu6vxHxT3",
    "outputId": "d52bfd56-97e0-4791-b251-83a536014617"
   },
   "outputs": [
    {
     "data": {
      "text/plain": [
       "array([[ 0,  1,  2,  3,  4],\n",
       "       [ 5,  6,  7,  8,  9],\n",
       "       [10, 11, 12, 13, 14],\n",
       "       [15, 16, 17, 18, 19]])"
      ]
     },
     "execution_count": 37,
     "metadata": {},
     "output_type": "execute_result"
    }
   ],
   "source": [
    "# a 2D array\n",
    "twenty = (np.arange(4*5)).reshape(4,5)\n",
    "twenty"
   ]
  },
  {
   "cell_type": "code",
   "execution_count": 38,
   "metadata": {
    "colab": {
     "base_uri": "https://localhost:8080/"
    },
    "id": "stJRqIbFIFaS",
    "outputId": "2e8df2d0-b417-481d-f00d-e9ea70a63a55"
   },
   "outputs": [
    {
     "data": {
      "text/plain": [
       "array([[0, 1, 2],\n",
       "       [5, 6, 7]])"
      ]
     },
     "execution_count": 38,
     "metadata": {},
     "output_type": "execute_result"
    }
   ],
   "source": [
    "# slice first 2 rows and 3 columns\n",
    "twenty[:2, :3]"
   ]
  },
  {
   "cell_type": "code",
   "execution_count": 39,
   "metadata": {
    "colab": {
     "base_uri": "https://localhost:8080/"
    },
    "id": "ydJxMVdeIQ_4",
    "outputId": "3a3b0414-cf04-4617-ac7c-2e8195039687"
   },
   "outputs": [
    {
     "data": {
      "text/plain": [
       "array([[ 0,  4],\n",
       "       [15, 19]])"
      ]
     },
     "execution_count": 39,
     "metadata": {},
     "output_type": "execute_result"
    }
   ],
   "source": [
    "# slice and get only the corner elements\n",
    "# three \"jumps\" along dimension 0\n",
    "# four \"jumps\" along dimension 1\n",
    "twenty[::3, ::4]"
   ]
  },
  {
   "cell_type": "code",
   "execution_count": 40,
   "metadata": {
    "colab": {
     "base_uri": "https://localhost:8080/"
    },
    "id": "2pNHajVoI3_C",
    "outputId": "1497e9c6-f986-40f1-d59d-92918d799ff6"
   },
   "outputs": [
    {
     "data": {
      "text/plain": [
       "array([[15, 16, 17, 18, 19],\n",
       "       [10, 11, 12, 13, 14],\n",
       "       [ 5,  6,  7,  8,  9],\n",
       "       [ 0,  1,  2,  3,  4]])"
      ]
     },
     "execution_count": 40,
     "metadata": {},
     "output_type": "execute_result"
    }
   ],
   "source": [
    "# reversing the order of elements along columns (i.e. along dimension 0)\n",
    "twenty[::-1, ...]"
   ]
  },
  {
   "cell_type": "code",
   "execution_count": 41,
   "metadata": {
    "colab": {
     "base_uri": "https://localhost:8080/"
    },
    "id": "wUW2-PSzLExA",
    "outputId": "f5ab0e0e-bb0a-4980-8dc6-694188b66ef0"
   },
   "outputs": [
    {
     "data": {
      "text/plain": [
       "array([[ 4,  3,  2,  1,  0],\n",
       "       [ 9,  8,  7,  6,  5],\n",
       "       [14, 13, 12, 11, 10],\n",
       "       [19, 18, 17, 16, 15]])"
      ]
     },
     "execution_count": 41,
     "metadata": {},
     "output_type": "execute_result"
    }
   ],
   "source": [
    "# reversing the order of elements along rows (i.e. along dimension 1)\n",
    "twenty[..., ::-1]"
   ]
  },
  {
   "cell_type": "code",
   "execution_count": 42,
   "metadata": {
    "colab": {
     "base_uri": "https://localhost:8080/"
    },
    "id": "AJ9tyDv7LwLH",
    "outputId": "e68d2fba-4c7e-41a9-c510-9dbe459695d0"
   },
   "outputs": [
    {
     "data": {
      "text/plain": [
       "array([[19, 18, 17, 16, 15],\n",
       "       [14, 13, 12, 11, 10],\n",
       "       [ 9,  8,  7,  6,  5],\n",
       "       [ 4,  3,  2,  1,  0]])"
      ]
     },
     "execution_count": 42,
     "metadata": {},
     "output_type": "execute_result"
    }
   ],
   "source": [
    "\n",
    "\n",
    "# reversing the rows and columns (i.e. along both dimensions)\n",
    "twenty[::-1, ::-1]\n",
    "\n"
   ]
  },
  {
   "cell_type": "code",
   "execution_count": 43,
   "metadata": {
    "colab": {
     "base_uri": "https://localhost:8080/"
    },
    "id": "HHQwSvCsL0bv",
    "outputId": "251390de-b443-43af-ba1a-ff1433b8d247"
   },
   "outputs": [
    {
     "data": {
      "text/plain": [
       "array([[19, 18, 17, 16, 15],\n",
       "       [14, 13, 12, 11, 10],\n",
       "       [ 9,  8,  7,  6,  5],\n",
       "       [ 4,  3,  2,  1,  0]])"
      ]
     },
     "execution_count": 43,
     "metadata": {},
     "output_type": "execute_result"
    }
   ],
   "source": [
    "# or more intuitively\n",
    "np.flip(twenty, axis=(0,1))\n",
    "\n",
    "\n",
    "# or equivalently\n",
    "np.flipud(np.fliplr(twenty))\n",
    "np.fliplr(np.flipud(twenty))"
   ]
  },
  {
   "cell_type": "markdown",
   "metadata": {
    "id": "G4HWSuHdMkdS"
   },
   "source": [
    "\n",
    "**Fancy indexing**\n",
    "\n",
    "Fancy indexing is the name for when an array or a list is used in-place of an index:\n"
   ]
  },
  {
   "cell_type": "code",
   "execution_count": 44,
   "metadata": {
    "colab": {
     "base_uri": "https://localhost:8080/"
    },
    "id": "Tey0GtQKMGkL",
    "outputId": "092f9120-eade-4440-e35b-14555e3be1df"
   },
   "outputs": [
    {
     "data": {
      "text/plain": [
       "array([[ 0,  1,  2,  3,  4],\n",
       "       [ 5,  6,  7,  8,  9],\n",
       "       [10, 11, 12, 13, 14],\n",
       "       [15, 16, 17, 18, 19]])"
      ]
     },
     "execution_count": 44,
     "metadata": {},
     "output_type": "execute_result"
    }
   ],
   "source": [
    "# a 2D array\n",
    "twenty"
   ]
  },
  {
   "cell_type": "code",
   "execution_count": 45,
   "metadata": {
    "colab": {
     "base_uri": "https://localhost:8080/"
    },
    "id": "-kdJnH7BM3g8",
    "outputId": "7730b48c-e778-4ac0-e9fd-1a3985ef1e1a"
   },
   "outputs": [
    {
     "data": {
      "text/plain": [
       "array([[ 5,  6,  7,  8,  9],\n",
       "       [10, 11, 12, 13, 14],\n",
       "       [15, 16, 17, 18, 19]])"
      ]
     },
     "execution_count": 45,
     "metadata": {},
     "output_type": "execute_result"
    }
   ],
   "source": [
    "# get 2nd, 3rd, and 4th rows\n",
    "row_indices = [1, 2, 3]\n",
    "twenty[row_indices]"
   ]
  },
  {
   "cell_type": "code",
   "execution_count": 46,
   "metadata": {
    "colab": {
     "base_uri": "https://localhost:8080/"
    },
    "id": "FKBYkgnPM720",
    "outputId": "68ea2fc8-7d7e-4d0a-c344-0f1d531cc085"
   },
   "outputs": [
    {
     "data": {
      "text/plain": [
       "array([ 6, 12, 19])"
      ]
     },
     "execution_count": 46,
     "metadata": {},
     "output_type": "execute_result"
    }
   ],
   "source": [
    "#In this part, col_indices specifies the columns to be extracted: the 2nd column, the 3rd column, and the last column (using -1 for the last element).\n",
    "col_indices = [1, 2, -1] # 3rd column and last column\n",
    "twenty[row_indices, col_indices]"
   ]
  },
  {
   "cell_type": "code",
   "execution_count": 47,
   "metadata": {
    "colab": {
     "base_uri": "https://localhost:8080/"
    },
    "id": "BWbgl5_zOhde",
    "outputId": "3b816eea-38df-49f0-dede-e04d2c1d56bf"
   },
   "outputs": [
    {
     "data": {
      "text/plain": [
       "array([ 5, 99, 10,  5, -2])"
      ]
     },
     "execution_count": 47,
     "metadata": {},
     "output_type": "execute_result"
    }
   ],
   "source": [
    "# mask has to be of the same shape as the array to be indexed; else IndexError would be thrown\n",
    "# mask for indexing alternate elements in the array\n",
    "row_mask = np.array([True, False, True, False, True, False, True, False, True, False])\n",
    "\n",
    "integers[row_mask]\n"
   ]
  },
  {
   "cell_type": "code",
   "execution_count": 48,
   "metadata": {
    "colab": {
     "base_uri": "https://localhost:8080/"
    },
    "id": "0Rs1WWWEiKfq",
    "outputId": "4c93b9d5-480c-4c5e-e812-4c9044bbb354"
   },
   "outputs": [
    {
     "data": {
      "text/plain": [
       "array([  5,   8,  99,   4,  10,   0,   5,  13,  -2, -46])"
      ]
     },
     "execution_count": 48,
     "metadata": {},
     "output_type": "execute_result"
    }
   ],
   "source": [
    "integers"
   ]
  },
  {
   "cell_type": "code",
   "execution_count": 49,
   "metadata": {
    "colab": {
     "base_uri": "https://localhost:8080/"
    },
    "id": "Efum_hDLioUl",
    "outputId": "c661584b-d1c6-46ff-ef0c-179d4258c6f2"
   },
   "outputs": [
    {
     "data": {
      "text/plain": [
       "array([ 5, 99, 10,  5, -2])"
      ]
     },
     "execution_count": 49,
     "metadata": {},
     "output_type": "execute_result"
    }
   ],
   "source": [
    "# alternatively\n",
    "row_mask = np.array([1, 0, 1, 0, 1, 0, 1, 0, 1, 0], dtype= np.bool_)\n",
    "integers[row_mask]"
   ]
  },
  {
   "cell_type": "markdown",
   "metadata": {
    "id": "dh5_RT6Ai_Hl"
   },
   "source": [
    "This feature is very useful to conditionally select elements from an array, using for example comparison operators:"
   ]
  },
  {
   "cell_type": "code",
   "execution_count": 50,
   "metadata": {
    "colab": {
     "base_uri": "https://localhost:8080/"
    },
    "id": "DozLUn9mi4ZN",
    "outputId": "71d359ed-694a-43d0-e11f-dd9ca2c63706"
   },
   "outputs": [
    {
     "data": {
      "text/plain": [
       "array([0. , 0.5, 1. , 1.5, 2. , 2.5, 3. , 3.5, 4. , 4.5, 5. , 5.5, 6. ,\n",
       "       6.5, 7. , 7.5, 8. , 8.5, 9. , 9.5])"
      ]
     },
     "execution_count": 50,
     "metadata": {},
     "output_type": "execute_result"
    }
   ],
   "source": [
    "\n",
    "\n",
    "range_arr = np.arange(0, 10, 0.5)\n",
    "range_arr"
   ]
  },
  {
   "cell_type": "code",
   "execution_count": 51,
   "metadata": {
    "colab": {
     "base_uri": "https://localhost:8080/"
    },
    "id": "XPuH7ov9jF7p",
    "outputId": "823b61a2-c6b0-4947-e3fa-ff2be4fbfff4"
   },
   "outputs": [
    {
     "data": {
      "text/plain": [
       "array([False, False, False, False, False, False, False, False, False,\n",
       "       False, False,  True,  True,  True,  True, False, False, False,\n",
       "       False, False])"
      ]
     },
     "execution_count": 51,
     "metadata": {},
     "output_type": "execute_result"
    }
   ],
   "source": [
    "mask = (range_arr > 5) * (range_arr < 7.5)\n",
    "mask"
   ]
  },
  {
   "cell_type": "code",
   "execution_count": 52,
   "metadata": {
    "colab": {
     "base_uri": "https://localhost:8080/"
    },
    "id": "QHrQuQoYkjEE",
    "outputId": "8ce657b5-1ec3-4363-b417-24ac9d5d762a"
   },
   "outputs": [
    {
     "data": {
      "text/plain": [
       "array([5.5, 6. , 6.5, 7. ])"
      ]
     },
     "execution_count": 52,
     "metadata": {},
     "output_type": "execute_result"
    }
   ],
   "source": [
    "range_arr[mask]"
   ]
  },
  {
   "cell_type": "code",
   "execution_count": 53,
   "metadata": {
    "colab": {
     "base_uri": "https://localhost:8080/"
    },
    "id": "2iUbqFP2kmac",
    "outputId": "4f118a3c-7683-4122-c3f7-cd8bbd0e0c19"
   },
   "outputs": [
    {
     "data": {
      "text/plain": [
       "array([5.5, 6. , 6.5, 7. ])"
      ]
     },
     "execution_count": 53,
     "metadata": {},
     "output_type": "execute_result"
    }
   ],
   "source": [
    "# or equivalently\n",
    "\n",
    "mask = (5 < range_arr) & (range_arr < 7.5)\n",
    "range_arr[mask]\n"
   ]
  },
  {
   "cell_type": "markdown",
   "metadata": {
    "id": "0ucwiUK4kyc0"
   },
   "source": [
    "\n",
    "Linear operations\n",
    "\n",
    "Vectorizing the code is key to writing efficient numerical calculation with Python/NumPy. This means that, as much as possible, a program should be formulated in terms of matrix and vector operations, like matrix-matrix multiplication.\n",
    "Scalar-array operations\n",
    "\n",
    "We can use the usual arithmetic operators to multiply, add, subtract, and divide arrays with scalar numbers.\n"
   ]
  },
  {
   "cell_type": "code",
   "execution_count": 54,
   "metadata": {
    "colab": {
     "base_uri": "https://localhost:8080/"
    },
    "id": "8F5QDzXukuxh",
    "outputId": "622c3289-c145-4289-f2cf-90abbfd53df0"
   },
   "outputs": [
    {
     "data": {
      "text/plain": [
       "array([0, 1, 2, 3, 4])"
      ]
     },
     "execution_count": 54,
     "metadata": {},
     "output_type": "execute_result"
    }
   ],
   "source": [
    "vec = np.arange(0, 5)\n",
    "\n",
    "vec"
   ]
  },
  {
   "cell_type": "code",
   "execution_count": 55,
   "metadata": {
    "colab": {
     "base_uri": "https://localhost:8080/"
    },
    "id": "eqljZZvqk1z_",
    "outputId": "21495d91-0611-4d25-fc9f-433100bd178d"
   },
   "outputs": [
    {
     "data": {
      "text/plain": [
       "array([0, 2, 4, 6, 8])"
      ]
     },
     "execution_count": 55,
     "metadata": {},
     "output_type": "execute_result"
    }
   ],
   "source": [
    "# note that original `vec` still remains unaffected since we haven't assigned the new array to it.\n",
    "vec * 2"
   ]
  },
  {
   "cell_type": "code",
   "execution_count": 56,
   "metadata": {
    "colab": {
     "base_uri": "https://localhost:8080/"
    },
    "id": "d2pxlc89k8kv",
    "outputId": "fd827c9c-20d8-43e3-bf52-7336265f4d98"
   },
   "outputs": [
    {
     "data": {
      "text/plain": [
       "array([2, 3, 4, 5, 6])"
      ]
     },
     "execution_count": 56,
     "metadata": {},
     "output_type": "execute_result"
    }
   ],
   "source": [
    "vec + 2"
   ]
  },
  {
   "cell_type": "markdown",
   "metadata": {
    "id": "0S8ikW7ulA80"
   },
   "source": [
    "\n",
    "Element-wise array-array operations\n",
    "\n",
    "When we add, subtract, multiply, and divide arrays with each other, the default behaviour is element-wise operations:\n",
    "\n"
   ]
  },
  {
   "cell_type": "code",
   "execution_count": 57,
   "metadata": {
    "colab": {
     "base_uri": "https://localhost:8080/"
    },
    "id": "5CcQ0YiSk-05",
    "outputId": "380b71ba-537b-4b3e-d4e1-1da92139e715"
   },
   "outputs": [
    {
     "data": {
      "text/plain": [
       "array([[ 0,  1,  2,  3,  4],\n",
       "       [ 5,  6,  7,  8,  9],\n",
       "       [10, 11, 12, 13, 14],\n",
       "       [15, 16, 17, 18, 19]])"
      ]
     },
     "execution_count": 57,
     "metadata": {},
     "output_type": "execute_result"
    }
   ],
   "source": [
    "arr = np.arange(4 * 5).reshape(4, 5)\n",
    "arr"
   ]
  },
  {
   "cell_type": "code",
   "execution_count": 58,
   "metadata": {
    "colab": {
     "base_uri": "https://localhost:8080/"
    },
    "id": "VpaRyhiplE3z",
    "outputId": "f9e476e4-f421-4526-eb1b-3039437a0163"
   },
   "outputs": [
    {
     "data": {
      "text/plain": [
       "array([[  30,   80,  130,  180],\n",
       "       [  80,  255,  430,  605],\n",
       "       [ 130,  430,  730, 1030],\n",
       "       [ 180,  605, 1030, 1455]])"
      ]
     },
     "execution_count": 58,
     "metadata": {},
     "output_type": "execute_result"
    }
   ],
   "source": [
    "np.matmul(arr, (arr.T))"
   ]
  },
  {
   "cell_type": "code",
   "execution_count": 59,
   "metadata": {
    "colab": {
     "base_uri": "https://localhost:8080/"
    },
    "id": "3OG4VElElOZQ",
    "outputId": "c9ff7562-1644-4248-b7ed-1485f40d7754"
   },
   "outputs": [
    {
     "name": "stdout",
     "output_type": "stream",
     "text": [
      "(5,) (4, 5)\n"
     ]
    },
    {
     "data": {
      "text/plain": [
       "array([[ 0,  1,  4,  9, 16],\n",
       "       [ 0,  6, 14, 24, 36],\n",
       "       [ 0, 11, 24, 39, 56],\n",
       "       [ 0, 16, 34, 54, 76]])"
      ]
     },
     "execution_count": 59,
     "metadata": {},
     "output_type": "execute_result"
    }
   ],
   "source": [
    "print(vec.shape, arr.shape)\n",
    "\n",
    "# shape has to match\n",
    "vec * arr"
   ]
  },
  {
   "cell_type": "code",
   "execution_count": 60,
   "metadata": {
    "colab": {
     "base_uri": "https://localhost:8080/",
     "height": 248
    },
    "id": "XKTctAzMmDO4",
    "outputId": "0d5473ce-17c3-41e6-ea5f-22cb4d1c06b3"
   },
   "outputs": [
    {
     "name": "stdout",
     "output_type": "stream",
     "text": [
      "(5, 1)\n"
     ]
    },
    {
     "ename": "ValueError",
     "evalue": "operands could not be broadcast together with shapes (5,1) (4,5) ",
     "output_type": "error",
     "traceback": [
      "\u001b[0;31m---------------------------------------------------------------------------\u001b[0m",
      "\u001b[0;31mValueError\u001b[0m                                Traceback (most recent call last)",
      "Cell \u001b[0;32mIn[60], line 4\u001b[0m\n\u001b[1;32m      1\u001b[0m \u001b[38;5;66;03m# else no broadcasting will happen and an error is thrown\u001b[39;00m\n\u001b[1;32m      2\u001b[0m \u001b[38;5;28mprint\u001b[39m(vec[:, \u001b[38;5;28;01mNone\u001b[39;00m]\u001b[38;5;241m.\u001b[39mshape)\n\u001b[0;32m----> 4\u001b[0m vec[:, \u001b[38;5;28;01mNone\u001b[39;00m] \u001b[38;5;241m*\u001b[39m arr\n",
      "\u001b[0;31mValueError\u001b[0m: operands could not be broadcast together with shapes (5,1) (4,5) "
     ]
    }
   ],
   "source": [
    "# else no broadcasting will happen and an error is thrown\n",
    "print(vec[:, None].shape)\n",
    "\n",
    "vec[:, None] * arr"
   ]
  },
  {
   "cell_type": "code",
   "execution_count": null,
   "metadata": {
    "colab": {
     "base_uri": "https://localhost:8080/"
    },
    "id": "1mLBDu1zmOkq",
    "outputId": "1537b188-3694-46b2-a068-dad2e6124fe9"
   },
   "outputs": [],
   "source": [
    "# however, this would work\n",
    "vec[:4, None] * arr"
   ]
  },
  {
   "cell_type": "markdown",
   "metadata": {
    "id": "B1zUJHzcm8rr"
   },
   "source": [
    "**Matrix operations**\n",
    "\n",
    "What about the glorified matrix mutiplication? There are two ways. We can either use the dot function, which applies a matrix-matrix, matrix-vector, or inner vector multiplication to its two arguments. Or you can use the @ operator in Python 3"
   ]
  },
  {
   "cell_type": "code",
   "execution_count": 61,
   "metadata": {
    "colab": {
     "base_uri": "https://localhost:8080/"
    },
    "id": "lBgUhuRJm3KV",
    "outputId": "e34dc2be-3a78-43a7-b1c1-ced800b10930"
   },
   "outputs": [
    {
     "name": "stdout",
     "output_type": "stream",
     "text": [
      "(5, 4) (4, 5)\n"
     ]
    },
    {
     "data": {
      "text/plain": [
       "array([[350, 380, 410, 440, 470],\n",
       "       [380, 414, 448, 482, 516],\n",
       "       [410, 448, 486, 524, 562],\n",
       "       [440, 482, 524, 566, 608],\n",
       "       [470, 516, 562, 608, 654]])"
      ]
     },
     "execution_count": 61,
     "metadata": {},
     "output_type": "execute_result"
    }
   ],
   "source": [
    "# matrix-matrix product\n",
    "print(arr.T.shape, arr.shape)\n",
    "np.dot(arr.T, arr)"
   ]
  },
  {
   "cell_type": "code",
   "execution_count": 62,
   "metadata": {
    "colab": {
     "base_uri": "https://localhost:8080/"
    },
    "id": "TiJV6q1knOjR",
    "outputId": "ef76623e-e56f-48d1-ce80-138696dc7efc"
   },
   "outputs": [
    {
     "name": "stdout",
     "output_type": "stream",
     "text": [
      "shapes:  (4, 5) (5,)\n"
     ]
    },
    {
     "data": {
      "text/plain": [
       "array([ 30,  80, 130, 180])"
      ]
     },
     "execution_count": 62,
     "metadata": {},
     "output_type": "execute_result"
    }
   ],
   "source": [
    "# matrix-vector product\n",
    "print(\"shapes: \", arr.shape, vec.shape)\n",
    "np.dot(arr, vec) #but not thsi: np.dot(vec,arr)"
   ]
  },
  {
   "cell_type": "code",
   "execution_count": 63,
   "metadata": {
    "colab": {
     "base_uri": "https://localhost:8080/"
    },
    "id": "p41nr1NJnjEY",
    "outputId": "1d4a7441-f49b-471c-b83d-7a1c28ccd793"
   },
   "outputs": [
    {
     "name": "stdout",
     "output_type": "stream",
     "text": [
      "shapes:  (4, 5) (5,)\n"
     ]
    },
    {
     "data": {
      "text/plain": [
       "array([ 30,  80, 130, 180])"
      ]
     },
     "execution_count": 63,
     "metadata": {},
     "output_type": "execute_result"
    }
   ],
   "source": [
    "# matrix-vector product\n",
    "print(\"shapes: \", arr.shape, vec.shape)\n",
    "np.dot(arr, vec) #but not this: np.dot(vec, arrr)"
   ]
  },
  {
   "cell_type": "code",
   "execution_count": 64,
   "metadata": {
    "colab": {
     "base_uri": "https://localhost:8080/"
    },
    "id": "gJHsIzAWn9CD",
    "outputId": "180697ad-0993-4350-d0b1-7df4c85bbfcf"
   },
   "outputs": [
    {
     "name": "stdout",
     "output_type": "stream",
     "text": [
      "shapes:  (1, 5) (5, 1)\n"
     ]
    },
    {
     "data": {
      "text/plain": [
       "array([[30]])"
      ]
     },
     "execution_count": 64,
     "metadata": {},
     "output_type": "execute_result"
    }
   ],
   "source": [
    "\n",
    "\n",
    "col_vec = vec[:, None]\n",
    "print(\"shapes: \", (col_vec).T.shape, (col_vec).shape)\n",
    "\n",
    "# inner product\n",
    "(col_vec.T) @ (col_vec)"
   ]
  },
  {
   "cell_type": "markdown",
   "metadata": {
    "id": "ENTcmCX1pzcU"
   },
   "source": [
    "\n",
    "Stacking and repeating arrays\n",
    "\n",
    "Using function repeat, tile, vstack, hstack, and concatenate we can create larger vectors and matrices from smaller ones:\n"
   ]
  },
  {
   "cell_type": "code",
   "execution_count": 65,
   "metadata": {
    "colab": {
     "base_uri": "https://localhost:8080/"
    },
    "id": "akIokjgDpw6W",
    "outputId": "30a01652-cb73-4836-888a-2e7d3367e708"
   },
   "outputs": [
    {
     "data": {
      "text/plain": [
       "array([[1, 2],\n",
       "       [3, 4]])"
      ]
     },
     "execution_count": 65,
     "metadata": {},
     "output_type": "execute_result"
    }
   ],
   "source": [
    "a = np.array([[1, 2], [3, 4]])\n",
    "a\n"
   ]
  },
  {
   "cell_type": "code",
   "execution_count": 66,
   "metadata": {
    "colab": {
     "base_uri": "https://localhost:8080/"
    },
    "id": "k9gJZoQ9p3bL",
    "outputId": "a2a6f629-24ff-4841-c302-a742fce68ab7"
   },
   "outputs": [
    {
     "data": {
      "text/plain": [
       "array([1, 1, 1, 2, 2, 2, 3, 3, 3, 4, 4, 4])"
      ]
     },
     "execution_count": 66,
     "metadata": {},
     "output_type": "execute_result"
    }
   ],
   "source": [
    "# repeat each element 3 times\n",
    "np.repeat(a, 3)"
   ]
  },
  {
   "cell_type": "code",
   "execution_count": 67,
   "metadata": {
    "colab": {
     "base_uri": "https://localhost:8080/"
    },
    "id": "IdGQGPfcp9dx",
    "outputId": "01097c80-b2ea-4599-c20a-0ef5ed7da043"
   },
   "outputs": [
    {
     "data": {
      "text/plain": [
       "array([[1, 2, 1, 2, 1, 2],\n",
       "       [3, 4, 3, 4, 3, 4]])"
      ]
     },
     "execution_count": 67,
     "metadata": {},
     "output_type": "execute_result"
    }
   ],
   "source": [
    "# tile the matrix 3 times\n",
    "np.tile(a, 3)"
   ]
  },
  {
   "cell_type": "code",
   "execution_count": 68,
   "metadata": {
    "colab": {
     "base_uri": "https://localhost:8080/"
    },
    "id": "Jol1xkQ9qGDU",
    "outputId": "3f2b0e88-c305-417c-b481-f308752dcc40"
   },
   "outputs": [
    {
     "data": {
      "text/plain": [
       "array([[5, 6]])"
      ]
     },
     "execution_count": 68,
     "metadata": {},
     "output_type": "execute_result"
    }
   ],
   "source": [
    "b = np.array([[5, 6]])\n",
    "b"
   ]
  },
  {
   "cell_type": "code",
   "execution_count": 69,
   "metadata": {
    "colab": {
     "base_uri": "https://localhost:8080/"
    },
    "id": "MF6xGFJPqwXb",
    "outputId": "6f700f72-e999-4b5d-dab9-82d66c96d722"
   },
   "outputs": [
    {
     "data": {
      "text/plain": [
       "array([[1, 2],\n",
       "       [3, 4],\n",
       "       [5, 6]])"
      ]
     },
     "execution_count": 69,
     "metadata": {},
     "output_type": "execute_result"
    }
   ],
   "source": [
    "# concatenate a and b along axis 0\n",
    "np.concatenate((a,b),axis=0)"
   ]
  },
  {
   "cell_type": "code",
   "execution_count": 70,
   "metadata": {
    "colab": {
     "base_uri": "https://localhost:8080/"
    },
    "id": "_k1uc8EorR-c",
    "outputId": "6f196511-3a86-45a8-db72-3fbedfbeef7c"
   },
   "outputs": [
    {
     "data": {
      "text/plain": [
       "array([[1, 2, 5],\n",
       "       [3, 4, 6]])"
      ]
     },
     "execution_count": 70,
     "metadata": {},
     "output_type": "execute_result"
    }
   ],
   "source": [
    "# concatenate a and b along axis 1\n",
    "np.concatenate((a, b.T), axis=1)"
   ]
  },
  {
   "cell_type": "markdown",
   "metadata": {
    "id": "Jd4_8j6Trzso"
   },
   "source": [
    "**hstack and vstack**"
   ]
  },
  {
   "cell_type": "code",
   "execution_count": 71,
   "metadata": {
    "colab": {
     "base_uri": "https://localhost:8080/"
    },
    "id": "bUP7FJnhrpQa",
    "outputId": "a0c7cbad-14f9-4881-889b-09d8522aad6e"
   },
   "outputs": [
    {
     "data": {
      "text/plain": [
       "array([[1, 2],\n",
       "       [3, 4],\n",
       "       [5, 6]])"
      ]
     },
     "execution_count": 71,
     "metadata": {},
     "output_type": "execute_result"
    }
   ],
   "source": [
    "np.vstack((a,b))"
   ]
  },
  {
   "cell_type": "code",
   "execution_count": 72,
   "metadata": {
    "colab": {
     "base_uri": "https://localhost:8080/"
    },
    "id": "7A73QeEWr7Cg",
    "outputId": "3dd8eb13-15d2-4c8f-9edb-8fedbf00899a"
   },
   "outputs": [
    {
     "data": {
      "text/plain": [
       "array([[1, 2, 5],\n",
       "       [3, 4, 6]])"
      ]
     },
     "execution_count": 72,
     "metadata": {},
     "output_type": "execute_result"
    }
   ],
   "source": [
    "np.hstack((a,b.T))"
   ]
  },
  {
   "cell_type": "markdown",
   "metadata": {
    "id": "BM7qGC1asKD2"
   },
   "source": [
    "\n",
    "**Copy and \"deep copy\"**\n",
    "\n",
    "For performance reasons, assignments in Python usually do not copy the underlaying objects. This is important for example when objects are passed between functions, to avoid an excessive amount of memory copying when it is not necessary (technical term: pass by reference).\n"
   ]
  },
  {
   "cell_type": "code",
   "execution_count": 73,
   "metadata": {
    "colab": {
     "base_uri": "https://localhost:8080/"
    },
    "id": "vclNMjz2sDDR",
    "outputId": "d847a8a4-5c23-44d9-e3bd-467abaeb9197"
   },
   "outputs": [
    {
     "data": {
      "text/plain": [
       "array([[1, 2],\n",
       "       [3, 4]])"
      ]
     },
     "execution_count": 73,
     "metadata": {},
     "output_type": "execute_result"
    }
   ],
   "source": [
    "A = np.array([[1,2],[3,4]])\n",
    "A"
   ]
  },
  {
   "cell_type": "code",
   "execution_count": 74,
   "metadata": {
    "colab": {
     "base_uri": "https://localhost:8080/"
    },
    "id": "nAPExCi9sHgf",
    "outputId": "63be85cb-4450-4c7f-af1e-7b8fa48549b1"
   },
   "outputs": [
    {
     "data": {
      "text/plain": [
       "array([[1, 2],\n",
       "       [3, 4]])"
      ]
     },
     "execution_count": 74,
     "metadata": {},
     "output_type": "execute_result"
    }
   ],
   "source": [
    "# now array B is referring to the same array data as A\n",
    "B = A\n",
    "B"
   ]
  },
  {
   "cell_type": "code",
   "execution_count": 75,
   "metadata": {
    "colab": {
     "base_uri": "https://localhost:8080/"
    },
    "id": "cYaiuVnstfU9",
    "outputId": "4643a9b1-14cf-49a1-f098-af48b80f8c5c"
   },
   "outputs": [
    {
     "data": {
      "text/plain": [
       "array([[10,  2],\n",
       "       [ 3,  4]])"
      ]
     },
     "execution_count": 75,
     "metadata": {},
     "output_type": "execute_result"
    }
   ],
   "source": [
    "# changing B affects A\n",
    "B[0,0] = 10\n",
    "\n",
    "A\n"
   ]
  },
  {
   "cell_type": "markdown",
   "metadata": {
    "id": "_yHlmHqGtsCg"
   },
   "source": [
    "If we want to avoid such a behavior, so that when we get a new completely independent object B copied from A, then we need to do a so-called \"deep copy\" using the function copy:"
   ]
  },
  {
   "cell_type": "code",
   "execution_count": 76,
   "metadata": {
    "id": "tI459hDmtj82"
   },
   "outputs": [],
   "source": [
    "B = np.copy(A)"
   ]
  },
  {
   "cell_type": "markdown",
   "metadata": {
    "id": "CoFm4l34t2j7"
   },
   "source": [
    "\n",
    "**Vectorizing functions**\n",
    "\n",
    "As mentioned several times by now, to get good performance we should always try to avoid looping over elements in our vectors and matrices, and instead use vectorized algorithms. The first step in converting a scalar algorithm to a vectorized algorithm is to make sure that the functions we write work with vector inputs.\n"
   ]
  },
  {
   "cell_type": "code",
   "execution_count": 77,
   "metadata": {
    "id": "kcxUfNGdtqhv"
   },
   "outputs": [],
   "source": [
    "def Theta(x):\n",
    "    \"\"\"\n",
    "    scalar implementation of the Heaviside step function.\n",
    "    \"\"\"\n",
    "    if x >= 0:\n",
    "        return 1\n",
    "    else:\n",
    "      return 0"
   ]
  },
  {
   "cell_type": "code",
   "execution_count": 78,
   "metadata": {
    "colab": {
     "base_uri": "https://localhost:8080/",
     "height": 352
    },
    "id": "2QN6bmR-uECS",
    "outputId": "e4651305-e5d4-49da-a93e-be772bea592c"
   },
   "outputs": [
    {
     "ename": "ValueError",
     "evalue": "The truth value of an array with more than one element is ambiguous. Use a.any() or a.all()",
     "output_type": "error",
     "traceback": [
      "\u001b[0;31m---------------------------------------------------------------------------\u001b[0m",
      "\u001b[0;31mValueError\u001b[0m                                Traceback (most recent call last)",
      "Cell \u001b[0;32mIn[78], line 3\u001b[0m\n\u001b[1;32m      1\u001b[0m v1 \u001b[38;5;241m=\u001b[39m np\u001b[38;5;241m.\u001b[39marray([\u001b[38;5;241m-\u001b[39m\u001b[38;5;241m3\u001b[39m,\u001b[38;5;241m-\u001b[39m\u001b[38;5;241m2\u001b[39m,\u001b[38;5;241m-\u001b[39m\u001b[38;5;241m1\u001b[39m,\u001b[38;5;241m0\u001b[39m,\u001b[38;5;241m1\u001b[39m,\u001b[38;5;241m2\u001b[39m,\u001b[38;5;241m3\u001b[39m])\n\u001b[0;32m----> 3\u001b[0m Theta(v1)\n",
      "Cell \u001b[0;32mIn[77], line 5\u001b[0m, in \u001b[0;36mTheta\u001b[0;34m(x)\u001b[0m\n\u001b[1;32m      1\u001b[0m \u001b[38;5;28;01mdef\u001b[39;00m \u001b[38;5;21mTheta\u001b[39m(x):\n\u001b[1;32m      2\u001b[0m \u001b[38;5;250m    \u001b[39m\u001b[38;5;124;03m\"\"\"\u001b[39;00m\n\u001b[1;32m      3\u001b[0m \u001b[38;5;124;03m    scalar implementation of the Heaviside step function.\u001b[39;00m\n\u001b[1;32m      4\u001b[0m \u001b[38;5;124;03m    \"\"\"\u001b[39;00m\n\u001b[0;32m----> 5\u001b[0m     \u001b[38;5;28;01mif\u001b[39;00m x \u001b[38;5;241m>\u001b[39m\u001b[38;5;241m=\u001b[39m \u001b[38;5;241m0\u001b[39m:\n\u001b[1;32m      6\u001b[0m         \u001b[38;5;28;01mreturn\u001b[39;00m \u001b[38;5;241m1\u001b[39m\n\u001b[1;32m      7\u001b[0m     \u001b[38;5;28;01melse\u001b[39;00m:\n",
      "\u001b[0;31mValueError\u001b[0m: The truth value of an array with more than one element is ambiguous. Use a.any() or a.all()"
     ]
    }
   ],
   "source": [
    "v1 = np.array([-3,-2,-1,0,1,2,3])\n",
    "\n",
    "Theta(v1)"
   ]
  },
  {
   "cell_type": "markdown",
   "metadata": {
    "id": "lO0V4djTvDGY"
   },
   "source": [
    "That didn't work because we didn't write the function Theta so that it can handle a vector input...\n",
    "\n",
    "To get a vectorized version of Theta we can use the Numpy function vectorize. In many cases it can automatically vectorize a function:\n"
   ]
  },
  {
   "cell_type": "code",
   "execution_count": 79,
   "metadata": {
    "id": "pFbCvc52uKhA"
   },
   "outputs": [],
   "source": [
    "Theta_vec = np.vectorize(Theta)"
   ]
  },
  {
   "cell_type": "code",
   "execution_count": 80,
   "metadata": {
    "colab": {
     "base_uri": "https://localhost:8080/"
    },
    "id": "E-US84BkwU-Y",
    "outputId": "a0a96767-0eec-4245-9fcf-b360e11ed9ad"
   },
   "outputs": [
    {
     "data": {
      "text/plain": [
       "array([0, 0, 0, 1, 1, 1, 1])"
      ]
     },
     "execution_count": 80,
     "metadata": {},
     "output_type": "execute_result"
    }
   ],
   "source": [
    "Theta_vec(v1)"
   ]
  },
  {
   "cell_type": "markdown",
   "metadata": {
    "id": "CS6kEzfUwk1W"
   },
   "source": [
    "we can also implement the function to accept a vector input from the beginning (requires more effort but might give better performance):"
   ]
  },
  {
   "cell_type": "code",
   "execution_count": 81,
   "metadata": {
    "id": "hWKlsoq6wZvW"
   },
   "outputs": [],
   "source": [
    "def Theta(x):\n",
    "  \"\"\"\n",
    "  Vector-aware implementation of the Heaviside step function.\n",
    "  \"\"\"\n",
    "  return 1 * (x >= 0)"
   ]
  },
  {
   "cell_type": "code",
   "execution_count": 82,
   "metadata": {
    "colab": {
     "base_uri": "https://localhost:8080/"
    },
    "id": "TkPAa8NZw4e5",
    "outputId": "2c825cb6-712c-418d-895c-679f7613f6de"
   },
   "outputs": [
    {
     "data": {
      "text/plain": [
       "array([0, 0, 0, 1, 1, 1, 1])"
      ]
     },
     "execution_count": 82,
     "metadata": {},
     "output_type": "execute_result"
    }
   ],
   "source": [
    "Theta(v1)"
   ]
  },
  {
   "cell_type": "code",
   "execution_count": 83,
   "metadata": {
    "colab": {
     "base_uri": "https://localhost:8080/"
    },
    "id": "upx54yHzxHcL",
    "outputId": "c8035009-aa89-456a-aaa3-839478c947ec"
   },
   "outputs": [
    {
     "data": {
      "text/plain": [
       "(0, 1)"
      ]
     },
     "execution_count": 83,
     "metadata": {},
     "output_type": "execute_result"
    }
   ],
   "source": [
    "# it even works with scalar input\n",
    "Theta(-1.2), Theta(2.6)"
   ]
  },
  {
   "cell_type": "markdown",
   "metadata": {
    "id": "D4yoomz7xZxC"
   },
   "source": [
    "\n",
    "# Exercices\n"
   ]
  },
  {
   "cell_type": "markdown",
   "metadata": {
    "id": "R7qTlD9UxfRi"
   },
   "source": [
    "\n",
    "## Exercise 1: Creating and Manipulating NumPy Arrays\n",
    "\n",
    "    Create a 1D NumPy array from the list [5, 10, 15, 20, 25]. Convert the array to type float64 and print it.\n",
    "\n",
    "    Create a 2D NumPy array from the nested list [[1, 2, 3], [4, 5, 6], [7, 8, 9]]. Print the shape and size of the array.\n",
    "\n",
    "    Create a 3D NumPy array with random values of shape (2, 3, 4). Print the number of dimensions and the shape of the array.\n",
    "\n"
   ]
  },
  {
   "cell_type": "code",
   "execution_count": 84,
   "metadata": {
    "colab": {
     "base_uri": "https://localhost:8080/"
    },
    "id": "aY7-2XgJxTty",
    "outputId": "fe326433-a9a7-48e1-9082-480cd910d87c"
   },
   "outputs": [
    {
     "name": "stdout",
     "output_type": "stream",
     "text": [
      "[ 5. 10. 15. 20. 25.]\n"
     ]
    }
   ],
   "source": [
    "# Create a 1D NumPy array\n",
    "arr_1d = np.array([5, 10, 15, 20, 25])\n",
    "\n",
    "# Convert to float64\n",
    "arr_1d = arr_1d.astype(np.float64)\n",
    "\n",
    "# Print the array\n",
    "print(arr_1d)"
   ]
  },
  {
   "cell_type": "code",
   "execution_count": 85,
   "metadata": {
    "colab": {
     "base_uri": "https://localhost:8080/"
    },
    "id": "7Dss00Y5yPgK",
    "outputId": "e6c0ddde-6136-4cac-f1cb-5f22bcd5d32f"
   },
   "outputs": [
    {
     "name": "stdout",
     "output_type": "stream",
     "text": [
      "Shape: (3, 3)\n",
      "Size: 9\n"
     ]
    }
   ],
   "source": [
    "# Create a 2D NumPy array\n",
    "arr_2d = np.array([[1, 2, 3], [4, 5, 6], [7, 8, 9]])\n",
    "\n",
    "# Print the shape and size\n",
    "print(\"Shape:\", arr_2d.shape)\n",
    "\n",
    "# Print the size\n",
    "print(\"Size:\", arr_2d.size)"
   ]
  },
  {
   "cell_type": "code",
   "execution_count": 86,
   "metadata": {
    "colab": {
     "base_uri": "https://localhost:8080/"
    },
    "id": "Gi0WutuEyfXE",
    "outputId": "0a02dfcc-eaa0-4590-8d7e-2e6d1809288b"
   },
   "outputs": [
    {
     "name": "stdout",
     "output_type": "stream",
     "text": [
      "Number of Dimensions: 3\n",
      "Shape: (2, 3, 4)\n"
     ]
    }
   ],
   "source": [
    "# Create a 3D NumPy array with random values\n",
    "arr_3d = np.random.rand(2, 3, 4)\n",
    "\n",
    "# Print the number of dimensions\n",
    "print(\"Number of Dimensions:\", arr_3d.ndim)\n",
    "\n",
    "# Print the shape\n",
    "print(\"Shape:\", arr_3d.shape)"
   ]
  },
  {
   "cell_type": "markdown",
   "metadata": {
    "id": "uBumIxJey9xM"
   },
   "source": [
    "\n",
    "## Exercise 2: Advanced Array Manipulations\n",
    "\n",
    "  * Create a 1D NumPy array with the numbers from 0 to 9. Reverse the array and print it.\n",
    "\n",
    "  * Create a 2D NumPy array with the numbers from 0 to 11, arranged in a 3x4 shape. Extract a subarray consisting of the first two rows and the last two columns, and print it.\n",
    "\n",
    "  * Create a 2D NumPy array of shape (5, 5) with random integers between 0 and 10. Replace all elements greater than 5 with 0 and print the modified array.\n",
    "\n"
   ]
  },
  {
   "cell_type": "code",
   "execution_count": 87,
   "metadata": {
    "colab": {
     "base_uri": "https://localhost:8080/"
    },
    "id": "YWfl9Ccvyv4A",
    "outputId": "c2a269a7-2c71-4667-b195-c1079b96ae33"
   },
   "outputs": [
    {
     "name": "stdout",
     "output_type": "stream",
     "text": [
      "[9 8 7 6 5 4 3 2 1 0]\n"
     ]
    }
   ],
   "source": [
    "# Create a 1D array\n",
    "arr_1d = np.arange(10)\n",
    "\n",
    "# Reverse the array\n",
    "reversed_arr = arr_1d[::-1]\n",
    "\n",
    "# Print the reversed array\n",
    "print(reversed_arr)"
   ]
  },
  {
   "cell_type": "code",
   "execution_count": 88,
   "metadata": {
    "colab": {
     "base_uri": "https://localhost:8080/"
    },
    "id": "aXLeeidszc7F",
    "outputId": "38b91ff1-7c12-439d-f397-cd11847c8be8"
   },
   "outputs": [
    {
     "name": "stdout",
     "output_type": "stream",
     "text": [
      "[[2 3]\n",
      " [6 7]]\n"
     ]
    }
   ],
   "source": [
    "# Create a 2D array\n",
    "arr_2d = np.arange(12).reshape(3, 4)\n",
    "\n",
    "# Extract subarray\n",
    "subarray = arr_2d[:2, 2:]\n",
    "\n",
    "# Print the subarray\n",
    "print(subarray)"
   ]
  },
  {
   "cell_type": "code",
   "execution_count": 89,
   "metadata": {
    "colab": {
     "base_uri": "https://localhost:8080/"
    },
    "id": "aEyKlA5x0AZP",
    "outputId": "5542f26f-9531-4ebe-ca4d-3c72b7f6354c"
   },
   "outputs": [
    {
     "name": "stdout",
     "output_type": "stream",
     "text": [
      "[[2 3 3 2 0]\n",
      " [3 4 4 3 1]\n",
      " [0 0 0 5 0]\n",
      " [4 3 2 2 0]\n",
      " [3 5 0 0 0]]\n"
     ]
    }
   ],
   "source": [
    "# Create a 2D array with random integers\n",
    "arr_2d = np.random.randint(0, 10, size=(5, 5))\n",
    "\n",
    "\n",
    "# Replace elements greater than 5 with 0\n",
    "arr_2d[arr_2d > 5] = 0\n",
    "\n",
    "# Print the modified array\n",
    "print(arr_2d)"
   ]
  },
  {
   "cell_type": "markdown",
   "metadata": {
    "id": "NMe1O0RH07Wh"
   },
   "source": [
    "\n",
    "## Exercise 3: Array Initialization and Attributes\n",
    "\n",
    "  * Create a 3x3 identity matrix using NumPy and print its attributes: ndim, shape, size, itemsize, and nbytes.\n",
    "\n",
    "  * Create an array of 10 evenly spaced numbers between 0 and 5 using numpy.linspace(). Print the array and its datatype.\n",
    "\n",
    "  * Create a 3D array of shape (2, 3, 4) with random values from a standard normal distribution. Print the array and the sum of all elements.\n",
    "\n"
   ]
  },
  {
   "cell_type": "code",
   "execution_count": 90,
   "metadata": {
    "colab": {
     "base_uri": "https://localhost:8080/"
    },
    "id": "ycECSFyX0Yf1",
    "outputId": "de9ce7fb-5c23-4172-e86b-2086f5277878"
   },
   "outputs": [
    {
     "name": "stdout",
     "output_type": "stream",
     "text": [
      "dimensions: 2\n",
      "shape: (3, 3)\n",
      "size: 9\n",
      "itemsize: 8\n",
      "Total number of bytes in arr: 72\n"
     ]
    }
   ],
   "source": [
    "# Create a 3x3 identity matrix\n",
    "identity_matrix = np.identity(3)\n",
    "\n",
    "# Print attributes\n",
    "print(\"dimensions:\", identity_matrix.ndim)\n",
    "print(\"shape:\", identity_matrix.shape)\n",
    "print(\"size:\", identity_matrix.size)\n",
    "print(\"itemsize:\", identity_matrix.itemsize)\n",
    "print(\"Total number of bytes in arr:\", identity_matrix.nbytes)"
   ]
  },
  {
   "cell_type": "code",
   "execution_count": 91,
   "metadata": {
    "colab": {
     "base_uri": "https://localhost:8080/"
    },
    "id": "-7v7jTty1V-n",
    "outputId": "5581de4c-ed94-4135-ab18-901d32607ba6"
   },
   "outputs": [
    {
     "name": "stdout",
     "output_type": "stream",
     "text": [
      "Array: [0.         0.55555556 1.11111111 1.66666667 2.22222222 2.77777778\n",
      " 3.33333333 3.88888889 4.44444444 5.        ]\n",
      "Datatype: float64\n"
     ]
    }
   ],
   "source": [
    "# Create an array of evenly spaced numbers\n",
    "spaced_numbers = np.linspace(0, 5, 10)\n",
    "\n",
    "# Print the array and its datatype\n",
    "print(\"Array:\", spaced_numbers)\n",
    "print(\"Datatype:\", spaced_numbers.dtype)"
   ]
  },
  {
   "cell_type": "code",
   "execution_count": 92,
   "metadata": {
    "colab": {
     "base_uri": "https://localhost:8080/"
    },
    "id": "Bz-_hqU32Rcz",
    "outputId": "b50f48ee-7b37-4abb-c781-5ba93bc519b9"
   },
   "outputs": [
    {
     "name": "stdout",
     "output_type": "stream",
     "text": [
      "Array: [[[ 0.08164309  0.58669126  1.60130337  0.41479491]\n",
      "  [-0.41427572  0.54799203  0.80058066 -0.31454971]\n",
      "  [-1.11075141  0.80996672 -0.19309405 -1.41492987]]\n",
      "\n",
      " [[ 0.03062823  0.58011839 -1.64760231  1.18101999]\n",
      "  [-0.95794882 -0.57210766 -0.66149181  0.36142353]\n",
      "  [-0.13325034 -0.13014987 -0.13911588 -0.16908218]]]\n",
      "Sum of elements: -0.8621874663903851\n"
     ]
    }
   ],
   "source": [
    "# Create a 3D array of shape (2, 3, 4) with random values from a standard normal distribution\n",
    "random_array = np.random.randn(2, 3, 4)\n",
    "\n",
    "# Print the array and the sum of all elements\n",
    "print(\"Array:\", random_array)\n",
    "print(\"Sum of elements:\", np.sum(random_array))"
   ]
  },
  {
   "cell_type": "markdown",
   "metadata": {
    "id": "sYs6OY614PLs"
   },
   "source": [
    "\n",
    "## Exercise 4: Fancy Indexing and Masking\n",
    "\n",
    "  * Create a 1D NumPy array with random integers between 0 and 50 of size 20. Use fancy indexing to extract elements at indices [2, 5, 7, 10, 15] and print them.\n",
    "\n",
    "  * Create a 2D NumPy array with random integers between 0 and 30 of shape (4, 5). Use a boolean mask to select all elements greater than 15 and print them.\n",
    "\n",
    "  * Create a 1D NumPy array of 10 random integers between -10 and 10. Use a boolean mask to set all negative values to zero and print the modified array.\n",
    "\n"
   ]
  },
  {
   "cell_type": "code",
   "execution_count": 93,
   "metadata": {
    "colab": {
     "base_uri": "https://localhost:8080/"
    },
    "id": "ViMOeeJO4Gke",
    "outputId": "440d37c7-7b00-4662-9c6c-2ce997e88265"
   },
   "outputs": [
    {
     "name": "stdout",
     "output_type": "stream",
     "text": [
      "random_array [30 13 18  2 45 14 14 41  7 12  2 38 37 20 37 38 13 37  7 42]\n",
      "Extracted elements: [18 14 41  2 38]\n"
     ]
    }
   ],
   "source": [
    "# Create a 1D array with random integers\n",
    "random_array = np.random.randint(0, 50, size=20)\n",
    "print(\"random_array\",random_array)\n",
    "\n",
    "# Extract elements using fancy indexing\n",
    "extracted_elements = random_array[[2, 5, 7, 10, 15]]\n",
    "\n",
    "# Print the extracted elements\n",
    "print(\"Extracted elements:\", extracted_elements)"
   ]
  },
  {
   "cell_type": "code",
   "execution_count": 94,
   "metadata": {
    "colab": {
     "base_uri": "https://localhost:8080/"
    },
    "id": "DpWREv785hsz",
    "outputId": "7cf54209-14c2-4a62-fe4c-ec6c80659eab"
   },
   "outputs": [
    {
     "name": "stdout",
     "output_type": "stream",
     "text": [
      "random_array_2d [[15 17 21 29 21]\n",
      " [ 8 10  8  8  2]\n",
      " [12 18 27 15 29]\n",
      " [ 6  0 15 23  6]]\n",
      "Selected elements: [17 21 29 21 18 27 29 23]\n"
     ]
    }
   ],
   "source": [
    "# Create a 2D array with random integers\n",
    "random_array_2d = np.random.randint(0, 30, size=(4, 5))\n",
    "print(\"random_array_2d\", random_array_2d)\n",
    "\n",
    "# Create a boolean mask\n",
    "mask = random_array_2d > 15\n",
    "\n",
    "# Select elements using the mask\n",
    "selected_elements = random_array_2d[mask]\n",
    "\n",
    "# Print the selected elements\n",
    "print(\"Selected elements:\", selected_elements)"
   ]
  },
  {
   "cell_type": "code",
   "execution_count": 95,
   "metadata": {
    "colab": {
     "base_uri": "https://localhost:8080/"
    },
    "id": "OjW_9RH66CGj",
    "outputId": "42f419a2-46dc-468c-b4a9-d56de6ff3c75"
   },
   "outputs": [
    {
     "name": "stdout",
     "output_type": "stream",
     "text": [
      "Modified array: [2 0 0 0 0 6 9 2 7 2]\n"
     ]
    }
   ],
   "source": [
    "# Create a 1D array of 10 random integers between -10 and 10\n",
    "random_integers = np.random.randint(-10, 10, size=10)\n",
    "\n",
    "# Create a boolean mask for negative values\n",
    "negative_mask = random_integers < 0\n",
    "\n",
    "# Set negative values to zero using the mask\n",
    "random_integers[negative_mask] = 0\n",
    "\n",
    "# Print the modified array\n",
    "print(\"Modified array:\", random_integers)"
   ]
  },
  {
   "cell_type": "markdown",
   "metadata": {
    "id": "DQd5udJv8DAo"
   },
   "source": [
    "\n",
    "## Exercise 5: Combining and Splitting Arrays\n",
    "\n",
    "  * Create two 1D NumPy arrays of length 5 with random integers between 0 and 10. Concatenate the two arrays and print the result.\n",
    "\n",
    "  * Create a 2D NumPy array of shape (6, 4) with random integers between 0 and 10. Split the array into two equal parts along the row axis and print them.\n",
    "\n",
    "  * Create a 2D NumPy array of shape (3, 6) with random integers between 0 and 10. Split the array into three equal parts along the column axis and print them.\n",
    "\n"
   ]
  },
  {
   "cell_type": "code",
   "execution_count": 96,
   "metadata": {
    "colab": {
     "base_uri": "https://localhost:8080/"
    },
    "id": "KbtBRzih77Jg",
    "outputId": "df977254-e69f-4bc5-81e2-c31e22d4b6f5"
   },
   "outputs": [
    {
     "name": "stdout",
     "output_type": "stream",
     "text": [
      "Concatenated array: [7 0 1 7 0 5 2 1 6 3]\n"
     ]
    }
   ],
   "source": [
    "# Create two 1D arrays with random integers\n",
    "array1 = np.random.randint(0, 10, size=5)\n",
    "array2 = np.random.randint(0, 10, size=5)\n",
    "\n",
    "# Concatenate the arrays\n",
    "concatenated_array = np.concatenate((array1, array2))\n",
    "\n",
    "# Print the result\n",
    "print(\"Concatenated array:\", concatenated_array)"
   ]
  },
  {
   "cell_type": "code",
   "execution_count": 97,
   "metadata": {
    "colab": {
     "base_uri": "https://localhost:8080/"
    },
    "id": "CBCc6bJk84jV",
    "outputId": "22d006bc-5459-4874-8d20-435ee033e685"
   },
   "outputs": [
    {
     "name": "stdout",
     "output_type": "stream",
     "text": [
      "[[4 9 2 7]\n",
      " [1 5 6 0]\n",
      " [3 6 1 2]]\n",
      "[[0 8 9 3]\n",
      " [5 4 6 8]\n",
      " [8 9 8 3]]\n"
     ]
    }
   ],
   "source": [
    "# Create a 2D array with random integers\n",
    "array_2d = np.random.randint(0, 10, size=(6, 4))\n",
    "\n",
    "# Split the array into two equal parts along the row axis\n",
    "part1, part2 = np.split(array_2d, 2, axis=0)\n",
    "\n",
    "# Print the result\n",
    "print(part1)\n",
    "print(part2)"
   ]
  },
  {
   "cell_type": "code",
   "execution_count": 98,
   "metadata": {
    "colab": {
     "base_uri": "https://localhost:8080/"
    },
    "id": "9H0GYLDyMn_f",
    "outputId": "0470244e-8029-4942-b2e0-d289bd584a31"
   },
   "outputs": [
    {
     "name": "stdout",
     "output_type": "stream",
     "text": [
      "[[9 8]\n",
      " [1 6]\n",
      " [6 0]]\n",
      "[[2 1]\n",
      " [1 2]\n",
      " [3 6]]\n",
      "[[7 5]\n",
      " [9 6]\n",
      " [5 3]]\n"
     ]
    }
   ],
   "source": [
    "# Create a 2D array with random integers\n",
    "array_2d = np.random.randint(0,10, size=(3,6))\n",
    "\n",
    "# Split the array into three equal parts along the column axis\n",
    "part1, part2, part3 = np.split(array_2d,3,axis=1)\n",
    "\n",
    "# Print the result\n",
    "print (part1)\n",
    "print (part2)\n",
    "print (part3)"
   ]
  },
  {
   "cell_type": "markdown",
   "metadata": {
    "id": "1H8uU5LlOLOb"
   },
   "source": [
    "\n",
    "### Exercise 6: Mathematical Functions and Aggregations\n",
    "\n",
    "  * Create a 1D NumPy array with random integers between 1 and 100 of size 15. Compute and print the mean, median, standard deviation, and variance of the array.\n",
    "\n",
    "  * Create a 2D NumPy array of shape (4, 4) with random integers between 1 and 50. Compute and print the sum of each row and each column.\n",
    "\n",
    "  * Create a 3D NumPy array of shape (2, 3, 4) with random integers between 1 and 20. Find the maximum and minimum values along each axis and print them.\n",
    "\n",
    "\n"
   ]
  },
  {
   "cell_type": "code",
   "execution_count": 99,
   "metadata": {
    "colab": {
     "base_uri": "https://localhost:8080/"
    },
    "id": "LZEmrz9_OCiZ",
    "outputId": "4161552d-5468-4abd-b9ea-51124bdb11fe"
   },
   "outputs": [
    {
     "name": "stdout",
     "output_type": "stream",
     "text": [
      "array_1d: [  1 100  30  90  29  46  70  33  93  53  66  33  72  44   8]\n",
      "Mean: 51.2\n",
      "Median: 46.0\n",
      "Standard Deviation: 29.111738754896336\n",
      "Variance: 847.4933333333332\n"
     ]
    }
   ],
   "source": [
    "# Create a 1D array with random integers\n",
    "array_1d = np.random.randint(1, 101, size=15)\n",
    "\n",
    "# Calculate statistics\n",
    "mean = np.mean(array_1d)\n",
    "median = np.median(array_1d)\n",
    "std_dev = np.std(array_1d)\n",
    "variance = np.var(array_1d)\n",
    "\n",
    "# Print the statistics\n",
    "print(\"array_1d:\", array_1d)\n",
    "print(\"Mean:\", mean)\n",
    "print(\"Median:\", median)\n",
    "print(\"Standard Deviation:\", std_dev)\n",
    "print(\"Variance:\", variance)"
   ]
  },
  {
   "cell_type": "code",
   "execution_count": 100,
   "metadata": {
    "colab": {
     "base_uri": "https://localhost:8080/"
    },
    "id": "LD-_A9IdPWJ_",
    "outputId": "3a56038e-c24a-4adb-c69f-69552b40412b"
   },
   "outputs": [
    {
     "name": "stdout",
     "output_type": "stream",
     "text": [
      "array_2d:\n",
      " [[36 14 42 40]\n",
      " [24 50  1 24]\n",
      " [19 18 27 17]\n",
      " [41  7 47  3]]\n",
      "Row sums: [132  99  81  98]\n",
      "Column sums: [120  89 117  84]\n"
     ]
    }
   ],
   "source": [
    "# Create a 2D array with random integers\n",
    "array_2d = np.random.randint(1, 51, size=(4, 4))\n",
    "\n",
    "    # Calculate sum of each row\n",
    "row_sums = np.sum(array_2d, axis=1)\n",
    "\n",
    "    # Calculate sum of each column\n",
    "column_sums = np.sum(array_2d, axis=0)\n",
    "\n",
    "    # Print the results\n",
    "print(\"array_2d:\\n\", array_2d)\n",
    "print(\"Row sums:\", row_sums)\n",
    "print(\"Column sums:\", column_sums)"
   ]
  },
  {
   "cell_type": "code",
   "execution_count": 101,
   "metadata": {
    "colab": {
     "base_uri": "https://localhost:8080/"
    },
    "id": "ugna5TQUQq_r",
    "outputId": "dfffd43a-a15f-4f18-c5d2-995414dad0ef"
   },
   "outputs": [
    {
     "name": "stdout",
     "output_type": "stream",
     "text": [
      "array_3d:\n",
      " [[[ 2 14  6 16]\n",
      "  [ 9  5  9  7]\n",
      "  [ 6  4 20  8]]\n",
      "\n",
      " [[ 8 19 10 10]\n",
      "  [16 20  6  7]\n",
      "  [17  3  9  5]]]\n",
      "\n",
      "Maximum values along axis 0:\n",
      " [[ 8 19 10 16]\n",
      " [16 20  9  7]\n",
      " [17  4 20  8]]\n",
      "Minimum values along axis 0:\n",
      " [[ 2 14  6 10]\n",
      " [ 9  5  6  7]\n",
      " [ 6  3  9  5]]\n",
      "Maximum values along axis 1:\n",
      " [[ 9 14 20 16]\n",
      " [17 20 10 10]]\n",
      "Minimum values along axis 1:\n",
      " [[2 4 6 7]\n",
      " [8 3 6 5]]\n",
      "Maximum values along axis 2:\n",
      " [[16  9 20]\n",
      " [19 20 17]]\n",
      "Minimum values along axis 2:\n",
      " [[2 5 4]\n",
      " [8 6 3]]\n"
     ]
    }
   ],
   "source": [
    "# Create a 3D array with random integers\n",
    "array_3d = np.random.randint(1,21, size=(2, 3, 4))\n",
    "\n",
    "# Find maximum and minimum values along each axis\n",
    "max_values_axis0 = np.max(array_3d, axis=0)\n",
    "min_values_axis0 = np.min(array_3d, axis=0)\n",
    "\n",
    "max_values_axis1 = np.max(array_3d, axis=1)\n",
    "min_values_axis1 = np.min(array_3d, axis=1)\n",
    "\n",
    "max_values_axis2 = np.max(array_3d, axis=2)\n",
    "min_values_axis2 = np.min(array_3d, axis=2)\n",
    "\n",
    "    # Print the results\n",
    "print(\"array_3d:\\n\", array_3d)\n",
    "\n",
    "print(\"\\nMaximum values along axis 0:\\n\", max_values_axis0)\n",
    "print(\"Minimum values along axis 0:\\n\", min_values_axis0)\n",
    "\n",
    "print(\"Maximum values along axis 1:\\n\", max_values_axis1)\n",
    "print(\"Minimum values along axis 1:\\n\", min_values_axis1)\n",
    "\n",
    "print(\"Maximum values along axis 2:\\n\", max_values_axis2)\n",
    "print(\"Minimum values along axis 2:\\n\", min_values_axis2)"
   ]
  },
  {
   "cell_type": "markdown",
   "metadata": {
    "id": "_QXJcUTUShHx"
   },
   "source": [
    "\n",
    "## Exercise 7: Reshaping and Transposing Arrays\n",
    "\n",
    "  * Create a 1D NumPy array with the numbers from 1 to 12. Reshape the array to a 2D array of shape (3, 4) and print it.\n",
    "\n",
    "  * Create a 2D NumPy array of shape (3, 4) with random integers between 1 and 10. Transpose the array and print the transposed array.\n",
    "\n",
    "  * Create a 2D NumPy array of shape (2, 3) with random integers between 1 and 10. Flatten the array to 1D and print the result.\n",
    "\n"
   ]
  },
  {
   "cell_type": "code",
   "execution_count": 104,
   "metadata": {},
   "outputs": [
    {
     "name": "stdout",
     "output_type": "stream",
     "text": [
      "[[ 1  2  3  4]\n",
      " [ 5  6  7  8]\n",
      " [ 9 10 11 12]]\n"
     ]
    }
   ],
   "source": [
    "# Create a 1D array\n",
    "arr_1d = np.arange(1, 13)\n",
    "\n",
    "# reshape to a 2D array\n",
    "arr_2d = arr_1d.reshape(3, 4)\n",
    "\n",
    "# Print the result\n",
    "print(arr_2d)"
   ]
  },
  {
   "cell_type": "code",
   "execution_count": 102,
   "metadata": {},
   "outputs": [
    {
     "name": "stdout",
     "output_type": "stream",
     "text": [
      "\n",
      " [[ 6 10  5  3]\n",
      " [ 2  1  8 10]\n",
      " [ 8  8  9  9]]\n",
      "\n",
      "Transpose:\n",
      " [[ 6  2  8]\n",
      " [10  1  8]\n",
      " [ 5  8  9]\n",
      " [ 3 10  9]]\n"
     ]
    }
   ],
   "source": [
    "# Create a 2D array with random integers\n",
    "arr_2d = np.random.randint(1,11, size=(3, 4))\n",
    "print (\"\\n\",arr_2d)\n",
    "\n",
    "# Transpose the array\n",
    "transposed_arr = arr_2d.T\n",
    "\n",
    "# Print the transposed array\n",
    "print(\"\\nTranspose:\\n\",transposed_arr)"
   ]
  },
  {
   "cell_type": "code",
   "execution_count": 103,
   "metadata": {},
   "outputs": [
    {
     "name": "stdout",
     "output_type": "stream",
     "text": [
      "2d array :\n",
      " [[1 3 1]\n",
      " [7 1 6]]\n",
      "Flattened array: [1 3 1 7 1 6]\n"
     ]
    }
   ],
   "source": [
    "# Create a 2D array\n",
    "arr_2d = np.random.randint(1, 11, size=(2, 3))\n",
    "print (\"2d array :\\n\",arr_2d)\n",
    "#flatten the array\n",
    "arr_1d = arr_2d.flatten()\n",
    "\n",
    "#print the result\n",
    "print(\"Flattened array:\", arr_1d)"
   ]
  },
  {
   "cell_type": "markdown",
   "metadata": {},
   "source": [
    "\n",
    "## Exercise 8: Broadcasting and Vectorized Operations\n",
    "\n",
    "  * Create a 2D NumPy array of shape (3, 4) with random integers between 1 and 10. Subtract the mean of each column from the respective column elements and print the result.\n",
    "\n",
    "  * Create two 1D NumPy arrays of length 4 with random integers between 1 and 5. Use broadcasting to compute and print the outer product of the two arrays.\n",
    "\n",
    "  * Create a 2D NumPy array of shape (4, 5) with random integers between 1 and 10. Add 10 to all elements of the array that are greater than 5 and print the modified array.\n",
    "\n"
   ]
  },
  {
   "cell_type": "code",
   "execution_count": null,
   "metadata": {},
   "outputs": [],
   "source": []
  }
 ],
 "metadata": {
  "colab": {
   "provenance": []
  },
  "kernelspec": {
   "display_name": "Python 3 (ipykernel)",
   "language": "python",
   "name": "python3"
  },
  "language_info": {
   "codemirror_mode": {
    "name": "ipython",
    "version": 3
   },
   "file_extension": ".py",
   "mimetype": "text/x-python",
   "name": "python",
   "nbconvert_exporter": "python",
   "pygments_lexer": "ipython3",
   "version": "3.12.4"
  }
 },
 "nbformat": 4,
 "nbformat_minor": 4
}
