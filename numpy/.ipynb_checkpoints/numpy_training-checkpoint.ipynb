{
  "nbformat": 4,
  "nbformat_minor": 0,
  "metadata": {
    "colab": {
      "provenance": []
    },
    "kernelspec": {
      "name": "python3",
      "display_name": "Python 3"
    },
    "language_info": {
      "name": "python"
    }
  },
  "cells": [
    {
      "cell_type": "code",
      "execution_count": 1,
      "metadata": {
        "colab": {
          "base_uri": "https://localhost:8080/",
          "height": 55
        },
        "id": "2wpVS7Xs07_w",
        "outputId": "fe8663d1-3287-4ae6-f0a4-70d0743e9f98"
      },
      "outputs": [
        {
          "output_type": "execute_result",
          "data": {
            "text/plain": [
              "'1.26.4'"
            ],
            "application/vnd.google.colaboratory.intrinsic+json": {
              "type": "string"
            }
          },
          "metadata": {},
          "execution_count": 1
        }
      ],
      "source": [
        "import numpy as np\n",
        "\n",
        "#check version\n",
        "np.__version__\n"
      ]
    },
    {
      "cell_type": "code",
      "source": [
        "# a vector: the argument to the array function is a Python list\n",
        "# more generally, 1D array\n",
        "lst = [1, 2, 3,4,0]\n",
        "v = np.array(lst, dtype=np.int32)\n",
        "v"
      ],
      "metadata": {
        "colab": {
          "base_uri": "https://localhost:8080/"
        },
        "id": "VyGsNwe01jBZ",
        "outputId": "cff57b33-9a2c-4b85-9628-2c99fac27f7c"
      },
      "execution_count": 2,
      "outputs": [
        {
          "output_type": "execute_result",
          "data": {
            "text/plain": [
              "array([1, 2, 3, 4, 0], dtype=int32)"
            ]
          },
          "metadata": {},
          "execution_count": 2
        }
      ]
    },
    {
      "cell_type": "code",
      "source": [
        "np.array([1,2,3,4], dtype=np.int32)"
      ],
      "metadata": {
        "colab": {
          "base_uri": "https://localhost:8080/"
        },
        "id": "ok0aBh6E2PL2",
        "outputId": "d07e3e90-32b0-4bfb-e296-14c461e8764d"
      },
      "execution_count": 3,
      "outputs": [
        {
          "output_type": "execute_result",
          "data": {
            "text/plain": [
              "array([1, 2, 3, 4], dtype=int32)"
            ]
          },
          "metadata": {},
          "execution_count": 3
        }
      ]
    },
    {
      "cell_type": "code",
      "source": [
        "\n",
        "# a matrix: the argument to the array function is a nested Python list (can also be a tuple of tuples)\n",
        "# more generally, a 2D array\n",
        "list_of_lists = [[1,2],[3,4]]\n",
        "M = np.array(list_of_lists)\n",
        "M"
      ],
      "metadata": {
        "colab": {
          "base_uri": "https://localhost:8080/"
        },
        "id": "l-P3ws7s2uW5",
        "outputId": "28b5a08e-f55f-41d0-e0ee-c06a3069f491"
      },
      "execution_count": 4,
      "outputs": [
        {
          "output_type": "execute_result",
          "data": {
            "text/plain": [
              "array([[1, 2],\n",
              "       [3, 4]])"
            ]
          },
          "metadata": {},
          "execution_count": 4
        }
      ]
    },
    {
      "cell_type": "code",
      "source": [
        "# a row vector\n",
        "\n",
        "row_vec = v[np.newaxis,:] # v[None,:]\n",
        "row_vec"
      ],
      "metadata": {
        "colab": {
          "base_uri": "https://localhost:8080/"
        },
        "id": "bNeQZRgE3ufz",
        "outputId": "8db04287-5090-47b3-db41-03c9eb24cffd"
      },
      "execution_count": 5,
      "outputs": [
        {
          "output_type": "execute_result",
          "data": {
            "text/plain": [
              "array([[1, 2, 3, 4, 0]], dtype=int32)"
            ]
          },
          "metadata": {},
          "execution_count": 5
        }
      ]
    },
    {
      "cell_type": "code",
      "source": [
        "np.array([[1,2,3,4]], dtype=np.int32)"
      ],
      "metadata": {
        "colab": {
          "base_uri": "https://localhost:8080/"
        },
        "id": "iHLh2qnA4AnV",
        "outputId": "6ec16400-e831-478c-e6a0-dd257ff7c54d"
      },
      "execution_count": 6,
      "outputs": [
        {
          "output_type": "execute_result",
          "data": {
            "text/plain": [
              "array([[1, 2, 3, 4]], dtype=int32)"
            ]
          },
          "metadata": {},
          "execution_count": 6
        }
      ]
    },
    {
      "cell_type": "code",
      "source": [
        "# a column vector\n",
        "col_vec = v[:, np.newaxis] #v[:, None]\n",
        "col_vec"
      ],
      "metadata": {
        "colab": {
          "base_uri": "https://localhost:8080/"
        },
        "id": "Ki_8dBRp4fRw",
        "outputId": "6990aa0e-cb5a-4aef-8849-ed33936b5d71"
      },
      "execution_count": 7,
      "outputs": [
        {
          "output_type": "execute_result",
          "data": {
            "text/plain": [
              "array([[1],\n",
              "       [2],\n",
              "       [3],\n",
              "       [4],\n",
              "       [0]], dtype=int32)"
            ]
          },
          "metadata": {},
          "execution_count": 7
        }
      ]
    },
    {
      "cell_type": "code",
      "source": [
        "np.array([[1],[2],[3],[4]], dtype=np.int32)"
      ],
      "metadata": {
        "colab": {
          "base_uri": "https://localhost:8080/"
        },
        "id": "fDnfrjw44vul",
        "outputId": "81bfe863-6d3e-4aef-a75b-a99960f8ba7e"
      },
      "execution_count": 8,
      "outputs": [
        {
          "output_type": "execute_result",
          "data": {
            "text/plain": [
              "array([[1],\n",
              "       [2],\n",
              "       [3],\n",
              "       [4]], dtype=int32)"
            ]
          },
          "metadata": {},
          "execution_count": 8
        }
      ]
    },
    {
      "cell_type": "code",
      "source": [
        "# when using linspace, both end points are included\n",
        "'''return evenly spaced numbers over a specified interval.\n",
        "\n",
        "    Returns num evenly spaced samples, calculated over the interval [start, stop].\n",
        "\n",
        "    The endpoint of the interval can optionally be excluded.'''\n",
        "np.linspace(0, 10)\n"
      ],
      "metadata": {
        "colab": {
          "base_uri": "https://localhost:8080/"
        },
        "id": "huE45Iaa5Amo",
        "outputId": "faaecd25-d4ea-40b3-c8f3-3f70af6d3797"
      },
      "execution_count": 9,
      "outputs": [
        {
          "output_type": "execute_result",
          "data": {
            "text/plain": [
              "array([ 0.        ,  0.20408163,  0.40816327,  0.6122449 ,  0.81632653,\n",
              "        1.02040816,  1.2244898 ,  1.42857143,  1.63265306,  1.83673469,\n",
              "        2.04081633,  2.24489796,  2.44897959,  2.65306122,  2.85714286,\n",
              "        3.06122449,  3.26530612,  3.46938776,  3.67346939,  3.87755102,\n",
              "        4.08163265,  4.28571429,  4.48979592,  4.69387755,  4.89795918,\n",
              "        5.10204082,  5.30612245,  5.51020408,  5.71428571,  5.91836735,\n",
              "        6.12244898,  6.32653061,  6.53061224,  6.73469388,  6.93877551,\n",
              "        7.14285714,  7.34693878,  7.55102041,  7.75510204,  7.95918367,\n",
              "        8.16326531,  8.36734694,  8.57142857,  8.7755102 ,  8.97959184,\n",
              "        9.18367347,  9.3877551 ,  9.59183673,  9.79591837, 10.        ])"
            ]
          },
          "metadata": {},
          "execution_count": 9
        }
      ]
    },
    {
      "cell_type": "code",
      "source": [
        "''' np.logspace(start, stop, num=50, endpoint=True, base=10.0(algorithm), dtype=None, axis=0)'''\n",
        "np.logspace(0, 5, 10, base=np.e)\n"
      ],
      "metadata": {
        "colab": {
          "base_uri": "https://localhost:8080/"
        },
        "id": "yNqgDL1f5vYG",
        "outputId": "bb57889d-a633-4025-fc0a-ace2a4e421a7"
      },
      "execution_count": 10,
      "outputs": [
        {
          "output_type": "execute_result",
          "data": {
            "text/plain": [
              "array([  1.        ,   1.742909  ,   3.03773178,   5.29449005,\n",
              "         9.22781435,  16.08324067,  28.03162489,  48.85657127,\n",
              "        85.15255772, 148.4131591 ])"
            ]
          },
          "metadata": {},
          "execution_count": 10
        }
      ]
    },
    {
      "cell_type": "code",
      "source": [
        "# a 3D array\n",
        "# a random array where the values come from a standard normal distribution\n",
        "'''random.randn(d0, d1, ..., dn)'''\n",
        "gaussian = np.random.randn(2*3*4)\n",
        "\n",
        "#resahpe the array to desitred shape\n",
        "# only the number of dimensions can be altered\n",
        "#the number of elements cannot be changed during a reshape operation\n",
        "\n",
        "gaussian = gaussian.reshape((2,3,4))\n",
        "gaussian"
      ],
      "metadata": {
        "colab": {
          "base_uri": "https://localhost:8080/"
        },
        "id": "PCsgf53w7NJ7",
        "outputId": "7c97ffd4-a9d4-42c0-ba93-fa7e3e42a6ff"
      },
      "execution_count": 11,
      "outputs": [
        {
          "output_type": "execute_result",
          "data": {
            "text/plain": [
              "array([[[ 1.53986184, -0.48878273,  1.11345127, -1.50519588],\n",
              "        [-0.54644664, -0.75331251, -0.20434658, -1.80276446],\n",
              "        [ 0.53006313, -0.5989934 ,  2.09247092,  1.81817619]],\n",
              "\n",
              "       [[ 1.46130335,  0.41526497,  1.0321618 , -2.37938836],\n",
              "        [-1.00847719, -0.20617241, -2.47103202, -1.54110712],\n",
              "        [-0.01054263,  0.45790484, -1.18831032, -0.76457126]]])"
            ]
          },
          "metadata": {},
          "execution_count": 11
        }
      ]
    },
    {
      "cell_type": "code",
      "source": [
        "# an array full of zero values\n",
        "# one can also specify a desired datatype\n",
        "\n",
        "'''np.zeros(shape, dtype=float, order='C')'''\n",
        "zero_arr = np.zeros((3,4))\n",
        "zero_arr"
      ],
      "metadata": {
        "colab": {
          "base_uri": "https://localhost:8080/"
        },
        "id": "M7CrYyda8khH",
        "outputId": "0b82e66f-deba-4bd5-96b2-d11366019b7d"
      },
      "execution_count": 12,
      "outputs": [
        {
          "output_type": "execute_result",
          "data": {
            "text/plain": [
              "array([[0., 0., 0., 0.],\n",
              "       [0., 0., 0., 0.],\n",
              "       [0., 0., 0., 0.]])"
            ]
          },
          "metadata": {},
          "execution_count": 12
        }
      ]
    },
    {
      "cell_type": "code",
      "source": [
        "# an array full of ones\n",
        "# one can also specify datatype\n",
        "\n",
        "ones_arr = np.ones((3,4), dtype=np.float32)\n",
        "ones_arr"
      ],
      "metadata": {
        "colab": {
          "base_uri": "https://localhost:8080/"
        },
        "id": "YG8BmUex9sjv",
        "outputId": "df61ea3a-20e7-4a4b-ef15-1b287404d5f8"
      },
      "execution_count": 13,
      "outputs": [
        {
          "output_type": "execute_result",
          "data": {
            "text/plain": [
              "array([[1., 1., 1., 1.],\n",
              "       [1., 1., 1., 1.],\n",
              "       [1., 1., 1., 1.]], dtype=float32)"
            ]
          },
          "metadata": {},
          "execution_count": 13
        }
      ]
    },
    {
      "cell_type": "code",
      "source": [
        "# a 3*3 identity (matrix) array\n",
        "# An identity matrix is a square matrix where all the diagonal elements are 1, and all other elements are 0.\n",
        "'''np.eye(N, M=None, k=0, dtype=<class 'float'>, order='C')'''\n",
        "iden = np.identity(3, dtype= np.float128)\n",
        "iden"
      ],
      "metadata": {
        "colab": {
          "base_uri": "https://localhost:8080/"
        },
        "id": "HTlnbekK-HPf",
        "outputId": "672651c1-5b3f-4f84-b006-2b62f60d8da5"
      },
      "execution_count": 14,
      "outputs": [
        {
          "output_type": "execute_result",
          "data": {
            "text/plain": [
              "array([[1., 0., 0.],\n",
              "       [0., 1., 0.],\n",
              "       [0., 0., 1.]], dtype=float128)"
            ]
          },
          "metadata": {},
          "execution_count": 14
        }
      ]
    },
    {
      "cell_type": "code",
      "source": [
        "# a diagonal array\n",
        "\n",
        "diag = np.diag([1,2,3,4.0])\n",
        "diag"
      ],
      "metadata": {
        "colab": {
          "base_uri": "https://localhost:8080/"
        },
        "id": "8aaFPBp9_cZ5",
        "outputId": "90066bd5-b5b6-45b6-d88d-947993693a76"
      },
      "execution_count": 15,
      "outputs": [
        {
          "output_type": "execute_result",
          "data": {
            "text/plain": [
              "array([[1., 0., 0., 0.],\n",
              "       [0., 2., 0., 0.],\n",
              "       [0., 0., 3., 0.],\n",
              "       [0., 0., 0., 4.]])"
            ]
          },
          "metadata": {},
          "execution_count": 15
        }
      ]
    },
    {
      "cell_type": "code",
      "source": [
        "# a 3D random array where the values come from a standard Normal distribution\n",
        "#2*3*4 is evaluated as 24, meaning np.random.randn(24) generates 24 random values.\n",
        "gaussian = np.random.randn(2*3*4).reshape((2,3,4))\n",
        "print(gaussian)"
      ],
      "metadata": {
        "colab": {
          "base_uri": "https://localhost:8080/"
        },
        "id": "a5b_pwVf_nek",
        "outputId": "9866fb1f-1b30-49b4-bde3-deba8af8a07c"
      },
      "execution_count": 16,
      "outputs": [
        {
          "output_type": "stream",
          "name": "stdout",
          "text": [
            "[[[ 1.05873242 -0.05698184  0.36722697 -0.18361766]\n",
            "  [-0.16806011 -1.20183193  0.46903712  1.52526064]\n",
            "  [-0.25961359  0.37369093 -1.51854036  0.17902549]]\n",
            "\n",
            " [[ 1.23044837 -2.52729957 -0.97140032  0.52997614]\n",
            "  [-0.19785715 -1.37428086  1.17873886  0.42469104]\n",
            "  [ 0.06992455  1.35450857 -0.53613236 -1.0843244 ]]]\n"
          ]
        }
      ]
    },
    {
      "cell_type": "code",
      "source": [
        "# get number fo dimensions fo the array\n",
        "gaussian.ndim\n",
        "print(\"total dimensions of the array is : \", gaussian.ndim)\n",
        "\n",
        "#get the shape of the array\n",
        "gaussian.shape\n",
        "print(\"shape of the array is : \", gaussian.shape)\n",
        "\n",
        "#get the total number of elements in array\n",
        "gaussian.size\n",
        "print(\"total number of items is: \", gaussian.size)\n",
        "\n",
        "# get memory consumed by each item in the array\n",
        "gaussian.itemsize\n",
        "print(\"memory consumed by each item is : \", gaussian.itemsize)\n",
        "\n",
        "#get memory consumed by the array\n",
        "gaussian.nbytes\n",
        "print(\"memory consumed by the whole array is : \", gaussian.nbytes)"
      ],
      "metadata": {
        "colab": {
          "base_uri": "https://localhost:8080/"
        },
        "id": "LRdeWpaI_8eu",
        "outputId": "0b6feda9-7b71-4b32-9ada-a00b0d6d3ec2"
      },
      "execution_count": 17,
      "outputs": [
        {
          "output_type": "stream",
          "name": "stdout",
          "text": [
            "total dimensions of the array is :  3\n",
            "shape of the array is :  (2, 3, 4)\n",
            "total number of items is:  24\n",
            "memory consumed by each item is :  8\n",
            "memory consumed by the whole array is :  192\n"
          ]
        }
      ]
    },
    {
      "cell_type": "markdown",
      "source": [
        "\n",
        "**Array Indexing**\n",
        "\n",
        "We can index elements in an array using square brackets and indices. For 1D arrays, indexing works the same as with Python list.\n"
      ],
      "metadata": {
        "id": "bKcXaKBEBsr9"
      }
    },
    {
      "cell_type": "code",
      "source": [
        "# 1D array of random integers\n",
        "# get 10 integers from 0 to 22\n",
        "\n",
        "num_samples = 10\n",
        "integers = np.random.randint(23, size=num_samples)\n",
        "integers"
      ],
      "metadata": {
        "colab": {
          "base_uri": "https://localhost:8080/"
        },
        "id": "7rjNQdpDBgAN",
        "outputId": "d2b5fb21-1db3-444e-d7b9-6deb58a8137b"
      },
      "execution_count": 18,
      "outputs": [
        {
          "output_type": "execute_result",
          "data": {
            "text/plain": [
              "array([ 3,  6, 10,  0,  6,  0, 13,  4,  5, 11])"
            ]
          },
          "metadata": {},
          "execution_count": 18
        }
      ]
    },
    {
      "cell_type": "code",
      "source": [
        "# indexing 1D array needs only one index\n",
        "# get 3rd element (remember: NumPy unlike MATLAB is 0 based indexing)\n",
        "integers[2]"
      ],
      "metadata": {
        "colab": {
          "base_uri": "https://localhost:8080/"
        },
        "id": "RLPCgDbNCXrP",
        "outputId": "a6133b7a-9cd5-4f3c-f06d-c7a5d5f215a7"
      },
      "execution_count": 19,
      "outputs": [
        {
          "output_type": "execute_result",
          "data": {
            "text/plain": [
              "10"
            ]
          },
          "metadata": {},
          "execution_count": 19
        }
      ]
    },
    {
      "cell_type": "code",
      "source": [
        "# The reshape(3, -1) function reshapes the 1D array into a 2D array with 3 rows. The -1 means that NumPy will automatically determine the correct number of columns\n",
        "#based on the total number of elements (45 in this case).\n",
        "twoD_arr= np.arange(1,46).reshape(3, -1)\n",
        "twoD_arr"
      ],
      "metadata": {
        "colab": {
          "base_uri": "https://localhost:8080/"
        },
        "id": "kE7fZeM2Cel_",
        "outputId": "8bfefaa8-f429-45f1-a02f-abdbb4e2945b"
      },
      "execution_count": 20,
      "outputs": [
        {
          "output_type": "execute_result",
          "data": {
            "text/plain": [
              "array([[ 1,  2,  3,  4,  5,  6,  7,  8,  9, 10, 11, 12, 13, 14, 15],\n",
              "       [16, 17, 18, 19, 20, 21, 22, 23, 24, 25, 26, 27, 28, 29, 30],\n",
              "       [31, 32, 33, 34, 35, 36, 37, 38, 39, 40, 41, 42, 43, 44, 45]])"
            ]
          },
          "metadata": {},
          "execution_count": 20
        }
      ]
    },
    {
      "cell_type": "code",
      "source": [
        "# indexing 2D array needs only two indices.\n",
        "# then it returns a scalar value\n",
        "\n",
        "# value at last row and last column\n",
        "twoD_arr[-1,-1]"
      ],
      "metadata": {
        "colab": {
          "base_uri": "https://localhost:8080/"
        },
        "id": "D-BBSs5sDMNl",
        "outputId": "2c404ce8-9a4f-4ab9-d456-9d2565ad3300"
      },
      "execution_count": 21,
      "outputs": [
        {
          "output_type": "execute_result",
          "data": {
            "text/plain": [
              "45"
            ]
          },
          "metadata": {},
          "execution_count": 21
        }
      ]
    },
    {
      "cell_type": "code",
      "source": [
        "# howevthe  if we use only one (valid) index then it returns a 1D array\n",
        "\n",
        "# get all elments in the last row\n",
        "twoD_arr[-1]  # or twoD_arr[-1, ] or twoD_arr[-1, :]"
      ],
      "metadata": {
        "colab": {
          "base_uri": "https://localhost:8080/"
        },
        "id": "UOt7m_odDRxl",
        "outputId": "aea55605-8e26-456e-fcbd-6d8c844a3466"
      },
      "execution_count": 22,
      "outputs": [
        {
          "output_type": "execute_result",
          "data": {
            "text/plain": [
              "array([31, 32, 33, 34, 35, 36, 37, 38, 39, 40, 41, 42, 43, 44, 45])"
            ]
          },
          "metadata": {},
          "execution_count": 22
        }
      ]
    },
    {
      "cell_type": "code",
      "source": [
        "# remember `gaussian` is a 3D array.\n",
        "gaussian"
      ],
      "metadata": {
        "colab": {
          "base_uri": "https://localhost:8080/"
        },
        "id": "rqM2eAu5DyV4",
        "outputId": "651b4255-cdc7-46a5-ee06-aa865456ad82"
      },
      "execution_count": 23,
      "outputs": [
        {
          "output_type": "execute_result",
          "data": {
            "text/plain": [
              "array([[[ 1.05873242, -0.05698184,  0.36722697, -0.18361766],\n",
              "        [-0.16806011, -1.20183193,  0.46903712,  1.52526064],\n",
              "        [-0.25961359,  0.37369093, -1.51854036,  0.17902549]],\n",
              "\n",
              "       [[ 1.23044837, -2.52729957, -0.97140032,  0.52997614],\n",
              "        [-0.19785715, -1.37428086,  1.17873886,  0.42469104],\n",
              "        [ 0.06992455,  1.35450857, -0.53613236, -1.0843244 ]]])"
            ]
          },
          "metadata": {},
          "execution_count": 23
        }
      ]
    },
    {
      "cell_type": "code",
      "source": [
        "# So, a 2D array is returned when using one index\n",
        "\n",
        "# return last slice\n",
        "gaussian[-1]"
      ],
      "metadata": {
        "colab": {
          "base_uri": "https://localhost:8080/"
        },
        "id": "MYK-HZckD3uj",
        "outputId": "9dd2bc58-73a3-4b90-f620-dd36bd41d39f"
      },
      "execution_count": 24,
      "outputs": [
        {
          "output_type": "execute_result",
          "data": {
            "text/plain": [
              "array([[ 1.23044837, -2.52729957, -0.97140032,  0.52997614],\n",
              "       [-0.19785715, -1.37428086,  1.17873886,  0.42469104],\n",
              "       [ 0.06992455,  1.35450857, -0.53613236, -1.0843244 ]])"
            ]
          },
          "metadata": {},
          "execution_count": 24
        }
      ]
    },
    {
      "cell_type": "code",
      "source": [
        "# a 1D array is returned when using a pair of indices\n",
        "\n",
        "# return first row from last slice\n",
        "gaussian[-1,0]"
      ],
      "metadata": {
        "colab": {
          "base_uri": "https://localhost:8080/"
        },
        "id": "a14Q_yY4EHm1",
        "outputId": "9f118a45-f8da-4f8d-8e82-4ebfe530273a"
      },
      "execution_count": 25,
      "outputs": [
        {
          "output_type": "execute_result",
          "data": {
            "text/plain": [
              "array([ 1.23044837, -2.52729957, -0.97140032,  0.52997614])"
            ]
          },
          "metadata": {},
          "execution_count": 25
        }
      ]
    },
    {
      "cell_type": "code",
      "source": [
        "# return last row from last slice\n",
        "gaussian[-1,-1]\n"
      ],
      "metadata": {
        "colab": {
          "base_uri": "https://localhost:8080/"
        },
        "id": "H5CvfU_sERJL",
        "outputId": "2ffc3234-c580-4fc0-e41a-76efd13a6366"
      },
      "execution_count": 26,
      "outputs": [
        {
          "output_type": "execute_result",
          "data": {
            "text/plain": [
              "array([ 0.06992455,  1.35450857, -0.53613236, -1.0843244 ])"
            ]
          },
          "metadata": {},
          "execution_count": 26
        }
      ]
    },
    {
      "cell_type": "code",
      "source": [
        "# return last element of row of last slice\n",
        "idx=(-1,-1,-1)\n",
        "gaussian[idx]\n"
      ],
      "metadata": {
        "colab": {
          "base_uri": "https://localhost:8080/"
        },
        "id": "mIzQWsUFEjr0",
        "outputId": "55502eb0-e4da-494a-e361-5581a6f3a8a3"
      },
      "execution_count": 27,
      "outputs": [
        {
          "output_type": "execute_result",
          "data": {
            "text/plain": [
              "-1.0843244025254333"
            ]
          },
          "metadata": {},
          "execution_count": 27
        }
      ]
    },
    {
      "cell_type": "markdown",
      "source": [
        "\n",
        "\n",
        "We can also assign new values to elements in an array using indexing:\n"
      ],
      "metadata": {
        "id": "tZUit3N0E4Eu"
      }
    },
    {
      "cell_type": "markdown",
      "source": [],
      "metadata": {
        "id": "eE3-q31nBnar"
      }
    },
    {
      "cell_type": "code",
      "source": [
        "# updating the array by assigning values\n",
        "\n",
        "\n",
        "# updating the array by assigning values\n",
        "# truncation will happen if there's a datatype mismatch\n",
        "# pringt (integers)\n",
        "\n",
        "integers[2]=99.21\n",
        "integers\n"
      ],
      "metadata": {
        "colab": {
          "base_uri": "https://localhost:8080/"
        },
        "id": "g9ak0ejxE5Xz",
        "outputId": "7366780b-9de5-4c94-cd9e-6a41a41099fb"
      },
      "execution_count": 28,
      "outputs": [
        {
          "output_type": "execute_result",
          "data": {
            "text/plain": [
              "array([ 3,  6, 99,  0,  6,  0, 13,  4,  5, 11])"
            ]
          },
          "metadata": {},
          "execution_count": 28
        }
      ]
    },
    {
      "cell_type": "markdown",
      "source": [
        "**Index slicing**\n",
        "\n",
        "Index slicing is the technical name for the syntax M[lower:upper:step] to extract part of an array. Negative indices counts from the end of the array (positive index from the begining):\n"
      ],
      "metadata": {
        "id": "gIjD3sqPFcUP"
      }
    },
    {
      "cell_type": "code",
      "source": [
        "integers"
      ],
      "metadata": {
        "colab": {
          "base_uri": "https://localhost:8080/"
        },
        "id": "i6gjSIM9FMRz",
        "outputId": "230d4430-475b-4a35-829f-6c45eefa9bf4"
      },
      "execution_count": 29,
      "outputs": [
        {
          "output_type": "execute_result",
          "data": {
            "text/plain": [
              "array([ 3,  6, 99,  0,  6,  0, 13,  4,  5, 11])"
            ]
          },
          "metadata": {},
          "execution_count": 29
        }
      ]
    },
    {
      "cell_type": "code",
      "source": [
        "# slice a portion of the array\n",
        "# similar to Python iterator slicing\n",
        "# x[start:stop:step]\n",
        "\n",
        "# get last 5 elements\n",
        "integers[-5:]\n",
        "\n",
        "#if `stop` is ommitted then is'll be sliced till the end of the array\n",
        "# by default, step is 1"
      ],
      "metadata": {
        "colab": {
          "base_uri": "https://localhost:8080/"
        },
        "id": "GMksxerfFl1d",
        "outputId": "124e3598-f7d0-419e-ab55-d91c6ea94cc0"
      },
      "execution_count": 30,
      "outputs": [
        {
          "output_type": "execute_result",
          "data": {
            "text/plain": [
              "array([ 0, 13,  4,  5, 11])"
            ]
          },
          "metadata": {},
          "execution_count": 30
        }
      ]
    },
    {
      "cell_type": "code",
      "source": [
        "\n",
        "\n",
        "# get alternative elements (every other element) from the array\n",
        "# equivalently step = 2\n",
        "integers[::2]"
      ],
      "metadata": {
        "colab": {
          "base_uri": "https://localhost:8080/"
        },
        "id": "O4ixlP4AGK5V",
        "outputId": "e49484cb-b7eb-4f17-d1e7-7bd98e753af7"
      },
      "execution_count": 31,
      "outputs": [
        {
          "output_type": "execute_result",
          "data": {
            "text/plain": [
              "array([ 3, 99,  6, 13,  5])"
            ]
          },
          "metadata": {},
          "execution_count": 31
        }
      ]
    },
    {
      "cell_type": "code",
      "source": [
        "# reversing the array\n",
        "integers[::-1]"
      ],
      "metadata": {
        "colab": {
          "base_uri": "https://localhost:8080/"
        },
        "id": "YbwJJ-hbGdSx",
        "outputId": "4d43ee59-44d7-4564-ad5f-67df45a7054c"
      },
      "execution_count": 32,
      "outputs": [
        {
          "output_type": "execute_result",
          "data": {
            "text/plain": [
              "array([11,  5,  4, 13,  0,  6,  0, 99,  6,  3])"
            ]
          },
          "metadata": {},
          "execution_count": 32
        }
      ]
    },
    {
      "cell_type": "code",
      "source": [
        "# forward traveersal of array\n",
        "integers[3::]"
      ],
      "metadata": {
        "colab": {
          "base_uri": "https://localhost:8080/"
        },
        "id": "l3yNzElZGouM",
        "outputId": "0c69be85-21cf-4ea9-b3b7-60dc925292a1"
      },
      "execution_count": 33,
      "outputs": [
        {
          "output_type": "execute_result",
          "data": {
            "text/plain": [
              "array([ 0,  6,  0, 13,  4,  5, 11])"
            ]
          },
          "metadata": {},
          "execution_count": 33
        }
      ]
    },
    {
      "cell_type": "code",
      "source": [
        "# reverse travesal of array (starting from 4th element)\n",
        "integers[3::-1]"
      ],
      "metadata": {
        "colab": {
          "base_uri": "https://localhost:8080/"
        },
        "id": "Qlc8uVlSG62t",
        "outputId": "71341732-301c-4c36-f314-c0b4e9fa4284"
      },
      "execution_count": 34,
      "outputs": [
        {
          "output_type": "execute_result",
          "data": {
            "text/plain": [
              "array([ 0, 99,  6,  3])"
            ]
          },
          "metadata": {},
          "execution_count": 34
        }
      ]
    },
    {
      "cell_type": "markdown",
      "source": [
        "Array slices are mutable: if they are assigned a new value the original array from which the slice was extracted is modified:"
      ],
      "metadata": {
        "id": "8Q7bWzSrHhwh"
      }
    },
    {
      "cell_type": "code",
      "source": [
        "integers"
      ],
      "metadata": {
        "colab": {
          "base_uri": "https://localhost:8080/"
        },
        "id": "iaJDUJUIHUJK",
        "outputId": "77c48d90-92da-41e8-a0b4-691d7e127569"
      },
      "execution_count": 35,
      "outputs": [
        {
          "output_type": "execute_result",
          "data": {
            "text/plain": [
              "array([ 3,  6, 99,  0,  6,  0, 13,  4,  5, 11])"
            ]
          },
          "metadata": {},
          "execution_count": 35
        }
      ]
    },
    {
      "cell_type": "code",
      "source": [
        "# assign new values to the last two elements\n",
        "integers[-2:]=[-2,-46]\n",
        "integers"
      ],
      "metadata": {
        "colab": {
          "base_uri": "https://localhost:8080/"
        },
        "id": "xUcbCs-CHcse",
        "outputId": "60091c9e-3a8c-45c7-bfea-ca70dd2e7e92"
      },
      "execution_count": 36,
      "outputs": [
        {
          "output_type": "execute_result",
          "data": {
            "text/plain": [
              "array([  3,   6,  99,   0,   6,   0,  13,   4,  -2, -46])"
            ]
          },
          "metadata": {},
          "execution_count": 36
        }
      ]
    },
    {
      "cell_type": "markdown",
      "source": [
        "**nD arrays**"
      ],
      "metadata": {
        "id": "Ig5TiPCfH3IN"
      }
    },
    {
      "cell_type": "code",
      "source": [
        "# a 2D array\n",
        "twenty = (np.arange(4*5)).reshape(4,5)\n",
        "twenty"
      ],
      "metadata": {
        "colab": {
          "base_uri": "https://localhost:8080/"
        },
        "id": "Eajsu6vxHxT3",
        "outputId": "d71a8111-0a10-463f-f344-8343bb9b7ead"
      },
      "execution_count": 37,
      "outputs": [
        {
          "output_type": "execute_result",
          "data": {
            "text/plain": [
              "array([[ 0,  1,  2,  3,  4],\n",
              "       [ 5,  6,  7,  8,  9],\n",
              "       [10, 11, 12, 13, 14],\n",
              "       [15, 16, 17, 18, 19]])"
            ]
          },
          "metadata": {},
          "execution_count": 37
        }
      ]
    },
    {
      "cell_type": "code",
      "source": [
        "# slice first 2 rows and 3 columns\n",
        "twenty[:2, :3]"
      ],
      "metadata": {
        "colab": {
          "base_uri": "https://localhost:8080/"
        },
        "id": "stJRqIbFIFaS",
        "outputId": "bd0bbe52-0185-4d56-94f0-105e87501c4d"
      },
      "execution_count": 38,
      "outputs": [
        {
          "output_type": "execute_result",
          "data": {
            "text/plain": [
              "array([[0, 1, 2],\n",
              "       [5, 6, 7]])"
            ]
          },
          "metadata": {},
          "execution_count": 38
        }
      ]
    },
    {
      "cell_type": "code",
      "source": [
        "# slice and get only the corner elements\n",
        "# three \"jumps\" along dimension 0\n",
        "# four \"jumps\" along dimension 1\n",
        "twenty[::3, ::4]"
      ],
      "metadata": {
        "colab": {
          "base_uri": "https://localhost:8080/"
        },
        "id": "ydJxMVdeIQ_4",
        "outputId": "4dbe98be-f468-4d1c-f2e9-ab68aae52538"
      },
      "execution_count": 39,
      "outputs": [
        {
          "output_type": "execute_result",
          "data": {
            "text/plain": [
              "array([[ 0,  4],\n",
              "       [15, 19]])"
            ]
          },
          "metadata": {},
          "execution_count": 39
        }
      ]
    },
    {
      "cell_type": "code",
      "source": [
        "# reversing the order of elements along columns (i.e. along dimension 0)\n",
        "twenty[::-1, ...]"
      ],
      "metadata": {
        "colab": {
          "base_uri": "https://localhost:8080/"
        },
        "id": "2pNHajVoI3_C",
        "outputId": "a4f057d3-e910-4c32-ec82-4c758f5b2cc1"
      },
      "execution_count": 40,
      "outputs": [
        {
          "output_type": "execute_result",
          "data": {
            "text/plain": [
              "array([[15, 16, 17, 18, 19],\n",
              "       [10, 11, 12, 13, 14],\n",
              "       [ 5,  6,  7,  8,  9],\n",
              "       [ 0,  1,  2,  3,  4]])"
            ]
          },
          "metadata": {},
          "execution_count": 40
        }
      ]
    },
    {
      "cell_type": "code",
      "source": [
        "# reversing the order of elements along rows (i.e. along dimension 1)\n",
        "twenty[..., ::-1]"
      ],
      "metadata": {
        "colab": {
          "base_uri": "https://localhost:8080/"
        },
        "id": "wUW2-PSzLExA",
        "outputId": "8cb33659-74fb-4b25-c92f-3c8e3c1642fc"
      },
      "execution_count": 41,
      "outputs": [
        {
          "output_type": "execute_result",
          "data": {
            "text/plain": [
              "array([[ 4,  3,  2,  1,  0],\n",
              "       [ 9,  8,  7,  6,  5],\n",
              "       [14, 13, 12, 11, 10],\n",
              "       [19, 18, 17, 16, 15]])"
            ]
          },
          "metadata": {},
          "execution_count": 41
        }
      ]
    },
    {
      "cell_type": "code",
      "source": [
        "\n",
        "\n",
        "# reversing the rows and columns (i.e. along both dimensions)\n",
        "twenty[::-1, ::-1]\n",
        "\n"
      ],
      "metadata": {
        "colab": {
          "base_uri": "https://localhost:8080/"
        },
        "id": "AJ9tyDv7LwLH",
        "outputId": "599f3953-3c36-480a-cd85-61dc93c254d6"
      },
      "execution_count": 42,
      "outputs": [
        {
          "output_type": "execute_result",
          "data": {
            "text/plain": [
              "array([[19, 18, 17, 16, 15],\n",
              "       [14, 13, 12, 11, 10],\n",
              "       [ 9,  8,  7,  6,  5],\n",
              "       [ 4,  3,  2,  1,  0]])"
            ]
          },
          "metadata": {},
          "execution_count": 42
        }
      ]
    },
    {
      "cell_type": "code",
      "source": [
        "# or more intuitively\n",
        "np.flip(twenty, axis=(0,1))\n",
        "\n",
        "\n",
        "# or equivalently\n",
        "np.flipud(np.fliplr(twenty))\n",
        "np.fliplr(np.flipud(twenty))"
      ],
      "metadata": {
        "colab": {
          "base_uri": "https://localhost:8080/"
        },
        "id": "HHQwSvCsL0bv",
        "outputId": "8492abb0-d9e6-4abf-8b39-e84ed6ba7b49"
      },
      "execution_count": 43,
      "outputs": [
        {
          "output_type": "execute_result",
          "data": {
            "text/plain": [
              "array([[19, 18, 17, 16, 15],\n",
              "       [14, 13, 12, 11, 10],\n",
              "       [ 9,  8,  7,  6,  5],\n",
              "       [ 4,  3,  2,  1,  0]])"
            ]
          },
          "metadata": {},
          "execution_count": 43
        }
      ]
    },
    {
      "cell_type": "markdown",
      "source": [
        "\n",
        "**Fancy indexing**\n",
        "\n",
        "Fancy indexing is the name for when an array or a list is used in-place of an index:\n"
      ],
      "metadata": {
        "id": "G4HWSuHdMkdS"
      }
    },
    {
      "cell_type": "code",
      "source": [
        "# a 2D array\n",
        "twenty"
      ],
      "metadata": {
        "colab": {
          "base_uri": "https://localhost:8080/"
        },
        "id": "Tey0GtQKMGkL",
        "outputId": "e3d675f8-99a8-4e89-f1f3-274360389309"
      },
      "execution_count": 44,
      "outputs": [
        {
          "output_type": "execute_result",
          "data": {
            "text/plain": [
              "array([[ 0,  1,  2,  3,  4],\n",
              "       [ 5,  6,  7,  8,  9],\n",
              "       [10, 11, 12, 13, 14],\n",
              "       [15, 16, 17, 18, 19]])"
            ]
          },
          "metadata": {},
          "execution_count": 44
        }
      ]
    },
    {
      "cell_type": "code",
      "source": [
        "# get 2nd, 3rd, and 4th rows\n",
        "row_indices = [1, 2, 3]\n",
        "twenty[row_indices]"
      ],
      "metadata": {
        "colab": {
          "base_uri": "https://localhost:8080/"
        },
        "id": "-kdJnH7BM3g8",
        "outputId": "0ab8eaaa-f535-4c07-fb48-9a574b2ea042"
      },
      "execution_count": 45,
      "outputs": [
        {
          "output_type": "execute_result",
          "data": {
            "text/plain": [
              "array([[ 5,  6,  7,  8,  9],\n",
              "       [10, 11, 12, 13, 14],\n",
              "       [15, 16, 17, 18, 19]])"
            ]
          },
          "metadata": {},
          "execution_count": 45
        }
      ]
    },
    {
      "cell_type": "code",
      "source": [
        "#In this part, col_indices specifies the columns to be extracted: the 2nd column, the 3rd column, and the last column (using -1 for the last element).\n",
        "col_indices = [1, 2, -1] # 3rd column and last column\n",
        "twenty[row_indices, col_indices]"
      ],
      "metadata": {
        "colab": {
          "base_uri": "https://localhost:8080/"
        },
        "id": "FKBYkgnPM720",
        "outputId": "22a3a2df-8431-4399-c0fd-db5428a201b8"
      },
      "execution_count": 46,
      "outputs": [
        {
          "output_type": "execute_result",
          "data": {
            "text/plain": [
              "array([ 6, 12, 19])"
            ]
          },
          "metadata": {},
          "execution_count": 46
        }
      ]
    },
    {
      "cell_type": "code",
      "source": [
        "# mask has to be of the same shape as the array to be indexed; else IndexError would be thrown\n",
        "# mask for indexing alternate elements in the array\n",
        "row_mask = np.array([True, False, True, False, True, False, True, False, True, False])\n",
        "\n",
        "integers[row_mask]\n"
      ],
      "metadata": {
        "colab": {
          "base_uri": "https://localhost:8080/"
        },
        "id": "BWbgl5_zOhde",
        "outputId": "12c880f7-a4c5-49ac-ab3c-2ce58a6f516e"
      },
      "execution_count": 47,
      "outputs": [
        {
          "output_type": "execute_result",
          "data": {
            "text/plain": [
              "array([ 3, 99,  6, 13, -2])"
            ]
          },
          "metadata": {},
          "execution_count": 47
        }
      ]
    },
    {
      "cell_type": "code",
      "source": [
        "integers"
      ],
      "metadata": {
        "colab": {
          "base_uri": "https://localhost:8080/"
        },
        "id": "0Rs1WWWEiKfq",
        "outputId": "91fd077a-c6b5-45fc-d0d6-8199aa85906f"
      },
      "execution_count": 48,
      "outputs": [
        {
          "output_type": "execute_result",
          "data": {
            "text/plain": [
              "array([  3,   6,  99,   0,   6,   0,  13,   4,  -2, -46])"
            ]
          },
          "metadata": {},
          "execution_count": 48
        }
      ]
    },
    {
      "cell_type": "code",
      "source": [
        "# alternatively\n",
        "row_mask = np.array([1, 0, 1, 0, 1, 0, 1, 0, 1, 0], dtype= np.bool_)\n",
        "integers[row_mask]"
      ],
      "metadata": {
        "colab": {
          "base_uri": "https://localhost:8080/"
        },
        "id": "Efum_hDLioUl",
        "outputId": "e7474746-a96c-4e9b-8723-a9c707c3d8de"
      },
      "execution_count": 49,
      "outputs": [
        {
          "output_type": "execute_result",
          "data": {
            "text/plain": [
              "array([ 3, 99,  6, 13, -2])"
            ]
          },
          "metadata": {},
          "execution_count": 49
        }
      ]
    },
    {
      "cell_type": "markdown",
      "source": [
        "This feature is very useful to conditionally select elements from an array, using for example comparison operators:"
      ],
      "metadata": {
        "id": "dh5_RT6Ai_Hl"
      }
    },
    {
      "cell_type": "code",
      "source": [
        "\n",
        "\n",
        "range_arr = np.arange(0, 10, 0.5)\n",
        "range_arr"
      ],
      "metadata": {
        "colab": {
          "base_uri": "https://localhost:8080/"
        },
        "id": "DozLUn9mi4ZN",
        "outputId": "fb855d3c-9006-4785-e93d-834edc9d3ed4"
      },
      "execution_count": 50,
      "outputs": [
        {
          "output_type": "execute_result",
          "data": {
            "text/plain": [
              "array([0. , 0.5, 1. , 1.5, 2. , 2.5, 3. , 3.5, 4. , 4.5, 5. , 5.5, 6. ,\n",
              "       6.5, 7. , 7.5, 8. , 8.5, 9. , 9.5])"
            ]
          },
          "metadata": {},
          "execution_count": 50
        }
      ]
    },
    {
      "cell_type": "code",
      "source": [
        "mask = (range_arr > 5) * (range_arr < 7.5)\n",
        "mask"
      ],
      "metadata": {
        "colab": {
          "base_uri": "https://localhost:8080/"
        },
        "id": "XPuH7ov9jF7p",
        "outputId": "e535d411-7d10-45cb-fe6b-de2c7753babd"
      },
      "execution_count": 51,
      "outputs": [
        {
          "output_type": "execute_result",
          "data": {
            "text/plain": [
              "array([False, False, False, False, False, False, False, False, False,\n",
              "       False, False,  True,  True,  True,  True, False, False, False,\n",
              "       False, False])"
            ]
          },
          "metadata": {},
          "execution_count": 51
        }
      ]
    },
    {
      "cell_type": "code",
      "source": [
        "range_arr[mask]"
      ],
      "metadata": {
        "colab": {
          "base_uri": "https://localhost:8080/"
        },
        "id": "QHrQuQoYkjEE",
        "outputId": "517ae3fa-6a0e-4108-e96b-3af68c5d3e9a"
      },
      "execution_count": 52,
      "outputs": [
        {
          "output_type": "execute_result",
          "data": {
            "text/plain": [
              "array([5.5, 6. , 6.5, 7. ])"
            ]
          },
          "metadata": {},
          "execution_count": 52
        }
      ]
    },
    {
      "cell_type": "code",
      "source": [
        "# or equivalently\n",
        "\n",
        "mask = (5 < range_arr) & (range_arr < 7.5)\n",
        "range_arr[mask]\n"
      ],
      "metadata": {
        "colab": {
          "base_uri": "https://localhost:8080/"
        },
        "id": "2iUbqFP2kmac",
        "outputId": "532b3f83-ee28-4517-9961-4085eac9f454"
      },
      "execution_count": 53,
      "outputs": [
        {
          "output_type": "execute_result",
          "data": {
            "text/plain": [
              "array([5.5, 6. , 6.5, 7. ])"
            ]
          },
          "metadata": {},
          "execution_count": 53
        }
      ]
    },
    {
      "cell_type": "markdown",
      "source": [
        "\n",
        "Linear operations\n",
        "\n",
        "Vectorizing the code is key to writing efficient numerical calculation with Python/NumPy. This means that, as much as possible, a program should be formulated in terms of matrix and vector operations, like matrix-matrix multiplication.\n",
        "Scalar-array operations\n",
        "\n",
        "We can use the usual arithmetic operators to multiply, add, subtract, and divide arrays with scalar numbers.\n"
      ],
      "metadata": {
        "id": "0ucwiUK4kyc0"
      }
    },
    {
      "cell_type": "code",
      "source": [
        "vec = np.arange(0, 5)\n",
        "\n",
        "vec"
      ],
      "metadata": {
        "colab": {
          "base_uri": "https://localhost:8080/"
        },
        "id": "8F5QDzXukuxh",
        "outputId": "a3bc3a4f-5cf3-4f2d-fefa-ec81785ce82e"
      },
      "execution_count": 54,
      "outputs": [
        {
          "output_type": "execute_result",
          "data": {
            "text/plain": [
              "array([0, 1, 2, 3, 4])"
            ]
          },
          "metadata": {},
          "execution_count": 54
        }
      ]
    },
    {
      "cell_type": "code",
      "source": [
        "# note that original `vec` still remains unaffected since we haven't assigned the new array to it.\n",
        "vec * 2"
      ],
      "metadata": {
        "colab": {
          "base_uri": "https://localhost:8080/"
        },
        "id": "eqljZZvqk1z_",
        "outputId": "9fc4683d-f121-4f4e-9ab8-899cceb97076"
      },
      "execution_count": 55,
      "outputs": [
        {
          "output_type": "execute_result",
          "data": {
            "text/plain": [
              "array([0, 2, 4, 6, 8])"
            ]
          },
          "metadata": {},
          "execution_count": 55
        }
      ]
    },
    {
      "cell_type": "code",
      "source": [
        "vec + 2"
      ],
      "metadata": {
        "colab": {
          "base_uri": "https://localhost:8080/"
        },
        "id": "d2pxlc89k8kv",
        "outputId": "df1b089c-5518-4990-c694-5afa34cfc8fa"
      },
      "execution_count": 56,
      "outputs": [
        {
          "output_type": "execute_result",
          "data": {
            "text/plain": [
              "array([2, 3, 4, 5, 6])"
            ]
          },
          "metadata": {},
          "execution_count": 56
        }
      ]
    },
    {
      "cell_type": "markdown",
      "source": [
        "\n",
        "Element-wise array-array operations\n",
        "\n",
        "When we add, subtract, multiply, and divide arrays with each other, the default behaviour is element-wise operations:\n",
        "\n"
      ],
      "metadata": {
        "id": "0S8ikW7ulA80"
      }
    },
    {
      "cell_type": "code",
      "source": [
        "arr = np.arange(4 * 5).reshape(4, 5)\n",
        "arr"
      ],
      "metadata": {
        "colab": {
          "base_uri": "https://localhost:8080/"
        },
        "id": "5CcQ0YiSk-05",
        "outputId": "436ff405-1e9e-471d-bd52-944d3fb5be77"
      },
      "execution_count": 57,
      "outputs": [
        {
          "output_type": "execute_result",
          "data": {
            "text/plain": [
              "array([[ 0,  1,  2,  3,  4],\n",
              "       [ 5,  6,  7,  8,  9],\n",
              "       [10, 11, 12, 13, 14],\n",
              "       [15, 16, 17, 18, 19]])"
            ]
          },
          "metadata": {},
          "execution_count": 57
        }
      ]
    },
    {
      "cell_type": "code",
      "source": [
        "np.matmul(arr, (arr.T))"
      ],
      "metadata": {
        "colab": {
          "base_uri": "https://localhost:8080/"
        },
        "id": "VpaRyhiplE3z",
        "outputId": "36f2dfa0-a18a-49eb-ec6b-13aa997bf425"
      },
      "execution_count": 58,
      "outputs": [
        {
          "output_type": "execute_result",
          "data": {
            "text/plain": [
              "array([[  30,   80,  130,  180],\n",
              "       [  80,  255,  430,  605],\n",
              "       [ 130,  430,  730, 1030],\n",
              "       [ 180,  605, 1030, 1455]])"
            ]
          },
          "metadata": {},
          "execution_count": 58
        }
      ]
    },
    {
      "cell_type": "code",
      "source": [
        "print(vec.shape, arr.shape)\n",
        "\n",
        "# shape has to match\n",
        "vec * arr"
      ],
      "metadata": {
        "colab": {
          "base_uri": "https://localhost:8080/"
        },
        "id": "3OG4VElElOZQ",
        "outputId": "fc7ab926-0cfe-4fe9-e86a-35a5a7735d3d"
      },
      "execution_count": 59,
      "outputs": [
        {
          "output_type": "stream",
          "name": "stdout",
          "text": [
            "(5,) (4, 5)\n"
          ]
        },
        {
          "output_type": "execute_result",
          "data": {
            "text/plain": [
              "array([[ 0,  1,  4,  9, 16],\n",
              "       [ 0,  6, 14, 24, 36],\n",
              "       [ 0, 11, 24, 39, 56],\n",
              "       [ 0, 16, 34, 54, 76]])"
            ]
          },
          "metadata": {},
          "execution_count": 59
        }
      ]
    },
    {
      "cell_type": "code",
      "source": [
        "# else no broadcasting will happen and an error is thrown\n",
        "print(vec[:, None].shape)\n",
        "\n",
        "vec[:, None] * arr"
      ],
      "metadata": {
        "colab": {
          "base_uri": "https://localhost:8080/",
          "height": 248
        },
        "id": "XKTctAzMmDO4",
        "outputId": "db4be068-17e0-4afc-d67d-f770d1c251d7"
      },
      "execution_count": 60,
      "outputs": [
        {
          "output_type": "stream",
          "name": "stdout",
          "text": [
            "(5, 1)\n"
          ]
        },
        {
          "output_type": "error",
          "ename": "ValueError",
          "evalue": "operands could not be broadcast together with shapes (5,1) (4,5) ",
          "traceback": [
            "\u001b[0;31m---------------------------------------------------------------------------\u001b[0m",
            "\u001b[0;31mValueError\u001b[0m                                Traceback (most recent call last)",
            "\u001b[0;32m<ipython-input-60-b67631fd10f5>\u001b[0m in \u001b[0;36m<cell line: 4>\u001b[0;34m()\u001b[0m\n\u001b[1;32m      2\u001b[0m \u001b[0mprint\u001b[0m\u001b[0;34m(\u001b[0m\u001b[0mvec\u001b[0m\u001b[0;34m[\u001b[0m\u001b[0;34m:\u001b[0m\u001b[0;34m,\u001b[0m \u001b[0;32mNone\u001b[0m\u001b[0;34m]\u001b[0m\u001b[0;34m.\u001b[0m\u001b[0mshape\u001b[0m\u001b[0;34m)\u001b[0m\u001b[0;34m\u001b[0m\u001b[0;34m\u001b[0m\u001b[0m\n\u001b[1;32m      3\u001b[0m \u001b[0;34m\u001b[0m\u001b[0m\n\u001b[0;32m----> 4\u001b[0;31m \u001b[0mvec\u001b[0m\u001b[0;34m[\u001b[0m\u001b[0;34m:\u001b[0m\u001b[0;34m,\u001b[0m \u001b[0;32mNone\u001b[0m\u001b[0;34m]\u001b[0m \u001b[0;34m*\u001b[0m \u001b[0marr\u001b[0m\u001b[0;34m\u001b[0m\u001b[0;34m\u001b[0m\u001b[0m\n\u001b[0m",
            "\u001b[0;31mValueError\u001b[0m: operands could not be broadcast together with shapes (5,1) (4,5) "
          ]
        }
      ]
    },
    {
      "cell_type": "code",
      "source": [
        "# however, this would work\n",
        "vec[:4, None] * arr"
      ],
      "metadata": {
        "id": "1mLBDu1zmOkq"
      },
      "execution_count": null,
      "outputs": []
    },
    {
      "cell_type": "markdown",
      "source": [
        "**Matrix operations**\n",
        "\n",
        "What about the glorified matrix mutiplication? There are two ways. We can either use the dot function, which applies a matrix-matrix, matrix-vector, or inner vector multiplication to its two arguments. Or you can use the @ operator in Python 3"
      ],
      "metadata": {
        "id": "B1zUJHzcm8rr"
      }
    },
    {
      "cell_type": "code",
      "source": [
        "# matrix-matrix product\n",
        "print(arr.T.shape, arr.shape)\n",
        "np.dot(arr.T, arr)"
      ],
      "metadata": {
        "id": "lBgUhuRJm3KV"
      },
      "execution_count": null,
      "outputs": []
    },
    {
      "cell_type": "code",
      "source": [
        "# matrix-vector product\n",
        "print(\"shapes: \", arr.shape, vec.shape)\n",
        "np.dot(arr, vec) #but not thsi: np.dot(vec,arr)"
      ],
      "metadata": {
        "id": "TiJV6q1knOjR"
      },
      "execution_count": null,
      "outputs": []
    },
    {
      "cell_type": "code",
      "source": [
        "# matrix-vector product\n",
        "print(\"shapes: \", arr.shape, vec.shape)\n",
        "np.dot(arr, vec) #but not this: np.dot(vec, arrr)"
      ],
      "metadata": {
        "colab": {
          "base_uri": "https://localhost:8080/"
        },
        "id": "p41nr1NJnjEY",
        "outputId": "312b7caa-ca0e-46b1-8479-6e5b06bf8b47"
      },
      "execution_count": 61,
      "outputs": [
        {
          "output_type": "stream",
          "name": "stdout",
          "text": [
            "shapes:  (4, 5) (5,)\n"
          ]
        },
        {
          "output_type": "execute_result",
          "data": {
            "text/plain": [
              "array([ 30,  80, 130, 180])"
            ]
          },
          "metadata": {},
          "execution_count": 61
        }
      ]
    },
    {
      "cell_type": "code",
      "source": [
        "\n",
        "\n",
        "col_vec = vec[:, None]\n",
        "print(\"shapes: \", (col_vec).T.shape, (col_vec).shape)\n",
        "\n",
        "# inner product\n",
        "(col_vec.T) @ (col_vec)"
      ],
      "metadata": {
        "colab": {
          "base_uri": "https://localhost:8080/"
        },
        "id": "gJHsIzAWn9CD",
        "outputId": "65ff63e6-1fb4-41f8-d641-8f60e7cf5f66"
      },
      "execution_count": 62,
      "outputs": [
        {
          "output_type": "stream",
          "name": "stdout",
          "text": [
            "shapes:  (1, 5) (5, 1)\n"
          ]
        },
        {
          "output_type": "execute_result",
          "data": {
            "text/plain": [
              "array([[30]])"
            ]
          },
          "metadata": {},
          "execution_count": 62
        }
      ]
    },
    {
      "cell_type": "markdown",
      "source": [
        "\n",
        "Stacking and repeating arrays\n",
        "\n",
        "Using function repeat, tile, vstack, hstack, and concatenate we can create larger vectors and matrices from smaller ones:\n"
      ],
      "metadata": {
        "id": "ENTcmCX1pzcU"
      }
    },
    {
      "cell_type": "code",
      "source": [
        "a = np.array([[1, 2], [3, 4]])\n",
        "a\n"
      ],
      "metadata": {
        "colab": {
          "base_uri": "https://localhost:8080/"
        },
        "id": "akIokjgDpw6W",
        "outputId": "e18be07c-512e-430d-aa2d-a4a44cad29d5"
      },
      "execution_count": 63,
      "outputs": [
        {
          "output_type": "execute_result",
          "data": {
            "text/plain": [
              "array([[1, 2],\n",
              "       [3, 4]])"
            ]
          },
          "metadata": {},
          "execution_count": 63
        }
      ]
    },
    {
      "cell_type": "code",
      "source": [
        "# repeat each element 3 times\n",
        "np.repeat(a, 3)"
      ],
      "metadata": {
        "colab": {
          "base_uri": "https://localhost:8080/"
        },
        "id": "k9gJZoQ9p3bL",
        "outputId": "76458927-29f0-49be-d929-6985c18bca6a"
      },
      "execution_count": 64,
      "outputs": [
        {
          "output_type": "execute_result",
          "data": {
            "text/plain": [
              "array([1, 1, 1, 2, 2, 2, 3, 3, 3, 4, 4, 4])"
            ]
          },
          "metadata": {},
          "execution_count": 64
        }
      ]
    },
    {
      "cell_type": "code",
      "source": [
        "# tile the matrix 3 times\n",
        "np.tile(a, 3)"
      ],
      "metadata": {
        "colab": {
          "base_uri": "https://localhost:8080/"
        },
        "id": "IdGQGPfcp9dx",
        "outputId": "eed113b9-8b68-4a0d-8676-c6bf6452c878"
      },
      "execution_count": 65,
      "outputs": [
        {
          "output_type": "execute_result",
          "data": {
            "text/plain": [
              "array([[1, 2, 1, 2, 1, 2],\n",
              "       [3, 4, 3, 4, 3, 4]])"
            ]
          },
          "metadata": {},
          "execution_count": 65
        }
      ]
    },
    {
      "cell_type": "code",
      "source": [
        "b = np.array([[5, 6]])\n",
        "b"
      ],
      "metadata": {
        "colab": {
          "base_uri": "https://localhost:8080/"
        },
        "id": "Jol1xkQ9qGDU",
        "outputId": "cdb6d9d6-5887-4ac0-f7de-1bef25ea0df2"
      },
      "execution_count": 66,
      "outputs": [
        {
          "output_type": "execute_result",
          "data": {
            "text/plain": [
              "array([[5, 6]])"
            ]
          },
          "metadata": {},
          "execution_count": 66
        }
      ]
    },
    {
      "cell_type": "code",
      "source": [
        "# concatenate a and b along axis 0\n",
        "np.concatenate((a,b),axis=0)"
      ],
      "metadata": {
        "colab": {
          "base_uri": "https://localhost:8080/"
        },
        "id": "MF6xGFJPqwXb",
        "outputId": "54e43704-682b-4807-83b1-727cfd9570d9"
      },
      "execution_count": 67,
      "outputs": [
        {
          "output_type": "execute_result",
          "data": {
            "text/plain": [
              "array([[1, 2],\n",
              "       [3, 4],\n",
              "       [5, 6]])"
            ]
          },
          "metadata": {},
          "execution_count": 67
        }
      ]
    },
    {
      "cell_type": "code",
      "source": [
        "# concatenate a and b along axis 1\n",
        "np.concatenate((a, b.T), axis=1)"
      ],
      "metadata": {
        "colab": {
          "base_uri": "https://localhost:8080/"
        },
        "id": "_k1uc8EorR-c",
        "outputId": "f8209db2-01f6-4db1-fbcc-d74fdb65e612"
      },
      "execution_count": 68,
      "outputs": [
        {
          "output_type": "execute_result",
          "data": {
            "text/plain": [
              "array([[1, 2, 5],\n",
              "       [3, 4, 6]])"
            ]
          },
          "metadata": {},
          "execution_count": 68
        }
      ]
    },
    {
      "cell_type": "markdown",
      "source": [
        "**hstack and vstack**"
      ],
      "metadata": {
        "id": "Jd4_8j6Trzso"
      }
    },
    {
      "cell_type": "code",
      "source": [
        "np.vstack((a,b))"
      ],
      "metadata": {
        "colab": {
          "base_uri": "https://localhost:8080/"
        },
        "id": "bUP7FJnhrpQa",
        "outputId": "465c5c1e-0928-4492-e983-6b4cbc6d6a84"
      },
      "execution_count": 69,
      "outputs": [
        {
          "output_type": "execute_result",
          "data": {
            "text/plain": [
              "array([[1, 2],\n",
              "       [3, 4],\n",
              "       [5, 6]])"
            ]
          },
          "metadata": {},
          "execution_count": 69
        }
      ]
    },
    {
      "cell_type": "code",
      "source": [
        "np.hstack((a,b.T))"
      ],
      "metadata": {
        "colab": {
          "base_uri": "https://localhost:8080/"
        },
        "id": "7A73QeEWr7Cg",
        "outputId": "1e317e2f-3b15-49d3-ef0d-0ceb96368910"
      },
      "execution_count": 70,
      "outputs": [
        {
          "output_type": "execute_result",
          "data": {
            "text/plain": [
              "array([[1, 2, 5],\n",
              "       [3, 4, 6]])"
            ]
          },
          "metadata": {},
          "execution_count": 70
        }
      ]
    },
    {
      "cell_type": "markdown",
      "source": [
        "\n",
        "**Copy and \"deep copy\"**\n",
        "\n",
        "For performance reasons, assignments in Python usually do not copy the underlaying objects. This is important for example when objects are passed between functions, to avoid an excessive amount of memory copying when it is not necessary (technical term: pass by reference).\n"
      ],
      "metadata": {
        "id": "BM7qGC1asKD2"
      }
    },
    {
      "cell_type": "code",
      "source": [
        "A = np.array([[1,2],[3,4]])\n",
        "A"
      ],
      "metadata": {
        "colab": {
          "base_uri": "https://localhost:8080/"
        },
        "id": "vclNMjz2sDDR",
        "outputId": "6f45e1a9-9574-4ba8-a49b-2ad0da793482"
      },
      "execution_count": 71,
      "outputs": [
        {
          "output_type": "execute_result",
          "data": {
            "text/plain": [
              "array([[1, 2],\n",
              "       [3, 4]])"
            ]
          },
          "metadata": {},
          "execution_count": 71
        }
      ]
    },
    {
      "cell_type": "code",
      "source": [
        "# now array B is referring to the same array data as A\n",
        "B = A\n",
        "B"
      ],
      "metadata": {
        "colab": {
          "base_uri": "https://localhost:8080/"
        },
        "id": "nAPExCi9sHgf",
        "outputId": "4f008ddb-549c-4521-b8d6-7d6fd651d384"
      },
      "execution_count": 72,
      "outputs": [
        {
          "output_type": "execute_result",
          "data": {
            "text/plain": [
              "array([[1, 2],\n",
              "       [3, 4]])"
            ]
          },
          "metadata": {},
          "execution_count": 72
        }
      ]
    },
    {
      "cell_type": "code",
      "source": [
        "# changing B affects A\n",
        "B[0,0] = 10\n",
        "\n",
        "A\n"
      ],
      "metadata": {
        "colab": {
          "base_uri": "https://localhost:8080/"
        },
        "id": "cYaiuVnstfU9",
        "outputId": "986dc455-7b51-4938-982a-fddb08a8f975"
      },
      "execution_count": 73,
      "outputs": [
        {
          "output_type": "execute_result",
          "data": {
            "text/plain": [
              "array([[10,  2],\n",
              "       [ 3,  4]])"
            ]
          },
          "metadata": {},
          "execution_count": 73
        }
      ]
    },
    {
      "cell_type": "markdown",
      "source": [
        "If we want to avoid such a behavior, so that when we get a new completely independent object B copied from A, then we need to do a so-called \"deep copy\" using the function copy:"
      ],
      "metadata": {
        "id": "_yHlmHqGtsCg"
      }
    },
    {
      "cell_type": "code",
      "source": [
        "B = np.copy(A)"
      ],
      "metadata": {
        "id": "tI459hDmtj82"
      },
      "execution_count": 74,
      "outputs": []
    },
    {
      "cell_type": "markdown",
      "source": [
        "\n",
        "**Vectorizing functions**\n",
        "\n",
        "As mentioned several times by now, to get good performance we should always try to avoid looping over elements in our vectors and matrices, and instead use vectorized algorithms. The first step in converting a scalar algorithm to a vectorized algorithm is to make sure that the functions we write work with vector inputs.\n"
      ],
      "metadata": {
        "id": "CoFm4l34t2j7"
      }
    },
    {
      "cell_type": "code",
      "source": [
        "def Theta(x):\n",
        "    \"\"\"\n",
        "    scalar implementation of the Heaviside step function.\n",
        "    \"\"\"\n",
        "    if x >= 0:\n",
        "        return 1\n",
        "    else:\n",
        "      return 0"
      ],
      "metadata": {
        "id": "kcxUfNGdtqhv"
      },
      "execution_count": 75,
      "outputs": []
    },
    {
      "cell_type": "code",
      "source": [
        "v1 = np.array([-3,-2,-1,0,1,2,3])\n",
        "\n",
        "Theta(v1)"
      ],
      "metadata": {
        "colab": {
          "base_uri": "https://localhost:8080/",
          "height": 352
        },
        "id": "2QN6bmR-uECS",
        "outputId": "5d0441b1-dcf1-4b19-bd18-5f3e0d73dba9"
      },
      "execution_count": 76,
      "outputs": [
        {
          "output_type": "error",
          "ename": "ValueError",
          "evalue": "The truth value of an array with more than one element is ambiguous. Use a.any() or a.all()",
          "traceback": [
            "\u001b[0;31m---------------------------------------------------------------------------\u001b[0m",
            "\u001b[0;31mValueError\u001b[0m                                Traceback (most recent call last)",
            "\u001b[0;32m<ipython-input-76-489043f2ba8f>\u001b[0m in \u001b[0;36m<cell line: 3>\u001b[0;34m()\u001b[0m\n\u001b[1;32m      1\u001b[0m \u001b[0mv1\u001b[0m \u001b[0;34m=\u001b[0m \u001b[0mnp\u001b[0m\u001b[0;34m.\u001b[0m\u001b[0marray\u001b[0m\u001b[0;34m(\u001b[0m\u001b[0;34m[\u001b[0m\u001b[0;34m-\u001b[0m\u001b[0;36m3\u001b[0m\u001b[0;34m,\u001b[0m\u001b[0;34m-\u001b[0m\u001b[0;36m2\u001b[0m\u001b[0;34m,\u001b[0m\u001b[0;34m-\u001b[0m\u001b[0;36m1\u001b[0m\u001b[0;34m,\u001b[0m\u001b[0;36m0\u001b[0m\u001b[0;34m,\u001b[0m\u001b[0;36m1\u001b[0m\u001b[0;34m,\u001b[0m\u001b[0;36m2\u001b[0m\u001b[0;34m,\u001b[0m\u001b[0;36m3\u001b[0m\u001b[0;34m]\u001b[0m\u001b[0;34m)\u001b[0m\u001b[0;34m\u001b[0m\u001b[0;34m\u001b[0m\u001b[0m\n\u001b[1;32m      2\u001b[0m \u001b[0;34m\u001b[0m\u001b[0m\n\u001b[0;32m----> 3\u001b[0;31m \u001b[0mTheta\u001b[0m\u001b[0;34m(\u001b[0m\u001b[0mv1\u001b[0m\u001b[0;34m)\u001b[0m\u001b[0;34m\u001b[0m\u001b[0;34m\u001b[0m\u001b[0m\n\u001b[0m",
            "\u001b[0;32m<ipython-input-75-4231b3f4c8b4>\u001b[0m in \u001b[0;36mTheta\u001b[0;34m(x)\u001b[0m\n\u001b[1;32m      3\u001b[0m     \u001b[0mscalar\u001b[0m \u001b[0mimplementation\u001b[0m \u001b[0mof\u001b[0m \u001b[0mthe\u001b[0m \u001b[0mHeaviside\u001b[0m \u001b[0mstep\u001b[0m \u001b[0mfunction\u001b[0m\u001b[0;34m.\u001b[0m\u001b[0;34m\u001b[0m\u001b[0;34m\u001b[0m\u001b[0m\n\u001b[1;32m      4\u001b[0m     \"\"\"\n\u001b[0;32m----> 5\u001b[0;31m     \u001b[0;32mif\u001b[0m \u001b[0mx\u001b[0m \u001b[0;34m>=\u001b[0m \u001b[0;36m0\u001b[0m\u001b[0;34m:\u001b[0m\u001b[0;34m\u001b[0m\u001b[0;34m\u001b[0m\u001b[0m\n\u001b[0m\u001b[1;32m      6\u001b[0m         \u001b[0;32mreturn\u001b[0m \u001b[0;36m1\u001b[0m\u001b[0;34m\u001b[0m\u001b[0;34m\u001b[0m\u001b[0m\n\u001b[1;32m      7\u001b[0m     \u001b[0;32melse\u001b[0m\u001b[0;34m:\u001b[0m\u001b[0;34m\u001b[0m\u001b[0;34m\u001b[0m\u001b[0m\n",
            "\u001b[0;31mValueError\u001b[0m: The truth value of an array with more than one element is ambiguous. Use a.any() or a.all()"
          ]
        }
      ]
    },
    {
      "cell_type": "markdown",
      "source": [
        "That didn't work because we didn't write the function Theta so that it can handle a vector input...\n",
        "\n",
        "To get a vectorized version of Theta we can use the Numpy function vectorize. In many cases it can automatically vectorize a function:\n"
      ],
      "metadata": {
        "id": "lO0V4djTvDGY"
      }
    },
    {
      "cell_type": "code",
      "source": [
        "Theta_vec = np.vectorize(Theta)"
      ],
      "metadata": {
        "id": "pFbCvc52uKhA"
      },
      "execution_count": 77,
      "outputs": []
    },
    {
      "cell_type": "code",
      "source": [
        "Theta_vec(v1)"
      ],
      "metadata": {
        "colab": {
          "base_uri": "https://localhost:8080/"
        },
        "id": "E-US84BkwU-Y",
        "outputId": "0cb7bb13-8b32-4c4e-bcf5-9d014542e11b"
      },
      "execution_count": 78,
      "outputs": [
        {
          "output_type": "execute_result",
          "data": {
            "text/plain": [
              "array([0, 0, 0, 1, 1, 1, 1])"
            ]
          },
          "metadata": {},
          "execution_count": 78
        }
      ]
    },
    {
      "cell_type": "markdown",
      "source": [
        "we can also implement the function to accept a vector input from the beginning (requires more effort but might give better performance):"
      ],
      "metadata": {
        "id": "CS6kEzfUwk1W"
      }
    },
    {
      "cell_type": "code",
      "source": [
        "def Theta(x):\n",
        "  \"\"\"\n",
        "  Vector-aware implementation of the Heaviside step function.\n",
        "  \"\"\"\n",
        "  return 1 * (x >= 0)"
      ],
      "metadata": {
        "id": "hWKlsoq6wZvW"
      },
      "execution_count": 79,
      "outputs": []
    },
    {
      "cell_type": "code",
      "source": [
        "Theta(v1)"
      ],
      "metadata": {
        "colab": {
          "base_uri": "https://localhost:8080/"
        },
        "id": "TkPAa8NZw4e5",
        "outputId": "94ec317a-e583-4960-8e76-5d4ef0e5152d"
      },
      "execution_count": 80,
      "outputs": [
        {
          "output_type": "execute_result",
          "data": {
            "text/plain": [
              "array([0, 0, 0, 1, 1, 1, 1])"
            ]
          },
          "metadata": {},
          "execution_count": 80
        }
      ]
    },
    {
      "cell_type": "code",
      "source": [
        "# it even works with scalar input\n",
        "Theta(-1.2), Theta(2.6)"
      ],
      "metadata": {
        "colab": {
          "base_uri": "https://localhost:8080/"
        },
        "id": "upx54yHzxHcL",
        "outputId": "60543cc2-ad30-450e-d29c-45f8068fd7e7"
      },
      "execution_count": 81,
      "outputs": [
        {
          "output_type": "execute_result",
          "data": {
            "text/plain": [
              "(0, 1)"
            ]
          },
          "metadata": {},
          "execution_count": 81
        }
      ]
    },
    {
      "cell_type": "markdown",
      "source": [
        "\n",
        "# Exercices\n"
      ],
      "metadata": {
        "id": "D4yoomz7xZxC"
      }
    },
    {
      "cell_type": "markdown",
      "source": [
        "\n",
        "## Exercise 1: Creating and Manipulating NumPy Arrays\n",
        "\n",
        "    Create a 1D NumPy array from the list [5, 10, 15, 20, 25]. Convert the array to type float64 and print it.\n",
        "\n",
        "    Create a 2D NumPy array from the nested list [[1, 2, 3], [4, 5, 6], [7, 8, 9]]. Print the shape and size of the array.\n",
        "\n",
        "    Create a 3D NumPy array with random values of shape (2, 3, 4). Print the number of dimensions and the shape of the array.\n",
        "\n"
      ],
      "metadata": {
        "id": "R7qTlD9UxfRi"
      }
    },
    {
      "cell_type": "code",
      "source": [
        "# Create a 1D NumPy array\n",
        "arr_1d = np.array([5, 10, 15, 20, 25])\n",
        "\n",
        "# Convert to float64\n",
        "arr_1d = arr_1d.astype(np.float64)\n",
        "\n",
        "# Print the array\n",
        "print(arr_1d)"
      ],
      "metadata": {
        "colab": {
          "base_uri": "https://localhost:8080/"
        },
        "id": "aY7-2XgJxTty",
        "outputId": "c796c07b-c38d-4b63-bd10-933152a3f248"
      },
      "execution_count": 82,
      "outputs": [
        {
          "output_type": "stream",
          "name": "stdout",
          "text": [
            "[ 5. 10. 15. 20. 25.]\n"
          ]
        }
      ]
    },
    {
      "cell_type": "code",
      "source": [
        "# Create a 2D NumPy array\n",
        "arr_2d = np.array([[1, 2, 3], [4, 5, 6], [7, 8, 9]])\n",
        "\n",
        "# Print the shape and size\n",
        "print(\"Shape:\", arr_2d.shape)\n",
        "\n",
        "# Print the size\n",
        "print(\"Size:\", arr_2d.size)"
      ],
      "metadata": {
        "colab": {
          "base_uri": "https://localhost:8080/"
        },
        "id": "7Dss00Y5yPgK",
        "outputId": "96144551-71f4-401d-89c1-7000a52ad0db"
      },
      "execution_count": 83,
      "outputs": [
        {
          "output_type": "stream",
          "name": "stdout",
          "text": [
            "Shape: (3, 3)\n",
            "Size: 9\n"
          ]
        }
      ]
    },
    {
      "cell_type": "code",
      "source": [
        "# Create a 3D NumPy array with random values\n",
        "arr_3d = np.random.rand(2, 3, 4)\n",
        "\n",
        "# Print the number of dimensions\n",
        "print(\"Number of Dimensions:\", arr_3d.ndim)\n",
        "\n",
        "# Print the shape\n",
        "print(\"Shape:\", arr_3d.shape)"
      ],
      "metadata": {
        "colab": {
          "base_uri": "https://localhost:8080/"
        },
        "id": "Gi0WutuEyfXE",
        "outputId": "f301d06a-57bc-4a03-9124-610ce794d979"
      },
      "execution_count": 84,
      "outputs": [
        {
          "output_type": "stream",
          "name": "stdout",
          "text": [
            "Number of Dimensions: 3\n",
            "Shape: (2, 3, 4)\n"
          ]
        }
      ]
    },
    {
      "cell_type": "markdown",
      "source": [
        "\n",
        "## Exercise 2: Advanced Array Manipulations\n",
        "\n",
        "  * Create a 1D NumPy array with the numbers from 0 to 9. Reverse the array and print it.\n",
        "\n",
        "  * Create a 2D NumPy array with the numbers from 0 to 11, arranged in a 3x4 shape. Extract a subarray consisting of the first two rows and the last two columns, and print it.\n",
        "\n",
        "  * Create a 2D NumPy array of shape (5, 5) with random integers between 0 and 10. Replace all elements greater than 5 with 0 and print the modified array.\n",
        "\n"
      ],
      "metadata": {
        "id": "uBumIxJey9xM"
      }
    },
    {
      "cell_type": "code",
      "source": [
        "# Create a 1D array\n",
        "arr_1d = np.arange(10)\n",
        "\n",
        "# Reverse the array\n",
        "reversed_arr = arr_1d[::-1]\n",
        "\n",
        "# Print the reversed array\n",
        "print(reversed_arr)"
      ],
      "metadata": {
        "colab": {
          "base_uri": "https://localhost:8080/"
        },
        "id": "YWfl9Ccvyv4A",
        "outputId": "e9866462-bcfd-4ed2-ac81-6f57fc32abc0"
      },
      "execution_count": 85,
      "outputs": [
        {
          "output_type": "stream",
          "name": "stdout",
          "text": [
            "[9 8 7 6 5 4 3 2 1 0]\n"
          ]
        }
      ]
    },
    {
      "cell_type": "code",
      "source": [
        "# Create a 2D array\n",
        "arr_2d = np.arange(12).reshape(3, 4)\n",
        "\n",
        "# Extract subarray\n",
        "subarray = arr_2d[:2, 2:]\n",
        "\n",
        "# Print the subarray\n",
        "print(subarray)"
      ],
      "metadata": {
        "colab": {
          "base_uri": "https://localhost:8080/"
        },
        "id": "aXLeeidszc7F",
        "outputId": "1b098cbf-5678-40c8-a4ad-1e3ac4fcea0a"
      },
      "execution_count": 86,
      "outputs": [
        {
          "output_type": "stream",
          "name": "stdout",
          "text": [
            "[[2 3]\n",
            " [6 7]]\n"
          ]
        }
      ]
    },
    {
      "cell_type": "code",
      "source": [
        "# Create a 2D array with random integers\n",
        "arr_2d = np.random.randint(0, 10, size=(5, 5))\n",
        "\n",
        "\n",
        "# Replace elements greater than 5 with 0\n",
        "arr_2d[arr_2d > 5] = 0\n",
        "\n",
        "# Print the modified array\n",
        "print(arr_2d)"
      ],
      "metadata": {
        "colab": {
          "base_uri": "https://localhost:8080/"
        },
        "id": "aEyKlA5x0AZP",
        "outputId": "c76f24ca-ce64-4f5b-8625-9b6a67e50bd2"
      },
      "execution_count": 87,
      "outputs": [
        {
          "output_type": "stream",
          "name": "stdout",
          "text": [
            "[[1 2 1 1 0]\n",
            " [0 0 3 0 3]\n",
            " [5 0 0 0 3]\n",
            " [0 1 0 5 0]\n",
            " [5 5 0 0 4]]\n"
          ]
        }
      ]
    },
    {
      "cell_type": "markdown",
      "source": [
        "\n",
        "## Exercise 3: Array Initialization and Attributes\n",
        "\n",
        "  * Create a 3x3 identity matrix using NumPy and print its attributes: ndim, shape, size, itemsize, and nbytes.\n",
        "\n",
        "  * Create an array of 10 evenly spaced numbers between 0 and 5 using numpy.linspace(). Print the array and its datatype.\n",
        "\n",
        "  * Create a 3D array of shape (2, 3, 4) with random values from a standard normal distribution. Print the array and the sum of all elements.\n",
        "\n"
      ],
      "metadata": {
        "id": "NMe1O0RH07Wh"
      }
    },
    {
      "cell_type": "code",
      "source": [
        "# Create a 3x3 identity matrix\n",
        "identity_matrix = np.identity(3)\n",
        "\n",
        "# Print attributes\n",
        "print(\"dimensions:\", identity_matrix.ndim)\n",
        "print(\"shape:\", identity_matrix.shape)\n",
        "print(\"size:\", identity_matrix.size)\n",
        "print(\"itemsize:\", identity_matrix.itemsize)\n",
        "print(\"Total number of bytes in arr:\", identity_matrix.nbytes)"
      ],
      "metadata": {
        "colab": {
          "base_uri": "https://localhost:8080/"
        },
        "id": "ycECSFyX0Yf1",
        "outputId": "cff66afd-6fbc-4ebd-fc84-8ad65433d93e"
      },
      "execution_count": 88,
      "outputs": [
        {
          "output_type": "stream",
          "name": "stdout",
          "text": [
            "dimensions: 2\n",
            "shape: (3, 3)\n",
            "size: 9\n",
            "itemsize: 8\n",
            "Total number of bytes in arr: 72\n"
          ]
        }
      ]
    },
    {
      "cell_type": "code",
      "source": [
        "# Create an array of evenly spaced numbers\n",
        "spaced_numbers = np.linspace(0, 5, 10)\n",
        "\n",
        "# Print the array and its datatype\n",
        "print(\"Array:\", spaced_numbers)\n",
        "print(\"Datatype:\", spaced_numbers.dtype)"
      ],
      "metadata": {
        "colab": {
          "base_uri": "https://localhost:8080/"
        },
        "id": "-7v7jTty1V-n",
        "outputId": "880f5e23-56cf-43cd-c126-3a84745f6570"
      },
      "execution_count": 89,
      "outputs": [
        {
          "output_type": "stream",
          "name": "stdout",
          "text": [
            "Array: [0.         0.55555556 1.11111111 1.66666667 2.22222222 2.77777778\n",
            " 3.33333333 3.88888889 4.44444444 5.        ]\n",
            "Datatype: float64\n"
          ]
        }
      ]
    },
    {
      "cell_type": "code",
      "source": [
        "# Create a 3D array of shape (2, 3, 4) with random values from a standard normal distribution\n",
        "random_array = np.random.randn(2, 3, 4)\n",
        "\n",
        "# Print the array and the sum of all elements\n",
        "print(\"Array:\", random_array)\n",
        "print(\"Sum of elements:\", np.sum(random_array))"
      ],
      "metadata": {
        "colab": {
          "base_uri": "https://localhost:8080/"
        },
        "id": "Bz-_hqU32Rcz",
        "outputId": "41c9cdaa-df84-41b6-9edd-8043b645bc96"
      },
      "execution_count": 90,
      "outputs": [
        {
          "output_type": "stream",
          "name": "stdout",
          "text": [
            "Array: [[[ 1.72308678  1.10462671  0.47534732 -0.99521863]\n",
            "  [-0.22374891 -0.74328827 -0.24324729  0.34385515]\n",
            "  [-0.6326182  -1.398156    1.0664645   0.42586227]]\n",
            "\n",
            " [[-0.46593913 -0.7681336   0.74139124 -0.39126093]\n",
            "  [-1.27716821  0.10001903 -1.96813526  0.9026859 ]\n",
            "  [-0.10750448  0.288096    1.66113111  0.16682667]]]\n",
            "Sum of elements: -0.2150262371625834\n"
          ]
        }
      ]
    },
    {
      "cell_type": "markdown",
      "source": [
        "\n",
        "## Exercise 4: Fancy Indexing and Masking\n",
        "\n",
        "  * Create a 1D NumPy array with random integers between 0 and 50 of size 20. Use fancy indexing to extract elements at indices [2, 5, 7, 10, 15] and print them.\n",
        "\n",
        "  * Create a 2D NumPy array with random integers between 0 and 30 of shape (4, 5). Use a boolean mask to select all elements greater than 15 and print them.\n",
        "\n",
        "  * Create a 1D NumPy array of 10 random integers between -10 and 10. Use a boolean mask to set all negative values to zero and print the modified array.\n",
        "\n"
      ],
      "metadata": {
        "id": "sYs6OY614PLs"
      }
    },
    {
      "cell_type": "code",
      "source": [
        "# Create a 1D array with random integers\n",
        "random_array = np.random.randint(0, 50, size=20)\n",
        "print(\"random_array\",random_array)\n",
        "\n",
        "# Extract elements using fancy indexing\n",
        "extracted_elements = random_array[[2, 5, 7, 10, 15]]\n",
        "\n",
        "# Print the extracted elements\n",
        "print(\"Extracted elements:\", extracted_elements)"
      ],
      "metadata": {
        "colab": {
          "base_uri": "https://localhost:8080/"
        },
        "id": "ViMOeeJO4Gke",
        "outputId": "7d44f39b-82f2-4c62-9675-a5c5836f5acb"
      },
      "execution_count": 91,
      "outputs": [
        {
          "output_type": "stream",
          "name": "stdout",
          "text": [
            "random_array [30 18 21 26  3  5 22 46 28 35  1 43 40 35 37 43 14 10 33 41]\n",
            "Extracted elements: [21  5 46  1 43]\n"
          ]
        }
      ]
    },
    {
      "cell_type": "code",
      "source": [
        "# Create a 2D array with random integers\n",
        "random_array_2d = np.random.randint(0, 30, size=(4, 5))\n",
        "print(\"random_array_2d\", random_array_2d)\n",
        "\n",
        "# Create a boolean mask\n",
        "mask = random_array_2d > 15\n",
        "\n",
        "# Select elements using the mask\n",
        "selected_elements = random_array_2d[mask]\n",
        "\n",
        "# Print the selected elements\n",
        "print(\"Selected elements:\", selected_elements)"
      ],
      "metadata": {
        "colab": {
          "base_uri": "https://localhost:8080/"
        },
        "id": "DpWREv785hsz",
        "outputId": "e5385224-7383-4aeb-e0ff-c63aac542714"
      },
      "execution_count": 92,
      "outputs": [
        {
          "output_type": "stream",
          "name": "stdout",
          "text": [
            "random_array_2d [[ 3  7  7  4  9]\n",
            " [ 8 15 26  1 21]\n",
            " [21 18 18 13  7]\n",
            " [18 11 15  3 17]]\n",
            "Selected elements: [26 21 21 18 18 18 17]\n"
          ]
        }
      ]
    },
    {
      "cell_type": "code",
      "source": [
        "# Create a 1D array of 10 random integers between -10 and 10\n",
        "random_integers = np.random.randint(-10, 10, size=10)\n",
        "\n",
        "# Create a boolean mask for negative values\n",
        "negative_mask = random_integers < 0\n",
        "\n",
        "# Set negative values to zero using the mask\n",
        "random_integers[negative_mask] = 0\n",
        "\n",
        "# Print the modified array\n",
        "print(\"Modified array:\", random_integers)"
      ],
      "metadata": {
        "colab": {
          "base_uri": "https://localhost:8080/"
        },
        "id": "OjW_9RH66CGj",
        "outputId": "cf0c4d29-6c9b-4b23-fb96-6f7302875e92"
      },
      "execution_count": 93,
      "outputs": [
        {
          "output_type": "stream",
          "name": "stdout",
          "text": [
            "Modified array: [3 8 2 0 9 8 8 5 3 6]\n"
          ]
        }
      ]
    },
    {
      "cell_type": "markdown",
      "source": [
        "\n",
        "## Exercise 5: Combining and Splitting Arrays\n",
        "\n",
        "  * Create two 1D NumPy arrays of length 5 with random integers between 0 and 10. Concatenate the two arrays and print the result.\n",
        "\n",
        "  * Create a 2D NumPy array of shape (6, 4) with random integers between 0 and 10. Split the array into two equal parts along the row axis and print them.\n",
        "\n",
        "  * Create a 2D NumPy array of shape (3, 6) with random integers between 0 and 10. Split the array into three equal parts along the column axis and print them.\n",
        "\n"
      ],
      "metadata": {
        "id": "DQd5udJv8DAo"
      }
    },
    {
      "cell_type": "code",
      "source": [
        "# Create two 1D arrays with random integers\n",
        "array1 = np.random.randint(0, 10, size=5)\n",
        "array2 = np.random.randint(0, 10, size=5)\n",
        "\n",
        "# Concatenate the arrays\n",
        "concatenated_array = np.concatenate((array1, array2))\n",
        "\n",
        "# Print the result\n",
        "print(\"Concatenated array:\", concatenated_array)"
      ],
      "metadata": {
        "colab": {
          "base_uri": "https://localhost:8080/"
        },
        "id": "KbtBRzih77Jg",
        "outputId": "71bb8ac8-0f41-4218-a878-dd1af8c352d6"
      },
      "execution_count": 94,
      "outputs": [
        {
          "output_type": "stream",
          "name": "stdout",
          "text": [
            "Concatenated array: [0 5 2 3 4 8 8 8 4 6]\n"
          ]
        }
      ]
    },
    {
      "cell_type": "code",
      "source": [
        "# Create a 2D array with random integers\n",
        "array_2d = np.random.randint(0, 10, size=(6, 4))\n",
        "\n",
        "# Split the array into two equal parts along the row axis\n",
        "part1, part2 = np.split(array_2d, 2, axis=0)\n",
        "\n",
        "# Print the result\n",
        "print(part1)\n",
        "print(part2)"
      ],
      "metadata": {
        "id": "CBCc6bJk84jV",
        "colab": {
          "base_uri": "https://localhost:8080/"
        },
        "outputId": "45ed3fee-7589-4472-8b47-ecabdb63e5b6"
      },
      "execution_count": 95,
      "outputs": [
        {
          "output_type": "stream",
          "name": "stdout",
          "text": [
            "[[7 0 0 3]\n",
            " [7 8 4 8]\n",
            " [9 2 1 9]]\n",
            "[[2 4 4 9]\n",
            " [8 5 5 7]\n",
            " [2 6 3 3]]\n"
          ]
        }
      ]
    },
    {
      "cell_type": "code",
      "source": [
        "# Create a 2D array with random integers\n",
        "array_2d = np.random.randint(0,10, size=(3,6))\n",
        "\n",
        "# Split the array into three equal parts along the column axis\n",
        "part1, part2, part3 = np.split(array_2d,3,axis=1)\n",
        "\n",
        "# Print the result\n",
        "print (part1)\n",
        "print (part2)\n",
        "print (part3)"
      ],
      "metadata": {
        "colab": {
          "base_uri": "https://localhost:8080/"
        },
        "id": "9H0GYLDyMn_f",
        "outputId": "492315ff-7712-4acb-fc9e-b1772d274f5a"
      },
      "execution_count": 96,
      "outputs": [
        {
          "output_type": "stream",
          "name": "stdout",
          "text": [
            "[[7 2]\n",
            " [6 0]\n",
            " [2 9]]\n",
            "[[1 3]\n",
            " [0 4]\n",
            " [9 3]]\n",
            "[[4 4]\n",
            " [8 2]\n",
            " [6 9]]\n"
          ]
        }
      ]
    },
    {
      "cell_type": "markdown",
      "source": [
        "\n",
        "### Exercise 6: Mathematical Functions and Aggregations\n",
        "\n",
        "  * Create a 1D NumPy array with random integers between 1 and 100 of size 15. Compute and print the mean, median, standard deviation, and variance of the array.\n",
        "\n",
        "  * Create a 2D NumPy array of shape (4, 4) with random integers between 1 and 50. Compute and print the sum of each row and each column.\n",
        "\n",
        "  * Create a 3D NumPy array of shape (2, 3, 4) with random integers between 1 and 20. Find the maximum and minimum values along each axis and print them.\n",
        "\n",
        "\n"
      ],
      "metadata": {
        "id": "1H8uU5LlOLOb"
      }
    },
    {
      "cell_type": "code",
      "source": [
        "# Create a 1D array with random integers\n",
        "array_1d = np.random.randint(1, 101, size=15)\n",
        "\n",
        "# Calculate statistics\n",
        "mean = np.mean(array_1d)\n",
        "median = np.median(array_1d)\n",
        "std_dev = np.std(array_1d)\n",
        "variance = np.var(array_1d)\n",
        "\n",
        "# Print the statistics\n",
        "print(\"array_1d:\", array_1d)\n",
        "print(\"Mean:\", mean)\n",
        "print(\"Median:\", median)\n",
        "print(\"Standard Deviation:\", std_dev)\n",
        "print(\"Variance:\", variance)"
      ],
      "metadata": {
        "colab": {
          "base_uri": "https://localhost:8080/"
        },
        "id": "LZEmrz9_OCiZ",
        "outputId": "d46cef85-6e30-4e6b-efad-1674524658e2"
      },
      "execution_count": 97,
      "outputs": [
        {
          "output_type": "stream",
          "name": "stdout",
          "text": [
            "array_1d: [57 94 77 66 72 73 39 67 45 67 91 97 17 61 48]\n",
            "Mean: 64.73333333333333\n",
            "Median: 67.0\n",
            "Standard Deviation: 20.90443865679142\n",
            "Variance: 436.99555555555554\n"
          ]
        }
      ]
    },
    {
      "cell_type": "code",
      "source": [
        "# Create a 2D array with random integers\n",
        "array_2d = np.random.randint(1, 51, size=(4, 4))\n",
        "\n",
        "    # Calculate sum of each row\n",
        "row_sums = np.sum(array_2d, axis=1)\n",
        "\n",
        "    # Calculate sum of each column\n",
        "column_sums = np.sum(array_2d, axis=0)\n",
        "\n",
        "    # Print the results\n",
        "print(\"array_2d:\\n\", array_2d)\n",
        "print(\"Row sums:\", row_sums)\n",
        "print(\"Column sums:\", column_sums)"
      ],
      "metadata": {
        "colab": {
          "base_uri": "https://localhost:8080/"
        },
        "id": "LD-_A9IdPWJ_",
        "outputId": "41cea687-f822-47e5-c646-be115215fd76"
      },
      "execution_count": 98,
      "outputs": [
        {
          "output_type": "stream",
          "name": "stdout",
          "text": [
            "array_2d:\n",
            " [[41 10 28 38]\n",
            " [36 10 50 47]\n",
            " [25 41 37 46]\n",
            " [22 31 37 24]]\n",
            "Row sums: [117 143 149 114]\n",
            "Column sums: [124  92 152 155]\n"
          ]
        }
      ]
    },
    {
      "cell_type": "code",
      "source": [
        "# Create a 3D array with random integers\n",
        "array_3d = np.random.randint(1,21, size=(2, 3, 4))\n",
        "\n",
        "# Find maximum and minimum values along each axis\n",
        "max_values_axis0 = np.max(array_3d, axis=0)\n",
        "min_values_axis0 = np.min(array_3d, axis=0)\n",
        "\n",
        "max_values_axis1 = np.max(array_3d, axis=1)\n",
        "min_values_axis1 = np.min(array_3d, axis=1)\n",
        "\n",
        "max_values_axis2 = np.max(array_3d, axis=2)\n",
        "min_values_axis2 = np.min(array_3d, axis=2)\n",
        "\n",
        "    # Print the results\n",
        "print(\"array_3d:\\n\", array_3d)\n",
        "\n",
        "print(\"\\nMaximum values along axis 0:\\n\", max_values_axis0)\n",
        "print(\"Minimum values along axis 0:\\n\", min_values_axis0)\n",
        "\n",
        "print(\"Maximum values along axis 1:\\n\", max_values_axis1)\n",
        "print(\"Minimum values along axis 1:\\n\", min_values_axis1)\n",
        "\n",
        "print(\"Maximum values along axis 2:\\n\", max_values_axis2)\n",
        "print(\"Minimum values along axis 2:\\n\", min_values_axis2)"
      ],
      "metadata": {
        "colab": {
          "base_uri": "https://localhost:8080/"
        },
        "id": "ugna5TQUQq_r",
        "outputId": "596280dd-6b3d-43d6-ac12-a0ef1e728abe"
      },
      "execution_count": 99,
      "outputs": [
        {
          "output_type": "stream",
          "name": "stdout",
          "text": [
            "array_3d:\n",
            " [[[ 4  1  9 17]\n",
            "  [ 8  4 19  7]\n",
            "  [16  6  4 10]]\n",
            "\n",
            " [[19  4 19  8]\n",
            "  [14  5 16  4]\n",
            "  [10  9 10  4]]]\n",
            "\n",
            "Maximum values along axis 0:\n",
            " [[19  4 19 17]\n",
            " [14  5 19  7]\n",
            " [16  9 10 10]]\n",
            "Minimum values along axis 0:\n",
            " [[ 4  1  9  8]\n",
            " [ 8  4 16  4]\n",
            " [10  6  4  4]]\n",
            "Maximum values along axis 1:\n",
            " [[16  6 19 17]\n",
            " [19  9 19  8]]\n",
            "Minimum values along axis 1:\n",
            " [[ 4  1  4  7]\n",
            " [10  4 10  4]]\n",
            "Maximum values along axis 2:\n",
            " [[17 19 16]\n",
            " [19 16 10]]\n",
            "Minimum values along axis 2:\n",
            " [[1 4 4]\n",
            " [4 4 4]]\n"
          ]
        }
      ]
    },
    {
      "cell_type": "markdown",
      "source": [
        "\n",
        "Exercise 7: Reshaping and Transposing Arrays\n",
        "\n",
        "  * Create a 1D NumPy array with the numbers from 1 to 12. Reshape the array to a 2D array of shape (3, 4) and print it.\n",
        "\n",
        "  * Create a 2D NumPy array of shape (3, 4) with random integers between 1 and 10. Transpose the array and print the transposed array.\n",
        "\n",
        "  * Create a 2D NumPy array of shape (2, 3) with random integers between 1 and 10. Flatten the array to 1D and print the result.\n",
        "\n"
      ],
      "metadata": {
        "id": "nJ_h8ne2mHYs"
      }
    },
    {
      "cell_type": "code",
      "source": [
        "# Create a 1D array\n",
        "arr_1d = np.arange(1, 13)\n",
        "\n",
        "# reshape to a 2D array\n",
        "arr_2d = arr_1d.reshape(3, 4)\n",
        "\n",
        "# Print the result\n",
        "print(arr_2d)"
      ],
      "metadata": {
        "id": "_QXJcUTUShHx",
        "colab": {
          "base_uri": "https://localhost:8080/"
        },
        "outputId": "82225260-d6d1-49e2-fb88-a83330edc250"
      },
      "execution_count": 100,
      "outputs": [
        {
          "output_type": "stream",
          "name": "stdout",
          "text": [
            "[[ 1  2  3  4]\n",
            " [ 5  6  7  8]\n",
            " [ 9 10 11 12]]\n"
          ]
        }
      ]
    },
    {
      "cell_type": "code",
      "source": [
        "# Create a 2D array with random integers\n",
        "arr_2d = np.random.randint(1,11, size=(3, 4))\n",
        "print (\"\\n\",arr_2d)\n",
        "\n",
        "# Transpose the array\n",
        "transposed_arr = arr_2d.T\n",
        "\n",
        "# Print the transposed array\n",
        "print(\"\\nTranspose:\\n\",transposed_arr)"
      ],
      "metadata": {
        "colab": {
          "base_uri": "https://localhost:8080/"
        },
        "id": "o6B4f9IUm9iQ",
        "outputId": "09325951-d660-4b82-964a-ad88b163304e"
      },
      "execution_count": 101,
      "outputs": [
        {
          "output_type": "stream",
          "name": "stdout",
          "text": [
            "\n",
            " [[ 5  7  8  4]\n",
            " [ 5 10  6  6]\n",
            " [ 6  6  7  4]]\n",
            "\n",
            "Transpose:\n",
            " [[ 5  5  6]\n",
            " [ 7 10  6]\n",
            " [ 8  6  7]\n",
            " [ 4  6  4]]\n"
          ]
        }
      ]
    },
    {
      "cell_type": "code",
      "source": [
        "# Create a 2D array\n",
        "arr_2d = np.random.randint(1, 11, size=(2, 3))\n",
        "print (\"2d array :\\n\",arr_2d)\n",
        "#flatten the array\n",
        "arr_1d = arr_2d.flatten()\n",
        "\n",
        "#print the result\n",
        "print(\"Flattened array:\", arr_1d)"
      ],
      "metadata": {
        "colab": {
          "base_uri": "https://localhost:8080/"
        },
        "id": "WG3QBGTDndHg",
        "outputId": "5ba69dd9-d42d-456a-9c4a-7bc5a17c8e11"
      },
      "execution_count": 102,
      "outputs": [
        {
          "output_type": "stream",
          "name": "stdout",
          "text": [
            "2d array :\n",
            " [[3 5 1]\n",
            " [4 2 1]]\n",
            "Flattened array: [3 5 1 4 2 1]\n"
          ]
        }
      ]
    },
    {
      "cell_type": "markdown",
      "source": [
        "\n",
        "## Exercise 8: Broadcasting and Vectorized Operations\n",
        "\n",
        "  * Create a 2D NumPy array of shape (3, 4) with random integers between 1 and 10. Subtract the mean of each column from the respective column elements and print the result.\n",
        "\n",
        "  * Create two 1D NumPy arrays of length 4 with random integers between 1 and 5. Use broadcasting to compute and print the outer product of the two arrays.\n",
        "\n",
        "  * Create a 2D NumPy array of shape (4, 5) with random integers between 1 and 10. Add 10 to all elements of the array that are greater than 5 and print the modified array.\n",
        "\n"
      ],
      "metadata": {
        "id": "I2DVHFXXp7RZ"
      }
    },
    {
      "cell_type": "code",
      "source": [
        "# Create a 2D array\n",
        "arr_2d = np.random.randint(1, 11, size=(3, 4))\n",
        "\n",
        "#calculate the mean of each column\n",
        "col_means = np.mean(arr_2d, axis=0)\n",
        "\n",
        "#substract the mean from each column\n",
        "result = arr_2d - col_means\n",
        "\n",
        "#print the result\n",
        "print(\"Original array:\\n\", arr_2d)\n",
        "print(\"Column means:\\n\", col_means)\n",
        "print(\"Result:\\n\", result)"
      ],
      "metadata": {
        "colab": {
          "base_uri": "https://localhost:8080/"
        },
        "id": "EBEXQ9pSpZ7i",
        "outputId": "7b06c499-a492-4d60-9d16-bb6d4d25a8a5"
      },
      "execution_count": 103,
      "outputs": [
        {
          "output_type": "stream",
          "name": "stdout",
          "text": [
            "Original array:\n",
            " [[1 8 4 2]\n",
            " [5 7 1 3]\n",
            " [1 9 5 7]]\n",
            "Column means:\n",
            " [2.33333333 8.         3.33333333 4.        ]\n",
            "Result:\n",
            " [[-1.33333333  0.          0.66666667 -2.        ]\n",
            " [ 2.66666667 -1.         -2.33333333 -1.        ]\n",
            " [-1.33333333  1.          1.66666667  3.        ]]\n"
          ]
        }
      ]
    },
    {
      "cell_type": "code",
      "source": [
        "# Create two 1D arrays\n",
        "arr1 = np.random.randint(1, 6, size=4)\n",
        "arr2 = np.random.randint(1, 6, size=4)\n",
        "\n",
        "# Compute the outer product using broadcasting\n",
        "outer_product = arr1[:, np.newaxis] * arr2\n",
        "\n",
        "# another method is:\n",
        "outer2_product = np.outer(arr1, arr2)\n",
        "\n",
        "# print the result\n",
        "print(\"Array 1:\", arr1)\n",
        "print(\"Array 2:\", arr2)\n",
        "print(\"\\nOuter Product:\\n\", outer_product)\n",
        "print(\"\\nOuter Product methode2:\\n\", outer2_product)"
      ],
      "metadata": {
        "colab": {
          "base_uri": "https://localhost:8080/"
        },
        "id": "F_zcTnENq5zR",
        "outputId": "6ecd421d-6f54-4f44-bf40-9c76a8a7e268"
      },
      "execution_count": 104,
      "outputs": [
        {
          "output_type": "stream",
          "name": "stdout",
          "text": [
            "Array 1: [2 1 5 5]\n",
            "Array 2: [5 4 4 5]\n",
            "\n",
            "Outer Product:\n",
            " [[10  8  8 10]\n",
            " [ 5  4  4  5]\n",
            " [25 20 20 25]\n",
            " [25 20 20 25]]\n",
            "\n",
            "Outer Product methode2:\n",
            " [[10  8  8 10]\n",
            " [ 5  4  4  5]\n",
            " [25 20 20 25]\n",
            " [25 20 20 25]]\n"
          ]
        }
      ]
    },
    {
      "cell_type": "code",
      "source": [
        "# Create a 2D array\n",
        "arr_2d = np.random.randint(1, 11, size=(4, 5))\n",
        "print(\"Original array:\\n\", arr_2d)\n",
        "\n",
        "# Add 10 to elements greater than 5\n",
        "arr_2d[arr_2d > 5] += 10\n",
        "\n",
        "'''or # Create a mask for elements greater than 5\n",
        "  #mask = arr_2d > 5\n",
        "  #arr_2d[mask] = arr_2d[mask] + 10'''\n",
        "\n",
        "# Print the modified array\n",
        "print(\"\\nModified array:\\n\", arr_2d)"
      ],
      "metadata": {
        "colab": {
          "base_uri": "https://localhost:8080/"
        },
        "id": "XiSE_QUdunH4",
        "outputId": "faf2722d-50f4-4eff-a046-60ed2794acfc"
      },
      "execution_count": 105,
      "outputs": [
        {
          "output_type": "stream",
          "name": "stdout",
          "text": [
            "Original array:\n",
            " [[ 1  4  6 10  8]\n",
            " [10  8  1  6  2]\n",
            " [ 4  4  1  3  8]\n",
            " [10  2  9  5  6]]\n",
            "\n",
            "Modified array:\n",
            " [[ 1  4 16 20 18]\n",
            " [20 18  1 16  2]\n",
            " [ 4  4  1  3 18]\n",
            " [20  2 19  5 16]]\n"
          ]
        }
      ]
    },
    {
      "cell_type": "markdown",
      "source": [
        "\n",
        "## Exercise 9: Sorting and Searching Arrays\n",
        "\n",
        "  * Create a 1D NumPy array with random integers between 1 and 20 of size 10. Sort the array in ascending order and print the sorted array.\n",
        "\n",
        "  * Create a 2D NumPy array of shape (3, 5) with random integers between 1 and 50. Sort the array by the second column and print the result.\n",
        "\n",
        "  * Create a 1D NumPy array with random integers between 1 and 100 of size 15. Find and print the indices of all elements greater than 50.\n",
        "\n"
      ],
      "metadata": {
        "id": "ePl5J_E1ypD3"
      }
    },
    {
      "cell_type": "code",
      "source": [
        "# Create a 1D array with random integers\n",
        "arr_1d = np.random.randint(1, 21, size=10)\n",
        "\n",
        "# Sort the array in ascending order\n",
        "sorted_arr = np.sort(arr_1d)\n",
        "\n",
        "# Print the array\n",
        "print(\"Original array:\", arr_1d)\n",
        "print(\"Sorted array:\", sorted_arr)"
      ],
      "metadata": {
        "colab": {
          "base_uri": "https://localhost:8080/"
        },
        "id": "9UXEO65Nvzpm",
        "outputId": "43ffc312-cb9e-47f9-c511-05ba7bb1fb19"
      },
      "execution_count": 106,
      "outputs": [
        {
          "output_type": "stream",
          "name": "stdout",
          "text": [
            "Original array: [17  2 15 20 10  6  8 13 12  9]\n",
            "Sorted array: [ 2  6  8  9 10 12 13 15 17 20]\n"
          ]
        }
      ]
    },
    {
      "cell_type": "code",
      "source": [
        "# Create a 2D array with random integers\n",
        "arr_2d = np.random.randint(1, 51, size=(3, 5))\n",
        "print(\"Original array:\\n\", arr_2d)\n",
        "\n",
        "# Sort the array by the second column\n",
        "# arr_2d[:, 1] selects the second column\n",
        "# .argsort() returns the indices that are used to reorder the entire array by rows.\n",
        "sorted_arr = arr_2d[arr_2d[:, 1].argsort()]\n",
        "\n",
        "# Print the result\n",
        "print(\"\\nSorted array by the second column:\\n\", sorted_arr)"
      ],
      "metadata": {
        "colab": {
          "base_uri": "https://localhost:8080/"
        },
        "id": "BNxhyIWtzQpy",
        "outputId": "c36cfc60-817a-403e-cb3c-2df9475e4baf"
      },
      "execution_count": 107,
      "outputs": [
        {
          "output_type": "stream",
          "name": "stdout",
          "text": [
            "Original array:\n",
            " [[26 13 48  4 42]\n",
            " [26  4 41 10 40]\n",
            " [26 15 27 13  4]]\n",
            "\n",
            "Sorted array by the second column:\n",
            " [[26  4 41 10 40]\n",
            " [26 13 48  4 42]\n",
            " [26 15 27 13  4]]\n"
          ]
        }
      ]
    },
    {
      "cell_type": "code",
      "source": [
        "# Create a 1D array with random integers between 1 and 100 of size 15\n",
        "arr_1d = np.random.randint(1, 101, size=15)\n",
        "print(\"\\nOriginal 1D array:\", arr_1d)\n",
        "\n",
        "# Find the indices of elements greater than 50\n",
        "indices_greater_than_50 = np.where(arr_1d > 50)[0]\n",
        "\n",
        "# Print the indices\n",
        "print(\"Indices of elements greater than 50:\", indices_greater_than_50)"
      ],
      "metadata": {
        "colab": {
          "base_uri": "https://localhost:8080/"
        },
        "id": "q0hvVdn45fJ9",
        "outputId": "67bc7522-3c3c-47d7-f854-d2a8c7aa9bf1"
      },
      "execution_count": 108,
      "outputs": [
        {
          "output_type": "stream",
          "name": "stdout",
          "text": [
            "\n",
            "Original 1D array: [31 49 27 94 53 77 71 25 66 73 55 60 17 97 32]\n",
            "Indices of elements greater than 50: [ 3  4  5  6  8  9 10 11 13]\n"
          ]
        }
      ]
    },
    {
      "cell_type": "markdown",
      "source": [
        "\n",
        "## Exercise 10: Linear Algebra with NumPy\n",
        "\n",
        "  * Create a 2D NumPy array of shape (2, 2) with random integers between 1 and 10. Compute and print the determinant of the array.\n",
        "\n",
        "  * Create a 2D NumPy array of shape (3, 3) with random integers between 1 and 5. Compute and print the eigenvalues and eigenvectors of the array.\n",
        "\n",
        "  * Create two 2D NumPy arrays of shape (2, 3) and (3, 2) with random integers between 1 and 10. Compute and print the matrix product of the two arrays.\n",
        "\n"
      ],
      "metadata": {
        "id": "V12cgPl2-Vdh"
      }
    },
    {
      "cell_type": "code",
      "source": [
        "# Create a 2D array\n",
        "arr_2d = np.random.randint(1, 11, size=(2, 2))\n",
        "\n",
        "# Compute the determinant\n",
        "det = np.linalg.det(arr_2d)\n",
        "\n",
        "# Print the result\n",
        "print(\"Original array:\\n\", arr_2d)\n",
        "print(\"Determinant:\", det)"
      ],
      "metadata": {
        "colab": {
          "base_uri": "https://localhost:8080/"
        },
        "id": "JD42Y37x9HHX",
        "outputId": "75ed89c9-1f19-4c52-962e-8691c466e381"
      },
      "execution_count": 109,
      "outputs": [
        {
          "output_type": "stream",
          "name": "stdout",
          "text": [
            "Original array:\n",
            " [[5 8]\n",
            " [9 5]]\n",
            "Determinant: -47.000000000000014\n"
          ]
        }
      ]
    },
    {
      "cell_type": "code",
      "source": [
        "# Create a 2D array with random integers between 1 and 5 of shape (3, 3)\n",
        "arr2 = np.random.randint(1, 6, size=(3, 3))\n",
        "print(\"\\n2D array (3x3):\\n\", arr2)\n",
        "\n",
        "\n",
        "# Compute the eigenvalues and eigenvectors\n",
        "eigenvalues, eigenvectors = np.linalg.eig(arr2)\n",
        "\n",
        "print(\"\\nEigenvalues of the array:\\n\", eigenvalues)\n",
        "print(\"\\nEigenvectors of the array:\\n\", eigenvectors)"
      ],
      "metadata": {
        "colab": {
          "base_uri": "https://localhost:8080/"
        },
        "id": "ExkDcOk__NBd",
        "outputId": "e9c37d07-5b11-4882-de4f-48b33b0fd52e"
      },
      "execution_count": 110,
      "outputs": [
        {
          "output_type": "stream",
          "name": "stdout",
          "text": [
            "\n",
            "2D array (3x3):\n",
            " [[1 4 4]\n",
            " [3 2 5]\n",
            " [5 1 4]]\n",
            "\n",
            "Eigenvalues of the array:\n",
            " [ 9.66788073+0.j         -1.33394036+1.00665575j -1.33394036-1.00665575j]\n",
            "\n",
            "Eigenvectors of the array:\n",
            " [[-0.54651916+0.j          0.64439958+0.j          0.64439958-0.j        ]\n",
            " [-0.59686472+0.j          0.23881865+0.34239621j  0.23881865-0.34239621j]\n",
            " [-0.587426  +0.j         -0.6148162 -0.18022408j -0.6148162 +0.18022408j]]\n"
          ]
        }
      ]
    },
    {
      "cell_type": "code",
      "source": [
        "# Create two 2D arrays with random integers\n",
        "array1 = np.random.randint(1, 11, size=(2, 3))\n",
        "array2 = np.random.randint(1, 11, size=(3, 2))\n",
        "\n",
        "#compute the matrix product\n",
        "matrix_product = np.dot(array1, array2)\n",
        "\n",
        "# Print the result\n",
        "print(\"Array 1:\\n\", array1)\n",
        "print(\"\\nArray 2:\\n\", array2)\n",
        "print(\"\\nMatrix product:\\n\", matrix_product)"
      ],
      "metadata": {
        "id": "r6RRhIwn_z2h",
        "colab": {
          "base_uri": "https://localhost:8080/"
        },
        "outputId": "9112ef3f-4cf2-4a3b-f445-e8af725d3aff"
      },
      "execution_count": 111,
      "outputs": [
        {
          "output_type": "stream",
          "name": "stdout",
          "text": [
            "Array 1:\n",
            " [[6 5 3]\n",
            " [5 6 1]]\n",
            "\n",
            "Array 2:\n",
            " [[5 7]\n",
            " [5 6]\n",
            " [3 9]]\n",
            "\n",
            "Matrix product:\n",
            " [[64 99]\n",
            " [58 80]]\n"
          ]
        }
      ]
    },
    {
      "cell_type": "markdown",
      "source": [
        "\n",
        "## Exercise 11: Random Sampling and Distributions\n",
        "\n",
        "  * Create a 1D NumPy array of 10 random samples from a uniform distribution over [0, 1) and print the array.\n",
        "\n",
        "  * Create a 2D NumPy array of shape (3, 3) with random samples from a normal distribution with mean 0 and standard deviation 1. Print the array.\n",
        "\n",
        "  * Create a 1D NumPy array of 20 random integers between 1 and 100. Compute and print the histogram of the array with 5 bins.\n",
        "\n",
        "\n"
      ],
      "metadata": {
        "id": "3eiQrD9XvhlV"
      }
    },
    {
      "cell_type": "code",
      "source": [
        "# Create a 1D array with random samples from a uniform distribution\n",
        "uniform_samples = np.random.rand(10)\n",
        "\n",
        "# Print the array\n",
        "print(\"Uniform Samples:\\n\", uniform_samples)"
      ],
      "metadata": {
        "colab": {
          "base_uri": "https://localhost:8080/"
        },
        "id": "rlS3oVRdurQv",
        "outputId": "b4cab72e-0802-4659-bf15-696608cb8c42"
      },
      "execution_count": 112,
      "outputs": [
        {
          "output_type": "stream",
          "name": "stdout",
          "text": [
            "Uniform Samples:\n",
            " [0.19390161 0.81008179 0.44838477 0.22626248 0.17018104 0.3130828\n",
            " 0.25340454 0.05667372 0.83234287 0.73265751]\n"
          ]
        }
      ]
    },
    {
      "cell_type": "code",
      "source": [
        "# Create a 2D array with random samples from a normal distribution\n",
        "# with mean 0 and standard deviation 1\n",
        "normal_samples = np.random.normal(loc=0, scale= 1, size=(3, 3))\n",
        "\n",
        "# Print the array\n",
        "print(\"Normal Samples:\\n\", normal_samples)"
      ],
      "metadata": {
        "colab": {
          "base_uri": "https://localhost:8080/"
        },
        "id": "v9Q4bFzSyFjN",
        "outputId": "4979fa8f-06ba-48d7-ab50-15a34fb02ce3"
      },
      "execution_count": 113,
      "outputs": [
        {
          "output_type": "stream",
          "name": "stdout",
          "text": [
            "Normal Samples:\n",
            " [[-0.24030299  0.24170524  0.42037559]\n",
            " [ 0.7127545  -1.05995139  0.91807257]\n",
            " [-0.1982331  -0.04709188  1.20526435]]\n"
          ]
        }
      ]
    },
    {
      "cell_type": "code",
      "source": [
        "#create 1d array\n",
        "random_integers= np.random.randint(1,101, size=20)\n",
        "\n",
        "# Compute the histogram with 5 bins\n",
        "hist, bin_edges = np.histogram(random_integers, bins=5)\n",
        "\n",
        "# Print the results\n",
        "print(\"\\nHistogram counts (5 bins):\\n\", hist)\n",
        "print(\"Bin edges:\\n\", bin_edges)"
      ],
      "metadata": {
        "colab": {
          "base_uri": "https://localhost:8080/"
        },
        "id": "B173naer6tgP",
        "outputId": "453f463e-978b-40c1-9357-d4c9c5932ab2"
      },
      "execution_count": 114,
      "outputs": [
        {
          "output_type": "stream",
          "name": "stdout",
          "text": [
            "\n",
            "Histogram counts (5 bins):\n",
            " [6 3 5 2 4]\n",
            "Bin edges:\n",
            " [ 1.  19.6 38.2 56.8 75.4 94. ]\n"
          ]
        }
      ]
    },
    {
      "cell_type": "code",
      "source": [],
      "metadata": {
        "id": "7fbX9NuZHZmi"
      },
      "execution_count": 114,
      "outputs": []
    },
    {
      "cell_type": "markdown",
      "source": [],
      "metadata": {
        "id": "7jC_lyZSyoHE"
      }
    },
    {
      "cell_type": "markdown",
      "source": [
        "\n",
        "## Exercise 12: Advanced Indexing and Selection\n",
        "\n",
        "  * Create a 2D NumPy array of shape (5, 5) with random integers between 1 and 20. Select and print the diagonal elements of the array.\n",
        "\n",
        "  * Create a 1D NumPy array of 10 random integers between 1 and 50. Use advanced indexing to select and print all elements that are prime numbers.\n",
        "\n",
        "  * Create a 2D NumPy array of shape (4, 4) with random integers between 1 and 10. Select and print all elements that are even numbers."
      ],
      "metadata": {
        "id": "QwgukI3ay3BO"
      }
    },
    {
      "cell_type": "code",
      "source": [
        "# Create a 2D array with random integers\n",
        "array_2d = np.random.randint(1, 21, size=(5, 5))\n",
        "print(\"Original array:\\n\", array_2d)\n",
        "\n",
        "#select diagonal elemnnt using np.diag\n",
        "diagonal_elements = np.diag(array_2d)\n",
        "\n",
        "# Print the diagonal elements\n",
        "print(\"\\nDiagonal elements:\", diagonal_elements)"
      ],
      "metadata": {
        "id": "aSs8JaYb8LFA",
        "colab": {
          "base_uri": "https://localhost:8080/"
        },
        "outputId": "7181f935-6a56-4e54-ddc7-661fcbcfe34d"
      },
      "execution_count": 115,
      "outputs": [
        {
          "output_type": "stream",
          "name": "stdout",
          "text": [
            "Original array:\n",
            " [[11 13  7 16 12]\n",
            " [ 4 20  3 18 15]\n",
            " [ 8  5  6  1  8]\n",
            " [20 16 17 19 12]\n",
            " [ 7  7  1 19 16]]\n",
            "\n",
            "Diagonal elements: [11 20  6 19 16]\n"
          ]
        }
      ]
    },
    {
      "cell_type": "code",
      "source": [
        "# create a 1d array with random integers\n",
        "array_1d = np .random.randint(1, 51 ,size=10)\n",
        "print(\"Original array:\", array_1d)\n",
        "\n",
        "# Use advanced indexing to select prime numbers #\n",
        "\n",
        "''' Function to check if a number is prime '''\n",
        "def is_prime(num):\n",
        "  if num < 2:\n",
        "    return False\n",
        "  for i in range(2, int(np.sqrt(num)) + 1): #This loop checks if the number num can be divided by any integer i between 2 and the square root of num (rounded up).\n",
        "    if num % i == 0:\n",
        "      return False\n",
        "  return True\n",
        "\n",
        "#create a boolean mask for prime numbers\n",
        "prime_mask = np.array([is_prime(x) for x in array_1d])\n",
        "\n",
        "#select prime numbers using the mask\n",
        "prime_numbers = array_1d[prime_mask]\n",
        "\n",
        "# Print the prime numbers\n",
        "print(\"Prime numbers:\", prime_numbers)"
      ],
      "metadata": {
        "colab": {
          "base_uri": "https://localhost:8080/"
        },
        "id": "tMZkbiDL4lVe",
        "outputId": "e71c5211-a02b-4f45-ead5-656d8fe56ef7"
      },
      "execution_count": 116,
      "outputs": [
        {
          "output_type": "stream",
          "name": "stdout",
          "text": [
            "Original array: [26 27 10 12 23 37 36 31  1 16]\n",
            "Prime numbers: [23 37 31]\n"
          ]
        }
      ]
    },
    {
      "cell_type": "code",
      "source": [
        "# create a 2d array with random integers\n",
        "array_2d = np.random.randint(1,11, size=(4,4))\n",
        "print(\"Original array:\\n\", array_2d)\n",
        "\n",
        "# Select and print all even numbers\n",
        "even_numbers = array_2d[array_2d % 2 == 0]\n",
        "print(\"\\nEven numbers in the array:\\n\", even_numbers)"
      ],
      "metadata": {
        "colab": {
          "base_uri": "https://localhost:8080/"
        },
        "id": "c_OJShw_41xb",
        "outputId": "140da185-d486-4c0e-c644-e94a5803edab"
      },
      "execution_count": 117,
      "outputs": [
        {
          "output_type": "stream",
          "name": "stdout",
          "text": [
            "Original array:\n",
            " [[ 5  5  2  9]\n",
            " [ 1  9  4  1]\n",
            " [ 9  4  7 10]\n",
            " [ 7  9  3  3]]\n",
            "\n",
            "Even numbers in the array:\n",
            " [ 2  4  4 10]\n"
          ]
        }
      ]
    },
    {
      "cell_type": "markdown",
      "source": [
        "\n",
        "## Exercise 13: Handling Missing Data\n",
        "\n",
        "  * Create a 1D NumPy array of length 10 with random integers between 1 and 10. Introduce np.nan at random positions and print the array.\n",
        "\n",
        "  * Create a 2D NumPy array of shape (3, 4) with random integers between 1 and 10. Replace all elements that are less than 5 with np.nan and print the array.\n",
        "\n",
        "  * Create a 1D NumPy array of length 15 with random integers between 1 and 20. Identify and print the indices of all np.nan values in the array."
      ],
      "metadata": {
        "id": "a2FOEVWPI6md"
      }
    },
    {
      "cell_type": "code",
      "source": [
        "# Create a 1D array with random integers\n",
        "array_1d = np.random.randint(1, 11, size=10).astype(np.float64)\n",
        "print(\"Original array:\", array_1d)\n",
        "\n",
        "# Introduce np.nan at random positions\n",
        "''' Choosing 3 random positions '''\n",
        "random_indices = np.random.choice(len(array_1d), size=3, replace=False)\n",
        "array_1d[random_indices] = np.nan\n",
        "print(\"\\nArray with np.nan at random positions:\\n\", array_1d)"
      ],
      "metadata": {
        "colab": {
          "base_uri": "https://localhost:8080/"
        },
        "id": "Rp69ntkJIyxh",
        "outputId": "378cdd6b-bda0-4bca-9b75-41747bef2194"
      },
      "execution_count": 118,
      "outputs": [
        {
          "output_type": "stream",
          "name": "stdout",
          "text": [
            "Original array: [4. 1. 4. 9. 7. 4. 2. 2. 7. 9.]\n",
            "\n",
            "Array with np.nan at random positions:\n",
            " [ 4.  1.  4. nan nan  4.  2. nan  7.  9.]\n"
          ]
        }
      ]
    },
    {
      "cell_type": "code",
      "source": [
        "# Create a 2D array with random integers\n",
        "array_2d = np.random.randint(1, 11, size=(3, 4)).astype(np.float64)  # Change to float64\n",
        "print(\"Original array:\\n\", array_2d)\n",
        "\n",
        "# replace elements less than 5 with np.nan\n",
        "array_2d[array_2d < 5]= np.nan\n",
        "\n",
        "#print the modified array\n",
        "print(\"\\nArray with NaN values:\\n\", array_2d)"
      ],
      "metadata": {
        "colab": {
          "base_uri": "https://localhost:8080/"
        },
        "id": "lT-swezGLNlL",
        "outputId": "8ec6163f-c3dc-48e0-fc3f-299db37fa840"
      },
      "execution_count": 119,
      "outputs": [
        {
          "output_type": "stream",
          "name": "stdout",
          "text": [
            "Original array:\n",
            " [[ 6.  5.  9. 10.]\n",
            " [ 7.  7.  3. 10.]\n",
            " [ 5.  9.  9.  6.]]\n",
            "\n",
            "Array with NaN values:\n",
            " [[ 6.  5.  9. 10.]\n",
            " [ 7.  7. nan 10.]\n",
            " [ 5.  9.  9.  6.]]\n"
          ]
        }
      ]
    },
    {
      "cell_type": "code",
      "source": [
        "# Create a 1D array with random integers and introduce np.nan\n",
        "array_1d = np.random.randint(1, 21, size=15).astype(np.float64)\n",
        "\n",
        "# Introduce np.nan at random positions\n",
        "random_indices_15 = np.random.choice(len(array_1d), size=4, replace=False)  # Choosing 4 random positions\n",
        "array_1d[random_indices_15] = np.nan\n",
        "print(\"\\nArray with np.nan at random positions:\\n\", array_1d)\n",
        "\n",
        "# Identify and print the indices of all np.nan values\n",
        "nan_indices = np.where(np.isnan(array_1d))[0]\n",
        "print(\"\\nIndices of np.nan values in the array:\\n\", nan_indices)"
      ],
      "metadata": {
        "colab": {
          "base_uri": "https://localhost:8080/"
        },
        "id": "3AVOVD5tPRcW",
        "outputId": "7834ba88-eef7-4c37-e3d8-9100e18c3edc"
      },
      "execution_count": 120,
      "outputs": [
        {
          "output_type": "stream",
          "name": "stdout",
          "text": [
            "\n",
            "Array with np.nan at random positions:\n",
            " [19. nan  7. 11.  5. 12. nan nan 13. 20. 20. 18. 11. nan  2.]\n",
            "\n",
            "Indices of np.nan values in the array:\n",
            " [ 1  6  7 13]\n"
          ]
        }
      ]
    },
    {
      "cell_type": "markdown",
      "source": [
        "\n",
        "## Exercise 14: Performance Optimization with NumPy\n",
        "\n",
        "  * Create a large 1D NumPy array with 1 million random integers between 1 and 100. Compute the mean and standard deviation using NumPy functions and measure the time taken.\n",
        "\n",
        "  * Create two large 2D NumPy arrays of shape (1000, 1000) with random integers between 1 and 10. Perform element-wise addition and measure the time taken.\n",
        "\n",
        "  * Create a 3D NumPy array of shape (100, 100, 100) with random integers between 1 and 10. Compute the sum along each axis and measure the time taken."
      ],
      "metadata": {
        "id": "7RYblKcQRYXm"
      }
    },
    {
      "cell_type": "code",
      "source": [
        "import time\n",
        "\n",
        "# Create a large 1D array\n",
        "array_large = np.random.randint(1,101, size=1_000_000)\n",
        "\n",
        "# Mesure time for mean calculation\n",
        "start_time = time.time()\n",
        "mean = np.mean(array_large)\n",
        "std_dev = np.std(array_large)\n",
        "end_time = time.time()\n",
        "\n",
        "# Output the results and time taken\n",
        "print(f\"Mean: {mean}, Standard Deviation: {std_dev}\")\n",
        "print(\"Time taken for calculation:\", end_time - start_time, \"seconds\")"
      ],
      "metadata": {
        "colab": {
          "base_uri": "https://localhost:8080/"
        },
        "id": "1JZBS72-Qmrw",
        "outputId": "ba4720d0-a5d5-41b4-8b36-61540f1d718e"
      },
      "execution_count": 121,
      "outputs": [
        {
          "output_type": "stream",
          "name": "stdout",
          "text": [
            "Mean: 50.496059, Standard Deviation: 28.88739867950243\n",
            "Time taken for calculation: 0.01520991325378418 seconds\n"
          ]
        }
      ]
    },
    {
      "cell_type": "code",
      "source": [
        "# Create two large 2D arrays\n",
        "array1 = np.random.randint(1, 11, size=(1000, 1000))\n",
        "array2 = np.random.randint(1, 11, size=(1000, 1000))\n",
        "\n",
        "#Measure time for element-wise addition\n",
        "start_time = time.time()\n",
        "result = array1 + array2 #Element wise\n",
        "end_time = time.time()\n",
        "\n",
        "# Print the time taken\n",
        "print(\"Time taken for element-wise addition:\", end_time - start_time, \"seconds\")                                                                                                                                                                                                                                                                                                                                                                                                                                                                                                                                                                                                                                                                                                                                                                                                                                                                                                                                                                                                                                                                                                                                                                                                                                                                                                                                                                                                                                                                                                                                                                                                                                                                                                                                                                                                                                                                                                                                                                                                                                                                                                                                                                                                                                                                                                                                                                                                                                                                                                                                                                                                                                                                                                                                                                                                                                                                                                                                                                                                                                                                                                                                                                                                                                                                                                                                                                                                                                                                                                       ,"
      ],
      "metadata": {
        "colab": {
          "base_uri": "https://localhost:8080/"
        },
        "id": "oLf_OLukULet",
        "outputId": "53c9961b-91e4-4afb-8436-fd3ec0e51554"
      },
      "execution_count": 122,
      "outputs": [
        {
          "output_type": "stream",
          "name": "stdout",
          "text": [
            "Time taken for element-wise addition: 0.008991241455078125 seconds\n"
          ]
        },
        {
          "output_type": "execute_result",
          "data": {
            "text/plain": [
              "(None,)"
            ]
          },
          "metadata": {},
          "execution_count": 122
        }
      ]
    },
    {
      "cell_type": "code",
      "source": [
        "# Create a 3D array\n",
        "array_3d = np.random.randint(1, 11, size=(100, 100, 100))\n",
        "\n",
        "# Measure time for sum along axis 0\n",
        "start_time = time.time()\n",
        "\n",
        "sum_axis0 = np.sum(array_3d, axis=0)\n",
        "sum_axis1 = np.sum(array_3d, axis=1)\n",
        "sum_axis2 = np.sum(array_3d, axis=2)\n",
        "\n",
        "end_time = time.time()\n",
        "\n",
        "# Output the time taken\n",
        "print(f\"Time taken for sum along axes: {end_time - start_time:.6f} seconds\")"
      ],
      "metadata": {
        "colab": {
          "base_uri": "https://localhost:8080/"
        },
        "id": "hAQezzGgXHk7",
        "outputId": "1ddcb186-9876-46ce-bcb2-ec6cbf9b6682"
      },
      "execution_count": 123,
      "outputs": [
        {
          "output_type": "stream",
          "name": "stdout",
          "text": [
            "Time taken for sum along axes: 0.004477 seconds\n"
          ]
        }
      ]
    },
    {
      "cell_type": "markdown",
      "source": [
        "\n",
        "## Exercise 15: Cumulative and Aggregate Functions\n",
        "\n",
        "  * Create a 1D NumPy array with the numbers from 1 to 10. Compute and print the cumulative sum and cumulative product of the array.\n",
        "\n",
        "  * Create a 2D NumPy array of shape (4, 4) with random integers between 1 and 20. Compute and print the cumulative sum along the rows and the columns.\n",
        "\n",
        "  * Create a 1D NumPy array with 10 random integers between 1 and 50. Compute and print the minimum, maximum, and sum of the array.\n",
        "\n"
      ],
      "metadata": {
        "id": "oy2yU2ubZYm6"
      }
    },
    {
      "cell_type": "code",
      "source": [
        "# Create a 1D array\n",
        "array_1d = np.arange(1, 11)\n",
        "print(\"Original array:\", array_1d)\n",
        "\n",
        "# Compute umulative sum\n",
        "cumulative_sum = np.cumsum(array_1d)\n",
        "print(\"Cumulative sum:\", cumulative_sum)\n",
        "\n",
        "# Compute cumulative product\n",
        "cumulative_product = np.cumprod(array_1d)\n",
        "print(\"Cumulative product:\", cumulative_product)"
      ],
      "metadata": {
        "id": "vUqYRtiaZEc4",
        "colab": {
          "base_uri": "https://localhost:8080/"
        },
        "outputId": "06d2efd5-61b3-42fa-ee68-9d0b548dde51"
      },
      "execution_count": 124,
      "outputs": [
        {
          "output_type": "stream",
          "name": "stdout",
          "text": [
            "Original array: [ 1  2  3  4  5  6  7  8  9 10]\n",
            "Cumulative sum: [ 1  3  6 10 15 21 28 36 45 55]\n",
            "Cumulative product: [      1       2       6      24     120     720    5040   40320  362880\n",
            " 3628800]\n"
          ]
        }
      ]
    },
    {
      "cell_type": "code",
      "source": [
        "# Create a 2D array\n",
        "array_2d = np.random.randint(1, 21, size=(4, 4))\n",
        "print(\"Original array:\\n\", array_2d)\n",
        "\n",
        "# cumulative sum along rows(axis=1)\n",
        "cumulative_sum_rows = np.cumsum(array_2d, axis=1)\n",
        "print(\"\\nCumulative sum along rows:\\n\", cumulative_sum_rows)\n",
        "\n",
        "# Cumulative sum along columns (axis=0)\n",
        "cumulative_sum_cols = np.cumsum(array_2d, axis=0)\n",
        "print(\"\\nCumulative sum along columns:\\n\", cumulative_sum_cols)"
      ],
      "metadata": {
        "id": "8655q3Ksezag",
        "colab": {
          "base_uri": "https://localhost:8080/"
        },
        "outputId": "8064aa56-5d94-4193-afe3-3ab021eab8c9"
      },
      "execution_count": 125,
      "outputs": [
        {
          "output_type": "stream",
          "name": "stdout",
          "text": [
            "Original array:\n",
            " [[20 10  5 20]\n",
            " [ 9 20 10 13]\n",
            " [15 16  2  8]\n",
            " [ 3 15 14 13]]\n",
            "\n",
            "Cumulative sum along rows:\n",
            " [[20 30 35 55]\n",
            " [ 9 29 39 52]\n",
            " [15 31 33 41]\n",
            " [ 3 18 32 45]]\n",
            "\n",
            "Cumulative sum along columns:\n",
            " [[20 10  5 20]\n",
            " [29 30 15 33]\n",
            " [44 46 17 41]\n",
            " [47 61 31 54]]\n"
          ]
        }
      ]
    },
    {
      "cell_type": "code",
      "source": [
        "# Step 3: Create a 1D NumPy array with 10 random integers between 1 and 50\n",
        "arr_random = np.random.randint(1, 51, size=10)\n",
        "\n",
        "# Compute minimum, maximum, and sum\n",
        "min_value = np.min(arr_random)\n",
        "max_value = np.max(arr_random)\n",
        "sum_value = np.sum(arr_random)\n",
        "\n",
        "# Print the results\n",
        "print(\"\\nOriginal random 1D array:\", arr_random)\n",
        "print(\"Minimum value:\", min_value)\n",
        "print(\"Maximum value:\", max_value)\n",
        "print(\"Sum:\", sum_value)"
      ],
      "metadata": {
        "id": "-s7HlGvTgGni",
        "colab": {
          "base_uri": "https://localhost:8080/"
        },
        "outputId": "fd56f111-600a-4775-df8a-b79b1aadc3e0"
      },
      "execution_count": 126,
      "outputs": [
        {
          "output_type": "stream",
          "name": "stdout",
          "text": [
            "\n",
            "Original random 1D array: [ 4 15 30 42 13 12 40  2 12 37]\n",
            "Minimum value: 2\n",
            "Maximum value: 42\n",
            "Sum: 207\n"
          ]
        }
      ]
    },
    {
      "cell_type": "markdown",
      "source": [
        "\n",
        "## Exercise 16: Working with Dates and Times\n",
        "\n",
        "  * Create an array of 10 dates starting from today with a daily frequency and print the array.\n",
        "\n",
        "  * Create an array of 5 dates starting from January 1, 2022 with a monthly frequency and print the array.\n",
        "\n",
        "  * Create a 1D array with 10 random timestamps in the year 2023. Convert the timestamps to NumPy datetime64 objects and print the result."
      ],
      "metadata": {
        "id": "INKWxRothUGz"
      }
    },
    {
      "cell_type": "code",
      "source": [
        "# crete an array of 10 dates starting from today with daily frequency\n",
        "today = np.datetime64('today')\n",
        "daily_dates = np.arange(today, today + np.timedelta64(10, 'D'), dtype='datetime64[D]')\n",
        "print(\"Daily dates starting from today:\\n\", daily_dates)"
      ],
      "metadata": {
        "colab": {
          "base_uri": "https://localhost:8080/"
        },
        "id": "0XkV5U_4hM3G",
        "outputId": "c31a4b33-f30e-4c80-f095-064c3db55768"
      },
      "execution_count": 127,
      "outputs": [
        {
          "output_type": "stream",
          "name": "stdout",
          "text": [
            "Daily dates starting from today:\n",
            " ['2024-10-06' '2024-10-07' '2024-10-08' '2024-10-09' '2024-10-10'\n",
            " '2024-10-11' '2024-10-12' '2024-10-13' '2024-10-14' '2024-10-15']\n"
          ]
        }
      ]
    },
    {
      "cell_type": "code",
      "source": [
        "\n",
        "# Create an array of 5 dates starting from January 1, 2022 with a monthly frequency\n",
        "dates_monthly = np.arange(np.datetime64('2022-01'), np.datetime64('2022-01') + 5, dtype='datetime64[M]')\n",
        "\n",
        "# Print the result\n",
        "print(\"Array of 5 dates starting from January 1, 2022 with monthly frequency:\\n\", dates_monthly)\n"
      ],
      "metadata": {
        "colab": {
          "base_uri": "https://localhost:8080/"
        },
        "id": "Q7a0oxiai-QZ",
        "outputId": "40e43074-d044-4912-aac0-b050a8db0442"
      },
      "execution_count": 128,
      "outputs": [
        {
          "output_type": "stream",
          "name": "stdout",
          "text": [
            "Array of 5 dates starting from January 1, 2022 with monthly frequency:\n",
            " ['2022-01' '2022-02' '2022-03' '2022-04' '2022-05']\n"
          ]
        }
      ]
    },
    {
      "cell_type": "code",
      "source": [
        "# Start from January 2022\n",
        "start_date = np.datetime64('2022-01')\n",
        "\n",
        "# Generate 5 months starting from January 2022 with monthly frequency\n",
        "dates_monthly = np.arange(start_date, start_date + 5, dtype='datetime64[M]')\n",
        "\n",
        "# Print the result\n",
        "print(\"Array of 5 dates starting from January 1, 2022 with monthly frequency:\\n\", dates_monthly)"
      ],
      "metadata": {
        "colab": {
          "base_uri": "https://localhost:8080/"
        },
        "id": "dMaiX79xkXQe",
        "outputId": "4daf47c9-fbf1-46f6-a126-688feeb02e94"
      },
      "execution_count": 129,
      "outputs": [
        {
          "output_type": "stream",
          "name": "stdout",
          "text": [
            "Array of 5 dates starting from January 1, 2022 with monthly frequency:\n",
            " ['2022-01' '2022-02' '2022-03' '2022-04' '2022-05']\n"
          ]
        }
      ]
    },
    {
      "cell_type": "code",
      "source": [
        "import datetime\n",
        "\n",
        "# Define the start and end of 2023 in seconds since the epoch\n",
        "start_2023 = np.datetime64('2023-01-01').astype('datetime64[s]').astype('int64')\n",
        "end_2023 = np.datetime64('2024-01-01').astype('datetime64[s]').astype('int64')\n",
        "\n",
        "# Generate a range of seconds within 2023\n",
        "seconds_2023 = np.arange(start_2023, end_2023)\n",
        "\n",
        "# Select 10 random timestamps from the range\n",
        "random_timestamps_seconds = np.random.choice(seconds_2023, size=10, replace=False)\n",
        "\n",
        "# Convert the random timestamps to NumPy datetime64 objects\n",
        "datetime64_timestamps = random_timestamps_seconds.astype('datetime64[s]')\n",
        "\n",
        "# Format the timestamps to a more readable format\n",
        "formatted_timestamps = [\n",
        "    datetime.datetime.fromtimestamp(ts).strftime('%Y-%m-%d %H:%M:%S')\n",
        "    for ts in random_timestamps_seconds\n",
        "]\n",
        "\n",
        "# Print the formatted timestamps\n",
        "print(\"Random timestamps in 2023:\\n\", formatted_timestamps)"
      ],
      "metadata": {
        "colab": {
          "base_uri": "https://localhost:8080/"
        },
        "id": "OGubjx9DkwD9",
        "outputId": "911973a7-5168-4aea-88d2-2bd153ac0e0f"
      },
      "execution_count": 130,
      "outputs": [
        {
          "output_type": "stream",
          "name": "stdout",
          "text": [
            "Random timestamps in 2023:\n",
            " ['2023-04-17 23:05:16', '2023-10-11 21:36:14', '2023-11-17 20:12:41', '2023-06-17 08:12:22', '2023-05-17 22:10:42', '2023-07-05 20:46:41', '2023-08-26 06:29:38', '2023-01-13 10:48:09', '2023-09-17 23:42:30', '2023-12-28 12:45:12']\n"
          ]
        }
      ]
    },
    {
      "cell_type": "markdown",
      "source": [
        "\n",
        "## Exercise 17: Creating Arrays with Custom Data Types\n",
        "\n",
        "  * Create a 1D NumPy array of length 5 with custom data type to store integers and their corresponding binary representation as strings. Print the array.\n",
        "\n",
        "  * Create a 2D NumPy array of shape (3, 3) with a custom data type to store complex numbers. Initialize the array with some complex numbers and print the array.\n",
        "\n",
        "  * Create a structured array to store information about books with fields: title (string), author (string), and pages (integer). Add information for three books and print the structured array.\n",
        "\n"
      ],
      "metadata": {
        "id": "zZkgT6pmuhgU"
      }
    },
    {
      "cell_type": "code",
      "source": [
        "# Define the custom data type\n",
        "Dtype = np.dtype([('integer', np.int32), ('binary', 'U10')])# U10 for strings up to 10 characters\n",
        "\n",
        "# Create the array\n",
        "custom_array = np.zeros(5, dtype=Dtype)\n",
        "\n",
        "# Fill the array with data\n",
        "for i in range(5):\n",
        "  integer_value= np.random.randint(0, 100)# Generate a random integer\n",
        "  binary_representation = np.binary_repr(integer_value, width=8)\n",
        "  custom_array[i] = (integer_value, binary_representation)\n",
        "\n",
        "# Print the array\n",
        "print(\"Array with custom data type:\\n\", custom_array)"
      ],
      "metadata": {
        "colab": {
          "base_uri": "https://localhost:8080/"
        },
        "id": "oWmeJBhirmVo",
        "outputId": "2473f412-6efb-49a4-e425-d8d660fe651b"
      },
      "execution_count": 132,
      "outputs": [
        {
          "output_type": "stream",
          "name": "stdout",
          "text": [
            "Array with custom data type:\n",
            " [(69, '01000101') (62, '00111110') (91, '01011011') (55, '00110111')\n",
            " (23, '00010111')]\n"
          ]
        }
      ]
    },
    {
      "cell_type": "code",
      "source": [
        "import numpy as np\n",
        "\n",
        "# Define a custom data type for complex numbers (NumPy has built-in complex type)\n",
        "dtype = np.dtype('complex')\n",
        "\n",
        "# Create a 2D array of shape (3, 3) with complex numbers\n",
        "arr_complex = np.array([[1+2j, 2+3j, 3+4j],\n",
        "                        [4+5j, 5+6j, 6+7j],\n",
        "                        [7+8j, 8+9j, 9+10j]], dtype=dtype)\n",
        "\n",
        "# Print the array\n",
        "print(\"2D array with complex numbers:\")\n",
        "print(arr_complex)\n"
      ],
      "metadata": {
        "colab": {
          "base_uri": "https://localhost:8080/"
        },
        "id": "PdD2Z3cUtG-L",
        "outputId": "ab5892d7-fd7a-4428-f7a0-8d64481cc4be"
      },
      "execution_count": 134,
      "outputs": [
        {
          "output_type": "stream",
          "name": "stdout",
          "text": [
            "2D array with complex numbers:\n",
            "[[1. +2.j 2. +3.j 3. +4.j]\n",
            " [4. +5.j 5. +6.j 6. +7.j]\n",
            " [7. +8.j 8. +9.j 9.+10.j]]\n"
          ]
        }
      ]
    },
    {
      "cell_type": "code",
      "source": [
        "# Define the data type for the structured array\n",
        "book_dtype = np.dtype([('title', 'U50'), ('author', 'U50'), ('pages', np.int32)])\n",
        "\n",
        "# Create the structured array\n",
        "books = np.zeros(3, dtype=book_dtype)\n",
        "\n",
        "# Create the structured array\n",
        "books = np.array([('Book 1', 'Author A', 200),\n",
        "                  ('Book 2', 'Author B', 300),\n",
        "                  ('Book 3', 'Author C', 400)], dtype=book_dtype)\n",
        "\n",
        "# Print the structured array\n",
        "print(\"Structured array with book information:\")\n",
        "print(books)"
      ],
      "metadata": {
        "colab": {
          "base_uri": "https://localhost:8080/"
        },
        "id": "6hZQ68kGL433",
        "outputId": "903e614d-48f6-4b3d-ef05-7fd2e8ead139"
      },
      "execution_count": 135,
      "outputs": [
        {
          "output_type": "stream",
          "name": "stdout",
          "text": [
            "Structured array with book information:\n",
            "[('Book 1', 'Author A', 200) ('Book 2', 'Author B', 300)\n",
            " ('Book 3', 'Author C', 400)]\n"
          ]
        }
      ]
    },
    {
      "cell_type": "code",
      "source": [],
      "metadata": {
        "id": "ZF42An8hNpsE"
      },
      "execution_count": null,
      "outputs": []
    }
  ]
}