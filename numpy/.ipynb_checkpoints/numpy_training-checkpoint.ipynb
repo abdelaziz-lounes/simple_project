{
  "nbformat": 4,
  "nbformat_minor": 0,
  "metadata": {
    "colab": {
      "provenance": []
    },
    "kernelspec": {
      "name": "python3",
      "display_name": "Python 3"
    },
    "language_info": {
      "name": "python"
    }
  },
  "cells": [
    {
      "cell_type": "code",
      "execution_count": 2,
      "metadata": {
        "colab": {
          "base_uri": "https://localhost:8080/",
          "height": 55
        },
        "id": "2wpVS7Xs07_w",
        "outputId": "bc1e2ef7-1774-477f-d336-d15dee147f4a"
      },
      "outputs": [
        {
          "output_type": "execute_result",
          "data": {
            "text/plain": [
              "'1.26.4'"
            ],
            "application/vnd.google.colaboratory.intrinsic+json": {
              "type": "string"
            }
          },
          "metadata": {},
          "execution_count": 2
        }
      ],
      "source": [
        "import numpy as np\n",
        "\n",
        "#check version\n",
        "np.__version__\n"
      ]
    },
    {
      "cell_type": "code",
      "source": [
        "# a vector: the argument to the array function is a Python list\n",
        "# more generally, 1D array\n",
        "lst = [1, 2, 3,4,0]\n",
        "v = np.array(lst, dtype=np.int32)\n",
        "v"
      ],
      "metadata": {
        "colab": {
          "base_uri": "https://localhost:8080/"
        },
        "id": "VyGsNwe01jBZ",
        "outputId": "9377ab83-5d7b-4ac0-957e-d6599503c3be"
      },
      "execution_count": 3,
      "outputs": [
        {
          "output_type": "execute_result",
          "data": {
            "text/plain": [
              "array([1, 2, 3, 4, 0], dtype=int32)"
            ]
          },
          "metadata": {},
          "execution_count": 3
        }
      ]
    },
    {
      "cell_type": "code",
      "source": [
        "np.array([1,2,3,4], dtype=np.int32)"
      ],
      "metadata": {
        "colab": {
          "base_uri": "https://localhost:8080/"
        },
        "id": "ok0aBh6E2PL2",
        "outputId": "68f89e74-bf18-4208-8f46-f033900b6fb3"
      },
      "execution_count": 4,
      "outputs": [
        {
          "output_type": "execute_result",
          "data": {
            "text/plain": [
              "array([1, 2, 3, 4], dtype=int32)"
            ]
          },
          "metadata": {},
          "execution_count": 4
        }
      ]
    },
    {
      "cell_type": "code",
      "source": [
        "\n",
        "# a matrix: the argument to the array function is a nested Python list (can also be a tuple of tuples)\n",
        "# more generally, a 2D array\n",
        "list_of_lists = [[1,2],[3,4]]\n",
        "M = np.array(list_of_lists)\n",
        "M"
      ],
      "metadata": {
        "colab": {
          "base_uri": "https://localhost:8080/"
        },
        "id": "l-P3ws7s2uW5",
        "outputId": "eb9658fd-9ae2-4a86-b346-3da711095d7e"
      },
      "execution_count": 5,
      "outputs": [
        {
          "output_type": "execute_result",
          "data": {
            "text/plain": [
              "array([[1, 2],\n",
              "       [3, 4]])"
            ]
          },
          "metadata": {},
          "execution_count": 5
        }
      ]
    },
    {
      "cell_type": "code",
      "source": [
        "# a row vector\n",
        "\n",
        "row_vec = v[np.newaxis,:] # v[None,:]\n",
        "row_vec"
      ],
      "metadata": {
        "colab": {
          "base_uri": "https://localhost:8080/"
        },
        "id": "bNeQZRgE3ufz",
        "outputId": "f6ce3756-6a85-4982-f353-7771f3deef71"
      },
      "execution_count": 6,
      "outputs": [
        {
          "output_type": "execute_result",
          "data": {
            "text/plain": [
              "array([[1, 2, 3, 4, 0]], dtype=int32)"
            ]
          },
          "metadata": {},
          "execution_count": 6
        }
      ]
    },
    {
      "cell_type": "code",
      "source": [
        "np.array([[1,2,3,4]], dtype=np.int32)"
      ],
      "metadata": {
        "colab": {
          "base_uri": "https://localhost:8080/"
        },
        "id": "iHLh2qnA4AnV",
        "outputId": "b484737e-2fa1-4e22-b3fb-b9a092cb311c"
      },
      "execution_count": 7,
      "outputs": [
        {
          "output_type": "execute_result",
          "data": {
            "text/plain": [
              "array([[1, 2, 3, 4]], dtype=int32)"
            ]
          },
          "metadata": {},
          "execution_count": 7
        }
      ]
    },
    {
      "cell_type": "code",
      "source": [
        "# a column vector\n",
        "col_vec = v[:, np.newaxis] #v[:, None]\n",
        "col_vec"
      ],
      "metadata": {
        "colab": {
          "base_uri": "https://localhost:8080/"
        },
        "id": "Ki_8dBRp4fRw",
        "outputId": "b3e2406f-b892-4af7-c11d-5c215d00f2de"
      },
      "execution_count": 8,
      "outputs": [
        {
          "output_type": "execute_result",
          "data": {
            "text/plain": [
              "array([[1],\n",
              "       [2],\n",
              "       [3],\n",
              "       [4],\n",
              "       [0]], dtype=int32)"
            ]
          },
          "metadata": {},
          "execution_count": 8
        }
      ]
    },
    {
      "cell_type": "code",
      "source": [
        "np.array([[1],[2],[3],[4]], dtype=np.int32)"
      ],
      "metadata": {
        "colab": {
          "base_uri": "https://localhost:8080/"
        },
        "id": "fDnfrjw44vul",
        "outputId": "ebb3626a-3a2b-4d83-ea97-50304c924b37"
      },
      "execution_count": 9,
      "outputs": [
        {
          "output_type": "execute_result",
          "data": {
            "text/plain": [
              "array([[1],\n",
              "       [2],\n",
              "       [3],\n",
              "       [4]], dtype=int32)"
            ]
          },
          "metadata": {},
          "execution_count": 9
        }
      ]
    },
    {
      "cell_type": "code",
      "source": [
        "# when using linspace, both end points are included\n",
        "'''return evenly spaced numbers over a specified interval.\n",
        "\n",
        "    Returns num evenly spaced samples, calculated over the interval [start, stop].\n",
        "\n",
        "    The endpoint of the interval can optionally be excluded.'''\n",
        "np.linspace(0, 10)\n"
      ],
      "metadata": {
        "colab": {
          "base_uri": "https://localhost:8080/"
        },
        "id": "huE45Iaa5Amo",
        "outputId": "b6a17403-bd0a-4c33-c762-e2790d2df841"
      },
      "execution_count": 10,
      "outputs": [
        {
          "output_type": "execute_result",
          "data": {
            "text/plain": [
              "array([ 0.        ,  0.20408163,  0.40816327,  0.6122449 ,  0.81632653,\n",
              "        1.02040816,  1.2244898 ,  1.42857143,  1.63265306,  1.83673469,\n",
              "        2.04081633,  2.24489796,  2.44897959,  2.65306122,  2.85714286,\n",
              "        3.06122449,  3.26530612,  3.46938776,  3.67346939,  3.87755102,\n",
              "        4.08163265,  4.28571429,  4.48979592,  4.69387755,  4.89795918,\n",
              "        5.10204082,  5.30612245,  5.51020408,  5.71428571,  5.91836735,\n",
              "        6.12244898,  6.32653061,  6.53061224,  6.73469388,  6.93877551,\n",
              "        7.14285714,  7.34693878,  7.55102041,  7.75510204,  7.95918367,\n",
              "        8.16326531,  8.36734694,  8.57142857,  8.7755102 ,  8.97959184,\n",
              "        9.18367347,  9.3877551 ,  9.59183673,  9.79591837, 10.        ])"
            ]
          },
          "metadata": {},
          "execution_count": 10
        }
      ]
    },
    {
      "cell_type": "code",
      "source": [
        "''' np.logspace(start, stop, num=50, endpoint=True, base=10.0(algorithm), dtype=None, axis=0)'''\n",
        "np.logspace(0, 5, 10, base=np.e)\n"
      ],
      "metadata": {
        "colab": {
          "base_uri": "https://localhost:8080/"
        },
        "id": "yNqgDL1f5vYG",
        "outputId": "fdf77759-cbdf-44a1-db16-c857cbe74e30"
      },
      "execution_count": 11,
      "outputs": [
        {
          "output_type": "execute_result",
          "data": {
            "text/plain": [
              "array([  1.        ,   1.742909  ,   3.03773178,   5.29449005,\n",
              "         9.22781435,  16.08324067,  28.03162489,  48.85657127,\n",
              "        85.15255772, 148.4131591 ])"
            ]
          },
          "metadata": {},
          "execution_count": 11
        }
      ]
    },
    {
      "cell_type": "code",
      "source": [
        "# a 3D array\n",
        "# a random array where the values come from a standard normal distribution\n",
        "'''random.randn(d0, d1, ..., dn)'''\n",
        "gaussian = np.random.randn(2*3*4)\n",
        "\n",
        "#resahpe the array to desitred shape\n",
        "# only the number of dimensions can be altered\n",
        "#the number of elements cannot be changed during a reshape operation\n",
        "\n",
        "gaussian = gaussian.reshape((2,3,4))\n",
        "gaussian"
      ],
      "metadata": {
        "colab": {
          "base_uri": "https://localhost:8080/"
        },
        "id": "PCsgf53w7NJ7",
        "outputId": "f144521c-0d13-4bba-9d54-85215154925a"
      },
      "execution_count": 12,
      "outputs": [
        {
          "output_type": "execute_result",
          "data": {
            "text/plain": [
              "array([[[ 0.60700534, -0.46956369,  0.06122173,  0.08046183],\n",
              "        [ 0.07116228, -1.65985526,  1.49304121, -0.77280708],\n",
              "        [ 1.37046198,  0.4217975 , -0.6214765 ,  1.67170914]],\n",
              "\n",
              "       [[ 1.1011939 , -0.89081328,  0.35066578,  1.50909535],\n",
              "        [-1.76118515,  1.04347227, -0.08070538,  1.52922767],\n",
              "        [-0.02550579,  0.56877828,  0.37919747, -0.47224001]]])"
            ]
          },
          "metadata": {},
          "execution_count": 12
        }
      ]
    },
    {
      "cell_type": "code",
      "source": [
        "# an array full of zero values\n",
        "# one can also specify a desired datatype\n",
        "\n",
        "'''np.zeros(shape, dtype=float, order='C')'''\n",
        "zero_arr = np.zeros((3,4))\n",
        "zero_arr"
      ],
      "metadata": {
        "colab": {
          "base_uri": "https://localhost:8080/"
        },
        "id": "M7CrYyda8khH",
        "outputId": "35e307ac-20c8-49f5-fd9c-e39684114e8a"
      },
      "execution_count": 13,
      "outputs": [
        {
          "output_type": "execute_result",
          "data": {
            "text/plain": [
              "array([[0., 0., 0., 0.],\n",
              "       [0., 0., 0., 0.],\n",
              "       [0., 0., 0., 0.]])"
            ]
          },
          "metadata": {},
          "execution_count": 13
        }
      ]
    },
    {
      "cell_type": "code",
      "source": [
        "# an array full of ones\n",
        "# one can also specify datatype\n",
        "\n",
        "ones_arr = np.ones((3,4), dtype=np.float32)\n",
        "ones_arr"
      ],
      "metadata": {
        "colab": {
          "base_uri": "https://localhost:8080/"
        },
        "id": "YG8BmUex9sjv",
        "outputId": "e2f84c45-0470-4810-f6f6-44468b8309e3"
      },
      "execution_count": 14,
      "outputs": [
        {
          "output_type": "execute_result",
          "data": {
            "text/plain": [
              "array([[1., 1., 1., 1.],\n",
              "       [1., 1., 1., 1.],\n",
              "       [1., 1., 1., 1.]], dtype=float32)"
            ]
          },
          "metadata": {},
          "execution_count": 14
        }
      ]
    },
    {
      "cell_type": "code",
      "source": [
        "# a 3*3 identity (matrix) array\n",
        "# An identity matrix is a square matrix where all the diagonal elements are 1, and all other elements are 0.\n",
        "'''np.eye(N, M=None, k=0, dtype=<class 'float'>, order='C')'''\n",
        "iden = np.identity(3, dtype= np.float128)\n",
        "iden"
      ],
      "metadata": {
        "colab": {
          "base_uri": "https://localhost:8080/"
        },
        "id": "HTlnbekK-HPf",
        "outputId": "90883ba3-f1b3-4873-8659-0075bd139e8d"
      },
      "execution_count": 15,
      "outputs": [
        {
          "output_type": "execute_result",
          "data": {
            "text/plain": [
              "array([[1., 0., 0.],\n",
              "       [0., 1., 0.],\n",
              "       [0., 0., 1.]], dtype=float128)"
            ]
          },
          "metadata": {},
          "execution_count": 15
        }
      ]
    },
    {
      "cell_type": "code",
      "source": [
        "# a diagonal array\n",
        "\n",
        "diag = np.diag([1,2,3,4.0])\n",
        "diag"
      ],
      "metadata": {
        "colab": {
          "base_uri": "https://localhost:8080/"
        },
        "id": "8aaFPBp9_cZ5",
        "outputId": "81234ae6-9ecf-4012-9ded-961152358ea1"
      },
      "execution_count": 16,
      "outputs": [
        {
          "output_type": "execute_result",
          "data": {
            "text/plain": [
              "array([[1., 0., 0., 0.],\n",
              "       [0., 2., 0., 0.],\n",
              "       [0., 0., 3., 0.],\n",
              "       [0., 0., 0., 4.]])"
            ]
          },
          "metadata": {},
          "execution_count": 16
        }
      ]
    },
    {
      "cell_type": "code",
      "source": [
        "# a 3D random array where the values come from a standard Normal distribution\n",
        "#2*3*4 is evaluated as 24, meaning np.random.randn(24) generates 24 random values.\n",
        "gaussian = np.random.randn(2*3*4).reshape((2,3,4))\n",
        "print(gaussian)"
      ],
      "metadata": {
        "colab": {
          "base_uri": "https://localhost:8080/"
        },
        "id": "a5b_pwVf_nek",
        "outputId": "00ea68ea-ef40-476d-add3-d3f6cb9642e1"
      },
      "execution_count": 17,
      "outputs": [
        {
          "output_type": "stream",
          "name": "stdout",
          "text": [
            "[[[-0.03069842 -0.62563328  0.90904903 -1.17611322]\n",
            "  [ 1.68200401  1.39426305  0.05436656 -0.92115295]\n",
            "  [ 0.09558816  0.41754814 -0.44740525  0.61551034]]\n",
            "\n",
            " [[ 0.9049773   0.20969021 -0.30673036 -1.07658358]\n",
            "  [-1.00277181  0.6113687   1.20670898 -0.40672446]\n",
            "  [ 1.30269615  0.29657133  1.06486818  0.36014028]]]\n"
          ]
        }
      ]
    },
    {
      "cell_type": "code",
      "source": [
        "# get number fo dimensions fo the array\n",
        "gaussian.ndim\n",
        "print(\"total dimensions of the array is : \", gaussian.ndim)\n",
        "\n",
        "#get the shape of the array\n",
        "gaussian.shape\n",
        "print(\"shape of the array is : \", gaussian.shape)\n",
        "\n",
        "#get the total number of elements in array\n",
        "gaussian.size\n",
        "print(\"total number of items is: \", gaussian.size)\n",
        "\n",
        "# get memory consumed by each item in the array\n",
        "gaussian.itemsize\n",
        "print(\"memory consumed by each item is : \", gaussian.itemsize)\n",
        "\n",
        "#get memory consumed by the array\n",
        "gaussian.nbytes\n",
        "print(\"memory consumed by the whole array is : \", gaussian.nbytes)"
      ],
      "metadata": {
        "colab": {
          "base_uri": "https://localhost:8080/"
        },
        "id": "LRdeWpaI_8eu",
        "outputId": "c5888d67-ed08-4de4-bc73-3d2838a7b274"
      },
      "execution_count": 18,
      "outputs": [
        {
          "output_type": "stream",
          "name": "stdout",
          "text": [
            "total dimensions of the array is :  3\n",
            "shape of the array is :  (2, 3, 4)\n",
            "total number of items is:  24\n",
            "memory consumed by each item is :  8\n",
            "memory consumed by the whole array is :  192\n"
          ]
        }
      ]
    },
    {
      "cell_type": "markdown",
      "source": [
        "\n",
        "**Array Indexing**\n",
        "\n",
        "We can index elements in an array using square brackets and indices. For 1D arrays, indexing works the same as with Python list.\n"
      ],
      "metadata": {
        "id": "bKcXaKBEBsr9"
      }
    },
    {
      "cell_type": "code",
      "source": [
        "# 1D array of random integers\n",
        "# get 10 integers from 0 to 22\n",
        "\n",
        "num_samples = 10\n",
        "integers = np.random.randint(23, size=num_samples)\n",
        "integers"
      ],
      "metadata": {
        "colab": {
          "base_uri": "https://localhost:8080/"
        },
        "id": "7rjNQdpDBgAN",
        "outputId": "50de71fb-99a7-4413-9fcc-607c9ddc339f"
      },
      "execution_count": 19,
      "outputs": [
        {
          "output_type": "execute_result",
          "data": {
            "text/plain": [
              "array([17, 14, 14, 19,  6, 19,  1, 17,  0, 11])"
            ]
          },
          "metadata": {},
          "execution_count": 19
        }
      ]
    },
    {
      "cell_type": "code",
      "source": [
        "# indexing 1D array needs only one index\n",
        "# get 3rd element (remember: NumPy unlike MATLAB is 0 based indexing)\n",
        "integers[2]"
      ],
      "metadata": {
        "colab": {
          "base_uri": "https://localhost:8080/"
        },
        "id": "RLPCgDbNCXrP",
        "outputId": "5564e0cd-f08e-4f01-f422-53c45d96580e"
      },
      "execution_count": 20,
      "outputs": [
        {
          "output_type": "execute_result",
          "data": {
            "text/plain": [
              "14"
            ]
          },
          "metadata": {},
          "execution_count": 20
        }
      ]
    },
    {
      "cell_type": "code",
      "source": [
        "# The reshape(3, -1) function reshapes the 1D array into a 2D array with 3 rows. The -1 means that NumPy will automatically determine the correct number of columns\n",
        "#based on the total number of elements (45 in this case).\n",
        "twoD_arr= np.arange(1,46).reshape(3, -1)\n",
        "twoD_arr"
      ],
      "metadata": {
        "colab": {
          "base_uri": "https://localhost:8080/"
        },
        "id": "kE7fZeM2Cel_",
        "outputId": "a567500a-30b9-43a3-c2f1-732c2d5fd607"
      },
      "execution_count": 21,
      "outputs": [
        {
          "output_type": "execute_result",
          "data": {
            "text/plain": [
              "array([[ 1,  2,  3,  4,  5,  6,  7,  8,  9, 10, 11, 12, 13, 14, 15],\n",
              "       [16, 17, 18, 19, 20, 21, 22, 23, 24, 25, 26, 27, 28, 29, 30],\n",
              "       [31, 32, 33, 34, 35, 36, 37, 38, 39, 40, 41, 42, 43, 44, 45]])"
            ]
          },
          "metadata": {},
          "execution_count": 21
        }
      ]
    },
    {
      "cell_type": "code",
      "source": [
        "# indexing 2D array needs only two indices.\n",
        "# then it returns a scalar value\n",
        "\n",
        "# value at last row and last column\n",
        "twoD_arr[-1,-1]"
      ],
      "metadata": {
        "colab": {
          "base_uri": "https://localhost:8080/"
        },
        "id": "D-BBSs5sDMNl",
        "outputId": "a7ec1662-c8d1-4e34-be41-7515976f5b33"
      },
      "execution_count": 22,
      "outputs": [
        {
          "output_type": "execute_result",
          "data": {
            "text/plain": [
              "45"
            ]
          },
          "metadata": {},
          "execution_count": 22
        }
      ]
    },
    {
      "cell_type": "code",
      "source": [
        "# howevthe  if we use only one (valid) index then it returns a 1D array\n",
        "\n",
        "# get all elments in the last row\n",
        "twoD_arr[-1]  # or twoD_arr[-1, ] or twoD_arr[-1, :]"
      ],
      "metadata": {
        "colab": {
          "base_uri": "https://localhost:8080/"
        },
        "id": "UOt7m_odDRxl",
        "outputId": "a48c5d02-1a76-4018-bcf2-9980f98ddb8c"
      },
      "execution_count": 23,
      "outputs": [
        {
          "output_type": "execute_result",
          "data": {
            "text/plain": [
              "array([31, 32, 33, 34, 35, 36, 37, 38, 39, 40, 41, 42, 43, 44, 45])"
            ]
          },
          "metadata": {},
          "execution_count": 23
        }
      ]
    },
    {
      "cell_type": "code",
      "source": [
        "# remember `gaussian` is a 3D array.\n",
        "gaussian"
      ],
      "metadata": {
        "colab": {
          "base_uri": "https://localhost:8080/"
        },
        "id": "rqM2eAu5DyV4",
        "outputId": "b259112b-fec5-4590-9a04-31d9845f65d7"
      },
      "execution_count": 24,
      "outputs": [
        {
          "output_type": "execute_result",
          "data": {
            "text/plain": [
              "array([[[-0.03069842, -0.62563328,  0.90904903, -1.17611322],\n",
              "        [ 1.68200401,  1.39426305,  0.05436656, -0.92115295],\n",
              "        [ 0.09558816,  0.41754814, -0.44740525,  0.61551034]],\n",
              "\n",
              "       [[ 0.9049773 ,  0.20969021, -0.30673036, -1.07658358],\n",
              "        [-1.00277181,  0.6113687 ,  1.20670898, -0.40672446],\n",
              "        [ 1.30269615,  0.29657133,  1.06486818,  0.36014028]]])"
            ]
          },
          "metadata": {},
          "execution_count": 24
        }
      ]
    },
    {
      "cell_type": "code",
      "source": [
        "# So, a 2D array is returned when using one index\n",
        "\n",
        "# return last slice\n",
        "gaussian[-1]"
      ],
      "metadata": {
        "colab": {
          "base_uri": "https://localhost:8080/"
        },
        "id": "MYK-HZckD3uj",
        "outputId": "c99ec4ad-a48d-41ad-cf2b-bbb124a55f84"
      },
      "execution_count": 25,
      "outputs": [
        {
          "output_type": "execute_result",
          "data": {
            "text/plain": [
              "array([[ 0.9049773 ,  0.20969021, -0.30673036, -1.07658358],\n",
              "       [-1.00277181,  0.6113687 ,  1.20670898, -0.40672446],\n",
              "       [ 1.30269615,  0.29657133,  1.06486818,  0.36014028]])"
            ]
          },
          "metadata": {},
          "execution_count": 25
        }
      ]
    },
    {
      "cell_type": "code",
      "source": [
        "# a 1D array is returned when using a pair of indices\n",
        "\n",
        "# return first row from last slice\n",
        "gaussian[-1,0]"
      ],
      "metadata": {
        "colab": {
          "base_uri": "https://localhost:8080/"
        },
        "id": "a14Q_yY4EHm1",
        "outputId": "d7fece90-48ac-44fb-9c9d-034c0e7714b7"
      },
      "execution_count": 26,
      "outputs": [
        {
          "output_type": "execute_result",
          "data": {
            "text/plain": [
              "array([ 0.9049773 ,  0.20969021, -0.30673036, -1.07658358])"
            ]
          },
          "metadata": {},
          "execution_count": 26
        }
      ]
    },
    {
      "cell_type": "code",
      "source": [
        "# return last row from last slice\n",
        "gaussian[-1,-1]\n"
      ],
      "metadata": {
        "colab": {
          "base_uri": "https://localhost:8080/"
        },
        "id": "H5CvfU_sERJL",
        "outputId": "b647c3f4-488e-4d2e-a129-6cac70e65fbd"
      },
      "execution_count": 27,
      "outputs": [
        {
          "output_type": "execute_result",
          "data": {
            "text/plain": [
              "array([1.30269615, 0.29657133, 1.06486818, 0.36014028])"
            ]
          },
          "metadata": {},
          "execution_count": 27
        }
      ]
    },
    {
      "cell_type": "code",
      "source": [
        "# return last element of row of last slice\n",
        "idx=(-1,-1,-1)\n",
        "gaussian[idx]\n"
      ],
      "metadata": {
        "colab": {
          "base_uri": "https://localhost:8080/"
        },
        "id": "mIzQWsUFEjr0",
        "outputId": "932a2db8-f47a-492e-921c-675814227b5e"
      },
      "execution_count": 28,
      "outputs": [
        {
          "output_type": "execute_result",
          "data": {
            "text/plain": [
              "0.3601402754569442"
            ]
          },
          "metadata": {},
          "execution_count": 28
        }
      ]
    },
    {
      "cell_type": "markdown",
      "source": [
        "\n",
        "\n",
        "We can also assign new values to elements in an array using indexing:\n"
      ],
      "metadata": {
        "id": "tZUit3N0E4Eu"
      }
    },
    {
      "cell_type": "markdown",
      "source": [],
      "metadata": {
        "id": "eE3-q31nBnar"
      }
    },
    {
      "cell_type": "code",
      "source": [
        "# updating the array by assigning values\n",
        "\n",
        "\n",
        "# updating the array by assigning values\n",
        "# truncation will happen if there's a datatype mismatch\n",
        "# pringt (integers)\n",
        "\n",
        "integers[2]=99.21\n",
        "integers\n"
      ],
      "metadata": {
        "colab": {
          "base_uri": "https://localhost:8080/"
        },
        "id": "g9ak0ejxE5Xz",
        "outputId": "cc970e32-019b-4fd3-9603-cc174edd3f22"
      },
      "execution_count": 29,
      "outputs": [
        {
          "output_type": "execute_result",
          "data": {
            "text/plain": [
              "array([17, 14, 99, 19,  6, 19,  1, 17,  0, 11])"
            ]
          },
          "metadata": {},
          "execution_count": 29
        }
      ]
    },
    {
      "cell_type": "markdown",
      "source": [
        "**Index slicing**\n",
        "\n",
        "Index slicing is the technical name for the syntax M[lower:upper:step] to extract part of an array. Negative indices counts from the end of the array (positive index from the begining):\n"
      ],
      "metadata": {
        "id": "gIjD3sqPFcUP"
      }
    },
    {
      "cell_type": "code",
      "source": [
        "integers"
      ],
      "metadata": {
        "colab": {
          "base_uri": "https://localhost:8080/"
        },
        "id": "i6gjSIM9FMRz",
        "outputId": "ce292a52-3039-4313-bdb8-e2da449178f2"
      },
      "execution_count": 30,
      "outputs": [
        {
          "output_type": "execute_result",
          "data": {
            "text/plain": [
              "array([17, 14, 99, 19,  6, 19,  1, 17,  0, 11])"
            ]
          },
          "metadata": {},
          "execution_count": 30
        }
      ]
    },
    {
      "cell_type": "code",
      "source": [
        "# slice a portion of the array\n",
        "# similar to Python iterator slicing\n",
        "# x[start:stop:step]\n",
        "\n",
        "# get last 5 elements\n",
        "integers[-5:]\n",
        "\n",
        "#if `stop` is ommitted then is'll be sliced till the end of the array\n",
        "# by default, step is 1"
      ],
      "metadata": {
        "colab": {
          "base_uri": "https://localhost:8080/"
        },
        "id": "GMksxerfFl1d",
        "outputId": "b5a652e3-8c33-4bf1-d6c0-106b876137a2"
      },
      "execution_count": 31,
      "outputs": [
        {
          "output_type": "execute_result",
          "data": {
            "text/plain": [
              "array([19,  1, 17,  0, 11])"
            ]
          },
          "metadata": {},
          "execution_count": 31
        }
      ]
    },
    {
      "cell_type": "code",
      "source": [
        "\n",
        "\n",
        "# get alternative elements (every other element) from the array\n",
        "# equivalently step = 2\n",
        "integers[::2]"
      ],
      "metadata": {
        "colab": {
          "base_uri": "https://localhost:8080/"
        },
        "id": "O4ixlP4AGK5V",
        "outputId": "b9e65183-f928-44bc-9f8d-0dfbd97b0ae3"
      },
      "execution_count": 32,
      "outputs": [
        {
          "output_type": "execute_result",
          "data": {
            "text/plain": [
              "array([17, 99,  6,  1,  0])"
            ]
          },
          "metadata": {},
          "execution_count": 32
        }
      ]
    },
    {
      "cell_type": "code",
      "source": [
        "# reversing the array\n",
        "integers[::-1]"
      ],
      "metadata": {
        "colab": {
          "base_uri": "https://localhost:8080/"
        },
        "id": "YbwJJ-hbGdSx",
        "outputId": "99686268-f9dd-4fb0-fa27-2dae2b765b2d"
      },
      "execution_count": 33,
      "outputs": [
        {
          "output_type": "execute_result",
          "data": {
            "text/plain": [
              "array([11,  0, 17,  1, 19,  6, 19, 99, 14, 17])"
            ]
          },
          "metadata": {},
          "execution_count": 33
        }
      ]
    },
    {
      "cell_type": "code",
      "source": [
        "# forward traveersal of array\n",
        "integers[3::]"
      ],
      "metadata": {
        "colab": {
          "base_uri": "https://localhost:8080/"
        },
        "id": "l3yNzElZGouM",
        "outputId": "3cce993a-1b50-4090-93d8-73827eb11da0"
      },
      "execution_count": 34,
      "outputs": [
        {
          "output_type": "execute_result",
          "data": {
            "text/plain": [
              "array([19,  6, 19,  1, 17,  0, 11])"
            ]
          },
          "metadata": {},
          "execution_count": 34
        }
      ]
    },
    {
      "cell_type": "code",
      "source": [
        "# reverse travesal of array (starting from 4th element)\n",
        "integers[3::-1]"
      ],
      "metadata": {
        "colab": {
          "base_uri": "https://localhost:8080/"
        },
        "id": "Qlc8uVlSG62t",
        "outputId": "700c482f-6ab0-4d75-d19e-3f7533f40a5a"
      },
      "execution_count": 35,
      "outputs": [
        {
          "output_type": "execute_result",
          "data": {
            "text/plain": [
              "array([19, 99, 14, 17])"
            ]
          },
          "metadata": {},
          "execution_count": 35
        }
      ]
    },
    {
      "cell_type": "markdown",
      "source": [
        "Array slices are mutable: if they are assigned a new value the original array from which the slice was extracted is modified:"
      ],
      "metadata": {
        "id": "8Q7bWzSrHhwh"
      }
    },
    {
      "cell_type": "code",
      "source": [
        "integers"
      ],
      "metadata": {
        "colab": {
          "base_uri": "https://localhost:8080/"
        },
        "id": "iaJDUJUIHUJK",
        "outputId": "c9d1e179-bea6-4115-e13a-fcd9407bca4f"
      },
      "execution_count": 36,
      "outputs": [
        {
          "output_type": "execute_result",
          "data": {
            "text/plain": [
              "array([17, 14, 99, 19,  6, 19,  1, 17,  0, 11])"
            ]
          },
          "metadata": {},
          "execution_count": 36
        }
      ]
    },
    {
      "cell_type": "code",
      "source": [
        "# assign new values to the last two elements\n",
        "integers[-2:]=[-2,-46]\n",
        "integers"
      ],
      "metadata": {
        "colab": {
          "base_uri": "https://localhost:8080/"
        },
        "id": "xUcbCs-CHcse",
        "outputId": "c1e36811-4922-4eb8-ddde-8cab5771e13a"
      },
      "execution_count": 37,
      "outputs": [
        {
          "output_type": "execute_result",
          "data": {
            "text/plain": [
              "array([ 17,  14,  99,  19,   6,  19,   1,  17,  -2, -46])"
            ]
          },
          "metadata": {},
          "execution_count": 37
        }
      ]
    },
    {
      "cell_type": "markdown",
      "source": [
        "**nD arrays**"
      ],
      "metadata": {
        "id": "Ig5TiPCfH3IN"
      }
    },
    {
      "cell_type": "code",
      "source": [
        "# a 2D array\n",
        "twenty = (np.arange(4*5)).reshape(4,5)\n",
        "twenty"
      ],
      "metadata": {
        "colab": {
          "base_uri": "https://localhost:8080/"
        },
        "id": "Eajsu6vxHxT3",
        "outputId": "d52bfd56-97e0-4791-b251-83a536014617"
      },
      "execution_count": 38,
      "outputs": [
        {
          "output_type": "execute_result",
          "data": {
            "text/plain": [
              "array([[ 0,  1,  2,  3,  4],\n",
              "       [ 5,  6,  7,  8,  9],\n",
              "       [10, 11, 12, 13, 14],\n",
              "       [15, 16, 17, 18, 19]])"
            ]
          },
          "metadata": {},
          "execution_count": 38
        }
      ]
    },
    {
      "cell_type": "code",
      "source": [
        "# slice first 2 rows and 3 columns\n",
        "twenty[:2, :3]"
      ],
      "metadata": {
        "colab": {
          "base_uri": "https://localhost:8080/"
        },
        "id": "stJRqIbFIFaS",
        "outputId": "2e8df2d0-b417-481d-f00d-e9ea70a63a55"
      },
      "execution_count": 39,
      "outputs": [
        {
          "output_type": "execute_result",
          "data": {
            "text/plain": [
              "array([[0, 1, 2],\n",
              "       [5, 6, 7]])"
            ]
          },
          "metadata": {},
          "execution_count": 39
        }
      ]
    },
    {
      "cell_type": "code",
      "source": [
        "# slice and get only the corner elements\n",
        "# three \"jumps\" along dimension 0\n",
        "# four \"jumps\" along dimension 1\n",
        "twenty[::3, ::4]"
      ],
      "metadata": {
        "colab": {
          "base_uri": "https://localhost:8080/"
        },
        "id": "ydJxMVdeIQ_4",
        "outputId": "3a3b0414-cf04-4617-ac7c-2e8195039687"
      },
      "execution_count": 40,
      "outputs": [
        {
          "output_type": "execute_result",
          "data": {
            "text/plain": [
              "array([[ 0,  4],\n",
              "       [15, 19]])"
            ]
          },
          "metadata": {},
          "execution_count": 40
        }
      ]
    },
    {
      "cell_type": "code",
      "source": [
        "# reversing the order of elements along columns (i.e. along dimension 0)\n",
        "twenty[::-1, ...]"
      ],
      "metadata": {
        "colab": {
          "base_uri": "https://localhost:8080/"
        },
        "id": "2pNHajVoI3_C",
        "outputId": "1497e9c6-f986-40f1-d59d-92918d799ff6"
      },
      "execution_count": 41,
      "outputs": [
        {
          "output_type": "execute_result",
          "data": {
            "text/plain": [
              "array([[15, 16, 17, 18, 19],\n",
              "       [10, 11, 12, 13, 14],\n",
              "       [ 5,  6,  7,  8,  9],\n",
              "       [ 0,  1,  2,  3,  4]])"
            ]
          },
          "metadata": {},
          "execution_count": 41
        }
      ]
    },
    {
      "cell_type": "code",
      "source": [
        "# reversing the order of elements along rows (i.e. along dimension 1)\n",
        "twenty[..., ::-1]"
      ],
      "metadata": {
        "colab": {
          "base_uri": "https://localhost:8080/"
        },
        "id": "wUW2-PSzLExA",
        "outputId": "f5ab0e0e-bb0a-4980-8dc6-694188b66ef0"
      },
      "execution_count": 42,
      "outputs": [
        {
          "output_type": "execute_result",
          "data": {
            "text/plain": [
              "array([[ 4,  3,  2,  1,  0],\n",
              "       [ 9,  8,  7,  6,  5],\n",
              "       [14, 13, 12, 11, 10],\n",
              "       [19, 18, 17, 16, 15]])"
            ]
          },
          "metadata": {},
          "execution_count": 42
        }
      ]
    },
    {
      "cell_type": "code",
      "source": [
        "\n",
        "\n",
        "# reversing the rows and columns (i.e. along both dimensions)\n",
        "twenty[::-1, ::-1]\n",
        "\n"
      ],
      "metadata": {
        "colab": {
          "base_uri": "https://localhost:8080/"
        },
        "id": "AJ9tyDv7LwLH",
        "outputId": "e68d2fba-4c7e-41a9-c510-9dbe459695d0"
      },
      "execution_count": 43,
      "outputs": [
        {
          "output_type": "execute_result",
          "data": {
            "text/plain": [
              "array([[19, 18, 17, 16, 15],\n",
              "       [14, 13, 12, 11, 10],\n",
              "       [ 9,  8,  7,  6,  5],\n",
              "       [ 4,  3,  2,  1,  0]])"
            ]
          },
          "metadata": {},
          "execution_count": 43
        }
      ]
    },
    {
      "cell_type": "code",
      "source": [
        "# or more intuitively\n",
        "np.flip(twenty, axis=(0,1))\n",
        "\n",
        "\n",
        "# or equivalently\n",
        "np.flipud(np.fliplr(twenty))\n",
        "np.fliplr(np.flipud(twenty))"
      ],
      "metadata": {
        "colab": {
          "base_uri": "https://localhost:8080/"
        },
        "id": "HHQwSvCsL0bv",
        "outputId": "251390de-b443-43af-ba1a-ff1433b8d247"
      },
      "execution_count": 44,
      "outputs": [
        {
          "output_type": "execute_result",
          "data": {
            "text/plain": [
              "array([[19, 18, 17, 16, 15],\n",
              "       [14, 13, 12, 11, 10],\n",
              "       [ 9,  8,  7,  6,  5],\n",
              "       [ 4,  3,  2,  1,  0]])"
            ]
          },
          "metadata": {},
          "execution_count": 44
        }
      ]
    },
    {
      "cell_type": "markdown",
      "source": [
        "\n",
        "**Fancy indexing**\n",
        "\n",
        "Fancy indexing is the name for when an array or a list is used in-place of an index:\n"
      ],
      "metadata": {
        "id": "G4HWSuHdMkdS"
      }
    },
    {
      "cell_type": "code",
      "source": [
        "# a 2D array\n",
        "twenty"
      ],
      "metadata": {
        "colab": {
          "base_uri": "https://localhost:8080/"
        },
        "id": "Tey0GtQKMGkL",
        "outputId": "092f9120-eade-4440-e35b-14555e3be1df"
      },
      "execution_count": 45,
      "outputs": [
        {
          "output_type": "execute_result",
          "data": {
            "text/plain": [
              "array([[ 0,  1,  2,  3,  4],\n",
              "       [ 5,  6,  7,  8,  9],\n",
              "       [10, 11, 12, 13, 14],\n",
              "       [15, 16, 17, 18, 19]])"
            ]
          },
          "metadata": {},
          "execution_count": 45
        }
      ]
    },
    {
      "cell_type": "code",
      "source": [
        "# get 2nd, 3rd, and 4th rows\n",
        "row_indices = [1, 2, 3]\n",
        "twenty[row_indices]"
      ],
      "metadata": {
        "colab": {
          "base_uri": "https://localhost:8080/"
        },
        "id": "-kdJnH7BM3g8",
        "outputId": "7730b48c-e778-4ac0-e9fd-1a3985ef1e1a"
      },
      "execution_count": 46,
      "outputs": [
        {
          "output_type": "execute_result",
          "data": {
            "text/plain": [
              "array([[ 5,  6,  7,  8,  9],\n",
              "       [10, 11, 12, 13, 14],\n",
              "       [15, 16, 17, 18, 19]])"
            ]
          },
          "metadata": {},
          "execution_count": 46
        }
      ]
    },
    {
      "cell_type": "code",
      "source": [
        "#In this part, col_indices specifies the columns to be extracted: the 2nd column, the 3rd column, and the last column (using -1 for the last element).\n",
        "col_indices = [1, 2, -1] # 3rd column and last column\n",
        "twenty[row_indices, col_indices]"
      ],
      "metadata": {
        "colab": {
          "base_uri": "https://localhost:8080/"
        },
        "id": "FKBYkgnPM720",
        "outputId": "68ea2fc8-7d7e-4d0a-c344-0f1d531cc085"
      },
      "execution_count": 47,
      "outputs": [
        {
          "output_type": "execute_result",
          "data": {
            "text/plain": [
              "array([ 6, 12, 19])"
            ]
          },
          "metadata": {},
          "execution_count": 47
        }
      ]
    },
    {
      "cell_type": "code",
      "source": [
        "# mask has to be of the same shape as the array to be indexed; else IndexError would be thrown\n",
        "# mask for indexing alternate elements in the array\n",
        "row_mask = np.array([True, False, True, False, True, False, True, False, True, False])\n",
        "\n",
        "integers[row_mask]\n"
      ],
      "metadata": {
        "colab": {
          "base_uri": "https://localhost:8080/"
        },
        "id": "BWbgl5_zOhde",
        "outputId": "3b816eea-38df-49f0-dede-e04d2c1d56bf"
      },
      "execution_count": 48,
      "outputs": [
        {
          "output_type": "execute_result",
          "data": {
            "text/plain": [
              "array([17, 99,  6,  1, -2])"
            ]
          },
          "metadata": {},
          "execution_count": 48
        }
      ]
    },
    {
      "cell_type": "code",
      "source": [
        "integers"
      ],
      "metadata": {
        "colab": {
          "base_uri": "https://localhost:8080/"
        },
        "id": "0Rs1WWWEiKfq",
        "outputId": "4c93b9d5-480c-4c5e-e812-4c9044bbb354"
      },
      "execution_count": 49,
      "outputs": [
        {
          "output_type": "execute_result",
          "data": {
            "text/plain": [
              "array([ 17,  14,  99,  19,   6,  19,   1,  17,  -2, -46])"
            ]
          },
          "metadata": {},
          "execution_count": 49
        }
      ]
    },
    {
      "cell_type": "code",
      "source": [
        "# alternatively\n",
        "row_mask = np.array([1, 0, 1, 0, 1, 0, 1, 0, 1, 0], dtype= np.bool_)\n",
        "integers[row_mask]"
      ],
      "metadata": {
        "colab": {
          "base_uri": "https://localhost:8080/"
        },
        "id": "Efum_hDLioUl",
        "outputId": "c661584b-d1c6-46ff-ef0c-179d4258c6f2"
      },
      "execution_count": 50,
      "outputs": [
        {
          "output_type": "execute_result",
          "data": {
            "text/plain": [
              "array([17, 99,  6,  1, -2])"
            ]
          },
          "metadata": {},
          "execution_count": 50
        }
      ]
    },
    {
      "cell_type": "markdown",
      "source": [
        "This feature is very useful to conditionally select elements from an array, using for example comparison operators:"
      ],
      "metadata": {
        "id": "dh5_RT6Ai_Hl"
      }
    },
    {
      "cell_type": "code",
      "source": [
        "\n",
        "\n",
        "range_arr = np.arange(0, 10, 0.5)\n",
        "range_arr"
      ],
      "metadata": {
        "colab": {
          "base_uri": "https://localhost:8080/"
        },
        "id": "DozLUn9mi4ZN",
        "outputId": "71d359ed-694a-43d0-e11f-dd9ca2c63706"
      },
      "execution_count": 51,
      "outputs": [
        {
          "output_type": "execute_result",
          "data": {
            "text/plain": [
              "array([0. , 0.5, 1. , 1.5, 2. , 2.5, 3. , 3.5, 4. , 4.5, 5. , 5.5, 6. ,\n",
              "       6.5, 7. , 7.5, 8. , 8.5, 9. , 9.5])"
            ]
          },
          "metadata": {},
          "execution_count": 51
        }
      ]
    },
    {
      "cell_type": "code",
      "source": [
        "mask = (range_arr > 5) * (range_arr < 7.5)\n",
        "mask"
      ],
      "metadata": {
        "colab": {
          "base_uri": "https://localhost:8080/"
        },
        "id": "XPuH7ov9jF7p",
        "outputId": "823b61a2-c6b0-4947-e3fa-ff2be4fbfff4"
      },
      "execution_count": 52,
      "outputs": [
        {
          "output_type": "execute_result",
          "data": {
            "text/plain": [
              "array([False, False, False, False, False, False, False, False, False,\n",
              "       False, False,  True,  True,  True,  True, False, False, False,\n",
              "       False, False])"
            ]
          },
          "metadata": {},
          "execution_count": 52
        }
      ]
    },
    {
      "cell_type": "code",
      "source": [
        "range_arr[mask]"
      ],
      "metadata": {
        "colab": {
          "base_uri": "https://localhost:8080/"
        },
        "id": "QHrQuQoYkjEE",
        "outputId": "8ce657b5-1ec3-4363-b417-24ac9d5d762a"
      },
      "execution_count": 53,
      "outputs": [
        {
          "output_type": "execute_result",
          "data": {
            "text/plain": [
              "array([5.5, 6. , 6.5, 7. ])"
            ]
          },
          "metadata": {},
          "execution_count": 53
        }
      ]
    },
    {
      "cell_type": "code",
      "source": [
        "# or equivalently\n",
        "\n",
        "mask = (5 < range_arr) & (range_arr < 7.5)\n",
        "range_arr[mask]\n"
      ],
      "metadata": {
        "colab": {
          "base_uri": "https://localhost:8080/"
        },
        "id": "2iUbqFP2kmac",
        "outputId": "4f118a3c-7683-4122-c3f7-cd8bbd0e0c19"
      },
      "execution_count": 54,
      "outputs": [
        {
          "output_type": "execute_result",
          "data": {
            "text/plain": [
              "array([5.5, 6. , 6.5, 7. ])"
            ]
          },
          "metadata": {},
          "execution_count": 54
        }
      ]
    },
    {
      "cell_type": "markdown",
      "source": [
        "\n",
        "Linear operations\n",
        "\n",
        "Vectorizing the code is key to writing efficient numerical calculation with Python/NumPy. This means that, as much as possible, a program should be formulated in terms of matrix and vector operations, like matrix-matrix multiplication.\n",
        "Scalar-array operations\n",
        "\n",
        "We can use the usual arithmetic operators to multiply, add, subtract, and divide arrays with scalar numbers.\n"
      ],
      "metadata": {
        "id": "0ucwiUK4kyc0"
      }
    },
    {
      "cell_type": "code",
      "source": [
        "vec = np.arange(0, 5)\n",
        "\n",
        "vec"
      ],
      "metadata": {
        "colab": {
          "base_uri": "https://localhost:8080/"
        },
        "id": "8F5QDzXukuxh",
        "outputId": "622c3289-c145-4289-f2cf-90abbfd53df0"
      },
      "execution_count": 55,
      "outputs": [
        {
          "output_type": "execute_result",
          "data": {
            "text/plain": [
              "array([0, 1, 2, 3, 4])"
            ]
          },
          "metadata": {},
          "execution_count": 55
        }
      ]
    },
    {
      "cell_type": "code",
      "source": [
        "# note that original `vec` still remains unaffected since we haven't assigned the new array to it.\n",
        "vec * 2"
      ],
      "metadata": {
        "colab": {
          "base_uri": "https://localhost:8080/"
        },
        "id": "eqljZZvqk1z_",
        "outputId": "21495d91-0611-4d25-fc9f-433100bd178d"
      },
      "execution_count": 56,
      "outputs": [
        {
          "output_type": "execute_result",
          "data": {
            "text/plain": [
              "array([0, 2, 4, 6, 8])"
            ]
          },
          "metadata": {},
          "execution_count": 56
        }
      ]
    },
    {
      "cell_type": "code",
      "source": [
        "vec + 2"
      ],
      "metadata": {
        "colab": {
          "base_uri": "https://localhost:8080/"
        },
        "id": "d2pxlc89k8kv",
        "outputId": "fd827c9c-20d8-43e3-bf52-7336265f4d98"
      },
      "execution_count": 57,
      "outputs": [
        {
          "output_type": "execute_result",
          "data": {
            "text/plain": [
              "array([2, 3, 4, 5, 6])"
            ]
          },
          "metadata": {},
          "execution_count": 57
        }
      ]
    },
    {
      "cell_type": "markdown",
      "source": [
        "\n",
        "Element-wise array-array operations\n",
        "\n",
        "When we add, subtract, multiply, and divide arrays with each other, the default behaviour is element-wise operations:\n",
        "\n"
      ],
      "metadata": {
        "id": "0S8ikW7ulA80"
      }
    },
    {
      "cell_type": "code",
      "source": [
        "arr = np.arange(4 * 5).reshape(4, 5)\n",
        "arr"
      ],
      "metadata": {
        "colab": {
          "base_uri": "https://localhost:8080/"
        },
        "id": "5CcQ0YiSk-05",
        "outputId": "380b71ba-537b-4b3e-d4e1-1da92139e715"
      },
      "execution_count": 58,
      "outputs": [
        {
          "output_type": "execute_result",
          "data": {
            "text/plain": [
              "array([[ 0,  1,  2,  3,  4],\n",
              "       [ 5,  6,  7,  8,  9],\n",
              "       [10, 11, 12, 13, 14],\n",
              "       [15, 16, 17, 18, 19]])"
            ]
          },
          "metadata": {},
          "execution_count": 58
        }
      ]
    },
    {
      "cell_type": "code",
      "source": [
        "np.matmul(arr, (arr.T))"
      ],
      "metadata": {
        "colab": {
          "base_uri": "https://localhost:8080/"
        },
        "id": "VpaRyhiplE3z",
        "outputId": "f9e476e4-f421-4526-eb1b-3039437a0163"
      },
      "execution_count": 59,
      "outputs": [
        {
          "output_type": "execute_result",
          "data": {
            "text/plain": [
              "array([[  30,   80,  130,  180],\n",
              "       [  80,  255,  430,  605],\n",
              "       [ 130,  430,  730, 1030],\n",
              "       [ 180,  605, 1030, 1455]])"
            ]
          },
          "metadata": {},
          "execution_count": 59
        }
      ]
    },
    {
      "cell_type": "code",
      "source": [
        "print(vec.shape, arr.shape)\n",
        "\n",
        "# shape has to match\n",
        "vec * arr"
      ],
      "metadata": {
        "colab": {
          "base_uri": "https://localhost:8080/"
        },
        "id": "3OG4VElElOZQ",
        "outputId": "c9ff7562-1644-4248-b7ed-1485f40d7754"
      },
      "execution_count": 60,
      "outputs": [
        {
          "output_type": "stream",
          "name": "stdout",
          "text": [
            "(5,) (4, 5)\n"
          ]
        },
        {
          "output_type": "execute_result",
          "data": {
            "text/plain": [
              "array([[ 0,  1,  4,  9, 16],\n",
              "       [ 0,  6, 14, 24, 36],\n",
              "       [ 0, 11, 24, 39, 56],\n",
              "       [ 0, 16, 34, 54, 76]])"
            ]
          },
          "metadata": {},
          "execution_count": 60
        }
      ]
    },
    {
      "cell_type": "code",
      "source": [
        "# else no broadcasting will happen and an error is thrown\n",
        "print(vec[:, None].shape)\n",
        "\n",
        "vec[:, None] * arr"
      ],
      "metadata": {
        "colab": {
          "base_uri": "https://localhost:8080/",
          "height": 248
        },
        "id": "XKTctAzMmDO4",
        "outputId": "0d5473ce-17c3-41e6-ea5f-22cb4d1c06b3"
      },
      "execution_count": 61,
      "outputs": [
        {
          "output_type": "stream",
          "name": "stdout",
          "text": [
            "(5, 1)\n"
          ]
        },
        {
          "output_type": "error",
          "ename": "ValueError",
          "evalue": "operands could not be broadcast together with shapes (5,1) (4,5) ",
          "traceback": [
            "\u001b[0;31m---------------------------------------------------------------------------\u001b[0m",
            "\u001b[0;31mValueError\u001b[0m                                Traceback (most recent call last)",
            "\u001b[0;32m<ipython-input-61-b67631fd10f5>\u001b[0m in \u001b[0;36m<cell line: 4>\u001b[0;34m()\u001b[0m\n\u001b[1;32m      2\u001b[0m \u001b[0mprint\u001b[0m\u001b[0;34m(\u001b[0m\u001b[0mvec\u001b[0m\u001b[0;34m[\u001b[0m\u001b[0;34m:\u001b[0m\u001b[0;34m,\u001b[0m \u001b[0;32mNone\u001b[0m\u001b[0;34m]\u001b[0m\u001b[0;34m.\u001b[0m\u001b[0mshape\u001b[0m\u001b[0;34m)\u001b[0m\u001b[0;34m\u001b[0m\u001b[0;34m\u001b[0m\u001b[0m\n\u001b[1;32m      3\u001b[0m \u001b[0;34m\u001b[0m\u001b[0m\n\u001b[0;32m----> 4\u001b[0;31m \u001b[0mvec\u001b[0m\u001b[0;34m[\u001b[0m\u001b[0;34m:\u001b[0m\u001b[0;34m,\u001b[0m \u001b[0;32mNone\u001b[0m\u001b[0;34m]\u001b[0m \u001b[0;34m*\u001b[0m \u001b[0marr\u001b[0m\u001b[0;34m\u001b[0m\u001b[0;34m\u001b[0m\u001b[0m\n\u001b[0m",
            "\u001b[0;31mValueError\u001b[0m: operands could not be broadcast together with shapes (5,1) (4,5) "
          ]
        }
      ]
    },
    {
      "cell_type": "code",
      "source": [
        "# however, this would work\n",
        "vec[:4, None] * arr"
      ],
      "metadata": {
        "colab": {
          "base_uri": "https://localhost:8080/"
        },
        "id": "1mLBDu1zmOkq",
        "outputId": "1537b188-3694-46b2-a068-dad2e6124fe9"
      },
      "execution_count": 62,
      "outputs": [
        {
          "output_type": "execute_result",
          "data": {
            "text/plain": [
              "array([[ 0,  0,  0,  0,  0],\n",
              "       [ 5,  6,  7,  8,  9],\n",
              "       [20, 22, 24, 26, 28],\n",
              "       [45, 48, 51, 54, 57]])"
            ]
          },
          "metadata": {},
          "execution_count": 62
        }
      ]
    },
    {
      "cell_type": "markdown",
      "source": [
        "**Matrix operations**\n",
        "\n",
        "What about the glorified matrix mutiplication? There are two ways. We can either use the dot function, which applies a matrix-matrix, matrix-vector, or inner vector multiplication to its two arguments. Or you can use the @ operator in Python 3"
      ],
      "metadata": {
        "id": "B1zUJHzcm8rr"
      }
    },
    {
      "cell_type": "code",
      "source": [
        "# matrix-matrix product\n",
        "print(arr.T.shape, arr.shape)\n",
        "np.dot(arr.T, arr)"
      ],
      "metadata": {
        "colab": {
          "base_uri": "https://localhost:8080/"
        },
        "id": "lBgUhuRJm3KV",
        "outputId": "e34dc2be-3a78-43a7-b1c1-ced800b10930"
      },
      "execution_count": 63,
      "outputs": [
        {
          "output_type": "stream",
          "name": "stdout",
          "text": [
            "(5, 4) (4, 5)\n"
          ]
        },
        {
          "output_type": "execute_result",
          "data": {
            "text/plain": [
              "array([[350, 380, 410, 440, 470],\n",
              "       [380, 414, 448, 482, 516],\n",
              "       [410, 448, 486, 524, 562],\n",
              "       [440, 482, 524, 566, 608],\n",
              "       [470, 516, 562, 608, 654]])"
            ]
          },
          "metadata": {},
          "execution_count": 63
        }
      ]
    },
    {
      "cell_type": "code",
      "source": [
        "# matrix-vector product\n",
        "print(\"shapes: \", arr.shape, vec.shape)\n",
        "np.dot(arr, vec) #but not thsi: np.dot(vec,arr)"
      ],
      "metadata": {
        "colab": {
          "base_uri": "https://localhost:8080/"
        },
        "id": "TiJV6q1knOjR",
        "outputId": "ef76623e-e56f-48d1-ce80-138696dc7efc"
      },
      "execution_count": 64,
      "outputs": [
        {
          "output_type": "stream",
          "name": "stdout",
          "text": [
            "shapes:  (4, 5) (5,)\n"
          ]
        },
        {
          "output_type": "execute_result",
          "data": {
            "text/plain": [
              "array([ 30,  80, 130, 180])"
            ]
          },
          "metadata": {},
          "execution_count": 64
        }
      ]
    },
    {
      "cell_type": "code",
      "source": [
        "# matrix-vector product\n",
        "print(\"shapes: \", arr.shape, vec.shape)\n",
        "np.dot(arr, vec) #but not this: np.dot(vec, arrr)"
      ],
      "metadata": {
        "colab": {
          "base_uri": "https://localhost:8080/"
        },
        "id": "p41nr1NJnjEY",
        "outputId": "1d4a7441-f49b-471c-b83d-7a1c28ccd793"
      },
      "execution_count": 65,
      "outputs": [
        {
          "output_type": "stream",
          "name": "stdout",
          "text": [
            "shapes:  (4, 5) (5,)\n"
          ]
        },
        {
          "output_type": "execute_result",
          "data": {
            "text/plain": [
              "array([ 30,  80, 130, 180])"
            ]
          },
          "metadata": {},
          "execution_count": 65
        }
      ]
    },
    {
      "cell_type": "code",
      "source": [
        "\n",
        "\n",
        "col_vec = vec[:, None]\n",
        "print(\"shapes: \", (col_vec).T.shape, (col_vec).shape)\n",
        "\n",
        "# inner product\n",
        "(col_vec.T) @ (col_vec)"
      ],
      "metadata": {
        "colab": {
          "base_uri": "https://localhost:8080/"
        },
        "id": "gJHsIzAWn9CD",
        "outputId": "180697ad-0993-4350-d0b1-7df4c85bbfcf"
      },
      "execution_count": 66,
      "outputs": [
        {
          "output_type": "stream",
          "name": "stdout",
          "text": [
            "shapes:  (1, 5) (5, 1)\n"
          ]
        },
        {
          "output_type": "execute_result",
          "data": {
            "text/plain": [
              "array([[30]])"
            ]
          },
          "metadata": {},
          "execution_count": 66
        }
      ]
    },
    {
      "cell_type": "markdown",
      "source": [
        "\n",
        "Stacking and repeating arrays\n",
        "\n",
        "Using function repeat, tile, vstack, hstack, and concatenate we can create larger vectors and matrices from smaller ones:\n"
      ],
      "metadata": {
        "id": "ENTcmCX1pzcU"
      }
    },
    {
      "cell_type": "code",
      "source": [
        "a = np.array([[1, 2], [3, 4]])\n",
        "a\n"
      ],
      "metadata": {
        "colab": {
          "base_uri": "https://localhost:8080/"
        },
        "id": "akIokjgDpw6W",
        "outputId": "30a01652-cb73-4836-888a-2e7d3367e708"
      },
      "execution_count": 67,
      "outputs": [
        {
          "output_type": "execute_result",
          "data": {
            "text/plain": [
              "array([[1, 2],\n",
              "       [3, 4]])"
            ]
          },
          "metadata": {},
          "execution_count": 67
        }
      ]
    },
    {
      "cell_type": "code",
      "source": [
        "# repeat each element 3 times\n",
        "np.repeat(a, 3)"
      ],
      "metadata": {
        "colab": {
          "base_uri": "https://localhost:8080/"
        },
        "id": "k9gJZoQ9p3bL",
        "outputId": "a2a6f629-24ff-4841-c302-a742fce68ab7"
      },
      "execution_count": 68,
      "outputs": [
        {
          "output_type": "execute_result",
          "data": {
            "text/plain": [
              "array([1, 1, 1, 2, 2, 2, 3, 3, 3, 4, 4, 4])"
            ]
          },
          "metadata": {},
          "execution_count": 68
        }
      ]
    },
    {
      "cell_type": "code",
      "source": [
        "# tile the matrix 3 times\n",
        "np.tile(a, 3)"
      ],
      "metadata": {
        "colab": {
          "base_uri": "https://localhost:8080/"
        },
        "id": "IdGQGPfcp9dx",
        "outputId": "01097c80-b2ea-4599-c20a-0ef5ed7da043"
      },
      "execution_count": 69,
      "outputs": [
        {
          "output_type": "execute_result",
          "data": {
            "text/plain": [
              "array([[1, 2, 1, 2, 1, 2],\n",
              "       [3, 4, 3, 4, 3, 4]])"
            ]
          },
          "metadata": {},
          "execution_count": 69
        }
      ]
    },
    {
      "cell_type": "code",
      "source": [
        "b = np.array([[5, 6]])\n",
        "b"
      ],
      "metadata": {
        "colab": {
          "base_uri": "https://localhost:8080/"
        },
        "id": "Jol1xkQ9qGDU",
        "outputId": "3f2b0e88-c305-417c-b481-f308752dcc40"
      },
      "execution_count": 70,
      "outputs": [
        {
          "output_type": "execute_result",
          "data": {
            "text/plain": [
              "array([[5, 6]])"
            ]
          },
          "metadata": {},
          "execution_count": 70
        }
      ]
    },
    {
      "cell_type": "code",
      "source": [
        "# concatenate a and b along axis 0\n",
        "np.concatenate((a,b),axis=0)"
      ],
      "metadata": {
        "colab": {
          "base_uri": "https://localhost:8080/"
        },
        "id": "MF6xGFJPqwXb",
        "outputId": "6f700f72-e999-4b5d-dab9-82d66c96d722"
      },
      "execution_count": 71,
      "outputs": [
        {
          "output_type": "execute_result",
          "data": {
            "text/plain": [
              "array([[1, 2],\n",
              "       [3, 4],\n",
              "       [5, 6]])"
            ]
          },
          "metadata": {},
          "execution_count": 71
        }
      ]
    },
    {
      "cell_type": "code",
      "source": [
        "# concatenate a and b along axis 1\n",
        "np.concatenate((a, b.T), axis=1)"
      ],
      "metadata": {
        "colab": {
          "base_uri": "https://localhost:8080/"
        },
        "id": "_k1uc8EorR-c",
        "outputId": "6f196511-3a86-45a8-db72-3fbedfbeef7c"
      },
      "execution_count": 72,
      "outputs": [
        {
          "output_type": "execute_result",
          "data": {
            "text/plain": [
              "array([[1, 2, 5],\n",
              "       [3, 4, 6]])"
            ]
          },
          "metadata": {},
          "execution_count": 72
        }
      ]
    },
    {
      "cell_type": "markdown",
      "source": [
        "**hstack and vstack**"
      ],
      "metadata": {
        "id": "Jd4_8j6Trzso"
      }
    },
    {
      "cell_type": "code",
      "source": [
        "np.vstack((a,b))"
      ],
      "metadata": {
        "colab": {
          "base_uri": "https://localhost:8080/"
        },
        "id": "bUP7FJnhrpQa",
        "outputId": "a0c7cbad-14f9-4881-889b-09d8522aad6e"
      },
      "execution_count": 73,
      "outputs": [
        {
          "output_type": "execute_result",
          "data": {
            "text/plain": [
              "array([[1, 2],\n",
              "       [3, 4],\n",
              "       [5, 6]])"
            ]
          },
          "metadata": {},
          "execution_count": 73
        }
      ]
    },
    {
      "cell_type": "code",
      "source": [
        "np.hstack((a,b.T))"
      ],
      "metadata": {
        "colab": {
          "base_uri": "https://localhost:8080/"
        },
        "id": "7A73QeEWr7Cg",
        "outputId": "3dd8eb13-15d2-4c8f-9edb-8fedbf00899a"
      },
      "execution_count": 74,
      "outputs": [
        {
          "output_type": "execute_result",
          "data": {
            "text/plain": [
              "array([[1, 2, 5],\n",
              "       [3, 4, 6]])"
            ]
          },
          "metadata": {},
          "execution_count": 74
        }
      ]
    },
    {
      "cell_type": "markdown",
      "source": [
        "\n",
        "**Copy and \"deep copy\"**\n",
        "\n",
        "For performance reasons, assignments in Python usually do not copy the underlaying objects. This is important for example when objects are passed between functions, to avoid an excessive amount of memory copying when it is not necessary (technical term: pass by reference).\n"
      ],
      "metadata": {
        "id": "BM7qGC1asKD2"
      }
    },
    {
      "cell_type": "code",
      "source": [
        "A = np.array([[1,2],[3,4]])\n",
        "A"
      ],
      "metadata": {
        "colab": {
          "base_uri": "https://localhost:8080/"
        },
        "id": "vclNMjz2sDDR",
        "outputId": "d847a8a4-5c23-44d9-e3bd-467abaeb9197"
      },
      "execution_count": 75,
      "outputs": [
        {
          "output_type": "execute_result",
          "data": {
            "text/plain": [
              "array([[1, 2],\n",
              "       [3, 4]])"
            ]
          },
          "metadata": {},
          "execution_count": 75
        }
      ]
    },
    {
      "cell_type": "code",
      "source": [
        "# now array B is referring to the same array data as A\n",
        "B = A\n",
        "B"
      ],
      "metadata": {
        "colab": {
          "base_uri": "https://localhost:8080/"
        },
        "id": "nAPExCi9sHgf",
        "outputId": "63be85cb-4450-4c7f-af1e-7b8fa48549b1"
      },
      "execution_count": 76,
      "outputs": [
        {
          "output_type": "execute_result",
          "data": {
            "text/plain": [
              "array([[1, 2],\n",
              "       [3, 4]])"
            ]
          },
          "metadata": {},
          "execution_count": 76
        }
      ]
    },
    {
      "cell_type": "code",
      "source": [
        "# changing B affects A\n",
        "B[0,0] = 10\n",
        "\n",
        "A\n"
      ],
      "metadata": {
        "colab": {
          "base_uri": "https://localhost:8080/"
        },
        "id": "cYaiuVnstfU9",
        "outputId": "4643a9b1-14cf-49a1-f098-af48b80f8c5c"
      },
      "execution_count": 77,
      "outputs": [
        {
          "output_type": "execute_result",
          "data": {
            "text/plain": [
              "array([[10,  2],\n",
              "       [ 3,  4]])"
            ]
          },
          "metadata": {},
          "execution_count": 77
        }
      ]
    },
    {
      "cell_type": "markdown",
      "source": [
        "If we want to avoid such a behavior, so that when we get a new completely independent object B copied from A, then we need to do a so-called \"deep copy\" using the function copy:"
      ],
      "metadata": {
        "id": "_yHlmHqGtsCg"
      }
    },
    {
      "cell_type": "code",
      "source": [
        "B = np.copy(A)"
      ],
      "metadata": {
        "id": "tI459hDmtj82"
      },
      "execution_count": 78,
      "outputs": []
    },
    {
      "cell_type": "markdown",
      "source": [
        "\n",
        "**Vectorizing functions**\n",
        "\n",
        "As mentioned several times by now, to get good performance we should always try to avoid looping over elements in our vectors and matrices, and instead use vectorized algorithms. The first step in converting a scalar algorithm to a vectorized algorithm is to make sure that the functions we write work with vector inputs.\n"
      ],
      "metadata": {
        "id": "CoFm4l34t2j7"
      }
    },
    {
      "cell_type": "code",
      "source": [
        "def Theta(x):\n",
        "    \"\"\"\n",
        "    scalar implementation of the Heaviside step function.\n",
        "    \"\"\"\n",
        "    if x >= 0:\n",
        "        return 1\n",
        "    else:\n",
        "      return 0"
      ],
      "metadata": {
        "id": "kcxUfNGdtqhv"
      },
      "execution_count": 79,
      "outputs": []
    },
    {
      "cell_type": "code",
      "source": [
        "v1 = np.array([-3,-2,-1,0,1,2,3])\n",
        "\n",
        "Theta(v1)"
      ],
      "metadata": {
        "colab": {
          "base_uri": "https://localhost:8080/",
          "height": 352
        },
        "id": "2QN6bmR-uECS",
        "outputId": "e4651305-e5d4-49da-a93e-be772bea592c"
      },
      "execution_count": 80,
      "outputs": [
        {
          "output_type": "error",
          "ename": "ValueError",
          "evalue": "The truth value of an array with more than one element is ambiguous. Use a.any() or a.all()",
          "traceback": [
            "\u001b[0;31m---------------------------------------------------------------------------\u001b[0m",
            "\u001b[0;31mValueError\u001b[0m                                Traceback (most recent call last)",
            "\u001b[0;32m<ipython-input-80-489043f2ba8f>\u001b[0m in \u001b[0;36m<cell line: 3>\u001b[0;34m()\u001b[0m\n\u001b[1;32m      1\u001b[0m \u001b[0mv1\u001b[0m \u001b[0;34m=\u001b[0m \u001b[0mnp\u001b[0m\u001b[0;34m.\u001b[0m\u001b[0marray\u001b[0m\u001b[0;34m(\u001b[0m\u001b[0;34m[\u001b[0m\u001b[0;34m-\u001b[0m\u001b[0;36m3\u001b[0m\u001b[0;34m,\u001b[0m\u001b[0;34m-\u001b[0m\u001b[0;36m2\u001b[0m\u001b[0;34m,\u001b[0m\u001b[0;34m-\u001b[0m\u001b[0;36m1\u001b[0m\u001b[0;34m,\u001b[0m\u001b[0;36m0\u001b[0m\u001b[0;34m,\u001b[0m\u001b[0;36m1\u001b[0m\u001b[0;34m,\u001b[0m\u001b[0;36m2\u001b[0m\u001b[0;34m,\u001b[0m\u001b[0;36m3\u001b[0m\u001b[0;34m]\u001b[0m\u001b[0;34m)\u001b[0m\u001b[0;34m\u001b[0m\u001b[0;34m\u001b[0m\u001b[0m\n\u001b[1;32m      2\u001b[0m \u001b[0;34m\u001b[0m\u001b[0m\n\u001b[0;32m----> 3\u001b[0;31m \u001b[0mTheta\u001b[0m\u001b[0;34m(\u001b[0m\u001b[0mv1\u001b[0m\u001b[0;34m)\u001b[0m\u001b[0;34m\u001b[0m\u001b[0;34m\u001b[0m\u001b[0m\n\u001b[0m",
            "\u001b[0;32m<ipython-input-79-4231b3f4c8b4>\u001b[0m in \u001b[0;36mTheta\u001b[0;34m(x)\u001b[0m\n\u001b[1;32m      3\u001b[0m     \u001b[0mscalar\u001b[0m \u001b[0mimplementation\u001b[0m \u001b[0mof\u001b[0m \u001b[0mthe\u001b[0m \u001b[0mHeaviside\u001b[0m \u001b[0mstep\u001b[0m \u001b[0mfunction\u001b[0m\u001b[0;34m.\u001b[0m\u001b[0;34m\u001b[0m\u001b[0;34m\u001b[0m\u001b[0m\n\u001b[1;32m      4\u001b[0m     \"\"\"\n\u001b[0;32m----> 5\u001b[0;31m     \u001b[0;32mif\u001b[0m \u001b[0mx\u001b[0m \u001b[0;34m>=\u001b[0m \u001b[0;36m0\u001b[0m\u001b[0;34m:\u001b[0m\u001b[0;34m\u001b[0m\u001b[0;34m\u001b[0m\u001b[0m\n\u001b[0m\u001b[1;32m      6\u001b[0m         \u001b[0;32mreturn\u001b[0m \u001b[0;36m1\u001b[0m\u001b[0;34m\u001b[0m\u001b[0;34m\u001b[0m\u001b[0m\n\u001b[1;32m      7\u001b[0m     \u001b[0;32melse\u001b[0m\u001b[0;34m:\u001b[0m\u001b[0;34m\u001b[0m\u001b[0;34m\u001b[0m\u001b[0m\n",
            "\u001b[0;31mValueError\u001b[0m: The truth value of an array with more than one element is ambiguous. Use a.any() or a.all()"
          ]
        }
      ]
    },
    {
      "cell_type": "markdown",
      "source": [
        "That didn't work because we didn't write the function Theta so that it can handle a vector input...\n",
        "\n",
        "To get a vectorized version of Theta we can use the Numpy function vectorize. In many cases it can automatically vectorize a function:\n"
      ],
      "metadata": {
        "id": "lO0V4djTvDGY"
      }
    },
    {
      "cell_type": "code",
      "source": [
        "Theta_vec = np.vectorize(Theta)"
      ],
      "metadata": {
        "id": "pFbCvc52uKhA"
      },
      "execution_count": 81,
      "outputs": []
    },
    {
      "cell_type": "code",
      "source": [
        "Theta_vec(v1)"
      ],
      "metadata": {
        "colab": {
          "base_uri": "https://localhost:8080/"
        },
        "id": "E-US84BkwU-Y",
        "outputId": "a0a96767-0eec-4245-9fcf-b360e11ed9ad"
      },
      "execution_count": 82,
      "outputs": [
        {
          "output_type": "execute_result",
          "data": {
            "text/plain": [
              "array([0, 0, 0, 1, 1, 1, 1])"
            ]
          },
          "metadata": {},
          "execution_count": 82
        }
      ]
    },
    {
      "cell_type": "markdown",
      "source": [
        "we can also implement the function to accept a vector input from the beginning (requires more effort but might give better performance):"
      ],
      "metadata": {
        "id": "CS6kEzfUwk1W"
      }
    },
    {
      "cell_type": "code",
      "source": [
        "def Theta(x):\n",
        "  \"\"\"\n",
        "  Vector-aware implementation of the Heaviside step function.\n",
        "  \"\"\"\n",
        "  return 1 * (x >= 0)"
      ],
      "metadata": {
        "id": "hWKlsoq6wZvW"
      },
      "execution_count": 83,
      "outputs": []
    },
    {
      "cell_type": "code",
      "source": [
        "Theta(v1)"
      ],
      "metadata": {
        "colab": {
          "base_uri": "https://localhost:8080/"
        },
        "id": "TkPAa8NZw4e5",
        "outputId": "2c825cb6-712c-418d-895c-679f7613f6de"
      },
      "execution_count": 84,
      "outputs": [
        {
          "output_type": "execute_result",
          "data": {
            "text/plain": [
              "array([0, 0, 0, 1, 1, 1, 1])"
            ]
          },
          "metadata": {},
          "execution_count": 84
        }
      ]
    },
    {
      "cell_type": "code",
      "source": [
        "# it even works with scalar input\n",
        "Theta(-1.2), Theta(2.6)"
      ],
      "metadata": {
        "colab": {
          "base_uri": "https://localhost:8080/"
        },
        "id": "upx54yHzxHcL",
        "outputId": "c8035009-aa89-456a-aaa3-839478c947ec"
      },
      "execution_count": 85,
      "outputs": [
        {
          "output_type": "execute_result",
          "data": {
            "text/plain": [
              "(0, 1)"
            ]
          },
          "metadata": {},
          "execution_count": 85
        }
      ]
    },
    {
      "cell_type": "markdown",
      "source": [
        "\n",
        "# Exercices\n"
      ],
      "metadata": {
        "id": "D4yoomz7xZxC"
      }
    },
    {
      "cell_type": "markdown",
      "source": [
        "\n",
        "## Exercise 1: Creating and Manipulating NumPy Arrays\n",
        "\n",
        "    Create a 1D NumPy array from the list [5, 10, 15, 20, 25]. Convert the array to type float64 and print it.\n",
        "\n",
        "    Create a 2D NumPy array from the nested list [[1, 2, 3], [4, 5, 6], [7, 8, 9]]. Print the shape and size of the array.\n",
        "\n",
        "    Create a 3D NumPy array with random values of shape (2, 3, 4). Print the number of dimensions and the shape of the array.\n",
        "\n"
      ],
      "metadata": {
        "id": "R7qTlD9UxfRi"
      }
    },
    {
      "cell_type": "code",
      "source": [
        "# Create a 1D NumPy array\n",
        "arr_1d = np.array([5, 10, 15, 20, 25])\n",
        "\n",
        "# Convert to float64\n",
        "arr_1d = arr_1d.astype(np.float64)\n",
        "\n",
        "# Print the array\n",
        "print(arr_1d)"
      ],
      "metadata": {
        "colab": {
          "base_uri": "https://localhost:8080/"
        },
        "id": "aY7-2XgJxTty",
        "outputId": "fe326433-a9a7-48e1-9082-480cd910d87c"
      },
      "execution_count": 86,
      "outputs": [
        {
          "output_type": "stream",
          "name": "stdout",
          "text": [
            "[ 5. 10. 15. 20. 25.]\n"
          ]
        }
      ]
    },
    {
      "cell_type": "code",
      "source": [
        "# Create a 2D NumPy array\n",
        "arr_2d = np.array([[1, 2, 3], [4, 5, 6], [7, 8, 9]])\n",
        "\n",
        "# Print the shape and size\n",
        "print(\"Shape:\", arr_2d.shape)\n",
        "\n",
        "# Print the size\n",
        "print(\"Size:\", arr_2d.size)"
      ],
      "metadata": {
        "colab": {
          "base_uri": "https://localhost:8080/"
        },
        "id": "7Dss00Y5yPgK",
        "outputId": "e6c0ddde-6136-4cac-f1cb-5f22bcd5d32f"
      },
      "execution_count": 87,
      "outputs": [
        {
          "output_type": "stream",
          "name": "stdout",
          "text": [
            "Shape: (3, 3)\n",
            "Size: 9\n"
          ]
        }
      ]
    },
    {
      "cell_type": "code",
      "source": [
        "# Create a 3D NumPy array with random values\n",
        "arr_3d = np.random.rand(2, 3, 4)\n",
        "\n",
        "# Print the number of dimensions\n",
        "print(\"Number of Dimensions:\", arr_3d.ndim)\n",
        "\n",
        "# Print the shape\n",
        "print(\"Shape:\", arr_3d.shape)"
      ],
      "metadata": {
        "colab": {
          "base_uri": "https://localhost:8080/"
        },
        "id": "Gi0WutuEyfXE",
        "outputId": "0a02dfcc-eaa0-4590-8d7e-2e6d1809288b"
      },
      "execution_count": 88,
      "outputs": [
        {
          "output_type": "stream",
          "name": "stdout",
          "text": [
            "Number of Dimensions: 3\n",
            "Shape: (2, 3, 4)\n"
          ]
        }
      ]
    },
    {
      "cell_type": "markdown",
      "source": [
        "\n",
        "## Exercise 2: Advanced Array Manipulations\n",
        "\n",
        "  * Create a 1D NumPy array with the numbers from 0 to 9. Reverse the array and print it.\n",
        "\n",
        "  * Create a 2D NumPy array with the numbers from 0 to 11, arranged in a 3x4 shape. Extract a subarray consisting of the first two rows and the last two columns, and print it.\n",
        "\n",
        "  * Create a 2D NumPy array of shape (5, 5) with random integers between 0 and 10. Replace all elements greater than 5 with 0 and print the modified array.\n",
        "\n"
      ],
      "metadata": {
        "id": "uBumIxJey9xM"
      }
    },
    {
      "cell_type": "code",
      "source": [
        "# Create a 1D array\n",
        "arr_1d = np.arange(10)\n",
        "\n",
        "# Reverse the array\n",
        "reversed_arr = arr_1d[::-1]\n",
        "\n",
        "# Print the reversed array\n",
        "print(reversed_arr)"
      ],
      "metadata": {
        "colab": {
          "base_uri": "https://localhost:8080/"
        },
        "id": "YWfl9Ccvyv4A",
        "outputId": "c2a269a7-2c71-4667-b195-c1079b96ae33"
      },
      "execution_count": 89,
      "outputs": [
        {
          "output_type": "stream",
          "name": "stdout",
          "text": [
            "[9 8 7 6 5 4 3 2 1 0]\n"
          ]
        }
      ]
    },
    {
      "cell_type": "code",
      "source": [
        "# Create a 2D array\n",
        "arr_2d = np.arange(12).reshape(3, 4)\n",
        "\n",
        "# Extract subarray\n",
        "subarray = arr_2d[:2, 2:]\n",
        "\n",
        "# Print the subarray\n",
        "print(subarray)"
      ],
      "metadata": {
        "colab": {
          "base_uri": "https://localhost:8080/"
        },
        "id": "aXLeeidszc7F",
        "outputId": "38b91ff1-7c12-439d-f397-cd11847c8be8"
      },
      "execution_count": 90,
      "outputs": [
        {
          "output_type": "stream",
          "name": "stdout",
          "text": [
            "[[2 3]\n",
            " [6 7]]\n"
          ]
        }
      ]
    },
    {
      "cell_type": "code",
      "source": [
        "# Create a 2D array with random integers\n",
        "arr_2d = np.random.randint(0, 10, size=(5, 5))\n",
        "\n",
        "\n",
        "# Replace elements greater than 5 with 0\n",
        "arr_2d[arr_2d > 5] = 0\n",
        "\n",
        "# Print the modified array\n",
        "print(arr_2d)"
      ],
      "metadata": {
        "colab": {
          "base_uri": "https://localhost:8080/"
        },
        "id": "aEyKlA5x0AZP",
        "outputId": "5542f26f-9531-4ebe-ca4d-3c72b7f6354c"
      },
      "execution_count": 91,
      "outputs": [
        {
          "output_type": "stream",
          "name": "stdout",
          "text": [
            "[[0 5 4 0 4]\n",
            " [0 2 0 0 2]\n",
            " [2 4 4 0 0]\n",
            " [2 5 0 0 0]\n",
            " [5 5 5 2 0]]\n"
          ]
        }
      ]
    },
    {
      "cell_type": "markdown",
      "source": [
        "\n",
        "## Exercise 3: Array Initialization and Attributes\n",
        "\n",
        "  * Create a 3x3 identity matrix using NumPy and print its attributes: ndim, shape, size, itemsize, and nbytes.\n",
        "\n",
        "  * Create an array of 10 evenly spaced numbers between 0 and 5 using numpy.linspace(). Print the array and its datatype.\n",
        "\n",
        "  * Create a 3D array of shape (2, 3, 4) with random values from a standard normal distribution. Print the array and the sum of all elements.\n",
        "\n"
      ],
      "metadata": {
        "id": "NMe1O0RH07Wh"
      }
    },
    {
      "cell_type": "code",
      "source": [
        "# Create a 3x3 identity matrix\n",
        "identity_matrix = np.identity(3)\n",
        "\n",
        "# Print attributes\n",
        "print(\"dimensions:\", identity_matrix.ndim)\n",
        "print(\"shape:\", identity_matrix.shape)\n",
        "print(\"size:\", identity_matrix.size)\n",
        "print(\"itemsize:\", identity_matrix.itemsize)\n",
        "print(\"Total number of bytes in arr:\", identity_matrix.nbytes)"
      ],
      "metadata": {
        "colab": {
          "base_uri": "https://localhost:8080/"
        },
        "id": "ycECSFyX0Yf1",
        "outputId": "de9ce7fb-5c23-4172-e86b-2086f5277878"
      },
      "execution_count": 92,
      "outputs": [
        {
          "output_type": "stream",
          "name": "stdout",
          "text": [
            "dimensions: 2\n",
            "shape: (3, 3)\n",
            "size: 9\n",
            "itemsize: 8\n",
            "Total number of bytes in arr: 72\n"
          ]
        }
      ]
    },
    {
      "cell_type": "code",
      "source": [
        "# Create an array of evenly spaced numbers\n",
        "spaced_numbers = np.linspace(0, 5, 10)\n",
        "\n",
        "# Print the array and its datatype\n",
        "print(\"Array:\", spaced_numbers)\n",
        "print(\"Datatype:\", spaced_numbers.dtype)"
      ],
      "metadata": {
        "colab": {
          "base_uri": "https://localhost:8080/"
        },
        "id": "-7v7jTty1V-n",
        "outputId": "5581de4c-ed94-4135-ab18-901d32607ba6"
      },
      "execution_count": 93,
      "outputs": [
        {
          "output_type": "stream",
          "name": "stdout",
          "text": [
            "Array: [0.         0.55555556 1.11111111 1.66666667 2.22222222 2.77777778\n",
            " 3.33333333 3.88888889 4.44444444 5.        ]\n",
            "Datatype: float64\n"
          ]
        }
      ]
    },
    {
      "cell_type": "code",
      "source": [
        "# Create a 3D array of shape (2, 3, 4) with random values from a standard normal distribution\n",
        "random_array = np.random.randn(2, 3, 4)\n",
        "\n",
        "# Print the array and the sum of all elements\n",
        "print(\"Array:\", random_array)\n",
        "print(\"Sum of elements:\", np.sum(random_array))"
      ],
      "metadata": {
        "colab": {
          "base_uri": "https://localhost:8080/"
        },
        "id": "Bz-_hqU32Rcz",
        "outputId": "b50f48ee-7b37-4abb-c781-5ba93bc519b9"
      },
      "execution_count": 94,
      "outputs": [
        {
          "output_type": "stream",
          "name": "stdout",
          "text": [
            "Array: [[[ 0.19836241  0.43706757 -1.11399881  1.57938561]\n",
            "  [-0.64132885  0.58585234  0.66728764 -0.91015618]\n",
            "  [-3.07429011 -0.6482113   0.37800096 -1.06136696]]\n",
            "\n",
            " [[-1.61425934 -0.52225856 -0.51053061 -0.76284441]\n",
            "  [-1.00969044  1.13160036 -1.92331628 -0.18644938]\n",
            "  [ 0.35743582 -0.44121444  1.8596093  -1.87207567]]]\n",
            "Sum of elements: -9.09738932593682\n"
          ]
        }
      ]
    },
    {
      "cell_type": "markdown",
      "source": [
        "\n",
        "## Exercise 4: Fancy Indexing and Masking\n",
        "\n",
        "  * Create a 1D NumPy array with random integers between 0 and 50 of size 20. Use fancy indexing to extract elements at indices [2, 5, 7, 10, 15] and print them.\n",
        "\n",
        "  * Create a 2D NumPy array with random integers between 0 and 30 of shape (4, 5). Use a boolean mask to select all elements greater than 15 and print them.\n",
        "\n",
        "  * Create a 1D NumPy array of 10 random integers between -10 and 10. Use a boolean mask to set all negative values to zero and print the modified array.\n",
        "\n"
      ],
      "metadata": {
        "id": "sYs6OY614PLs"
      }
    },
    {
      "cell_type": "code",
      "source": [
        "# Create a 1D array with random integers\n",
        "random_array = np.random.randint(0, 50, size=20)\n",
        "print(\"random_array\",random_array)\n",
        "\n",
        "# Extract elements using fancy indexing\n",
        "extracted_elements = random_array[[2, 5, 7, 10, 15]]\n",
        "\n",
        "# Print the extracted elements\n",
        "print(\"Extracted elements:\", extracted_elements)"
      ],
      "metadata": {
        "colab": {
          "base_uri": "https://localhost:8080/"
        },
        "id": "ViMOeeJO4Gke",
        "outputId": "440d37c7-7b00-4662-9c6c-2ce997e88265"
      },
      "execution_count": 95,
      "outputs": [
        {
          "output_type": "stream",
          "name": "stdout",
          "text": [
            "random_array [ 3 45 22 32 38 40 10 26 46 17  1 28 43 41 43 45 41 29 35 41]\n",
            "Extracted elements: [22 40 26  1 45]\n"
          ]
        }
      ]
    },
    {
      "cell_type": "code",
      "source": [
        "# Create a 2D array with random integers\n",
        "random_array_2d = np.random.randint(0, 30, size=(4, 5))\n",
        "print(\"random_array_2d\", random_array_2d)\n",
        "\n",
        "# Create a boolean mask\n",
        "mask = random_array_2d > 15\n",
        "\n",
        "# Select elements using the mask\n",
        "selected_elements = random_array_2d[mask]\n",
        "\n",
        "# Print the selected elements\n",
        "print(\"Selected elements:\", selected_elements)"
      ],
      "metadata": {
        "colab": {
          "base_uri": "https://localhost:8080/"
        },
        "id": "DpWREv785hsz",
        "outputId": "7cf54209-14c2-4a62-fe4c-ec6c80659eab"
      },
      "execution_count": 96,
      "outputs": [
        {
          "output_type": "stream",
          "name": "stdout",
          "text": [
            "random_array_2d [[27 24 24 11  4]\n",
            " [15 21  6 16  5]\n",
            " [ 8  2 15  0  2]\n",
            " [22  0  1 18 12]]\n",
            "Selected elements: [27 24 24 21 16 22 18]\n"
          ]
        }
      ]
    },
    {
      "cell_type": "code",
      "source": [
        "# Create a 1D array of 10 random integers between -10 and 10\n",
        "random_integers = np.random.randint(-10, 10, size=10)\n",
        "\n",
        "# Create a boolean mask for negative values\n",
        "negative_mask = random_integers < 0\n",
        "\n",
        "# Set negative values to zero using the mask\n",
        "random_integers[negative_mask] = 0\n",
        "\n",
        "# Print the modified array\n",
        "print(\"Modified array:\", random_integers)"
      ],
      "metadata": {
        "colab": {
          "base_uri": "https://localhost:8080/"
        },
        "id": "OjW_9RH66CGj",
        "outputId": "42f419a2-46dc-468c-b4a9-d56de6ff3c75"
      },
      "execution_count": 97,
      "outputs": [
        {
          "output_type": "stream",
          "name": "stdout",
          "text": [
            "Modified array: [5 0 0 4 9 6 0 0 0 0]\n"
          ]
        }
      ]
    },
    {
      "cell_type": "markdown",
      "source": [
        "\n",
        "## Exercise 5: Combining and Splitting Arrays\n",
        "\n",
        "  * Create two 1D NumPy arrays of length 5 with random integers between 0 and 10. Concatenate the two arrays and print the result.\n",
        "\n",
        "  * Create a 2D NumPy array of shape (6, 4) with random integers between 0 and 10. Split the array into two equal parts along the row axis and print them.\n",
        "\n",
        "  * Create a 2D NumPy array of shape (3, 6) with random integers between 0 and 10. Split the array into three equal parts along the column axis and print them.\n",
        "\n"
      ],
      "metadata": {
        "id": "DQd5udJv8DAo"
      }
    },
    {
      "cell_type": "code",
      "source": [
        "# Create two 1D arrays with random integers\n",
        "array1 = np.random.randint(0, 10, size=5)\n",
        "array2 = np.random.randint(0, 10, size=5)\n",
        "\n",
        "# Concatenate the arrays\n",
        "concatenated_array = np.concatenate((array1, array2))\n",
        "\n",
        "# Print the result\n",
        "print(\"Concatenated array:\", concatenated_array)"
      ],
      "metadata": {
        "colab": {
          "base_uri": "https://localhost:8080/"
        },
        "id": "KbtBRzih77Jg",
        "outputId": "df977254-e69f-4bc5-81e2-c31e22d4b6f5"
      },
      "execution_count": 98,
      "outputs": [
        {
          "output_type": "stream",
          "name": "stdout",
          "text": [
            "Concatenated array: [3 7 4 3 5 5 3 2 8 2]\n"
          ]
        }
      ]
    },
    {
      "cell_type": "code",
      "source": [
        "# Create a 2D array with random integers\n",
        "array_2d = np.random.randint(0, 10, size=(6, 4))\n",
        "\n",
        "# Split the array into two equal parts along the row axis\n",
        "part1, part2 = np.split(array_2d, 2, axis=0)\n",
        "\n",
        "# Print the result\n",
        "print(part1)\n",
        "print(part2)"
      ],
      "metadata": {
        "id": "CBCc6bJk84jV",
        "colab": {
          "base_uri": "https://localhost:8080/"
        },
        "outputId": "22d006bc-5459-4874-8d20-435ee033e685"
      },
      "execution_count": 100,
      "outputs": [
        {
          "output_type": "stream",
          "name": "stdout",
          "text": [
            "[[8 0 5 1]\n",
            " [3 9 7 3]\n",
            " [6 1 7 3]]\n",
            "[[1 8 5 6]\n",
            " [1 7 8 9]\n",
            " [6 7 7 7]]\n"
          ]
        }
      ]
    },
    {
      "cell_type": "code",
      "source": [
        "# Create a 2D array with random integers\n",
        "array_2d = np.random.randint(0,10, size=(3,6))\n",
        "\n",
        "# Split the array into three equal parts along the column axis\n",
        "part1, part2, part3 = np.split(array_2d,3,axis=1)\n",
        "\n",
        "# Print the result\n",
        "print (part1)\n",
        "print (part2)\n",
        "print (part3)"
      ],
      "metadata": {
        "colab": {
          "base_uri": "https://localhost:8080/"
        },
        "id": "9H0GYLDyMn_f",
        "outputId": "0470244e-8029-4942-b2e0-d289bd584a31"
      },
      "execution_count": 101,
      "outputs": [
        {
          "output_type": "stream",
          "name": "stdout",
          "text": [
            "[[0 8]\n",
            " [6 4]\n",
            " [9 7]]\n",
            "[[7 3]\n",
            " [8 7]\n",
            " [5 2]]\n",
            "[[8 7]\n",
            " [6 8]\n",
            " [4 2]]\n"
          ]
        }
      ]
    },
    {
      "cell_type": "markdown",
      "source": [
        "\n",
        "### Exercise 6: Mathematical Functions and Aggregations\n",
        "\n",
        "  * Create a 1D NumPy array with random integers between 1 and 100 of size 15. Compute and print the mean, median, standard deviation, and variance of the array.\n",
        "\n",
        "  * Create a 2D NumPy array of shape (4, 4) with random integers between 1 and 50. Compute and print the sum of each row and each column.\n",
        "\n",
        "  * Create a 3D NumPy array of shape (2, 3, 4) with random integers between 1 and 20. Find the maximum and minimum values along each axis and print them.\n",
        "\n",
        "\n"
      ],
      "metadata": {
        "id": "1H8uU5LlOLOb"
      }
    },
    {
      "cell_type": "code",
      "source": [
        "# Create a 1D array with random integers\n",
        "array_1d = np.random.randint(1, 101, size=15)\n",
        "\n",
        "# Calculate statistics\n",
        "mean = np.mean(array_1d)\n",
        "median = np.median(array_1d)\n",
        "std_dev = np.std(array_1d)\n",
        "variance = np.var(array_1d)\n",
        "\n",
        "# Print the statistics\n",
        "print(\"array_1d:\", array_1d)\n",
        "print(\"Mean:\", mean)\n",
        "print(\"Median:\", median)\n",
        "print(\"Standard Deviation:\", std_dev)\n",
        "print(\"Variance:\", variance)"
      ],
      "metadata": {
        "colab": {
          "base_uri": "https://localhost:8080/"
        },
        "id": "LZEmrz9_OCiZ",
        "outputId": "4161552d-5468-4abd-b9ea-51124bdb11fe"
      },
      "execution_count": 103,
      "outputs": [
        {
          "output_type": "stream",
          "name": "stdout",
          "text": [
            "array_1d: [15 97 99 40 36 48 46 44 13 32  6 69 35 18 64]\n",
            "Mean: 44.13333333333333\n",
            "Median: 40.0\n",
            "Standard Deviation: 27.209965494690035\n",
            "Variance: 740.3822222222223\n"
          ]
        }
      ]
    },
    {
      "cell_type": "code",
      "source": [
        "# Create a 2D array with random integers\n",
        "array_2d = np.random.randint(1, 51, size=(4, 4))\n",
        "\n",
        "    # Calculate sum of each row\n",
        "row_sums = np.sum(array_2d, axis=1)\n",
        "\n",
        "    # Calculate sum of each column\n",
        "column_sums = np.sum(array_2d, axis=0)\n",
        "\n",
        "    # Print the results\n",
        "print(\"array_2d:\\n\", array_2d)\n",
        "print(\"Row sums:\", row_sums)\n",
        "print(\"Column sums:\", column_sums)"
      ],
      "metadata": {
        "colab": {
          "base_uri": "https://localhost:8080/"
        },
        "id": "LD-_A9IdPWJ_",
        "outputId": "3a56038e-c24a-4adb-c69f-69552b40412b"
      },
      "execution_count": 110,
      "outputs": [
        {
          "output_type": "stream",
          "name": "stdout",
          "text": [
            "array_2d:\n",
            " [[ 7 37 36 33]\n",
            " [15 14 19 11]\n",
            " [41 18 13 25]\n",
            " [12 37  7 19]]\n",
            "Row sums: [113  59  97  75]\n",
            "Column sums: [ 75 106  75  88]\n"
          ]
        }
      ]
    },
    {
      "cell_type": "code",
      "source": [
        "# Create a 3D array with random integers\n",
        "array_3d = np.random.randint(1,21, size=(2, 3, 4))\n",
        "\n",
        "# Find maximum and minimum values along each axis\n",
        "max_values_axis0 = np.max(array_3d, axis=0)\n",
        "min_values_axis0 = np.min(array_3d, axis=0)\n",
        "\n",
        "max_values_axis1 = np.max(array_3d, axis=1)\n",
        "min_values_axis1 = np.min(array_3d, axis=1)\n",
        "\n",
        "max_values_axis2 = np.max(array_3d, axis=2)\n",
        "min_values_axis2 = np.min(array_3d, axis=2)\n",
        "\n",
        "    # Print the results\n",
        "print(\"array_3d:\\n\", array_3d)\n",
        "\n",
        "print(\"\\nMaximum values along axis 0:\\n\", max_values_axis0)\n",
        "print(\"Minimum values along axis 0:\\n\", min_values_axis0)\n",
        "\n",
        "print(\"Maximum values along axis 1:\\n\", max_values_axis1)\n",
        "print(\"Minimum values along axis 1:\\n\", min_values_axis1)\n",
        "\n",
        "print(\"Maximum values along axis 2:\\n\", max_values_axis2)\n",
        "print(\"Minimum values along axis 2:\\n\", min_values_axis2)"
      ],
      "metadata": {
        "colab": {
          "base_uri": "https://localhost:8080/"
        },
        "id": "ugna5TQUQq_r",
        "outputId": "dfffd43a-a15f-4f18-c5d2-995414dad0ef"
      },
      "execution_count": 115,
      "outputs": [
        {
          "output_type": "stream",
          "name": "stdout",
          "text": [
            "array_3d:\n",
            " [[[17  7  3  6]\n",
            "  [20 16  1 20]\n",
            "  [19 14 11  3]]\n",
            "\n",
            " [[15  5 13 11]\n",
            "  [ 1  4 11 11]\n",
            "  [ 4 18 14 10]]]\n",
            "\n",
            "Maximum values along axis 0:\n",
            " [[17  7 13 11]\n",
            " [20 16 11 20]\n",
            " [19 18 14 10]]\n",
            "Minimum values along axis 0:\n",
            " [[15  5  3  6]\n",
            " [ 1  4  1 11]\n",
            " [ 4 14 11  3]]\n",
            "Maximum values along axis 1:\n",
            " [[20 16 11 20]\n",
            " [15 18 14 11]]\n",
            "Minimum values along axis 1:\n",
            " [[17  7  1  3]\n",
            " [ 1  4 11 10]]\n",
            "Maximum values along axis 2:\n",
            " [[17 20 19]\n",
            " [15 11 18]]\n",
            "Minimum values along axis 2:\n",
            " [[3 1 3]\n",
            " [5 1 4]]\n"
          ]
        }
      ]
    },
    {
      "cell_type": "code",
      "source": [],
      "metadata": {
        "id": "_QXJcUTUShHx"
      },
      "execution_count": null,
      "outputs": []
    }
  ]
}