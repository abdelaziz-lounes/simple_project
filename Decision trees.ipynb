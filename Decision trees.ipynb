{
 "cells": [
  {
   "cell_type": "markdown",
   "id": "24868537-5f24-492c-a4dc-afc4ad2874b8",
   "metadata": {},
   "source": [
    "## I. Apprentissage supervisé : Feature engineering et Classification\n",
    "\n",
    "L’objectif dans cette partie est de construire un bon classifieur sur un jeu de données de crédit scoring du\n",
    "fichier `\"credit_scoring.csv\".`\n",
    "1. Chargement des données et préparation : Dans un premier temps nous allons importer le jeu de données\n",
    "et analyser ses caractéristiques.\n",
    "    * Importer ce jeu de données avec la librairie pandas (c.f. read_csv)\n",
    "    * Transformer votre jeu de données issue de pandas qui sera de type Data Frame en numpy Array\n",
    "(c.f. values) et séparer ensuite les variables caractéristiques de la variable à prédire (status) en\n",
    "deux tableaux différents.\n",
    "    * Analyser les propriétés de vos données : taille de l’échantillon (c.f. shape), nombre d’exemples\n",
    "positifs et négatifs (c.f. hist).\n",
    "    * Pour éviter d’avoir un résultat biaisé du classifieur que nous allons construire, séparer les données\n",
    "en deux partie une dite d’apprentissage qui servira à l’apprentissage du classifieur et l’autre dite\n",
    "de test qui servira à son évaluation (c.f. train_test_split).\n",
    "\n",
    "2. Apprentissage et évaluation de modèles : Utiliser ensuite sur votre jeu de données les algorithmes\n",
    "d’apprentissage supervisé suivants :\n",
    "    * Un arbre CART\n",
    "    * k-plus-proches-voisins avec k=5\n",
    "L’objectif est à présent de comparer les résultats obtenus à l’aide de ces deux simples algorithmes sur ce jeu de\n",
    "données. Cette comparaison s’appuiera sur l’estimation de l’accuracy.\n",
    "\n",
    "3. Normalisation des variables continues : Certains algorithmes d’apprentissage supervisé fonctionneront\n",
    "mieux si les données sont normalisées (centrées autour de 0) pour que toutes les variables caractéristiques\n",
    "auront le même poids dans la phase d’apprentissage. Utiliser le module StandardScaler de Scikit-learn\n",
    "pour normaliser vos données. Vous pouvez également tester le module MinMaxScaler. Exécuter à\n",
    "nouveau votre code sur vos données une fois normalisées. Interpréter les résultats obtenus en les\n",
    "comparant avec ceux de la question précédente.\n",
    "\n",
    "4. Création de nouvelles variables caractéristiques par combinaisons linéaires des variables initiales : Il est\n",
    "parfois utile pour certains classifieurs de faire une réduction de dimensions sur les données afin de déceler\n",
    "et créer certaines combinaisons linéaires dans les variables descriptives et augmenter ainsi le pouvoir\n",
    "discriminant du classifieur. Appliquer une ACP (module PCA de Scikit-learn) sur vos données et garder les k\n",
    "premières nouvelles dimensions en les concaténant à vos données normalisées de l’étape précédente.\n",
    "\n",
    "Exécuter à nouveau votre code sur vos nouvelles données. Que se passe t-il ?"
   ]
  },
  {
   "cell_type": "code",
   "execution_count": 1,
   "id": "63e7c852-0214-4500-8841-4bceb5424bb9",
   "metadata": {},
   "outputs": [],
   "source": [
    "import numpy as np\n",
    "import pandas as pd\n",
    "import warnings\n",
    "import matplotlib.pyplot as plt\n",
    "warnings.filterwarnings('ignore')"
   ]
  },
  {
   "cell_type": "code",
   "execution_count": 2,
   "id": "747efc06-8a27-481d-9716-dfef39a8af7c",
   "metadata": {},
   "outputs": [],
   "source": [
    "df = pd.read_csv('data/credit_scoring.csv', delimiter=';')"
   ]
  },
  {
   "cell_type": "code",
   "execution_count": 3,
   "id": "4bf2359e-a6d5-4390-8175-8d6c3bec84fb",
   "metadata": {},
   "outputs": [
    {
     "name": "stdout",
     "output_type": "stream",
     "text": [
      "<class 'pandas.core.frame.DataFrame'>\n",
      "RangeIndex: 4375 entries, 0 to 4374\n",
      "Data columns (total 14 columns):\n",
      " #   Column     Non-Null Count  Dtype  \n",
      "---  ------     --------------  -----  \n",
      " 0   Seniority  4375 non-null   float64\n",
      " 1   Home       4375 non-null   float64\n",
      " 2   Time       4375 non-null   float64\n",
      " 3   Age        4375 non-null   float64\n",
      " 4   Marital    4375 non-null   float64\n",
      " 5   Records    4375 non-null   float64\n",
      " 6   Job        4375 non-null   float64\n",
      " 7   Expenses   4375 non-null   float64\n",
      " 8   Income     4375 non-null   float64\n",
      " 9   Assets     4375 non-null   float64\n",
      " 10  Debt       4375 non-null   float64\n",
      " 11  Amount     4375 non-null   float64\n",
      " 12  Price      4375 non-null   float64\n",
      " 13  Status     4375 non-null   int64  \n",
      "dtypes: float64(13), int64(1)\n",
      "memory usage: 478.6 KB\n"
     ]
    },
    {
     "data": {
      "text/html": [
       "<div>\n",
       "<style scoped>\n",
       "    .dataframe tbody tr th:only-of-type {\n",
       "        vertical-align: middle;\n",
       "    }\n",
       "\n",
       "    .dataframe tbody tr th {\n",
       "        vertical-align: top;\n",
       "    }\n",
       "\n",
       "    .dataframe thead th {\n",
       "        text-align: right;\n",
       "    }\n",
       "</style>\n",
       "<table border=\"1\" class=\"dataframe\">\n",
       "  <thead>\n",
       "    <tr style=\"text-align: right;\">\n",
       "      <th></th>\n",
       "      <th>Seniority</th>\n",
       "      <th>Home</th>\n",
       "      <th>Time</th>\n",
       "      <th>Age</th>\n",
       "      <th>Marital</th>\n",
       "      <th>Records</th>\n",
       "      <th>Job</th>\n",
       "      <th>Expenses</th>\n",
       "      <th>Income</th>\n",
       "      <th>Assets</th>\n",
       "      <th>Debt</th>\n",
       "      <th>Amount</th>\n",
       "      <th>Price</th>\n",
       "      <th>Status</th>\n",
       "    </tr>\n",
       "  </thead>\n",
       "  <tbody>\n",
       "    <tr>\n",
       "      <th>count</th>\n",
       "      <td>4375.000000</td>\n",
       "      <td>4375.000000</td>\n",
       "      <td>4375.000000</td>\n",
       "      <td>4375.000000</td>\n",
       "      <td>4375.000000</td>\n",
       "      <td>4375.000000</td>\n",
       "      <td>4375.000000</td>\n",
       "      <td>4375.000000</td>\n",
       "      <td>4375.000000</td>\n",
       "      <td>4375.000000</td>\n",
       "      <td>4375.000000</td>\n",
       "      <td>4375.000000</td>\n",
       "      <td>4375.000000</td>\n",
       "      <td>4375.000000</td>\n",
       "    </tr>\n",
       "    <tr>\n",
       "      <th>mean</th>\n",
       "      <td>7.985143</td>\n",
       "      <td>0.528229</td>\n",
       "      <td>46.518857</td>\n",
       "      <td>37.021714</td>\n",
       "      <td>0.271086</td>\n",
       "      <td>1.172114</td>\n",
       "      <td>0.364114</td>\n",
       "      <td>55.595200</td>\n",
       "      <td>130.848914</td>\n",
       "      <td>5298.431314</td>\n",
       "      <td>342.551543</td>\n",
       "      <td>1037.463771</td>\n",
       "      <td>1459.732343</td>\n",
       "      <td>0.722057</td>\n",
       "    </tr>\n",
       "    <tr>\n",
       "      <th>std</th>\n",
       "      <td>8.173922</td>\n",
       "      <td>0.499260</td>\n",
       "      <td>14.619282</td>\n",
       "      <td>10.973187</td>\n",
       "      <td>0.444571</td>\n",
       "      <td>0.377523</td>\n",
       "      <td>0.481236</td>\n",
       "      <td>19.451569</td>\n",
       "      <td>86.199518</td>\n",
       "      <td>10582.377366</td>\n",
       "      <td>1217.622800</td>\n",
       "      <td>469.753531</td>\n",
       "      <td>621.775995</td>\n",
       "      <td>0.448036</td>\n",
       "    </tr>\n",
       "    <tr>\n",
       "      <th>min</th>\n",
       "      <td>0.000000</td>\n",
       "      <td>0.000000</td>\n",
       "      <td>6.000000</td>\n",
       "      <td>18.000000</td>\n",
       "      <td>0.000000</td>\n",
       "      <td>1.000000</td>\n",
       "      <td>0.000000</td>\n",
       "      <td>35.000000</td>\n",
       "      <td>0.000000</td>\n",
       "      <td>0.000000</td>\n",
       "      <td>0.000000</td>\n",
       "      <td>100.000000</td>\n",
       "      <td>105.000000</td>\n",
       "      <td>0.000000</td>\n",
       "    </tr>\n",
       "    <tr>\n",
       "      <th>25%</th>\n",
       "      <td>2.000000</td>\n",
       "      <td>0.000000</td>\n",
       "      <td>36.000000</td>\n",
       "      <td>28.000000</td>\n",
       "      <td>0.000000</td>\n",
       "      <td>1.000000</td>\n",
       "      <td>0.000000</td>\n",
       "      <td>35.000000</td>\n",
       "      <td>80.000000</td>\n",
       "      <td>0.000000</td>\n",
       "      <td>0.000000</td>\n",
       "      <td>700.000000</td>\n",
       "      <td>1116.500000</td>\n",
       "      <td>0.000000</td>\n",
       "    </tr>\n",
       "    <tr>\n",
       "      <th>50%</th>\n",
       "      <td>5.000000</td>\n",
       "      <td>1.000000</td>\n",
       "      <td>48.000000</td>\n",
       "      <td>36.000000</td>\n",
       "      <td>0.000000</td>\n",
       "      <td>1.000000</td>\n",
       "      <td>0.000000</td>\n",
       "      <td>51.000000</td>\n",
       "      <td>120.000000</td>\n",
       "      <td>3000.000000</td>\n",
       "      <td>0.000000</td>\n",
       "      <td>1000.000000</td>\n",
       "      <td>1400.000000</td>\n",
       "      <td>1.000000</td>\n",
       "    </tr>\n",
       "    <tr>\n",
       "      <th>75%</th>\n",
       "      <td>12.000000</td>\n",
       "      <td>1.000000</td>\n",
       "      <td>60.000000</td>\n",
       "      <td>45.000000</td>\n",
       "      <td>1.000000</td>\n",
       "      <td>1.000000</td>\n",
       "      <td>1.000000</td>\n",
       "      <td>72.000000</td>\n",
       "      <td>165.000000</td>\n",
       "      <td>6000.000000</td>\n",
       "      <td>0.000000</td>\n",
       "      <td>1300.000000</td>\n",
       "      <td>1688.000000</td>\n",
       "      <td>1.000000</td>\n",
       "    </tr>\n",
       "    <tr>\n",
       "      <th>max</th>\n",
       "      <td>48.000000</td>\n",
       "      <td>1.000000</td>\n",
       "      <td>72.000000</td>\n",
       "      <td>68.000000</td>\n",
       "      <td>1.000000</td>\n",
       "      <td>2.000000</td>\n",
       "      <td>1.000000</td>\n",
       "      <td>173.000000</td>\n",
       "      <td>959.000000</td>\n",
       "      <td>250000.000000</td>\n",
       "      <td>30000.000000</td>\n",
       "      <td>4500.000000</td>\n",
       "      <td>11140.000000</td>\n",
       "      <td>1.000000</td>\n",
       "    </tr>\n",
       "  </tbody>\n",
       "</table>\n",
       "</div>"
      ],
      "text/plain": [
       "         Seniority         Home         Time          Age      Marital  \\\n",
       "count  4375.000000  4375.000000  4375.000000  4375.000000  4375.000000   \n",
       "mean      7.985143     0.528229    46.518857    37.021714     0.271086   \n",
       "std       8.173922     0.499260    14.619282    10.973187     0.444571   \n",
       "min       0.000000     0.000000     6.000000    18.000000     0.000000   \n",
       "25%       2.000000     0.000000    36.000000    28.000000     0.000000   \n",
       "50%       5.000000     1.000000    48.000000    36.000000     0.000000   \n",
       "75%      12.000000     1.000000    60.000000    45.000000     1.000000   \n",
       "max      48.000000     1.000000    72.000000    68.000000     1.000000   \n",
       "\n",
       "           Records          Job     Expenses       Income         Assets  \\\n",
       "count  4375.000000  4375.000000  4375.000000  4375.000000    4375.000000   \n",
       "mean      1.172114     0.364114    55.595200   130.848914    5298.431314   \n",
       "std       0.377523     0.481236    19.451569    86.199518   10582.377366   \n",
       "min       1.000000     0.000000    35.000000     0.000000       0.000000   \n",
       "25%       1.000000     0.000000    35.000000    80.000000       0.000000   \n",
       "50%       1.000000     0.000000    51.000000   120.000000    3000.000000   \n",
       "75%       1.000000     1.000000    72.000000   165.000000    6000.000000   \n",
       "max       2.000000     1.000000   173.000000   959.000000  250000.000000   \n",
       "\n",
       "               Debt       Amount         Price       Status  \n",
       "count   4375.000000  4375.000000   4375.000000  4375.000000  \n",
       "mean     342.551543  1037.463771   1459.732343     0.722057  \n",
       "std     1217.622800   469.753531    621.775995     0.448036  \n",
       "min        0.000000   100.000000    105.000000     0.000000  \n",
       "25%        0.000000   700.000000   1116.500000     0.000000  \n",
       "50%        0.000000  1000.000000   1400.000000     1.000000  \n",
       "75%        0.000000  1300.000000   1688.000000     1.000000  \n",
       "max    30000.000000  4500.000000  11140.000000     1.000000  "
      ]
     },
     "execution_count": 3,
     "metadata": {},
     "output_type": "execute_result"
    }
   ],
   "source": [
    "df.info()\n",
    "df.describe()"
   ]
  },
  {
   "cell_type": "code",
   "execution_count": 4,
   "id": "b4bc2d3d-d088-416a-8ce8-1049d603a1f9",
   "metadata": {},
   "outputs": [],
   "source": [
    "# Separate features (X) and target (y)\n",
    "X = df.drop('Status', axis=1).values\n",
    "y = df['Status'].values"
   ]
  },
  {
   "cell_type": "code",
   "execution_count": 5,
   "id": "80ce5e49-6f7e-45f7-96fe-dc712435ce32",
   "metadata": {},
   "outputs": [
    {
     "name": "stdout",
     "output_type": "stream",
     "text": [
      "Sample size: 4375\n",
      "Number of positive examples: 3159\n",
      "Number of negative examples: 1216\n"
     ]
    }
   ],
   "source": [
    "# Sample size\n",
    "sample_size = X.shape[0]\n",
    "\n",
    "# Number of positive examples\n",
    "num_positive = np.sum(y) # Assuming 'status' is 1 for positive and 0 for negative\n",
    "# or num_positive = (y == 1).sum()\n",
    "\n",
    "# Number of negative examples\n",
    "num_negative = sample_size - num_positive\n",
    "# or num_negative = (y == 0).sum() # This version uses boolean indexing\n",
    "\n",
    "# Display results\n",
    "print(f\"Sample size: {sample_size}\")\n",
    "print(f\"Number of positive examples: {num_positive}\")\n",
    "print(f\"Number of negative examples: {num_negative}\")"
   ]
  },
  {
   "cell_type": "code",
   "execution_count": 6,
   "id": "dfc82aba-6874-435c-ae08-92d12e711f15",
   "metadata": {},
   "outputs": [
    {
     "data": {
      "image/png": "[encoded data removed]",
      "text/plain": [
       "<Figure size 640x480 with 1 Axes>"
      ]
     },
     "metadata": {},
     "output_type": "display_data"
    }
   ],
   "source": [
    "# Visualize with a histogram\n",
    "plt.hist(y, bins=2 , edgecolor='black')\n",
    "plt.xticks([0, 1], ['Negative', 'Positive'])\n",
    "plt.xlabel('Status')\n",
    "plt.ylabel('Count')\n",
    "plt.title('Distribution of Status, positive and negative examples')\n",
    "plt.show();"
   ]
  },
  {
   "cell_type": "code",
   "execution_count": 7,
   "id": "54acb3cf-1242-4853-af0d-c22dfaf64c78",
   "metadata": {},
   "outputs": [],
   "source": [
    "from sklearn.model_selection import train_test_split\n",
    "X_train, X_test, y_train, y_test = train_test_split(X,y, test_size=0.2, random_state=42)"
   ]
  },
  {
   "cell_type": "code",
   "execution_count": 8,
   "id": "6280cc17-72d1-4301-989b-e2ae4def76fd",
   "metadata": {},
   "outputs": [],
   "source": [
    "from sklearn.tree import DecisionTreeClassifier\n",
    "from sklearn.metrics import accuracy_score"
   ]
  },
  {
   "cell_type": "code",
   "execution_count": 9,
   "id": "64074abe-3a86-49ea-8d2e-d658ab4abccf",
   "metadata": {},
   "outputs": [],
   "source": [
    "# Create a Decision Tree classifier object and train it:\n",
    "dt_classifier = DecisionTreeClassifier(random_state=42)\n",
    "dt_classifier.fit(X_train, y_train)\n",
    "\n",
    "y_pred_dt = dt_classifier.predict(X_test)\n",
    "accuracy_dt = accuracy_score(y_test, y_pred_dt)"
   ]
  },
  {
   "cell_type": "code",
   "execution_count": 10,
   "id": "17e1b0fd-530d-4466-b367-d0f22827a0c3",
   "metadata": {},
   "outputs": [],
   "source": [
    "from sklearn.neighbors import KNeighborsClassifier\n",
    "\n",
    "knn_classifier = KNeighborsClassifier(n_neighbors=5)\n",
    "knn_classifier.fit(X_train, y_train)\n",
    "y_pred_knn = knn_classifier.predict(X_test)\n",
    "accuracy_knn= accuracy_score(y_test, y_pred_knn)"
   ]
  },
  {
   "cell_type": "code",
   "execution_count": 12,
   "id": "c4147dd2-0284-43c5-86a8-b5fa653364c9",
   "metadata": {},
   "outputs": [
    {
     "name": "stdout",
     "output_type": "stream",
     "text": [
      "Decision Tree Accuracy: 0.7302857142857143\n",
      "k-NN Accuracy: 0.7028571428571428\n"
     ]
    }
   ],
   "source": [
    "print(f\"Decision Tree Accuracy: {accuracy_dt}\")\n",
    "print(f\"k-NN Accuracy: {accuracy_knn}\")"
   ]
  },
  {
   "cell_type": "code",
   "execution_count": 13,
   "id": "8ff85b7d-0537-4ce4-b8ed-b02341ae2e56",
   "metadata": {},
   "outputs": [
    {
     "name": "stdout",
     "output_type": "stream",
     "text": [
      "Précision de l'arbre de décision (normalisé) : 0.728\n"
     ]
    }
   ],
   "source": [
    "from sklearn.preprocessing import StandardScaler\n",
    "\n",
    "scaler = StandardScaler()\n",
    "X_train_scaled = scaler.fit_transform(X_train)\n",
    "X_test_scaled = scaler.transform(X_test)\n",
    "\n",
    "dt_classifier.fit(X_train_scaled, y_train)\n",
    "y_pred_dt = dt_classifier.predict(X_test_scaled)\n",
    "accuracy_dt_scaled = accuracy_score(y_test, y_pred_dt)\n",
    "\n",
    "print(\"Précision de l'arbre de décision (normalisé) :\", accuracy_dt_scaled)"
   ]
  },
  {
   "cell_type": "code",
   "execution_count": 14,
   "id": "8682915b-31c1-4213-a209-1bce01f9a680",
   "metadata": {},
   "outputs": [
    {
     "name": "stdout",
     "output_type": "stream",
     "text": [
      "Précision de l'arbre de décision knn (normalisé) : 0.7702857142857142\n"
     ]
    }
   ],
   "source": [
    "from sklearn.preprocessing import StandardScaler\n",
    "scaler = StandardScaler()\n",
    "X_train_scaled = scaler.fit_transform(X_train)\n",
    "X_test_scaled = scaler.transform(X_test)\n",
    "\n",
    "knn_classifier.fit(X_train_scaled, y_train)\n",
    "y_pred_knn = knn_classifier.predict(X_test_scaled)\n",
    "\n",
    "accuracy_knn_scaled = accuracy_score(y_test, y_pred_knn)\n",
    "\n",
    "print(\"Précision de l'arbre de décision knn (normalisé) :\", accuracy_knn_scaled)"
   ]
  },
  {
   "cell_type": "code",
   "execution_count": 15,
   "id": "4b839cf2-983e-46a9-80f0-6686aab4aa75",
   "metadata": {},
   "outputs": [
    {
     "name": "stdout",
     "output_type": "stream",
     "text": [
      "Précision de l'arbre de décision (PCA) : 0.7005714285714286\n",
      "Précision de k-NN (PCA) : 0.7542857142857143\n"
     ]
    }
   ],
   "source": [
    "from sklearn.decomposition import PCA\n",
    "\n",
    "# Réduction de dimension avec PCA\n",
    "k = 5\n",
    "pca = PCA(n_components=k)\n",
    "X_train_pca = pca.fit_transform(X_train_scaled)# Ajustez PCA aux données d'entraînement normalisées\n",
    "X_test_pca = pca.transform(X_test_scaled)# Transformez les données de test normalisées\n",
    "\n",
    "# Réexécution des modèles sur les données aprés PCA\n",
    "dt_classifier.fit(X_train_pca, y_train)\n",
    "y_pred_dt_pca = dt_classifier.predict(X_test_pca)\n",
    "accuracy_dt_pca = accuracy_score(y_test, y_pred_dt_pca)\n",
    "\n",
    "print(\"Précision de l'arbre de décision (PCA) :\", accuracy_dt_pca)\n",
    "\n",
    "knn_classifier.fit(X_train_pca, y_train)\n",
    "y_pred_knn_pca= knn_classifier.predict(X_test_pca)\n",
    "accuracy_knn_pca = accuracy_score(y_test, y_pred_knn_pca)\n",
    "\n",
    "print(\"Précision de k-NN (PCA) :\", accuracy_knn_pca)"
   ]
  },
  {
   "cell_type": "code",
   "execution_count": null,
   "id": "c535a52d-690a-4077-9593-01c38b72b1fb",
   "metadata": {},
   "outputs": [],
   "source": []
  }
 ],
 "metadata": {
  "kernelspec": {
   "display_name": "Python 3 (ipykernel)",
   "language": "python",
   "name": "python3"
  },
  "language_info": {
   "codemirror_mode": {
    "name": "ipython",
    "version": 3
   },
   "file_extension": ".py",
   "mimetype": "text/x-python",
   "name": "python",
   "nbconvert_exporter": "python",
   "pygments_lexer": "ipython3",
   "version": "3.12.4"
  }
 },
 "nbformat": 4,
 "nbformat_minor": 5
}
