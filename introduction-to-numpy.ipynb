{
 "cells": [
  {
   "cell_type": "markdown",
   "id": "64655335-c774-48ec-acbb-644713fa8de6",
   "metadata": {},
   "source": [
    "## 0. Importing NumPy\n",
    "To get started using NumPy, the first step is to import it.\n",
    "\n",
    "The most common way (and method you should use) is to import NumPy as the abbreviation np.\n",
    "\n",
    "If you see the letters np used anywhere in machine learning or data science, it's probably referring to the NumPy library."
   ]
  },
  {
   "cell_type": "code",
   "execution_count": 30,
   "id": "6a7135cd-9147-4ba3-8fd2-160b84c92cfc",
   "metadata": {},
   "outputs": [
    {
     "name": "stdout",
     "output_type": "stream",
     "text": [
      "1.26.4\n"
     ]
    }
   ],
   "source": [
    "import numpy as np\n",
    "\n",
    "#check the version\n",
    "print(np.__version__)"
   ]
  },
  {
   "cell_type": "markdown",
   "id": "612c8e94-5f8c-43bf-b96f-2c3e81f70c03",
   "metadata": {},
   "source": [
    "\n",
    "1. DataTypes and attributes\n",
    "\n",
    "    Note: Important to remember the main type in NumPy is ndarray, even seemingly different kinds of arrays are still ndarray's. This means an operation you do on one array, will work on another.\n",
    "\n"
   ]
  },
  {
   "cell_type": "code",
   "execution_count": 31,
   "id": "6f7834ca-10ab-43e1-9233-8f186d9b8dc2",
   "metadata": {},
   "outputs": [],
   "source": [
    "# 1-dimensonal array, also referred to as a vector\n",
    "a1 = np.array([1, 2, 3])\n",
    "\n",
    "# 2-dimensional array, also referred to as matrix\n",
    "a2 = np.array([[1, 2.0, 3.3],\n",
    "               [4, 5, 6.5]])\n",
    "\n",
    "# 3-dimensional array, also referred to as a matrix\n",
    "a3 = np.array([\n",
    "    [\n",
    "        [1, 2, 3],\n",
    "        [4, 5, 6],\n",
    "        [7, 8, 9]\n",
    "    ],\n",
    "    [\n",
    "        [10, 11, 12],\n",
    "        [13, 14, 15],\n",
    "        [16, 17, 18]\n",
    "    ]\n",
    "])\n"
   ]
  },
  {
   "cell_type": "code",
   "execution_count": 32,
   "id": "7dcfcfef-c3a7-44e4-bc70-7a4a5c0b7058",
   "metadata": {},
   "outputs": [
    {
     "data": {
      "text/plain": [
       "(3,)"
      ]
     },
     "execution_count": 32,
     "metadata": {},
     "output_type": "execute_result"
    }
   ],
   "source": [
    "a1.shape"
   ]
  },
  {
   "cell_type": "code",
   "execution_count": 33,
   "id": "83c0c0cc-3ebe-485c-b548-b4bc5ed98495",
   "metadata": {},
   "outputs": [
    {
     "data": {
      "text/plain": [
       "(1, 3, dtype('int64'), numpy.ndarray)"
      ]
     },
     "execution_count": 33,
     "metadata": {},
     "output_type": "execute_result"
    }
   ],
   "source": [
    "a1.ndim, a1.size, a1.dtype, type(a1)"
   ]
  },
  {
   "cell_type": "code",
   "execution_count": 34,
   "id": "1c4992e0-863c-4aa0-825a-4e6702c4b80f",
   "metadata": {},
   "outputs": [
    {
     "data": {
      "text/plain": [
       "((2, 3), 2, dtype('float64'), 6, numpy.ndarray)"
      ]
     },
     "execution_count": 34,
     "metadata": {},
     "output_type": "execute_result"
    }
   ],
   "source": [
    "a2.shape, a2.ndim, a2.dtype, a2.size, type(a2)"
   ]
  },
  {
   "cell_type": "code",
   "execution_count": 35,
   "id": "2b18c50a-e7b5-4458-8add-7839a4c9809e",
   "metadata": {},
   "outputs": [
    {
     "data": {
      "text/plain": [
       "((2, 3, 3), 3, dtype('int64'), 18, numpy.ndarray)"
      ]
     },
     "execution_count": 35,
     "metadata": {},
     "output_type": "execute_result"
    }
   ],
   "source": [
    "a3.shape, a3.ndim, a3.dtype, a3.size, type(a3)"
   ]
  },
  {
   "cell_type": "code",
   "execution_count": 36,
   "id": "29373a62-3806-4196-a303-def33f3dd4dd",
   "metadata": {},
   "outputs": [
    {
     "data": {
      "text/plain": [
       "array([1, 2, 3])"
      ]
     },
     "execution_count": 36,
     "metadata": {},
     "output_type": "execute_result"
    }
   ],
   "source": [
    "a1"
   ]
  },
  {
   "cell_type": "code",
   "execution_count": 37,
   "id": "adabd03b-ca4b-4198-ae87-d92103b8fde8",
   "metadata": {},
   "outputs": [
    {
     "data": {
      "text/plain": [
       "array([[1. , 2. , 3.3],\n",
       "       [4. , 5. , 6.5]])"
      ]
     },
     "execution_count": 37,
     "metadata": {},
     "output_type": "execute_result"
    }
   ],
   "source": [
    "a2"
   ]
  },
  {
   "cell_type": "code",
   "execution_count": 38,
   "id": "97867d8e-979a-41e1-a368-a75addb0df79",
   "metadata": {},
   "outputs": [
    {
     "data": {
      "text/plain": [
       "array([[[ 1,  2,  3],\n",
       "        [ 4,  5,  6],\n",
       "        [ 7,  8,  9]],\n",
       "\n",
       "       [[10, 11, 12],\n",
       "        [13, 14, 15],\n",
       "        [16, 17, 18]]])"
      ]
     },
     "execution_count": 38,
     "metadata": {},
     "output_type": "execute_result"
    }
   ],
   "source": [
    "a3"
   ]
  },
  {
   "cell_type": "markdown",
   "id": "48fe8b47-dd24-48e8-b53b-750acf21a330",
   "metadata": {},
   "source": [
    "# Anatomy of an array"
   ]
  },
  {
   "cell_type": "markdown",
   "id": "797f5b69-3bb7-4e62-9de8-5e3d36a098fc",
   "metadata": {},
   "source": [
    "![](anatomy_ndarrays.png)"
   ]
  },
  {
   "cell_type": "markdown",
   "id": "02191a0b-522f-40ef-ada2-03e7f1feb4a6",
   "metadata": {},
   "source": [
    "Key terms:\n",
    "\n",
    "    Array - A list of numbers, can be multi-dimensional.\n",
    "    Scalar - A single number (e.g. 7).\n",
    "    Vector - A list of numbers with 1-dimension (e.g. np.array([1, 2, 3])).\n",
    "    Matrix - A (usually) multi-dimensional list of numbers (e.g. np.array([[1, 2, 3], [4, 5, 6]])).\n"
   ]
  },
  {
   "cell_type": "markdown",
   "id": "553dcc49-6bfa-4afd-b8dd-e1016b436d7c",
   "metadata": {},
   "source": [
    "\n",
    "pandas DataFrame out of NumPy arrays\n",
    "\n",
    "This is to examplify how NumPy is the backbone of many other libraries.\n"
   ]
  },
  {
   "cell_type": "code",
   "execution_count": 39,
   "id": "03bcbef2-0f12-4b78-b3ea-61e587c062c7",
   "metadata": {},
   "outputs": [
    {
     "data": {
      "text/html": [
       "<div>\n",
       "<style scoped>\n",
       "    .dataframe tbody tr th:only-of-type {\n",
       "        vertical-align: middle;\n",
       "    }\n",
       "\n",
       "    .dataframe tbody tr th {\n",
       "        vertical-align: top;\n",
       "    }\n",
       "\n",
       "    .dataframe thead th {\n",
       "        text-align: right;\n",
       "    }\n",
       "</style>\n",
       "<table border=\"1\" class=\"dataframe\">\n",
       "  <thead>\n",
       "    <tr style=\"text-align: right;\">\n",
       "      <th></th>\n",
       "      <th>a</th>\n",
       "      <th>b</th>\n",
       "      <th>c</th>\n",
       "    </tr>\n",
       "  </thead>\n",
       "  <tbody>\n",
       "    <tr>\n",
       "      <th>0</th>\n",
       "      <td>7</td>\n",
       "      <td>0</td>\n",
       "      <td>0</td>\n",
       "    </tr>\n",
       "    <tr>\n",
       "      <th>1</th>\n",
       "      <td>2</td>\n",
       "      <td>5</td>\n",
       "      <td>2</td>\n",
       "    </tr>\n",
       "    <tr>\n",
       "      <th>2</th>\n",
       "      <td>9</td>\n",
       "      <td>8</td>\n",
       "      <td>8</td>\n",
       "    </tr>\n",
       "    <tr>\n",
       "      <th>3</th>\n",
       "      <td>6</td>\n",
       "      <td>4</td>\n",
       "      <td>5</td>\n",
       "    </tr>\n",
       "    <tr>\n",
       "      <th>4</th>\n",
       "      <td>3</td>\n",
       "      <td>3</td>\n",
       "      <td>0</td>\n",
       "    </tr>\n",
       "  </tbody>\n",
       "</table>\n",
       "</div>"
      ],
      "text/plain": [
       "   a  b  c\n",
       "0  7  0  0\n",
       "1  2  5  2\n",
       "2  9  8  8\n",
       "3  6  4  5\n",
       "4  3  3  0"
      ]
     },
     "execution_count": 39,
     "metadata": {},
     "output_type": "execute_result"
    }
   ],
   "source": [
    "import pandas as pd\n",
    "\n",
    "# np.random.randint(10, size=(5, 3)):\n",
    "# This generates a 2D array (matrix) of random integers.\n",
    "# 10: Specifies the upper limit for the random integers (0 to 9).\n",
    "# size=(5, 3): Specifies the shape of the array—5 rows and 3 columns.\n",
    "df= pd.DataFrame(np.random.randint(10, size=(5,3)),columns=['a','b','c'])\n",
    "\n",
    "df"
   ]
  },
  {
   "cell_type": "code",
   "execution_count": 40,
   "id": "5c16d9e1-4feb-402e-8afa-13b9cf6a55b8",
   "metadata": {},
   "outputs": [
    {
     "data": {
      "text/plain": [
       "array([[1. , 2. , 3.3],\n",
       "       [4. , 5. , 6.5]])"
      ]
     },
     "execution_count": 40,
     "metadata": {},
     "output_type": "execute_result"
    }
   ],
   "source": [
    "a2"
   ]
  },
  {
   "cell_type": "code",
   "execution_count": 41,
   "id": "8c60d637-4ab3-4d15-bd62-e91b8675f03f",
   "metadata": {},
   "outputs": [
    {
     "data": {
      "text/html": [
       "<div>\n",
       "<style scoped>\n",
       "    .dataframe tbody tr th:only-of-type {\n",
       "        vertical-align: middle;\n",
       "    }\n",
       "\n",
       "    .dataframe tbody tr th {\n",
       "        vertical-align: top;\n",
       "    }\n",
       "\n",
       "    .dataframe thead th {\n",
       "        text-align: right;\n",
       "    }\n",
       "</style>\n",
       "<table border=\"1\" class=\"dataframe\">\n",
       "  <thead>\n",
       "    <tr style=\"text-align: right;\">\n",
       "      <th></th>\n",
       "      <th>0</th>\n",
       "      <th>1</th>\n",
       "      <th>2</th>\n",
       "    </tr>\n",
       "  </thead>\n",
       "  <tbody>\n",
       "    <tr>\n",
       "      <th>0</th>\n",
       "      <td>1.0</td>\n",
       "      <td>2.0</td>\n",
       "      <td>3.3</td>\n",
       "    </tr>\n",
       "    <tr>\n",
       "      <th>1</th>\n",
       "      <td>4.0</td>\n",
       "      <td>5.0</td>\n",
       "      <td>6.5</td>\n",
       "    </tr>\n",
       "  </tbody>\n",
       "</table>\n",
       "</div>"
      ],
      "text/plain": [
       "     0    1    2\n",
       "0  1.0  2.0  3.3\n",
       "1  4.0  5.0  6.5"
      ]
     },
     "execution_count": 41,
     "metadata": {},
     "output_type": "execute_result"
    }
   ],
   "source": [
    "df2= pd.DataFrame(a2)\n",
    "df2"
   ]
  },
  {
   "cell_type": "markdown",
   "id": "29cf4fd1-86a4-4595-b6a1-20eec6a7a257",
   "metadata": {},
   "source": [
    "\n",
    "## 2. Creating arrays\n",
    "\n",
    "    np.array()\n",
    "    np.ones()\n",
    "    np.zeros()\n",
    "    np.random.rand(5, 3)\n",
    "    np.random.randint(10, size=5)\n",
    "    np.random.seed() - pseudo random numbers\n",
    "    Searching the documentation example (finding np.unique() and using it)\n",
    "\n"
   ]
  },
  {
   "cell_type": "code",
   "execution_count": 42,
   "id": "f9cdf597-a751-423f-87f5-2ae79b5d4021",
   "metadata": {},
   "outputs": [
    {
     "data": {
      "text/plain": [
       "array([1, 2, 3])"
      ]
     },
     "execution_count": 42,
     "metadata": {},
     "output_type": "execute_result"
    }
   ],
   "source": [
    "# Create a simple array\n",
    "simple_array = np.array([1, 2, 3])\n",
    "simple_array"
   ]
  },
  {
   "cell_type": "code",
   "execution_count": 43,
   "id": "975c30b9-aac0-4949-acab-882fcb0b2bf3",
   "metadata": {},
   "outputs": [
    {
     "data": {
      "text/plain": [
       "(array([1, 2, 3]), dtype('int64'))"
      ]
     },
     "execution_count": 43,
     "metadata": {},
     "output_type": "execute_result"
    }
   ],
   "source": [
    "simple_array = np.array((1, 2, 3))\n",
    "simple_array, simple_array.dtype"
   ]
  },
  {
   "cell_type": "code",
   "execution_count": 44,
   "id": "0c367609-f6b2-4f18-9883-86613154ebe3",
   "metadata": {},
   "outputs": [],
   "source": [
    "ones= np.ones((3,2), dtype=\"int64\")"
   ]
  },
  {
   "cell_type": "code",
   "execution_count": 45,
   "id": "2513c741-f911-439b-84ca-384b1097df84",
   "metadata": {},
   "outputs": [
    {
     "data": {
      "text/plain": [
       "array([[1, 1],\n",
       "       [1, 1],\n",
       "       [1, 1]])"
      ]
     },
     "execution_count": 45,
     "metadata": {},
     "output_type": "execute_result"
    }
   ],
   "source": [
    "ones"
   ]
  },
  {
   "cell_type": "code",
   "execution_count": 46,
   "id": "751ada38-7284-4b22-837a-6d0240a1677d",
   "metadata": {},
   "outputs": [
    {
     "data": {
      "text/plain": [
       "dtype('int64')"
      ]
     },
     "execution_count": 46,
     "metadata": {},
     "output_type": "execute_result"
    }
   ],
   "source": [
    "# The default datatype is 'float64'\n",
    "ones.dtype"
   ]
  },
  {
   "cell_type": "code",
   "execution_count": 47,
   "id": "686ee165-6845-48f9-bfd8-8da7e16e1961",
   "metadata": {},
   "outputs": [
    {
     "data": {
      "text/plain": [
       "array([[1., 1.],\n",
       "       [1., 1.],\n",
       "       [1., 1.]])"
      ]
     },
     "execution_count": 47,
     "metadata": {},
     "output_type": "execute_result"
    }
   ],
   "source": [
    "# You can change the datatype with .astype()\n",
    "ones.astype(float)"
   ]
  },
  {
   "cell_type": "code",
   "execution_count": 48,
   "id": "ee73735f-1280-47b4-aad7-86c1c7446636",
   "metadata": {},
   "outputs": [],
   "source": [
    "# Create an array of zeros\n",
    "zeros=np.zeros((5,3,3))"
   ]
  },
  {
   "cell_type": "code",
   "execution_count": 49,
   "id": "4cbb6d0f-4e33-4aeb-bcc7-e7d0ab1adf26",
   "metadata": {},
   "outputs": [
    {
     "data": {
      "text/plain": [
       "array([[[0., 0., 0.],\n",
       "        [0., 0., 0.],\n",
       "        [0., 0., 0.]],\n",
       "\n",
       "       [[0., 0., 0.],\n",
       "        [0., 0., 0.],\n",
       "        [0., 0., 0.]],\n",
       "\n",
       "       [[0., 0., 0.],\n",
       "        [0., 0., 0.],\n",
       "        [0., 0., 0.]],\n",
       "\n",
       "       [[0., 0., 0.],\n",
       "        [0., 0., 0.],\n",
       "        [0., 0., 0.]],\n",
       "\n",
       "       [[0., 0., 0.],\n",
       "        [0., 0., 0.],\n",
       "        [0., 0., 0.]]])"
      ]
     },
     "execution_count": 49,
     "metadata": {},
     "output_type": "execute_result"
    }
   ],
   "source": [
    "zeros"
   ]
  },
  {
   "cell_type": "code",
   "execution_count": 50,
   "id": "25d29817-3168-41d4-bbd0-7daf1123a512",
   "metadata": {},
   "outputs": [
    {
     "data": {
      "text/plain": [
       "dtype('float64')"
      ]
     },
     "execution_count": 50,
     "metadata": {},
     "output_type": "execute_result"
    }
   ],
   "source": [
    "zeros.dtype"
   ]
  },
  {
   "cell_type": "code",
   "execution_count": 51,
   "id": "a2e18130-4025-4113-bd10-1a4df2ca1063",
   "metadata": {},
   "outputs": [
    {
     "data": {
      "text/plain": [
       "array([ 3,  8, 13, 18, 23, 28, 33, 38, 43, 48])"
      ]
     },
     "execution_count": 51,
     "metadata": {},
     "output_type": "execute_result"
    }
   ],
   "source": [
    "# create an array within a range of values\n",
    "range_array= np.arange(3,50,5)\n",
    "range_array"
   ]
  },
  {
   "cell_type": "code",
   "execution_count": 52,
   "id": "e76fefd1-91d2-4ea2-acfb-70b01236e4f2",
   "metadata": {},
   "outputs": [
    {
     "data": {
      "text/plain": [
       "array([[[ 8, 16, 15],\n",
       "        [17, 18, 18],\n",
       "        [14, 14, 13]],\n",
       "\n",
       "       [[15, 11, 16],\n",
       "        [16, 14, 14],\n",
       "        [18,  8, 18]],\n",
       "\n",
       "       [[19, 18,  5],\n",
       "        [ 6, 15, 19],\n",
       "        [15,  9,  6]]])"
      ]
     },
     "execution_count": 52,
     "metadata": {},
     "output_type": "execute_result"
    }
   ],
   "source": [
    "# random array\n",
    "random_array= np.random.randint(5,20,size=(3,3,3))\n",
    "random_array"
   ]
  },
  {
   "cell_type": "code",
   "execution_count": 53,
   "id": "7327240d-8c4e-4d22-b1fd-3323597fe5ac",
   "metadata": {},
   "outputs": [
    {
     "data": {
      "text/plain": [
       "array([[0.83661883, 0.18121882, 0.99865275],\n",
       "       [0.48758687, 0.98556494, 0.77196029],\n",
       "       [0.4556777 , 0.63514104, 0.3029561 ],\n",
       "       [0.1398238 , 0.37217316, 0.44780167],\n",
       "       [0.84533846, 0.47629431, 0.11237489]])"
      ]
     },
     "execution_count": 53,
     "metadata": {},
     "output_type": "execute_result"
    }
   ],
   "source": [
    "# Random array of floats (between 0 & 1)\n",
    "np.random.random((5, 3))"
   ]
  },
  {
   "cell_type": "code",
   "execution_count": 54,
   "id": "50949771-7f02-4260-8309-8acb67fa76c0",
   "metadata": {},
   "outputs": [
    {
     "data": {
      "text/plain": [
       "array([[0.03756598, 0.30052629, 0.05182854],\n",
       "       [0.76905432, 0.45950258, 0.52247767],\n",
       "       [0.40416158, 0.28026448, 0.87496897],\n",
       "       [0.33349382, 0.85628134, 0.84304451],\n",
       "       [0.31220776, 0.64020401, 0.63979651]])"
      ]
     },
     "execution_count": 54,
     "metadata": {},
     "output_type": "execute_result"
    }
   ],
   "source": [
    "# Random 5x3 array of floats (between 0 & 1), similar to above\n",
    "np.random.rand(5, 3)"
   ]
  },
  {
   "cell_type": "code",
   "execution_count": 55,
   "id": "7ef800c7-e01f-4802-a2b7-da81a11ffaee",
   "metadata": {},
   "outputs": [
    {
     "data": {
      "text/plain": [
       "array([[0.89894926, 0.96754838, 0.17147725],\n",
       "       [0.34488074, 0.11109061, 0.9939489 ],\n",
       "       [0.42284727, 0.17059783, 0.8409322 ],\n",
       "       [0.54925726, 0.14800714, 0.82796277],\n",
       "       [0.41067789, 0.24157159, 0.34177647]])"
      ]
     },
     "execution_count": 55,
     "metadata": {},
     "output_type": "execute_result"
    }
   ],
   "source": [
    "np.random.rand(5, 3)"
   ]
  },
  {
   "cell_type": "markdown",
   "id": "8b44dd28-f010-4815-9fef-379a9716b0de",
   "metadata": {},
   "source": [
    "\n",
    "\n",
    "NumPy uses pseudo-random numbers, which means, the numbers look random but aren't really, they're predetermined.\n",
    "\n",
    "For consistency, you might want to keep the random numbers you generate similar throughout experiments.\n",
    "\n",
    "To do this, you can use np.random.seed().\n",
    "\n",
    "What this does is it tells NumPy, \"Hey, I want you to create random numbers but keep them aligned with the seed.\"\n",
    "\n",
    "Let's see it.\n"
   ]
  },
  {
   "cell_type": "code",
   "execution_count": 56,
   "id": "f8464673-3494-40ed-9ca1-11f57e8825d2",
   "metadata": {},
   "outputs": [
    {
     "data": {
      "text/plain": [
       "array([[5, 0, 3],\n",
       "       [3, 7, 9],\n",
       "       [3, 5, 2],\n",
       "       [4, 7, 6],\n",
       "       [8, 8, 1]])"
      ]
     },
     "execution_count": 56,
     "metadata": {},
     "output_type": "execute_result"
    }
   ],
   "source": [
    "# Set random seed to 0\n",
    "np.random.seed(0)\n",
    "\n",
    "# Make 'random' numbers\n",
    "np.random.randint(10, size=(5, 3))"
   ]
  },
  {
   "cell_type": "markdown",
   "id": "e9bf626f-54c9-4fa1-a1cb-6a39b5b81d60",
   "metadata": {},
   "source": [
    "\n",
    "\n",
    "With np.random.seed() set, every time you run the cell above, the same random numbers will be generated.\n",
    "\n",
    "What if np.random.seed() wasn't set?\n",
    "\n",
    "Every time you run the cell below, a new set of numbers will appear.\n"
   ]
  },
  {
   "cell_type": "code",
   "execution_count": 57,
   "id": "758ad5dc-9c46-4ad8-80ad-1e5846e61342",
   "metadata": {},
   "outputs": [
    {
     "data": {
      "text/plain": [
       "array([[6, 7, 7],\n",
       "       [8, 1, 5],\n",
       "       [9, 8, 9],\n",
       "       [4, 3, 0],\n",
       "       [3, 5, 0]])"
      ]
     },
     "execution_count": 57,
     "metadata": {},
     "output_type": "execute_result"
    }
   ],
   "source": [
    "# Make more random numbers\n",
    "np.random.randint(10, size=(5, 3))"
   ]
  },
  {
   "cell_type": "markdown",
   "id": "53926b0f-6f26-4e13-a053-c1d128f7bfc0",
   "metadata": {},
   "source": [
    "\n",
    "\n",
    "With np.random.seed() set, every time you run the cell above, the same random numbers will be generated.\n",
    "\n",
    "What if np.random.seed() wasn't set?\n",
    "\n",
    "Every time you run the cell below, a new set of numbers will appear.\n"
   ]
  },
  {
   "cell_type": "code",
   "execution_count": 58,
   "id": "4066bd48-1c0b-4ec5-ad3e-6a24eb1d264d",
   "metadata": {},
   "outputs": [
    {
     "data": {
      "text/plain": [
       "array([[2, 3, 8],\n",
       "       [1, 3, 3],\n",
       "       [3, 7, 0],\n",
       "       [1, 9, 9],\n",
       "       [0, 4, 7]])"
      ]
     },
     "execution_count": 58,
     "metadata": {},
     "output_type": "execute_result"
    }
   ],
   "source": [
    "# Make more random numbers\n",
    "np.random.randint(10, size=(5, 3))"
   ]
  },
  {
   "cell_type": "markdown",
   "id": "1a7b7642-c0e6-4f97-bea5-30670333562c",
   "metadata": {},
   "source": [
    "\n",
    "\n",
    "Let's see it in action again, we'll stay consistent and set the random seed to 0.\n"
   ]
  },
  {
   "cell_type": "code",
   "execution_count": null,
   "id": "7d3b81ff-9fb8-4b63-a28c-1edb2124407c",
   "metadata": {},
   "outputs": [],
   "source": []
  }
 ],
 "metadata": {
  "kernelspec": {
   "display_name": "Python 3 (ipykernel)",
   "language": "python",
   "name": "python3"
  },
  "language_info": {
   "codemirror_mode": {
    "name": "ipython",
    "version": 3
   },
   "file_extension": ".py",
   "mimetype": "text/x-python",
   "name": "python",
   "nbconvert_exporter": "python",
   "pygments_lexer": "ipython3",
   "version": "3.12.4"
  }
 },
 "nbformat": 4,
 "nbformat_minor": 5
}
