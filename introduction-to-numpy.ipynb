{
 "cells": [
  {
   "cell_type": "markdown",
   "id": "64655335-c774-48ec-acbb-644713fa8de6",
   "metadata": {},
   "source": [
    "## 0. Importing NumPy\n",
    "To get started using NumPy, the first step is to import it.\n",
    "\n",
    "The most common way (and method you should use) is to import NumPy as the abbreviation np.\n",
    "\n",
    "If you see the letters np used anywhere in machine learning or data science, it's probably referring to the NumPy library."
   ]
  },
  {
   "cell_type": "code",
   "execution_count": 1,
   "id": "6a7135cd-9147-4ba3-8fd2-160b84c92cfc",
   "metadata": {},
   "outputs": [
    {
     "name": "stdout",
     "output_type": "stream",
     "text": [
      "1.26.4\n"
     ]
    }
   ],
   "source": [
    "import numpy as np\n",
    "\n",
    "#check the version\n",
    "print(np.__version__)"
   ]
  },
  {
   "cell_type": "markdown",
   "id": "612c8e94-5f8c-43bf-b96f-2c3e81f70c03",
   "metadata": {},
   "source": [
    "\n",
    "1. DataTypes and attributes\n",
    "\n",
    "    Note: Important to remember the main type in NumPy is ndarray, even seemingly different kinds of arrays are still ndarray's. This means an operation you do on one array, will work on another.\n",
    "\n"
   ]
  },
  {
   "cell_type": "code",
   "execution_count": 2,
   "id": "6f7834ca-10ab-43e1-9233-8f186d9b8dc2",
   "metadata": {},
   "outputs": [],
   "source": [
    "# 1-dimensonal array, also referred to as a vector\n",
    "a1 = np.array([1, 2, 3])\n",
    "\n",
    "# 2-dimensional array, also referred to as matrix\n",
    "a2 = np.array([[1, 2.0, 3.3],\n",
    "               [4, 5, 6.5]])\n",
    "\n",
    "# 3-dimensional array, also referred to as a matrix\n",
    "a3 = np.array([\n",
    "    [\n",
    "        [1, 2, 3],\n",
    "        [4, 5, 6],\n",
    "        [7, 8, 9]\n",
    "    ],\n",
    "    [\n",
    "        [10, 11, 12],\n",
    "        [13, 14, 15],\n",
    "        [16, 17, 18]\n",
    "    ]\n",
    "])\n"
   ]
  },
  {
   "cell_type": "code",
   "execution_count": 3,
   "id": "7dcfcfef-c3a7-44e4-bc70-7a4a5c0b7058",
   "metadata": {},
   "outputs": [
    {
     "data": {
      "text/plain": [
       "(3,)"
      ]
     },
     "execution_count": 3,
     "metadata": {},
     "output_type": "execute_result"
    }
   ],
   "source": [
    "a1.shape"
   ]
  },
  {
   "cell_type": "code",
   "execution_count": 4,
   "id": "83c0c0cc-3ebe-485c-b548-b4bc5ed98495",
   "metadata": {},
   "outputs": [
    {
     "data": {
      "text/plain": [
       "(1, 3, dtype('int64'), numpy.ndarray)"
      ]
     },
     "execution_count": 4,
     "metadata": {},
     "output_type": "execute_result"
    }
   ],
   "source": [
    "a1.ndim, a1.size, a1.dtype, type(a1)"
   ]
  },
  {
   "cell_type": "code",
   "execution_count": 5,
   "id": "1c4992e0-863c-4aa0-825a-4e6702c4b80f",
   "metadata": {},
   "outputs": [
    {
     "data": {
      "text/plain": [
       "((2, 3), 2, dtype('float64'), 6, numpy.ndarray)"
      ]
     },
     "execution_count": 5,
     "metadata": {},
     "output_type": "execute_result"
    }
   ],
   "source": [
    "a2.shape, a2.ndim, a2.dtype, a2.size, type(a2)"
   ]
  },
  {
   "cell_type": "code",
   "execution_count": 6,
   "id": "2b18c50a-e7b5-4458-8add-7839a4c9809e",
   "metadata": {},
   "outputs": [
    {
     "data": {
      "text/plain": [
       "((2, 3, 3), 3, dtype('int64'), 18, numpy.ndarray)"
      ]
     },
     "execution_count": 6,
     "metadata": {},
     "output_type": "execute_result"
    }
   ],
   "source": [
    "a3.shape, a3.ndim, a3.dtype, a3.size, type(a3)"
   ]
  },
  {
   "cell_type": "code",
   "execution_count": 7,
   "id": "29373a62-3806-4196-a303-def33f3dd4dd",
   "metadata": {},
   "outputs": [
    {
     "data": {
      "text/plain": [
       "array([1, 2, 3])"
      ]
     },
     "execution_count": 7,
     "metadata": {},
     "output_type": "execute_result"
    }
   ],
   "source": [
    "a1"
   ]
  },
  {
   "cell_type": "code",
   "execution_count": 8,
   "id": "adabd03b-ca4b-4198-ae87-d92103b8fde8",
   "metadata": {},
   "outputs": [
    {
     "data": {
      "text/plain": [
       "array([[1. , 2. , 3.3],\n",
       "       [4. , 5. , 6.5]])"
      ]
     },
     "execution_count": 8,
     "metadata": {},
     "output_type": "execute_result"
    }
   ],
   "source": [
    "a2"
   ]
  },
  {
   "cell_type": "code",
   "execution_count": 9,
   "id": "97867d8e-979a-41e1-a368-a75addb0df79",
   "metadata": {},
   "outputs": [
    {
     "data": {
      "text/plain": [
       "array([[[ 1,  2,  3],\n",
       "        [ 4,  5,  6],\n",
       "        [ 7,  8,  9]],\n",
       "\n",
       "       [[10, 11, 12],\n",
       "        [13, 14, 15],\n",
       "        [16, 17, 18]]])"
      ]
     },
     "execution_count": 9,
     "metadata": {},
     "output_type": "execute_result"
    }
   ],
   "source": [
    "a3"
   ]
  },
  {
   "cell_type": "markdown",
   "id": "48fe8b47-dd24-48e8-b53b-750acf21a330",
   "metadata": {},
   "source": [
    "# Anatomy of an array"
   ]
  },
  {
   "cell_type": "markdown",
   "id": "797f5b69-3bb7-4e62-9de8-5e3d36a098fc",
   "metadata": {},
   "source": [
    "![](anatomy_ndarrays.png)"
   ]
  },
  {
   "cell_type": "markdown",
   "id": "02191a0b-522f-40ef-ada2-03e7f1feb4a6",
   "metadata": {},
   "source": [
    "Key terms:\n",
    "\n",
    "    Array - A list of numbers, can be multi-dimensional.\n",
    "    Scalar - A single number (e.g. 7).\n",
    "    Vector - A list of numbers with 1-dimension (e.g. np.array([1, 2, 3])).\n",
    "    Matrix - A (usually) multi-dimensional list of numbers (e.g. np.array([[1, 2, 3], [4, 5, 6]])).\n"
   ]
  },
  {
   "cell_type": "markdown",
   "id": "553dcc49-6bfa-4afd-b8dd-e1016b436d7c",
   "metadata": {},
   "source": [
    "\n",
    "pandas DataFrame out of NumPy arrays\n",
    "\n",
    "This is to examplify how NumPy is the backbone of many other libraries.\n"
   ]
  },
  {
   "cell_type": "code",
   "execution_count": 10,
   "id": "03bcbef2-0f12-4b78-b3ea-61e587c062c7",
   "metadata": {},
   "outputs": [
    {
     "data": {
      "text/html": [
       "<div>\n",
       "<style scoped>\n",
       "    .dataframe tbody tr th:only-of-type {\n",
       "        vertical-align: middle;\n",
       "    }\n",
       "\n",
       "    .dataframe tbody tr th {\n",
       "        vertical-align: top;\n",
       "    }\n",
       "\n",
       "    .dataframe thead th {\n",
       "        text-align: right;\n",
       "    }\n",
       "</style>\n",
       "<table border=\"1\" class=\"dataframe\">\n",
       "  <thead>\n",
       "    <tr style=\"text-align: right;\">\n",
       "      <th></th>\n",
       "      <th>a</th>\n",
       "      <th>b</th>\n",
       "      <th>c</th>\n",
       "    </tr>\n",
       "  </thead>\n",
       "  <tbody>\n",
       "    <tr>\n",
       "      <th>0</th>\n",
       "      <td>2</td>\n",
       "      <td>9</td>\n",
       "      <td>5</td>\n",
       "    </tr>\n",
       "    <tr>\n",
       "      <th>1</th>\n",
       "      <td>3</td>\n",
       "      <td>5</td>\n",
       "      <td>8</td>\n",
       "    </tr>\n",
       "    <tr>\n",
       "      <th>2</th>\n",
       "      <td>1</td>\n",
       "      <td>5</td>\n",
       "      <td>5</td>\n",
       "    </tr>\n",
       "    <tr>\n",
       "      <th>3</th>\n",
       "      <td>1</td>\n",
       "      <td>7</td>\n",
       "      <td>7</td>\n",
       "    </tr>\n",
       "    <tr>\n",
       "      <th>4</th>\n",
       "      <td>5</td>\n",
       "      <td>3</td>\n",
       "      <td>1</td>\n",
       "    </tr>\n",
       "  </tbody>\n",
       "</table>\n",
       "</div>"
      ],
      "text/plain": [
       "   a  b  c\n",
       "0  2  9  5\n",
       "1  3  5  8\n",
       "2  1  5  5\n",
       "3  1  7  7\n",
       "4  5  3  1"
      ]
     },
     "execution_count": 10,
     "metadata": {},
     "output_type": "execute_result"
    }
   ],
   "source": [
    "import pandas as pd\n",
    "\n",
    "# np.random.randint(10, size=(5, 3)):\n",
    "# This generates a 2D array (matrix) of random integers.\n",
    "# 10: Specifies the upper limit for the random integers (0 to 9).\n",
    "# size=(5, 3): Specifies the shape of the array—5 rows and 3 columns.\n",
    "df= pd.DataFrame(np.random.randint(10, size=(5,3)),columns=['a','b','c'])\n",
    "\n",
    "df"
   ]
  },
  {
   "cell_type": "code",
   "execution_count": 11,
   "id": "5c16d9e1-4feb-402e-8afa-13b9cf6a55b8",
   "metadata": {},
   "outputs": [
    {
     "data": {
      "text/plain": [
       "array([[1. , 2. , 3.3],\n",
       "       [4. , 5. , 6.5]])"
      ]
     },
     "execution_count": 11,
     "metadata": {},
     "output_type": "execute_result"
    }
   ],
   "source": [
    "a2"
   ]
  },
  {
   "cell_type": "code",
   "execution_count": 12,
   "id": "8c60d637-4ab3-4d15-bd62-e91b8675f03f",
   "metadata": {},
   "outputs": [
    {
     "data": {
      "text/html": [
       "<div>\n",
       "<style scoped>\n",
       "    .dataframe tbody tr th:only-of-type {\n",
       "        vertical-align: middle;\n",
       "    }\n",
       "\n",
       "    .dataframe tbody tr th {\n",
       "        vertical-align: top;\n",
       "    }\n",
       "\n",
       "    .dataframe thead th {\n",
       "        text-align: right;\n",
       "    }\n",
       "</style>\n",
       "<table border=\"1\" class=\"dataframe\">\n",
       "  <thead>\n",
       "    <tr style=\"text-align: right;\">\n",
       "      <th></th>\n",
       "      <th>0</th>\n",
       "      <th>1</th>\n",
       "      <th>2</th>\n",
       "    </tr>\n",
       "  </thead>\n",
       "  <tbody>\n",
       "    <tr>\n",
       "      <th>0</th>\n",
       "      <td>1.0</td>\n",
       "      <td>2.0</td>\n",
       "      <td>3.3</td>\n",
       "    </tr>\n",
       "    <tr>\n",
       "      <th>1</th>\n",
       "      <td>4.0</td>\n",
       "      <td>5.0</td>\n",
       "      <td>6.5</td>\n",
       "    </tr>\n",
       "  </tbody>\n",
       "</table>\n",
       "</div>"
      ],
      "text/plain": [
       "     0    1    2\n",
       "0  1.0  2.0  3.3\n",
       "1  4.0  5.0  6.5"
      ]
     },
     "execution_count": 12,
     "metadata": {},
     "output_type": "execute_result"
    }
   ],
   "source": [
    "df2= pd.DataFrame(a2)\n",
    "df2"
   ]
  },
  {
   "cell_type": "markdown",
   "id": "29cf4fd1-86a4-4595-b6a1-20eec6a7a257",
   "metadata": {},
   "source": [
    "\n",
    "## 2. Creating arrays\n",
    "\n",
    "    np.array()\n",
    "    np.ones()\n",
    "    np.zeros()\n",
    "    np.random.rand(5, 3)\n",
    "    np.random.randint(10, size=5)\n",
    "    np.random.seed() - pseudo random numbers\n",
    "    Searching the documentation example (finding np.unique() and using it)\n",
    "\n"
   ]
  },
  {
   "cell_type": "code",
   "execution_count": 13,
   "id": "f9cdf597-a751-423f-87f5-2ae79b5d4021",
   "metadata": {},
   "outputs": [
    {
     "data": {
      "text/plain": [
       "array([1, 2, 3])"
      ]
     },
     "execution_count": 13,
     "metadata": {},
     "output_type": "execute_result"
    }
   ],
   "source": [
    "# Create a simple array\n",
    "simple_array = np.array([1, 2, 3])\n",
    "simple_array"
   ]
  },
  {
   "cell_type": "code",
   "execution_count": 14,
   "id": "975c30b9-aac0-4949-acab-882fcb0b2bf3",
   "metadata": {},
   "outputs": [
    {
     "data": {
      "text/plain": [
       "(array([1, 2, 3]), dtype('int64'))"
      ]
     },
     "execution_count": 14,
     "metadata": {},
     "output_type": "execute_result"
    }
   ],
   "source": [
    "simple_array = np.array((1, 2, 3))\n",
    "simple_array, simple_array.dtype"
   ]
  },
  {
   "cell_type": "code",
   "execution_count": 15,
   "id": "0c367609-f6b2-4f18-9883-86613154ebe3",
   "metadata": {},
   "outputs": [],
   "source": [
    "ones= np.ones((3,2), dtype=\"int64\")"
   ]
  },
  {
   "cell_type": "code",
   "execution_count": 16,
   "id": "2513c741-f911-439b-84ca-384b1097df84",
   "metadata": {},
   "outputs": [
    {
     "data": {
      "text/plain": [
       "array([[1, 1],\n",
       "       [1, 1],\n",
       "       [1, 1]])"
      ]
     },
     "execution_count": 16,
     "metadata": {},
     "output_type": "execute_result"
    }
   ],
   "source": [
    "ones"
   ]
  },
  {
   "cell_type": "code",
   "execution_count": 17,
   "id": "751ada38-7284-4b22-837a-6d0240a1677d",
   "metadata": {},
   "outputs": [
    {
     "data": {
      "text/plain": [
       "dtype('int64')"
      ]
     },
     "execution_count": 17,
     "metadata": {},
     "output_type": "execute_result"
    }
   ],
   "source": [
    "# The default datatype is 'float64'\n",
    "ones.dtype"
   ]
  },
  {
   "cell_type": "code",
   "execution_count": 18,
   "id": "686ee165-6845-48f9-bfd8-8da7e16e1961",
   "metadata": {},
   "outputs": [
    {
     "data": {
      "text/plain": [
       "array([[1., 1.],\n",
       "       [1., 1.],\n",
       "       [1., 1.]])"
      ]
     },
     "execution_count": 18,
     "metadata": {},
     "output_type": "execute_result"
    }
   ],
   "source": [
    "# You can change the datatype with .astype()\n",
    "ones.astype(float)"
   ]
  },
  {
   "cell_type": "code",
   "execution_count": 19,
   "id": "ee73735f-1280-47b4-aad7-86c1c7446636",
   "metadata": {},
   "outputs": [],
   "source": [
    "# Create an array of zeros\n",
    "zeros=np.zeros((5,3,3))"
   ]
  },
  {
   "cell_type": "code",
   "execution_count": 20,
   "id": "4cbb6d0f-4e33-4aeb-bcc7-e7d0ab1adf26",
   "metadata": {},
   "outputs": [
    {
     "data": {
      "text/plain": [
       "array([[[0., 0., 0.],\n",
       "        [0., 0., 0.],\n",
       "        [0., 0., 0.]],\n",
       "\n",
       "       [[0., 0., 0.],\n",
       "        [0., 0., 0.],\n",
       "        [0., 0., 0.]],\n",
       "\n",
       "       [[0., 0., 0.],\n",
       "        [0., 0., 0.],\n",
       "        [0., 0., 0.]],\n",
       "\n",
       "       [[0., 0., 0.],\n",
       "        [0., 0., 0.],\n",
       "        [0., 0., 0.]],\n",
       "\n",
       "       [[0., 0., 0.],\n",
       "        [0., 0., 0.],\n",
       "        [0., 0., 0.]]])"
      ]
     },
     "execution_count": 20,
     "metadata": {},
     "output_type": "execute_result"
    }
   ],
   "source": [
    "zeros"
   ]
  },
  {
   "cell_type": "code",
   "execution_count": 21,
   "id": "25d29817-3168-41d4-bbd0-7daf1123a512",
   "metadata": {},
   "outputs": [
    {
     "data": {
      "text/plain": [
       "dtype('float64')"
      ]
     },
     "execution_count": 21,
     "metadata": {},
     "output_type": "execute_result"
    }
   ],
   "source": [
    "zeros.dtype"
   ]
  },
  {
   "cell_type": "code",
   "execution_count": 22,
   "id": "a2e18130-4025-4113-bd10-1a4df2ca1063",
   "metadata": {},
   "outputs": [
    {
     "data": {
      "text/plain": [
       "array([ 3,  8, 13, 18, 23, 28, 33, 38, 43, 48])"
      ]
     },
     "execution_count": 22,
     "metadata": {},
     "output_type": "execute_result"
    }
   ],
   "source": [
    "# create an array within a range of values\n",
    "range_array= np.arange(3,50,5)\n",
    "range_array"
   ]
  },
  {
   "cell_type": "code",
   "execution_count": 23,
   "id": "e76fefd1-91d2-4ea2-acfb-70b01236e4f2",
   "metadata": {},
   "outputs": [
    {
     "data": {
      "text/plain": [
       "array([[[ 5, 11, 16],\n",
       "        [13, 13, 11],\n",
       "        [ 9, 19,  7]],\n",
       "\n",
       "       [[ 9, 10, 17],\n",
       "        [ 8, 11, 11],\n",
       "        [12, 11,  7]],\n",
       "\n",
       "       [[ 5, 11,  8],\n",
       "        [13, 13,  5],\n",
       "        [13, 13,  8]]])"
      ]
     },
     "execution_count": 23,
     "metadata": {},
     "output_type": "execute_result"
    }
   ],
   "source": [
    "# random array\n",
    "random_array= np.random.randint(5,20,size=(3,3,3))\n",
    "random_array"
   ]
  },
  {
   "cell_type": "code",
   "execution_count": 24,
   "id": "7327240d-8c4e-4d22-b1fd-3323597fe5ac",
   "metadata": {},
   "outputs": [
    {
     "data": {
      "text/plain": [
       "array([[2.56287398e-01, 7.01548585e-01, 7.43745336e-01],\n",
       "       [7.04386622e-01, 2.86148960e-01, 6.78597052e-01],\n",
       "       [7.76990188e-04, 8.87810628e-01, 8.76112235e-01],\n",
       "       [5.86317860e-03, 5.53251821e-01, 8.86870258e-01],\n",
       "       [5.91833110e-01, 8.07094343e-01, 6.85277251e-01]])"
      ]
     },
     "execution_count": 24,
     "metadata": {},
     "output_type": "execute_result"
    }
   ],
   "source": [
    "# Random array of floats (between 0 & 1)\n",
    "np.random.random((5, 3))"
   ]
  },
  {
   "cell_type": "code",
   "execution_count": 25,
   "id": "50949771-7f02-4260-8309-8acb67fa76c0",
   "metadata": {},
   "outputs": [
    {
     "data": {
      "text/plain": [
       "array([[0.39063958, 0.64670294, 0.48687858],\n",
       "       [0.87938583, 0.50902764, 0.83549314],\n",
       "       [0.33859472, 0.30120082, 0.55720078],\n",
       "       [0.13297358, 0.27732775, 0.34556415],\n",
       "       [0.31162206, 0.77131865, 0.13986418]])"
      ]
     },
     "execution_count": 25,
     "metadata": {},
     "output_type": "execute_result"
    }
   ],
   "source": [
    "# Random 5x3 array of floats (between 0 & 1), similar to above\n",
    "np.random.rand(5, 3)"
   ]
  },
  {
   "cell_type": "code",
   "execution_count": 26,
   "id": "7ef800c7-e01f-4802-a2b7-da81a11ffaee",
   "metadata": {},
   "outputs": [
    {
     "data": {
      "text/plain": [
       "array([[0.20148626, 0.7114547 , 0.85834889],\n",
       "       [0.61837214, 0.37192736, 0.72504357],\n",
       "       [0.57804083, 0.60571329, 0.90151207],\n",
       "       [0.37069446, 0.14537552, 0.11709757],\n",
       "       [0.00833704, 0.14369118, 0.93286981]])"
      ]
     },
     "execution_count": 26,
     "metadata": {},
     "output_type": "execute_result"
    }
   ],
   "source": [
    "np.random.rand(5, 3)"
   ]
  },
  {
   "cell_type": "markdown",
   "id": "8b44dd28-f010-4815-9fef-379a9716b0de",
   "metadata": {},
   "source": [
    "\n",
    "\n",
    "NumPy uses pseudo-random numbers, which means, the numbers look random but aren't really, they're predetermined.\n",
    "\n",
    "For consistency, you might want to keep the random numbers you generate similar throughout experiments.\n",
    "\n",
    "To do this, you can use np.random.seed().\n",
    "\n",
    "What this does is it tells NumPy, \"Hey, I want you to create random numbers but keep them aligned with the seed.\"\n",
    "\n",
    "Let's see it.\n"
   ]
  },
  {
   "cell_type": "code",
   "execution_count": 27,
   "id": "f8464673-3494-40ed-9ca1-11f57e8825d2",
   "metadata": {},
   "outputs": [
    {
     "data": {
      "text/plain": [
       "array([[5, 0, 3],\n",
       "       [3, 7, 9],\n",
       "       [3, 5, 2],\n",
       "       [4, 7, 6],\n",
       "       [8, 8, 1]])"
      ]
     },
     "execution_count": 27,
     "metadata": {},
     "output_type": "execute_result"
    }
   ],
   "source": [
    "# Set random seed to 0\n",
    "np.random.seed(0)\n",
    "\n",
    "# Make 'random' numbers\n",
    "np.random.randint(10, size=(5, 3))"
   ]
  },
  {
   "cell_type": "markdown",
   "id": "e9bf626f-54c9-4fa1-a1cb-6a39b5b81d60",
   "metadata": {},
   "source": [
    "\n",
    "\n",
    "With np.random.seed() set, every time you run the cell above, the same random numbers will be generated.\n",
    "\n",
    "What if np.random.seed() wasn't set?\n",
    "\n",
    "Every time you run the cell below, a new set of numbers will appear.\n"
   ]
  },
  {
   "cell_type": "code",
   "execution_count": 28,
   "id": "758ad5dc-9c46-4ad8-80ad-1e5846e61342",
   "metadata": {},
   "outputs": [
    {
     "data": {
      "text/plain": [
       "array([[6, 7, 7],\n",
       "       [8, 1, 5],\n",
       "       [9, 8, 9],\n",
       "       [4, 3, 0],\n",
       "       [3, 5, 0]])"
      ]
     },
     "execution_count": 28,
     "metadata": {},
     "output_type": "execute_result"
    }
   ],
   "source": [
    "# Make more random numbers\n",
    "np.random.randint(10, size=(5, 3))"
   ]
  },
  {
   "cell_type": "markdown",
   "id": "53926b0f-6f26-4e13-a053-c1d128f7bfc0",
   "metadata": {},
   "source": [
    "\n",
    "\n",
    "With np.random.seed() set, every time you run the cell above, the same random numbers will be generated.\n",
    "\n",
    "What if np.random.seed() wasn't set?\n",
    "\n",
    "Every time you run the cell below, a new set of numbers will appear.\n"
   ]
  },
  {
   "cell_type": "code",
   "execution_count": 29,
   "id": "4066bd48-1c0b-4ec5-ad3e-6a24eb1d264d",
   "metadata": {},
   "outputs": [
    {
     "data": {
      "text/plain": [
       "array([[2, 3, 8],\n",
       "       [1, 3, 3],\n",
       "       [3, 7, 0],\n",
       "       [1, 9, 9],\n",
       "       [0, 4, 7]])"
      ]
     },
     "execution_count": 29,
     "metadata": {},
     "output_type": "execute_result"
    }
   ],
   "source": [
    "# Make more random numbers\n",
    "np.random.randint(10, size=(5, 3))"
   ]
  },
  {
   "cell_type": "markdown",
   "id": "1a7b7642-c0e6-4f97-bea5-30670333562c",
   "metadata": {},
   "source": [
    "\n",
    "\n",
    "Let's see it in action again, we'll stay consistent and set the random seed to 0.\n"
   ]
  },
  {
   "cell_type": "code",
   "execution_count": 30,
   "id": "7d3b81ff-9fb8-4b63-a28c-1edb2124407c",
   "metadata": {},
   "outputs": [
    {
     "data": {
      "text/plain": [
       "array([[5, 0, 3],\n",
       "       [3, 7, 9],\n",
       "       [3, 5, 2],\n",
       "       [4, 7, 6],\n",
       "       [8, 8, 1]])"
      ]
     },
     "execution_count": 30,
     "metadata": {},
     "output_type": "execute_result"
    }
   ],
   "source": [
    "# Set random seed to same number as above\n",
    "np.random.seed(0)\n",
    "\n",
    "# The same random numbers come out\n",
    "np.random.randint(10, size=(5, 3))"
   ]
  },
  {
   "cell_type": "markdown",
   "id": "729a983c-7deb-4003-b2a3-ed86e12feb3a",
   "metadata": {},
   "source": [
    "\n",
    "\n",
    "Because np.random.seed() is set to 0, the random numbers are the same as the cell with np.random.seed() set to 0 as well.\n",
    "\n",
    "Setting np.random.seed() is not 100% necessary but it's helpful to keep numbers the same throughout your experiments.\n",
    "\n",
    "For example, say you wanted to split your data randomly into training and test sets.\n",
    "\n",
    "Every time you randomly split, you might get different rows in each set.\n",
    "\n",
    "If you shared your work with someone else, they'd get different rows in each set too.\n",
    "\n",
    "Setting np.random.seed() ensures there's still randomness, it just makes the randomness repeatable. Hence the 'pseudo-random' numbers.\n"
   ]
  },
  {
   "cell_type": "code",
   "execution_count": 31,
   "id": "3293ab0b-6513-44ac-993d-c79bc3b1a570",
   "metadata": {},
   "outputs": [
    {
     "data": {
      "text/html": [
       "<div>\n",
       "<style scoped>\n",
       "    .dataframe tbody tr th:only-of-type {\n",
       "        vertical-align: middle;\n",
       "    }\n",
       "\n",
       "    .dataframe tbody tr th {\n",
       "        vertical-align: top;\n",
       "    }\n",
       "\n",
       "    .dataframe thead th {\n",
       "        text-align: right;\n",
       "    }\n",
       "</style>\n",
       "<table border=\"1\" class=\"dataframe\">\n",
       "  <thead>\n",
       "    <tr style=\"text-align: right;\">\n",
       "      <th></th>\n",
       "      <th>0</th>\n",
       "      <th>1</th>\n",
       "      <th>2</th>\n",
       "    </tr>\n",
       "  </thead>\n",
       "  <tbody>\n",
       "    <tr>\n",
       "      <th>0</th>\n",
       "      <td>5</td>\n",
       "      <td>0</td>\n",
       "      <td>3</td>\n",
       "    </tr>\n",
       "    <tr>\n",
       "      <th>1</th>\n",
       "      <td>3</td>\n",
       "      <td>7</td>\n",
       "      <td>9</td>\n",
       "    </tr>\n",
       "    <tr>\n",
       "      <th>2</th>\n",
       "      <td>3</td>\n",
       "      <td>5</td>\n",
       "      <td>2</td>\n",
       "    </tr>\n",
       "    <tr>\n",
       "      <th>3</th>\n",
       "      <td>4</td>\n",
       "      <td>7</td>\n",
       "      <td>6</td>\n",
       "    </tr>\n",
       "    <tr>\n",
       "      <th>4</th>\n",
       "      <td>8</td>\n",
       "      <td>8</td>\n",
       "      <td>1</td>\n",
       "    </tr>\n",
       "  </tbody>\n",
       "</table>\n",
       "</div>"
      ],
      "text/plain": [
       "   0  1  2\n",
       "0  5  0  3\n",
       "1  3  7  9\n",
       "2  3  5  2\n",
       "3  4  7  6\n",
       "4  8  8  1"
      ]
     },
     "execution_count": 31,
     "metadata": {},
     "output_type": "execute_result"
    }
   ],
   "source": [
    "np.random.seed(0)\n",
    "df = pd.DataFrame(np.random.randint(10, size=(5, 3)))\n",
    "df"
   ]
  },
  {
   "cell_type": "markdown",
   "id": "ef536837-e8a5-467e-b0c2-4b466434197d",
   "metadata": {},
   "source": [
    "\n",
    "## What unique values are in the array a3?\n",
    "\n",
    "Now you've seen a few different ways to create arrays, as an exercise, try find out what NumPy function you could use to find the unique values are within the a3 array.\n",
    "\n",
    "You might want to search some like, \"how to find the unqiue values in a numpy array\".\n"
   ]
  },
  {
   "cell_type": "code",
   "execution_count": 32,
   "id": "07eb1b90-3a12-4970-87f8-577013593b7d",
   "metadata": {},
   "outputs": [
    {
     "data": {
      "text/plain": [
       "array([[[ 1,  2,  3],\n",
       "        [ 4,  5,  6],\n",
       "        [ 7,  8,  9]],\n",
       "\n",
       "       [[10, 11, 12],\n",
       "        [13, 14, 15],\n",
       "        [16, 17, 18]]])"
      ]
     },
     "execution_count": 32,
     "metadata": {},
     "output_type": "execute_result"
    }
   ],
   "source": [
    "a3"
   ]
  },
  {
   "cell_type": "code",
   "execution_count": 33,
   "id": "e6867e72-48d3-4434-a74e-80c307c1dc45",
   "metadata": {},
   "outputs": [
    {
     "data": {
      "text/plain": [
       "(array([ 1,  2,  3,  4,  5,  6,  7,  8,  9, 10, 11, 12, 13, 14, 15, 16, 17,\n",
       "        18]),\n",
       " array([1, 1, 1, 1, 1, 1, 1, 1, 1, 1, 1, 1, 1, 1, 1, 1, 1, 1]))"
      ]
     },
     "execution_count": 33,
     "metadata": {},
     "output_type": "execute_result"
    }
   ],
   "source": [
    "np.unique(a3,return_counts=True)"
   ]
  },
  {
   "cell_type": "code",
   "execution_count": 34,
   "id": "6d8b4a78-56e9-40b9-a459-c3b503db04a2",
   "metadata": {},
   "outputs": [
    {
     "data": {
      "text/plain": [
       "array([ 1,  2,  3,  4,  5,  6,  7,  8,  9, 10, 11, 12, 13, 14, 15, 16, 17,\n",
       "       18])"
      ]
     },
     "execution_count": 34,
     "metadata": {},
     "output_type": "execute_result"
    }
   ],
   "source": [
    "np.unique(a3)"
   ]
  },
  {
   "cell_type": "markdown",
   "id": "bfe45567-80aa-4940-a129-367d19f19c41",
   "metadata": {},
   "source": [
    "## 3. Viewing arrays and matrices (indexing)\n",
    "Remember, because arrays and matrices are both ndarray's, they can be viewed in similar ways.\n",
    "\n",
    "Let's check out our 3 arrays again."
   ]
  },
  {
   "cell_type": "code",
   "execution_count": 35,
   "id": "8e970705-263e-4076-ac08-c66fec9f5703",
   "metadata": {},
   "outputs": [
    {
     "data": {
      "text/plain": [
       "array([1, 2, 3])"
      ]
     },
     "execution_count": 35,
     "metadata": {},
     "output_type": "execute_result"
    }
   ],
   "source": [
    "a1"
   ]
  },
  {
   "cell_type": "code",
   "execution_count": 36,
   "id": "d5c8ca84-8f61-467b-a7cc-7ba8459264fb",
   "metadata": {},
   "outputs": [
    {
     "data": {
      "text/plain": [
       "array([[1. , 2. , 3.3],\n",
       "       [4. , 5. , 6.5]])"
      ]
     },
     "execution_count": 36,
     "metadata": {},
     "output_type": "execute_result"
    }
   ],
   "source": [
    "a2"
   ]
  },
  {
   "cell_type": "code",
   "execution_count": 37,
   "id": "e87ceeed-f924-4732-92b9-e145e899b68e",
   "metadata": {},
   "outputs": [
    {
     "data": {
      "text/plain": [
       "array([[[ 1,  2,  3],\n",
       "        [ 4,  5,  6],\n",
       "        [ 7,  8,  9]],\n",
       "\n",
       "       [[10, 11, 12],\n",
       "        [13, 14, 15],\n",
       "        [16, 17, 18]]])"
      ]
     },
     "execution_count": 37,
     "metadata": {},
     "output_type": "execute_result"
    }
   ],
   "source": [
    "a3"
   ]
  },
  {
   "cell_type": "code",
   "execution_count": 38,
   "id": "77403d53-b586-4e93-8214-5b7d8f24ce01",
   "metadata": {},
   "outputs": [
    {
     "data": {
      "text/plain": [
       "1"
      ]
     },
     "execution_count": 38,
     "metadata": {},
     "output_type": "execute_result"
    }
   ],
   "source": [
    "\n",
    "\n",
    "a1[0]\n",
    "\n"
   ]
  },
  {
   "cell_type": "code",
   "execution_count": 39,
   "id": "435bd631-6b28-43d1-85db-73ecbd3e8e0f",
   "metadata": {},
   "outputs": [
    {
     "data": {
      "text/plain": [
       "array([1. , 2. , 3.3])"
      ]
     },
     "execution_count": 39,
     "metadata": {},
     "output_type": "execute_result"
    }
   ],
   "source": [
    "a2[0]"
   ]
  },
  {
   "cell_type": "code",
   "execution_count": 40,
   "id": "594fc743-b243-491e-b650-3fea5cabf375",
   "metadata": {},
   "outputs": [
    {
     "data": {
      "text/plain": [
       "array([[1, 2, 3],\n",
       "       [4, 5, 6],\n",
       "       [7, 8, 9]])"
      ]
     },
     "execution_count": 40,
     "metadata": {},
     "output_type": "execute_result"
    }
   ],
   "source": [
    "a3[0]"
   ]
  },
  {
   "cell_type": "code",
   "execution_count": 41,
   "id": "6bc39024-cd40-4b07-aa3a-927a4d554c3d",
   "metadata": {},
   "outputs": [
    {
     "data": {
      "text/plain": [
       "array([4. , 5. , 6.5])"
      ]
     },
     "execution_count": 41,
     "metadata": {},
     "output_type": "execute_result"
    }
   ],
   "source": [
    "# Get 2nd row (index 1) of a2\n",
    "a2[1]"
   ]
  },
  {
   "cell_type": "code",
   "execution_count": 42,
   "id": "e917bde9-1fb1-46f3-a98d-f9840814c7b3",
   "metadata": {},
   "outputs": [
    {
     "data": {
      "text/plain": [
       "array([[[ 1,  2],\n",
       "        [ 4,  5]],\n",
       "\n",
       "       [[10, 11],\n",
       "        [13, 14]]])"
      ]
     },
     "execution_count": 42,
     "metadata": {},
     "output_type": "execute_result"
    }
   ],
   "source": [
    "# Get the first 2 values of the first 2 rows of both arrays\n",
    "a3[:2,:2,:2]"
   ]
  },
  {
   "cell_type": "code",
   "execution_count": 43,
   "id": "1253fac9-f470-4734-a136-43e305eaf544",
   "metadata": {},
   "outputs": [
    {
     "data": {
      "text/plain": [
       "array([[[[[6, 7, 7, 8, 1],\n",
       "          [5, 9, 8, 9, 4],\n",
       "          [3, 0, 3, 5, 0],\n",
       "          [2, 3, 8, 1, 3]],\n",
       "\n",
       "         [[3, 3, 7, 0, 1],\n",
       "          [9, 9, 0, 4, 7],\n",
       "          [3, 2, 7, 2, 0],\n",
       "          [0, 4, 5, 5, 6]],\n",
       "\n",
       "         [[8, 4, 1, 4, 9],\n",
       "          [8, 1, 1, 7, 9],\n",
       "          [9, 3, 6, 7, 2],\n",
       "          [0, 3, 5, 9, 4]]],\n",
       "\n",
       "\n",
       "        [[[4, 6, 4, 4, 3],\n",
       "          [4, 4, 8, 4, 3],\n",
       "          [7, 5, 5, 0, 1],\n",
       "          [5, 9, 3, 0, 5]],\n",
       "\n",
       "         [[0, 1, 2, 4, 2],\n",
       "          [0, 3, 2, 0, 7],\n",
       "          [5, 9, 0, 2, 7],\n",
       "          [2, 9, 2, 3, 3]],\n",
       "\n",
       "         [[2, 3, 4, 1, 2],\n",
       "          [9, 1, 4, 6, 8],\n",
       "          [2, 3, 0, 0, 6],\n",
       "          [0, 6, 3, 3, 8]]]],\n",
       "\n",
       "\n",
       "\n",
       "       [[[[8, 8, 2, 3, 2],\n",
       "          [0, 8, 8, 3, 8],\n",
       "          [2, 8, 4, 3, 0],\n",
       "          [4, 3, 6, 9, 8]],\n",
       "\n",
       "         [[0, 8, 5, 9, 0],\n",
       "          [9, 6, 5, 3, 1],\n",
       "          [8, 0, 4, 9, 6],\n",
       "          [5, 7, 8, 8, 9]],\n",
       "\n",
       "         [[2, 8, 6, 6, 9],\n",
       "          [1, 6, 8, 8, 3],\n",
       "          [2, 3, 6, 3, 6],\n",
       "          [5, 7, 0, 8, 4]]],\n",
       "\n",
       "\n",
       "        [[[6, 5, 8, 2, 3],\n",
       "          [9, 7, 5, 3, 4],\n",
       "          [5, 3, 3, 7, 9],\n",
       "          [9, 9, 7, 3, 2]],\n",
       "\n",
       "         [[3, 9, 7, 7, 5],\n",
       "          [1, 2, 2, 8, 1],\n",
       "          [5, 8, 4, 0, 2],\n",
       "          [5, 5, 0, 8, 1]],\n",
       "\n",
       "         [[1, 0, 3, 8, 8],\n",
       "          [4, 4, 0, 9, 3],\n",
       "          [7, 3, 2, 1, 1],\n",
       "          [2, 1, 4, 2, 5]]]]])"
      ]
     },
     "execution_count": 43,
     "metadata": {},
     "output_type": "execute_result"
    }
   ],
   "source": [
    "a4= np.random.randint(10,size=(2,2,3,4,5))\n",
    "a4"
   ]
  },
  {
   "cell_type": "code",
   "execution_count": 44,
   "id": "8491ed37-e1b6-4585-915f-d8b172ba608b",
   "metadata": {},
   "outputs": [
    {
     "data": {
      "text/plain": [
       "(2, 2, 3, 4, 5)"
      ]
     },
     "execution_count": 44,
     "metadata": {},
     "output_type": "execute_result"
    }
   ],
   "source": [
    "a4.shape"
   ]
  },
  {
   "cell_type": "code",
   "execution_count": 45,
   "id": "e2e30797-f5c2-4a96-92ee-9750e3b34e51",
   "metadata": {},
   "outputs": [
    {
     "data": {
      "text/plain": [
       "array([[[[[6, 7, 7],\n",
       "          [5, 9, 8],\n",
       "          [3, 0, 3],\n",
       "          [2, 3, 8]],\n",
       "\n",
       "         [[3, 3, 7],\n",
       "          [9, 9, 0],\n",
       "          [3, 2, 7],\n",
       "          [0, 4, 5]],\n",
       "\n",
       "         [[8, 4, 1],\n",
       "          [8, 1, 1],\n",
       "          [9, 3, 6],\n",
       "          [0, 3, 5]]],\n",
       "\n",
       "\n",
       "        [[[4, 6, 4],\n",
       "          [4, 4, 8],\n",
       "          [7, 5, 5],\n",
       "          [5, 9, 3]],\n",
       "\n",
       "         [[0, 1, 2],\n",
       "          [0, 3, 2],\n",
       "          [5, 9, 0],\n",
       "          [2, 9, 2]],\n",
       "\n",
       "         [[2, 3, 4],\n",
       "          [9, 1, 4],\n",
       "          [2, 3, 0],\n",
       "          [0, 6, 3]]]],\n",
       "\n",
       "\n",
       "\n",
       "       [[[[8, 8, 2],\n",
       "          [0, 8, 8],\n",
       "          [2, 8, 4],\n",
       "          [4, 3, 6]],\n",
       "\n",
       "         [[0, 8, 5],\n",
       "          [9, 6, 5],\n",
       "          [8, 0, 4],\n",
       "          [5, 7, 8]],\n",
       "\n",
       "         [[2, 8, 6],\n",
       "          [1, 6, 8],\n",
       "          [2, 3, 6],\n",
       "          [5, 7, 0]]],\n",
       "\n",
       "\n",
       "        [[[6, 5, 8],\n",
       "          [9, 7, 5],\n",
       "          [5, 3, 3],\n",
       "          [9, 9, 7]],\n",
       "\n",
       "         [[3, 9, 7],\n",
       "          [1, 2, 2],\n",
       "          [5, 8, 4],\n",
       "          [5, 5, 0]],\n",
       "\n",
       "         [[1, 0, 3],\n",
       "          [4, 4, 0],\n",
       "          [7, 3, 2],\n",
       "          [2, 1, 4]]]]])"
      ]
     },
     "execution_count": 45,
     "metadata": {},
     "output_type": "execute_result"
    }
   ],
   "source": [
    "# Get only the first 3 numbers of each single vector\n",
    "a4[:,:,:,:,:3]"
   ]
  },
  {
   "cell_type": "markdown",
   "id": "f4965171-f1d7-4890-abb4-4eaf64209b2a",
   "metadata": {},
   "source": [
    "\n",
    "\n",
    "a4's shape is (2, 2, 3, 4, 5), this means it gets displayed like so:\n",
    "\n",
    "    Inner most array = size 5\n",
    "    Next array = size 4\n",
    "    Next array = size 3    \n",
    "    Next array = size 3\n",
    "    Outer most array = size 2\n",
    "\n"
   ]
  },
  {
   "cell_type": "markdown",
   "id": "ca261802-b820-4faa-b15a-b78be6c6f248",
   "metadata": {},
   "source": [
    "\n",
    "## 4. Manipulating and comparing arrays\n",
    "\n"
   ]
  },
  {
   "cell_type": "markdown",
   "id": "cc4ea883-5061-4dc3-8468-73a892b87b3b",
   "metadata": {},
   "source": [
    "### Arithmetic\n",
    "        +, -, *, /, //, **, %\n",
    "        np.exp()\n",
    "        np.log()\n",
    "        Dot product - np.dot()\n",
    "        Broadcasting\n",
    "    Aggregation\n",
    "        np.sum() - faster than Python's .sum() for NumPy arrays\n",
    "        np.mean()\n",
    "        np.std()\n",
    "        np.var()\n",
    "        np.min()\n",
    "        np.max()\n",
    "        np.argmin() - find index of minimum value\n",
    "        np.argmax() - find index of maximum value\n",
    "        These work on all ndarray's\n",
    "            a4.min(axis=0) -- you can use axis as well\n",
    "    Reshaping\n",
    "        np.reshape()\n",
    "    Transposing\n",
    "        a3.T\n",
    "    Comparison operators\n",
    "        >\n",
    "        <\n",
    "        <=\n",
    "        >=\n",
    "        x != 3\n",
    "        x == 3\n",
    "        np.sum(x > 3)"
   ]
  },
  {
   "cell_type": "code",
   "execution_count": 46,
   "id": "720498d0-6c00-4da7-9389-248baa3c7aa0",
   "metadata": {},
   "outputs": [
    {
     "data": {
      "text/plain": [
       "array([1, 2, 3])"
      ]
     },
     "execution_count": 46,
     "metadata": {},
     "output_type": "execute_result"
    }
   ],
   "source": [
    "a1\n"
   ]
  },
  {
   "cell_type": "code",
   "execution_count": 47,
   "id": "d07b59ac-bd9b-4f38-8c66-d9fa93620bb3",
   "metadata": {},
   "outputs": [
    {
     "data": {
      "text/plain": [
       "array([1., 1., 1.])"
      ]
     },
     "execution_count": 47,
     "metadata": {},
     "output_type": "execute_result"
    }
   ],
   "source": [
    "ones = np.ones(3)\n",
    "ones"
   ]
  },
  {
   "cell_type": "code",
   "execution_count": 48,
   "id": "95545701-d772-4f73-995b-2ad2356e166e",
   "metadata": {},
   "outputs": [
    {
     "data": {
      "text/plain": [
       "array([2., 3., 4.])"
      ]
     },
     "execution_count": 48,
     "metadata": {},
     "output_type": "execute_result"
    }
   ],
   "source": [
    "# Add two arrays\n",
    "a1 + ones"
   ]
  },
  {
   "cell_type": "code",
   "execution_count": 49,
   "id": "909b6bb7-14d8-48bd-9aa5-b434872075db",
   "metadata": {},
   "outputs": [
    {
     "data": {
      "text/plain": [
       "array([0., 1., 2.])"
      ]
     },
     "execution_count": 49,
     "metadata": {},
     "output_type": "execute_result"
    }
   ],
   "source": [
    "# substract two arrays\n",
    "a1 - ones"
   ]
  },
  {
   "cell_type": "code",
   "execution_count": 50,
   "id": "dd466bbb-17de-435a-b5d1-30799fc53715",
   "metadata": {},
   "outputs": [
    {
     "data": {
      "text/plain": [
       "array([1., 2., 3.])"
      ]
     },
     "execution_count": 50,
     "metadata": {},
     "output_type": "execute_result"
    }
   ],
   "source": [
    "# Multiply two arrays\n",
    "a1 * ones"
   ]
  },
  {
   "cell_type": "code",
   "execution_count": 51,
   "id": "4b618e60-2280-4e2f-88bf-0ab42034f4ec",
   "metadata": {},
   "outputs": [
    {
     "data": {
      "text/plain": [
       "array([[1. , 2. , 3.3],\n",
       "       [4. , 5. , 6.5]])"
      ]
     },
     "execution_count": 51,
     "metadata": {},
     "output_type": "execute_result"
    }
   ],
   "source": [
    "a2"
   ]
  },
  {
   "cell_type": "code",
   "execution_count": 52,
   "id": "8c4afacd-5798-4d34-bcb4-4e564b6b02ec",
   "metadata": {},
   "outputs": [
    {
     "data": {
      "text/plain": [
       "array([[ 1. ,  4. ,  9.9],\n",
       "       [ 4. , 10. , 19.5]])"
      ]
     },
     "execution_count": 52,
     "metadata": {},
     "output_type": "execute_result"
    }
   ],
   "source": [
    "# Multiply two arrays\n",
    "a1 * a2"
   ]
  },
  {
   "cell_type": "code",
   "execution_count": 53,
   "id": "e2a39bca-7048-4243-b0b7-b0338df91d72",
   "metadata": {},
   "outputs": [
    {
     "data": {
      "text/plain": [
       "((3,), (2, 3))"
      ]
     },
     "execution_count": 53,
     "metadata": {},
     "output_type": "execute_result"
    }
   ],
   "source": [
    "a1.shape, a2.shape"
   ]
  },
  {
   "cell_type": "code",
   "execution_count": 54,
   "id": "c29fb549-e854-48d0-848a-c699e7a937b9",
   "metadata": {},
   "outputs": [
    {
     "ename": "ValueError",
     "evalue": "operands could not be broadcast together with shapes (2,3) (2,3,3) ",
     "output_type": "error",
     "traceback": [
      "\u001b[0;31m---------------------------------------------------------------------------\u001b[0m",
      "\u001b[0;31mValueError\u001b[0m                                Traceback (most recent call last)",
      "Cell \u001b[0;32mIn[54], line 2\u001b[0m\n\u001b[1;32m      1\u001b[0m \u001b[38;5;66;03m# This will error as the arrays have a different number of dimensions (2, 3) vs. (2, 3, 3) \u001b[39;00m\n\u001b[0;32m----> 2\u001b[0m a2 \u001b[38;5;241m*\u001b[39m a3\n",
      "\u001b[0;31mValueError\u001b[0m: operands could not be broadcast together with shapes (2,3) (2,3,3) "
     ]
    }
   ],
   "source": [
    "# This will error as the arrays have a different number of dimensions (2, 3) vs. (2, 3, 3) \n",
    "a2 * a3\n"
   ]
  },
  {
   "cell_type": "code",
   "execution_count": 55,
   "id": "6f1d262d-78de-422f-8448-f4a41d7fbb45",
   "metadata": {},
   "outputs": [
    {
     "data": {
      "text/plain": [
       "array([[[ 1,  2,  3],\n",
       "        [ 4,  5,  6],\n",
       "        [ 7,  8,  9]],\n",
       "\n",
       "       [[10, 11, 12],\n",
       "        [13, 14, 15],\n",
       "        [16, 17, 18]]])"
      ]
     },
     "execution_count": 55,
     "metadata": {},
     "output_type": "execute_result"
    }
   ],
   "source": [
    "a3"
   ]
  },
  {
   "cell_type": "markdown",
   "id": "cec83da2-b8a7-4ddb-8e0a-c9cfedd41b74",
   "metadata": {},
   "source": [
    "## Broadcasting"
   ]
  },
  {
   "cell_type": "markdown",
   "id": "1f3d3fa0-d513-4d5e-a630-3bd6ef05312d",
   "metadata": {},
   "source": [
    "### What is broadcasting?\n",
    "\n",
    "    Broadcasting is a feature of NumPy which performs an operation across multiple dimensions of data without replicating the data. This saves time and space. For example, if you have a 3x3 array (A) and want to add a 1x3 array (B), NumPy will add the row of (B) to every row of (A).\n",
    "\n"
   ]
  },
  {
   "cell_type": "markdown",
   "id": "224de5b9-f7dd-4ffd-8d55-68a25d0688a5",
   "metadata": {},
   "source": [
    "### Rules of Broadcasting\n",
    "\n",
    "    If the two arrays differ in their number of dimensions, the shape of the one with fewer dimensions is padded with ones on its leading (left) side.\n",
    "    If the shape of the two arrays does not match in any dimension, the array with shape equal to 1 in that dimension is stretched to match the other shape.\n",
    "    If in any dimension the sizes disagree and neither is equal to 1, an error is raised.\n",
    "\n"
   ]
  },
  {
   "cell_type": "markdown",
   "id": "9efa96ea-e3ab-4595-991a-b8cf481b8271",
   "metadata": {},
   "source": [
    "The broadcasting rule: In order to broadcast, the size of the trailing axes for both arrays in an operation must be either the same size or one of them must be one."
   ]
  },
  {
   "cell_type": "code",
   "execution_count": 56,
   "id": "582847a3-b06e-4aad-8f29-35486ce216b2",
   "metadata": {},
   "outputs": [
    {
     "data": {
      "text/plain": [
       "array([1, 2, 3])"
      ]
     },
     "execution_count": 56,
     "metadata": {},
     "output_type": "execute_result"
    }
   ],
   "source": [
    "a1"
   ]
  },
  {
   "cell_type": "code",
   "execution_count": 57,
   "id": "04562544-a6fb-43ad-879c-d6f020583584",
   "metadata": {},
   "outputs": [
    {
     "data": {
      "text/plain": [
       "(3,)"
      ]
     },
     "execution_count": 57,
     "metadata": {},
     "output_type": "execute_result"
    }
   ],
   "source": [
    "a1.shape"
   ]
  },
  {
   "cell_type": "code",
   "execution_count": 58,
   "id": "86a4d5b0-6924-4a6f-b13b-ea89864517d4",
   "metadata": {},
   "outputs": [
    {
     "data": {
      "text/plain": [
       "(2, 3)"
      ]
     },
     "execution_count": 58,
     "metadata": {},
     "output_type": "execute_result"
    }
   ],
   "source": [
    "a2.shape"
   ]
  },
  {
   "cell_type": "code",
   "execution_count": 59,
   "id": "250bf980-7415-4827-a2b8-daa3c501f33f",
   "metadata": {},
   "outputs": [
    {
     "data": {
      "text/plain": [
       "array([[2. , 4. , 6.3],\n",
       "       [5. , 7. , 9.5]])"
      ]
     },
     "execution_count": 59,
     "metadata": {},
     "output_type": "execute_result"
    }
   ],
   "source": [
    "a1 + a2"
   ]
  },
  {
   "cell_type": "code",
   "execution_count": 60,
   "id": "e76f9cf3-fce8-41e5-aafd-2c56f3e1e5b1",
   "metadata": {},
   "outputs": [
    {
     "data": {
      "text/plain": [
       "array([[1. , 2. , 3.3],\n",
       "       [4. , 5. , 6.5]])"
      ]
     },
     "execution_count": 60,
     "metadata": {},
     "output_type": "execute_result"
    }
   ],
   "source": [
    "a2"
   ]
  },
  {
   "cell_type": "code",
   "execution_count": 61,
   "id": "bd489f15-ee8a-4f31-9934-17af82b21754",
   "metadata": {},
   "outputs": [
    {
     "data": {
      "text/plain": [
       "array([[3. , 4. , 5.3],\n",
       "       [6. , 7. , 8.5]])"
      ]
     },
     "execution_count": 61,
     "metadata": {},
     "output_type": "execute_result"
    }
   ],
   "source": [
    "a2 + 2"
   ]
  },
  {
   "cell_type": "code",
   "execution_count": 62,
   "id": "a30b427f-3e52-4595-b790-cdb2cfcc32fe",
   "metadata": {},
   "outputs": [
    {
     "ename": "ValueError",
     "evalue": "operands could not be broadcast together with shapes (2,3) (2,3,3) ",
     "output_type": "error",
     "traceback": [
      "\u001b[0;31m---------------------------------------------------------------------------\u001b[0m",
      "\u001b[0;31mValueError\u001b[0m                                Traceback (most recent call last)",
      "Cell \u001b[0;32mIn[62], line 2\u001b[0m\n\u001b[1;32m      1\u001b[0m \u001b[38;5;66;03m# Raises an error because there's a shape mismatch (2, 3) vs. (2, 3, 3)\u001b[39;00m\n\u001b[0;32m----> 2\u001b[0m a2 \u001b[38;5;241m+\u001b[39m a3\n",
      "\u001b[0;31mValueError\u001b[0m: operands could not be broadcast together with shapes (2,3) (2,3,3) "
     ]
    }
   ],
   "source": [
    "# Raises an error because there's a shape mismatch (2, 3) vs. (2, 3, 3)\n",
    "a2 + a3"
   ]
  },
  {
   "cell_type": "code",
   "execution_count": 63,
   "id": "c14c628e-c7ad-4473-8bc5-77865397f47f",
   "metadata": {},
   "outputs": [
    {
     "data": {
      "text/plain": [
       "array([1., 2., 3.])"
      ]
     },
     "execution_count": 63,
     "metadata": {},
     "output_type": "execute_result"
    }
   ],
   "source": [
    "# Divide two arrays\n",
    "a1 / ones"
   ]
  },
  {
   "cell_type": "code",
   "execution_count": 64,
   "id": "f67f1850-d973-4caa-9903-606917999034",
   "metadata": {},
   "outputs": [
    {
     "data": {
      "text/plain": [
       "array([[1., 1., 1.],\n",
       "       [4., 2., 2.]])"
      ]
     },
     "execution_count": 64,
     "metadata": {},
     "output_type": "execute_result"
    }
   ],
   "source": [
    "# Divide using floor division\n",
    "a2 // a1\n"
   ]
  },
  {
   "cell_type": "code",
   "execution_count": 65,
   "id": "6d305c1d-0b8f-44c4-8f8d-aee80c58e3ea",
   "metadata": {},
   "outputs": [
    {
     "data": {
      "text/plain": [
       "array([1, 4, 9])"
      ]
     },
     "execution_count": 65,
     "metadata": {},
     "output_type": "execute_result"
    }
   ],
   "source": [
    "# Take an array to a power\n",
    "a1 ** 2"
   ]
  },
  {
   "cell_type": "code",
   "execution_count": 66,
   "id": "f7712501-a41f-46f0-8362-940aea2b3058",
   "metadata": {},
   "outputs": [
    {
     "data": {
      "text/plain": [
       "array([1, 4, 9])"
      ]
     },
     "execution_count": 66,
     "metadata": {},
     "output_type": "execute_result"
    }
   ],
   "source": [
    "# You can also use np.square()\n",
    "np.square(a1)"
   ]
  },
  {
   "cell_type": "code",
   "execution_count": 67,
   "id": "833ea9d4-7be1-4ebb-9c21-fc329d75f7d2",
   "metadata": {},
   "outputs": [
    {
     "data": {
      "text/plain": [
       "array([1, 0, 1])"
      ]
     },
     "execution_count": 67,
     "metadata": {},
     "output_type": "execute_result"
    }
   ],
   "source": [
    "# Modulus divide (what's the remainder)\n",
    "a1 % 2"
   ]
  },
  {
   "cell_type": "markdown",
   "id": "eef2c142-8723-4dbe-8941-237654c1065d",
   "metadata": {},
   "source": [
    "You can also find the log or exponential of an array using np.log() and np.exp()."
   ]
  },
  {
   "cell_type": "code",
   "execution_count": 68,
   "id": "1f0dad98-6ae6-42e5-8101-d0901a00e383",
   "metadata": {},
   "outputs": [
    {
     "data": {
      "text/plain": [
       "array([0.        , 0.69314718, 1.09861229])"
      ]
     },
     "execution_count": 68,
     "metadata": {},
     "output_type": "execute_result"
    }
   ],
   "source": [
    "# Find the log of an array\n",
    "np.log(a1)"
   ]
  },
  {
   "cell_type": "code",
   "execution_count": 69,
   "id": "57108598-3986-4d2e-b377-514c9942608b",
   "metadata": {},
   "outputs": [
    {
     "data": {
      "text/plain": [
       "array([ 2.71828183,  7.3890561 , 20.08553692])"
      ]
     },
     "execution_count": 69,
     "metadata": {},
     "output_type": "execute_result"
    }
   ],
   "source": [
    "# Find the exponential of an array\n",
    "np.exp(a1)"
   ]
  },
  {
   "cell_type": "markdown",
   "id": "b55c855b-ba0d-4738-8252-36f98c6ba589",
   "metadata": {},
   "source": [
    "## Aggregation"
   ]
  },
  {
   "cell_type": "markdown",
   "id": "26bc5e4e-a05c-4d92-a9c1-353ee564d748",
   "metadata": {},
   "source": [
    "Aggregation - bringing things together, doing a similar thing on a number of things."
   ]
  },
  {
   "cell_type": "code",
   "execution_count": 70,
   "id": "b8e6ddc0-391b-4380-8bfc-5e9c33a0a3f2",
   "metadata": {},
   "outputs": [
    {
     "data": {
      "text/plain": [
       "6"
      ]
     },
     "execution_count": 70,
     "metadata": {},
     "output_type": "execute_result"
    }
   ],
   "source": [
    "sum(a1)"
   ]
  },
  {
   "cell_type": "code",
   "execution_count": 72,
   "id": "a01976bd-4339-4031-b2ac-b2a1fd1a9c18",
   "metadata": {},
   "outputs": [
    {
     "data": {
      "text/plain": [
       "6"
      ]
     },
     "execution_count": 72,
     "metadata": {},
     "output_type": "execute_result"
    }
   ],
   "source": [
    "np.sum(a1)"
   ]
  },
  {
   "cell_type": "markdown",
   "id": "af2c10a5-2821-4d3c-96ec-d93787d21ce0",
   "metadata": {},
   "source": [
    "# Tip:\n",
    "Use NumPy's `np.sum()` on NumPy arrays and Python's `sum()` on Python lists. "
   ]
  },
  {
   "cell_type": "code",
   "execution_count": 73,
   "id": "fa190956-d576-4c39-a1e2-b2bbde7ea6ff",
   "metadata": {},
   "outputs": [],
   "source": [
    "massive_array = np.random.random(10000)"
   ]
  },
  {
   "cell_type": "code",
   "execution_count": 74,
   "id": "2662c870-8864-486e-81d7-b8db1836f09e",
   "metadata": {},
   "outputs": [
    {
     "data": {
      "text/plain": [
       "(10000, numpy.ndarray)"
      ]
     },
     "execution_count": 74,
     "metadata": {},
     "output_type": "execute_result"
    }
   ],
   "source": [
    "massive_array.size, type(massive_array)"
   ]
  },
  {
   "cell_type": "code",
   "execution_count": 76,
   "id": "201dbb51-14c3-40e2-a650-d9c8f2fb6b7d",
   "metadata": {},
   "outputs": [
    {
     "data": {
      "text/plain": [
       "array([2.18749374e-01, 5.69573535e-01, 4.52109035e-01, 9.70236683e-01,\n",
       "       6.80544691e-01, 8.52955659e-02, 5.64183327e-02, 4.87837704e-01,\n",
       "       8.81004562e-01, 9.76404387e-01, 6.17657916e-01, 5.42498775e-01,\n",
       "       8.54613580e-01, 7.43834545e-01, 4.78596326e-01, 6.77081574e-01,\n",
       "       6.07045061e-01, 7.14696936e-01, 4.69497183e-01, 4.56014623e-01,\n",
       "       9.06418087e-01, 1.37220420e-01, 2.29219323e-01, 8.81585399e-01,\n",
       "       9.04424976e-01, 6.45784599e-01, 3.24682972e-01, 5.19711194e-01,\n",
       "       5.53568650e-05, 3.11860221e-01, 4.25451538e-01, 8.85337660e-01,\n",
       "       6.79879456e-01, 4.56129772e-01, 4.83408617e-01, 7.88739428e-01,\n",
       "       2.29441834e-01, 8.80297603e-01, 3.13692393e-01, 9.57450856e-01,\n",
       "       4.71751571e-01, 7.11583817e-01, 1.53694305e-01, 7.30442177e-01,\n",
       "       6.46264437e-01, 2.14880737e-01, 1.86458219e-01, 8.07580269e-01,\n",
       "       7.47079470e-01, 6.74847346e-01, 2.76893751e-01, 1.74908874e-01,\n",
       "       7.04474258e-01, 4.63150200e-01, 8.40428533e-01, 2.04865762e-01,\n",
       "       1.64958868e-01, 1.24833057e-01, 7.22080662e-01, 3.04529649e-02,\n",
       "       7.46994240e-01, 9.25961651e-02, 2.17450493e-01, 7.49254417e-01,\n",
       "       7.31693756e-01, 4.56146372e-02, 2.09157029e-01, 2.86915043e-01,\n",
       "       6.77263305e-01, 6.30382897e-02, 5.55649243e-01, 9.24007349e-03,\n",
       "       8.33038098e-01, 9.84329434e-01, 7.03494784e-01, 1.81631200e-01,\n",
       "       5.12393463e-01, 5.80447137e-01, 7.87542156e-01, 6.06475460e-01,\n",
       "       2.18402855e-01, 4.55168815e-01, 8.78869742e-01, 4.92268242e-01,\n",
       "       7.15561157e-01, 4.86159560e-01, 7.08548150e-01, 4.98140226e-01,\n",
       "       8.44550079e-01, 1.94342223e-01, 7.73326010e-01, 9.74258664e-01,\n",
       "       8.62309777e-01, 7.80426651e-01, 9.85032279e-01, 7.53569607e-01,\n",
       "       4.04810637e-03, 2.69479434e-01, 4.10492138e-01, 4.28223832e-01])"
      ]
     },
     "execution_count": 76,
     "metadata": {},
     "output_type": "execute_result"
    }
   ],
   "source": [
    "massive_array[:100]"
   ]
  },
  {
   "cell_type": "code",
   "execution_count": 77,
   "id": "924c8e89-7742-45fa-bfc2-b3b5d4f536e5",
   "metadata": {},
   "outputs": [
    {
     "name": "stdout",
     "output_type": "stream",
     "text": [
      "921 μs ± 31.1 μs per loop (mean ± std. dev. of 7 runs, 1,000 loops each)\n",
      "8.29 μs ± 208 ns per loop (mean ± std. dev. of 7 runs, 100,000 loops each)\n"
     ]
    }
   ],
   "source": [
    "%timeit sum(massive_array) # python sum()\n",
    "%timeit np.sum(massive_array) # Numpy np.sum()"
   ]
  },
  {
   "cell_type": "markdown",
   "id": "4bbdb54b-4145-4e43-b8d4-7c7e7a82ebcb",
   "metadata": {},
   "source": [
    "\n",
    "\n",
    "NumPy's np.sum() is still fast but Python's sum() is faster on Python lists.\n"
   ]
  },
  {
   "cell_type": "code",
   "execution_count": 78,
   "id": "543f8d6f-cc38-4937-b158-9a16da5b2876",
   "metadata": {},
   "outputs": [
    {
     "data": {
      "text/plain": [
       "array([[1. , 2. , 3.3],\n",
       "       [4. , 5. , 6.5]])"
      ]
     },
     "execution_count": 78,
     "metadata": {},
     "output_type": "execute_result"
    }
   ],
   "source": [
    "a2\n"
   ]
  },
  {
   "cell_type": "code",
   "execution_count": 79,
   "id": "05e49410-126d-4a90-a0cf-99e3f9201809",
   "metadata": {},
   "outputs": [
    {
     "data": {
      "text/plain": [
       "3.6333333333333333"
      ]
     },
     "execution_count": 79,
     "metadata": {},
     "output_type": "execute_result"
    }
   ],
   "source": [
    "# Find the mean\n",
    "np.mean(a2)"
   ]
  },
  {
   "cell_type": "code",
   "execution_count": 80,
   "id": "f047c184-65f4-42af-abc6-ec7fbf933bbb",
   "metadata": {},
   "outputs": [
    {
     "data": {
      "text/plain": [
       "6.5"
      ]
     },
     "execution_count": 80,
     "metadata": {},
     "output_type": "execute_result"
    }
   ],
   "source": [
    "# Find the max\n",
    "np.max(a2)"
   ]
  },
  {
   "cell_type": "code",
   "execution_count": 81,
   "id": "48bd858c-dff9-4cb2-8e50-48e346abbd0a",
   "metadata": {},
   "outputs": [
    {
     "data": {
      "text/plain": [
       "1.0"
      ]
     },
     "execution_count": 81,
     "metadata": {},
     "output_type": "execute_result"
    }
   ],
   "source": [
    "# Find the min\n",
    "np.min(a2)"
   ]
  },
  {
   "cell_type": "code",
   "execution_count": 82,
   "id": "22a0149d-95d4-4af8-b5cd-83cb16eac1bc",
   "metadata": {},
   "outputs": [
    {
     "data": {
      "text/plain": [
       "1.8226964152656422"
      ]
     },
     "execution_count": 82,
     "metadata": {},
     "output_type": "execute_result"
    }
   ],
   "source": [
    "# Find the standard deviation (range d\"ecart)\n",
    "np.std(a2)"
   ]
  },
  {
   "cell_type": "code",
   "execution_count": 83,
   "id": "d836e3d5-4e71-42fa-a9d0-b244a263ac63",
   "metadata": {},
   "outputs": [
    {
     "data": {
      "text/plain": [
       "3.3222222222222224"
      ]
     },
     "execution_count": 83,
     "metadata": {},
     "output_type": "execute_result"
    }
   ],
   "source": [
    "# Find the variance\n",
    "np.var(a2)"
   ]
  },
  {
   "cell_type": "code",
   "execution_count": 84,
   "id": "cca4463e-bd7f-488a-87c4-5ccfbdb5ec76",
   "metadata": {},
   "outputs": [
    {
     "data": {
      "text/plain": [
       "1.8226964152656422"
      ]
     },
     "execution_count": 84,
     "metadata": {},
     "output_type": "execute_result"
    }
   ],
   "source": [
    "# The standard deviation is the square root of the variance\n",
    "np.sqrt(np.var(a2))"
   ]
  },
  {
   "cell_type": "markdown",
   "id": "2c39b429-928f-4ae5-aaf7-d78d1fcd9c93",
   "metadata": {},
   "source": [
    "\n",
    "\n",
    "### What's mean?\n",
    "\n",
    "Mean is the same as average. You can find the average of a set of numbers by adding them up and dividing them by how many there are.\n",
    "\n",
    "### What's standard deviation?\n",
    "\n",
    "Standard deviation is a measure of how spread out numbers are.\n",
    "\n",
    "### What's variance?\n",
    "\n",
    "The variance is the averaged squared differences of the mean.\n",
    "\n",
    "To work it out, you:\n",
    "\n",
    "    1. Work out the mean\n",
    "    2.For each number, subtract the mean and square the result\n",
    "    3.Find the average of the squared differences\n",
    "\n"
   ]
  },
  {
   "cell_type": "code",
   "execution_count": 85,
   "id": "fb315ecd-7c37-4cd7-830f-0c8fa6466b2a",
   "metadata": {},
   "outputs": [],
   "source": [
    "# Demo of variance\n",
    "high_var_array = np.array([1, 100, 200, 300, 4000, 5000])\n",
    "low_var_array = np.array([2, 4, 6, 8, 10])"
   ]
  },
  {
   "cell_type": "code",
   "execution_count": 86,
   "id": "b3423416-6f71-48b8-800d-baa1eeba2ec9",
   "metadata": {},
   "outputs": [
    {
     "data": {
      "text/plain": [
       "(4296133.472222221, 8.0)"
      ]
     },
     "execution_count": 86,
     "metadata": {},
     "output_type": "execute_result"
    }
   ],
   "source": [
    "np.var(high_var_array), np.var(low_var_array)"
   ]
  },
  {
   "cell_type": "code",
   "execution_count": 3,
   "id": "e22b2ef7-6eed-42dd-ad55-cf2bd973fd2f",
   "metadata": {},
   "outputs": [
    {
     "ename": "NameError",
     "evalue": "name 'np' is not defined",
     "output_type": "error",
     "traceback": [
      "\u001b[0;31m---------------------------------------------------------------------------\u001b[0m",
      "\u001b[0;31mNameError\u001b[0m                                 Traceback (most recent call last)",
      "Cell \u001b[0;32mIn[3], line 1\u001b[0m\n\u001b[0;32m----> 1\u001b[0m np\u001b[38;5;241m.\u001b[39mstd(high_var_array), np\u001b[38;5;241m.\u001b[39mstd(low_var_array)\n",
      "\u001b[0;31mNameError\u001b[0m: name 'np' is not defined"
     ]
    }
   ],
   "source": [
    "np.std(high_var_array), np.std(low_var_array)"
   ]
  },
  {
   "cell_type": "code",
   "execution_count": 88,
   "id": "a8981cf1-63c8-46de-af48-00144518d84f",
   "metadata": {},
   "outputs": [
    {
     "data": {
      "text/plain": [
       "2072.711623024829"
      ]
     },
     "execution_count": 88,
     "metadata": {},
     "output_type": "execute_result"
    }
   ],
   "source": [
    "# The standard deviation is the square root of the variance\n",
    "np.sqrt(np.var(high_var_array))"
   ]
  },
  {
   "cell_type": "code",
   "execution_count": 2,
   "id": "debacf2d-e263-410c-990e-19763f600a2f",
   "metadata": {},
   "outputs": [
    {
     "ename": "NameError",
     "evalue": "name 'high_var_array' is not defined",
     "output_type": "error",
     "traceback": [
      "\u001b[0;31m---------------------------------------------------------------------------\u001b[0m",
      "\u001b[0;31mNameError\u001b[0m                                 Traceback (most recent call last)",
      "Cell \u001b[0;32mIn[2], line 3\u001b[0m\n\u001b[1;32m      1\u001b[0m get_ipython()\u001b[38;5;241m.\u001b[39mrun_line_magic(\u001b[38;5;124m'\u001b[39m\u001b[38;5;124mmatplotlib\u001b[39m\u001b[38;5;124m'\u001b[39m, \u001b[38;5;124m'\u001b[39m\u001b[38;5;124minline\u001b[39m\u001b[38;5;124m'\u001b[39m)\n\u001b[1;32m      2\u001b[0m \u001b[38;5;28;01mimport\u001b[39;00m \u001b[38;5;21;01mmatplotlib\u001b[39;00m\u001b[38;5;21;01m.\u001b[39;00m\u001b[38;5;21;01mpyplot\u001b[39;00m \u001b[38;5;28;01mas\u001b[39;00m \u001b[38;5;21;01mplt\u001b[39;00m\n\u001b[0;32m----> 3\u001b[0m plt\u001b[38;5;241m.\u001b[39mhist(high_var_array)\n\u001b[1;32m      4\u001b[0m plt\u001b[38;5;241m.\u001b[39mshow()\n",
      "\u001b[0;31mNameError\u001b[0m: name 'high_var_array' is not defined"
     ]
    }
   ],
   "source": [
    "%matplotlib inline\n",
    "import matplotlib.pyplot as plt\n",
    "plt.hist(high_var_array)\n",
    "plt.show()"
   ]
  },
  {
   "cell_type": "code",
   "execution_count": null,
   "id": "8293651f-b20c-4f97-a804-4523fe8386b0",
   "metadata": {},
   "outputs": [],
   "source": []
  }
 ],
 "metadata": {
  "kernelspec": {
   "display_name": "Python 3 (ipykernel)",
   "language": "python",
   "name": "python3"
  },
  "language_info": {
   "codemirror_mode": {
    "name": "ipython",
    "version": 3
   },
   "file_extension": ".py",
   "mimetype": "text/x-python",
   "name": "python",
   "nbconvert_exporter": "python",
   "pygments_lexer": "ipython3",
   "version": "3.12.4"
  }
 },
 "nbformat": 4,
 "nbformat_minor": 5
}
