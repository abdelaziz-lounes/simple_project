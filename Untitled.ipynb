{
 "cells": [
  {
   "cell_type": "code",
   "execution_count": 2,
   "id": "e7dde819-41e2-40cf-a0ae-d42a26ac7d9a",
   "metadata": {},
   "outputs": [
    {
     "name": "stdout",
     "output_type": "stream",
     "text": [
      "Using Scikit-Learn version: 1.5.1\n"
     ]
    }
   ],
   "source": [
    "import matplotlib.pyplot as plt\n",
    "import numpy as np\n",
    "import pandas as pd\n",
    "\n",
    "import sklearn\n",
    "print(f\"Using Scikit-Learn version: {sklearn.__version__}\")"
   ]
  },
  {
   "cell_type": "markdown",
   "id": "a2835535-a6cb-4e9c-a54c-3c9ac70603a4",
   "metadata": {},
   "source": [
    "## 0. An end-to-end Scikit-Learn workflow\n",
    "\n",
    "Before we get in-depth, let's quickly check out what an end-to-end Scikit-Learn workflow might look like.\n",
    "\n",
    "Once we've seen an end-to-end workflow, we'll dive into each step a little deeper.\n",
    "\n",
    "Specifically, we'll get hands-on with the following steps:\n",
    "\n",
    "   1. Getting data ready (split into features and labels, prepare train and test steps)\n",
    "   2. Choosing a model for our problem\n",
    "   3. Fit the model to the data and use it to make a prediction\n",
    "   4. Evaluate the model\n",
    "   5. Experiment to improve\n",
    "   6. Save a model for someone else to use\n"
   ]
  },
  {
   "cell_type": "markdown",
   "id": "51ea9469-9dbe-46b2-960c-c3b671e49ea3",
   "metadata": {},
   "source": [
    "## Random Forest Classifier Workflow for Classifying Heart Disease\n",
    "\n",
    "### 1. Get the data ready\n",
    "\n",
    "As an example dataset, we'll import heart-disease.csv.\n",
    "\n",
    "This file contains anonymised patient medical records and whether or not they have heart disease or not (this is a classification problem since we're trying to predict whether something is one thing or another)."
   ]
  },
  {
   "cell_type": "code",
   "execution_count": null,
   "id": "43293d52-fdf9-41ce-bbd9-2e1b121b4a68",
   "metadata": {},
   "outputs": [],
   "source": [
    "import pandas as pd\n",
    "heart_disease = pd.read_csv(\"data/heart-disease.csv\")\n",
    "heart_disease.head()"
   ]
  }
 ],
 "metadata": {
  "kernelspec": {
   "display_name": "Python 3 (ipykernel)",
   "language": "python",
   "name": "python3"
  },
  "language_info": {
   "codemirror_mode": {
    "name": "ipython",
    "version": 3
   },
   "file_extension": ".py",
   "mimetype": "text/x-python",
   "name": "python",
   "nbconvert_exporter": "python",
   "pygments_lexer": "ipython3",
   "version": "3.12.4"
  }
 },
 "nbformat": 4,
 "nbformat_minor": 5
}
